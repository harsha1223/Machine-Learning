{
 "cells": [
  {
   "cell_type": "code",
   "execution_count": 1,
   "id": "stable-family",
   "metadata": {
    "_cell_guid": "b1076dfc-b9ad-4769-8c92-a6c4dae69d19",
    "_uuid": "8f2839f25d086af736a60e9eeb907d3b93b6e0e5",
    "execution": {
     "iopub.execute_input": "2021-04-27T18:12:16.179017Z",
     "iopub.status.busy": "2021-04-27T18:12:16.178300Z",
     "iopub.status.idle": "2021-04-27T18:12:16.192844Z",
     "shell.execute_reply": "2021-04-27T18:12:16.191816Z"
    },
    "jupyter": {
     "source_hidden": true
    },
    "papermill": {
     "duration": 0.06491,
     "end_time": "2021-04-27T18:12:16.193363",
     "exception": false,
     "start_time": "2021-04-27T18:12:16.128453",
     "status": "completed"
    },
    "tags": []
   },
   "outputs": [
    {
     "name": "stdout",
     "output_type": "stream",
     "text": [
      "/kaggle/input/drug-detail-dataset/Drug_details.csv\n"
     ]
    }
   ],
   "source": [
    "# This Python 3 environment comes with many helpful analytics libraries installed\n",
    "# It is defined by the kaggle/python Docker image: https://github.com/kaggle/docker-python\n",
    "# For example, here's several helpful packages to load\n",
    "\n",
    "import numpy as np # linear algebra\n",
    "import pandas as pd # data processing, CSV file I/O (e.g. pd.read_csv)\n",
    "\n",
    "# Input data files are available in the read-only \"../input/\" directory\n",
    "# For example, running this (by clicking run or pressing Shift+Enter) will list all files under the input directory\n",
    "\n",
    "import os\n",
    "for dirname, _, filenames in os.walk('/kaggle/input'):\n",
    "    for filename in filenames:\n",
    "        print(os.path.join(dirname, filename))\n",
    "\n",
    "# You can write up to 20GB to the current directory (/kaggle/working/) that gets preserved as output when you create a version using \"Save & Run All\" \n",
    "# You can also write temporary files to /kaggle/temp/, but they won't be saved outside of the current session"
   ]
  },
  {
   "cell_type": "code",
   "execution_count": 2,
   "id": "chief-colleague",
   "metadata": {
    "execution": {
     "iopub.execute_input": "2021-04-27T18:12:16.276840Z",
     "iopub.status.busy": "2021-04-27T18:12:16.276075Z",
     "iopub.status.idle": "2021-04-27T18:12:17.248603Z",
     "shell.execute_reply": "2021-04-27T18:12:17.249160Z"
    },
    "papermill": {
     "duration": 1.016387,
     "end_time": "2021-04-27T18:12:17.249364",
     "exception": false,
     "start_time": "2021-04-27T18:12:16.232977",
     "status": "completed"
    },
    "tags": []
   },
   "outputs": [],
   "source": [
    "import pandas as pd\n",
    "import numpy as np\n",
    "import seaborn as sns\n",
    "import matplotlib.pyplot as plt\n",
    "%matplotlib inline"
   ]
  },
  {
   "cell_type": "code",
   "execution_count": 3,
   "id": "arbitrary-attitude",
   "metadata": {
    "execution": {
     "iopub.execute_input": "2021-04-27T18:12:17.333092Z",
     "iopub.status.busy": "2021-04-27T18:12:17.331977Z",
     "iopub.status.idle": "2021-04-27T18:12:17.350525Z",
     "shell.execute_reply": "2021-04-27T18:12:17.349090Z"
    },
    "papermill": {
     "duration": 0.062911,
     "end_time": "2021-04-27T18:12:17.350710",
     "exception": false,
     "start_time": "2021-04-27T18:12:17.287799",
     "status": "completed"
    },
    "tags": []
   },
   "outputs": [],
   "source": [
    "df = pd.read_csv('../input/drug-detail-dataset/Drug_details.csv')"
   ]
  },
  {
   "cell_type": "code",
   "execution_count": 4,
   "id": "identical-terminal",
   "metadata": {
    "execution": {
     "iopub.execute_input": "2021-04-27T18:12:17.440249Z",
     "iopub.status.busy": "2021-04-27T18:12:17.438417Z",
     "iopub.status.idle": "2021-04-27T18:12:17.465672Z",
     "shell.execute_reply": "2021-04-27T18:12:17.464994Z"
    },
    "papermill": {
     "duration": 0.075972,
     "end_time": "2021-04-27T18:12:17.465837",
     "exception": false,
     "start_time": "2021-04-27T18:12:17.389865",
     "status": "completed"
    },
    "tags": []
   },
   "outputs": [
    {
     "data": {
      "text/html": [
       "<div>\n",
       "<style scoped>\n",
       "    .dataframe tbody tr th:only-of-type {\n",
       "        vertical-align: middle;\n",
       "    }\n",
       "\n",
       "    .dataframe tbody tr th {\n",
       "        vertical-align: top;\n",
       "    }\n",
       "\n",
       "    .dataframe thead th {\n",
       "        text-align: right;\n",
       "    }\n",
       "</style>\n",
       "<table border=\"1\" class=\"dataframe\">\n",
       "  <thead>\n",
       "    <tr style=\"text-align: right;\">\n",
       "      <th></th>\n",
       "      <th>Age</th>\n",
       "      <th>Sex</th>\n",
       "      <th>BP</th>\n",
       "      <th>Cholesterol</th>\n",
       "      <th>Na_to_K</th>\n",
       "      <th>Drug</th>\n",
       "    </tr>\n",
       "  </thead>\n",
       "  <tbody>\n",
       "    <tr>\n",
       "      <th>0</th>\n",
       "      <td>23</td>\n",
       "      <td>F</td>\n",
       "      <td>HIGH</td>\n",
       "      <td>HIGH</td>\n",
       "      <td>25.355</td>\n",
       "      <td>DrugY</td>\n",
       "    </tr>\n",
       "    <tr>\n",
       "      <th>1</th>\n",
       "      <td>47</td>\n",
       "      <td>M</td>\n",
       "      <td>LOW</td>\n",
       "      <td>HIGH</td>\n",
       "      <td>13.093</td>\n",
       "      <td>drugC</td>\n",
       "    </tr>\n",
       "    <tr>\n",
       "      <th>2</th>\n",
       "      <td>47</td>\n",
       "      <td>M</td>\n",
       "      <td>LOW</td>\n",
       "      <td>HIGH</td>\n",
       "      <td>10.114</td>\n",
       "      <td>drugC</td>\n",
       "    </tr>\n",
       "    <tr>\n",
       "      <th>3</th>\n",
       "      <td>28</td>\n",
       "      <td>F</td>\n",
       "      <td>NORMAL</td>\n",
       "      <td>HIGH</td>\n",
       "      <td>7.798</td>\n",
       "      <td>drugX</td>\n",
       "    </tr>\n",
       "    <tr>\n",
       "      <th>4</th>\n",
       "      <td>61</td>\n",
       "      <td>F</td>\n",
       "      <td>LOW</td>\n",
       "      <td>HIGH</td>\n",
       "      <td>18.043</td>\n",
       "      <td>DrugY</td>\n",
       "    </tr>\n",
       "  </tbody>\n",
       "</table>\n",
       "</div>"
      ],
      "text/plain": [
       "   Age Sex      BP Cholesterol  Na_to_K   Drug\n",
       "0   23   F    HIGH        HIGH   25.355  DrugY\n",
       "1   47   M     LOW        HIGH   13.093  drugC\n",
       "2   47   M     LOW        HIGH   10.114  drugC\n",
       "3   28   F  NORMAL        HIGH    7.798  drugX\n",
       "4   61   F     LOW        HIGH   18.043  DrugY"
      ]
     },
     "execution_count": 4,
     "metadata": {},
     "output_type": "execute_result"
    }
   ],
   "source": [
    "df.head()"
   ]
  },
  {
   "cell_type": "code",
   "execution_count": 5,
   "id": "under-television",
   "metadata": {
    "execution": {
     "iopub.execute_input": "2021-04-27T18:12:17.554818Z",
     "iopub.status.busy": "2021-04-27T18:12:17.553727Z",
     "iopub.status.idle": "2021-04-27T18:12:17.558608Z",
     "shell.execute_reply": "2021-04-27T18:12:17.558022Z"
    },
    "papermill": {
     "duration": 0.05109,
     "end_time": "2021-04-27T18:12:17.558761",
     "exception": false,
     "start_time": "2021-04-27T18:12:17.507671",
     "status": "completed"
    },
    "tags": []
   },
   "outputs": [
    {
     "data": {
      "text/plain": [
       "(200, 6)"
      ]
     },
     "execution_count": 5,
     "metadata": {},
     "output_type": "execute_result"
    }
   ],
   "source": [
    "df.shape"
   ]
  },
  {
   "cell_type": "code",
   "execution_count": 6,
   "id": "judicial-baptist",
   "metadata": {
    "execution": {
     "iopub.execute_input": "2021-04-27T18:12:17.659699Z",
     "iopub.status.busy": "2021-04-27T18:12:17.658949Z",
     "iopub.status.idle": "2021-04-27T18:12:17.662315Z",
     "shell.execute_reply": "2021-04-27T18:12:17.662821Z"
    },
    "papermill": {
     "duration": 0.064159,
     "end_time": "2021-04-27T18:12:17.663012",
     "exception": false,
     "start_time": "2021-04-27T18:12:17.598853",
     "status": "completed"
    },
    "tags": []
   },
   "outputs": [
    {
     "name": "stdout",
     "output_type": "stream",
     "text": [
      "<class 'pandas.core.frame.DataFrame'>\n",
      "RangeIndex: 200 entries, 0 to 199\n",
      "Data columns (total 6 columns):\n",
      " #   Column       Non-Null Count  Dtype  \n",
      "---  ------       --------------  -----  \n",
      " 0   Age          200 non-null    int64  \n",
      " 1   Sex          200 non-null    object \n",
      " 2   BP           200 non-null    object \n",
      " 3   Cholesterol  200 non-null    object \n",
      " 4   Na_to_K      200 non-null    float64\n",
      " 5   Drug         200 non-null    object \n",
      "dtypes: float64(1), int64(1), object(4)\n",
      "memory usage: 9.5+ KB\n"
     ]
    }
   ],
   "source": [
    "df.info()"
   ]
  },
  {
   "cell_type": "code",
   "execution_count": 7,
   "id": "future-productivity",
   "metadata": {
    "execution": {
     "iopub.execute_input": "2021-04-27T18:12:17.754066Z",
     "iopub.status.busy": "2021-04-27T18:12:17.753390Z",
     "iopub.status.idle": "2021-04-27T18:12:17.768980Z",
     "shell.execute_reply": "2021-04-27T18:12:17.768245Z"
    },
    "papermill": {
     "duration": 0.064248,
     "end_time": "2021-04-27T18:12:17.769142",
     "exception": false,
     "start_time": "2021-04-27T18:12:17.704894",
     "status": "completed"
    },
    "tags": []
   },
   "outputs": [
    {
     "data": {
      "text/html": [
       "<div>\n",
       "<style scoped>\n",
       "    .dataframe tbody tr th:only-of-type {\n",
       "        vertical-align: middle;\n",
       "    }\n",
       "\n",
       "    .dataframe tbody tr th {\n",
       "        vertical-align: top;\n",
       "    }\n",
       "\n",
       "    .dataframe thead th {\n",
       "        text-align: right;\n",
       "    }\n",
       "</style>\n",
       "<table border=\"1\" class=\"dataframe\">\n",
       "  <thead>\n",
       "    <tr style=\"text-align: right;\">\n",
       "      <th></th>\n",
       "      <th>Age</th>\n",
       "      <th>Na_to_K</th>\n",
       "    </tr>\n",
       "  </thead>\n",
       "  <tbody>\n",
       "    <tr>\n",
       "      <th>count</th>\n",
       "      <td>200.000000</td>\n",
       "      <td>200.000000</td>\n",
       "    </tr>\n",
       "    <tr>\n",
       "      <th>mean</th>\n",
       "      <td>44.315000</td>\n",
       "      <td>16.084485</td>\n",
       "    </tr>\n",
       "    <tr>\n",
       "      <th>std</th>\n",
       "      <td>16.544315</td>\n",
       "      <td>7.223956</td>\n",
       "    </tr>\n",
       "    <tr>\n",
       "      <th>min</th>\n",
       "      <td>15.000000</td>\n",
       "      <td>6.269000</td>\n",
       "    </tr>\n",
       "    <tr>\n",
       "      <th>25%</th>\n",
       "      <td>31.000000</td>\n",
       "      <td>10.445500</td>\n",
       "    </tr>\n",
       "    <tr>\n",
       "      <th>50%</th>\n",
       "      <td>45.000000</td>\n",
       "      <td>13.936500</td>\n",
       "    </tr>\n",
       "    <tr>\n",
       "      <th>75%</th>\n",
       "      <td>58.000000</td>\n",
       "      <td>19.380000</td>\n",
       "    </tr>\n",
       "    <tr>\n",
       "      <th>max</th>\n",
       "      <td>74.000000</td>\n",
       "      <td>38.247000</td>\n",
       "    </tr>\n",
       "  </tbody>\n",
       "</table>\n",
       "</div>"
      ],
      "text/plain": [
       "              Age     Na_to_K\n",
       "count  200.000000  200.000000\n",
       "mean    44.315000   16.084485\n",
       "std     16.544315    7.223956\n",
       "min     15.000000    6.269000\n",
       "25%     31.000000   10.445500\n",
       "50%     45.000000   13.936500\n",
       "75%     58.000000   19.380000\n",
       "max     74.000000   38.247000"
      ]
     },
     "execution_count": 7,
     "metadata": {},
     "output_type": "execute_result"
    }
   ],
   "source": [
    "df.describe()"
   ]
  },
  {
   "cell_type": "code",
   "execution_count": 8,
   "id": "maritime-experience",
   "metadata": {
    "execution": {
     "iopub.execute_input": "2021-04-27T18:12:17.857570Z",
     "iopub.status.busy": "2021-04-27T18:12:17.856417Z",
     "iopub.status.idle": "2021-04-27T18:12:17.862073Z",
     "shell.execute_reply": "2021-04-27T18:12:17.861379Z"
    },
    "papermill": {
     "duration": 0.053397,
     "end_time": "2021-04-27T18:12:17.862220",
     "exception": false,
     "start_time": "2021-04-27T18:12:17.808823",
     "status": "completed"
    },
    "tags": []
   },
   "outputs": [
    {
     "data": {
      "text/plain": [
       "Age            0\n",
       "Sex            0\n",
       "BP             0\n",
       "Cholesterol    0\n",
       "Na_to_K        0\n",
       "Drug           0\n",
       "dtype: int64"
      ]
     },
     "execution_count": 8,
     "metadata": {},
     "output_type": "execute_result"
    }
   ],
   "source": [
    "df.isnull().sum()"
   ]
  },
  {
   "cell_type": "code",
   "execution_count": 9,
   "id": "intellectual-arthur",
   "metadata": {
    "execution": {
     "iopub.execute_input": "2021-04-27T18:12:17.949735Z",
     "iopub.status.busy": "2021-04-27T18:12:17.949047Z",
     "iopub.status.idle": "2021-04-27T18:12:17.960514Z",
     "shell.execute_reply": "2021-04-27T18:12:17.959803Z"
    },
    "papermill": {
     "duration": 0.057586,
     "end_time": "2021-04-27T18:12:17.960685",
     "exception": false,
     "start_time": "2021-04-27T18:12:17.903099",
     "status": "completed"
    },
    "tags": []
   },
   "outputs": [
    {
     "data": {
      "text/plain": [
       "Age             57\n",
       "Sex              2\n",
       "BP               3\n",
       "Cholesterol      2\n",
       "Na_to_K        198\n",
       "Drug             5\n",
       "dtype: int64"
      ]
     },
     "execution_count": 9,
     "metadata": {},
     "output_type": "execute_result"
    }
   ],
   "source": [
    "df.apply(lambda x: len(x.unique()))"
   ]
  },
  {
   "cell_type": "code",
   "execution_count": 10,
   "id": "realistic-atlas",
   "metadata": {
    "execution": {
     "iopub.execute_input": "2021-04-27T18:12:18.049077Z",
     "iopub.status.busy": "2021-04-27T18:12:18.048188Z",
     "iopub.status.idle": "2021-04-27T18:12:18.052465Z",
     "shell.execute_reply": "2021-04-27T18:12:18.051790Z"
    },
    "papermill": {
     "duration": 0.049703,
     "end_time": "2021-04-27T18:12:18.052611",
     "exception": false,
     "start_time": "2021-04-27T18:12:18.002908",
     "status": "completed"
    },
    "tags": []
   },
   "outputs": [
    {
     "data": {
      "text/plain": [
       "15"
      ]
     },
     "execution_count": 10,
     "metadata": {},
     "output_type": "execute_result"
    }
   ],
   "source": [
    "df['Age'].min()"
   ]
  },
  {
   "cell_type": "code",
   "execution_count": 11,
   "id": "fatty-restriction",
   "metadata": {
    "execution": {
     "iopub.execute_input": "2021-04-27T18:12:18.145527Z",
     "iopub.status.busy": "2021-04-27T18:12:18.144627Z",
     "iopub.status.idle": "2021-04-27T18:12:18.151255Z",
     "shell.execute_reply": "2021-04-27T18:12:18.150450Z"
    },
    "papermill": {
     "duration": 0.056595,
     "end_time": "2021-04-27T18:12:18.151457",
     "exception": false,
     "start_time": "2021-04-27T18:12:18.094862",
     "status": "completed"
    },
    "tags": []
   },
   "outputs": [
    {
     "data": {
      "text/plain": [
       "74"
      ]
     },
     "execution_count": 11,
     "metadata": {},
     "output_type": "execute_result"
    }
   ],
   "source": [
    "df['Age'].max()"
   ]
  },
  {
   "cell_type": "code",
   "execution_count": 12,
   "id": "integrated-japanese",
   "metadata": {
    "execution": {
     "iopub.execute_input": "2021-04-27T18:12:18.248199Z",
     "iopub.status.busy": "2021-04-27T18:12:18.247268Z",
     "iopub.status.idle": "2021-04-27T18:12:18.252550Z",
     "shell.execute_reply": "2021-04-27T18:12:18.251632Z"
    },
    "papermill": {
     "duration": 0.05586,
     "end_time": "2021-04-27T18:12:18.252702",
     "exception": false,
     "start_time": "2021-04-27T18:12:18.196842",
     "status": "completed"
    },
    "tags": []
   },
   "outputs": [
    {
     "data": {
      "text/plain": [
       "M    104\n",
       "F     96\n",
       "Name: Sex, dtype: int64"
      ]
     },
     "execution_count": 12,
     "metadata": {},
     "output_type": "execute_result"
    }
   ],
   "source": [
    "df['Sex'].value_counts()"
   ]
  },
  {
   "cell_type": "code",
   "execution_count": 13,
   "id": "liable-music",
   "metadata": {
    "execution": {
     "iopub.execute_input": "2021-04-27T18:12:18.344032Z",
     "iopub.status.busy": "2021-04-27T18:12:18.343301Z",
     "iopub.status.idle": "2021-04-27T18:12:18.345987Z",
     "shell.execute_reply": "2021-04-27T18:12:18.346489Z"
    },
    "papermill": {
     "duration": 0.052746,
     "end_time": "2021-04-27T18:12:18.346686",
     "exception": false,
     "start_time": "2021-04-27T18:12:18.293940",
     "status": "completed"
    },
    "tags": []
   },
   "outputs": [
    {
     "data": {
      "text/plain": [
       "HIGH      103\n",
       "NORMAL     97\n",
       "Name: Cholesterol, dtype: int64"
      ]
     },
     "execution_count": 13,
     "metadata": {},
     "output_type": "execute_result"
    }
   ],
   "source": [
    "df['Cholesterol'].value_counts()"
   ]
  },
  {
   "cell_type": "code",
   "execution_count": 14,
   "id": "banned-consumer",
   "metadata": {
    "execution": {
     "iopub.execute_input": "2021-04-27T18:12:18.442548Z",
     "iopub.status.busy": "2021-04-27T18:12:18.441823Z",
     "iopub.status.idle": "2021-04-27T18:12:18.450244Z",
     "shell.execute_reply": "2021-04-27T18:12:18.449509Z"
    },
    "papermill": {
     "duration": 0.060174,
     "end_time": "2021-04-27T18:12:18.450428",
     "exception": false,
     "start_time": "2021-04-27T18:12:18.390254",
     "status": "completed"
    },
    "tags": []
   },
   "outputs": [
    {
     "data": {
      "text/plain": [
       "HIGH      77\n",
       "LOW       64\n",
       "NORMAL    59\n",
       "Name: BP, dtype: int64"
      ]
     },
     "execution_count": 14,
     "metadata": {},
     "output_type": "execute_result"
    }
   ],
   "source": [
    "df['BP'].value_counts()"
   ]
  },
  {
   "cell_type": "code",
   "execution_count": 15,
   "id": "conceptual-insurance",
   "metadata": {
    "execution": {
     "iopub.execute_input": "2021-04-27T18:12:18.547121Z",
     "iopub.status.busy": "2021-04-27T18:12:18.546398Z",
     "iopub.status.idle": "2021-04-27T18:12:18.549743Z",
     "shell.execute_reply": "2021-04-27T18:12:18.550282Z"
    },
    "papermill": {
     "duration": 0.056354,
     "end_time": "2021-04-27T18:12:18.550488",
     "exception": false,
     "start_time": "2021-04-27T18:12:18.494134",
     "status": "completed"
    },
    "tags": []
   },
   "outputs": [
    {
     "data": {
      "text/plain": [
       "DrugY    91\n",
       "drugX    54\n",
       "drugA    23\n",
       "drugC    16\n",
       "drugB    16\n",
       "Name: Drug, dtype: int64"
      ]
     },
     "execution_count": 15,
     "metadata": {},
     "output_type": "execute_result"
    }
   ],
   "source": [
    "df['Drug'].value_counts()"
   ]
  },
  {
   "cell_type": "code",
   "execution_count": 16,
   "id": "protected-falls",
   "metadata": {
    "execution": {
     "iopub.execute_input": "2021-04-27T18:12:18.647005Z",
     "iopub.status.busy": "2021-04-27T18:12:18.646248Z",
     "iopub.status.idle": "2021-04-27T18:12:18.922139Z",
     "shell.execute_reply": "2021-04-27T18:12:18.922814Z"
    },
    "papermill": {
     "duration": 0.3241,
     "end_time": "2021-04-27T18:12:18.923015",
     "exception": false,
     "start_time": "2021-04-27T18:12:18.598915",
     "status": "completed"
    },
    "tags": []
   },
   "outputs": [
    {
     "name": "stderr",
     "output_type": "stream",
     "text": [
      "/opt/conda/lib/python3.7/site-packages/seaborn/distributions.py:2557: FutureWarning: `distplot` is a deprecated function and will be removed in a future version. Please adapt your code to use either `displot` (a figure-level function with similar flexibility) or `histplot` (an axes-level function for histograms).\n",
      "  warnings.warn(msg, FutureWarning)\n"
     ]
    },
    {
     "data": {
      "text/plain": [
       "<AxesSubplot:xlabel='Age', ylabel='Density'>"
      ]
     },
     "execution_count": 16,
     "metadata": {},
     "output_type": "execute_result"
    },
    {
     "data": {
      "image/png": "[encoded data removed]",
      "text/plain": [
       "<Figure size 432x288 with 1 Axes>"
      ]
     },
     "metadata": {
      "needs_background": "light"
     },
     "output_type": "display_data"
    }
   ],
   "source": [
    "sns.distplot(df['Age'] ,color = 'lightblue')"
   ]
  },
  {
   "cell_type": "code",
   "execution_count": 17,
   "id": "great-appliance",
   "metadata": {
    "execution": {
     "iopub.execute_input": "2021-04-27T18:12:19.022916Z",
     "iopub.status.busy": "2021-04-27T18:12:19.022174Z",
     "iopub.status.idle": "2021-04-27T18:12:19.199281Z",
     "shell.execute_reply": "2021-04-27T18:12:19.199864Z"
    },
    "papermill": {
     "duration": 0.228573,
     "end_time": "2021-04-27T18:12:19.200117",
     "exception": false,
     "start_time": "2021-04-27T18:12:18.971544",
     "status": "completed"
    },
    "tags": []
   },
   "outputs": [
    {
     "name": "stderr",
     "output_type": "stream",
     "text": [
      "/opt/conda/lib/python3.7/site-packages/seaborn/distributions.py:2557: FutureWarning: `distplot` is a deprecated function and will be removed in a future version. Please adapt your code to use either `displot` (a figure-level function with similar flexibility) or `histplot` (an axes-level function for histograms).\n",
      "  warnings.warn(msg, FutureWarning)\n"
     ]
    },
    {
     "data": {
      "text/plain": [
       "<AxesSubplot:xlabel='Na_to_K', ylabel='Density'>"
      ]
     },
     "execution_count": 17,
     "metadata": {},
     "output_type": "execute_result"
    },
    {
     "data": {
      "image/png": "[encoded data removed]",
      "text/plain": [
       "<Figure size 432x288 with 1 Axes>"
      ]
     },
     "metadata": {
      "needs_background": "light"
     },
     "output_type": "display_data"
    }
   ],
   "source": [
    "sns.distplot(df['Na_to_K'] ,color = 'red')"
   ]
  },
  {
   "cell_type": "code",
   "execution_count": 18,
   "id": "caroline-folks",
   "metadata": {
    "execution": {
     "iopub.execute_input": "2021-04-27T18:12:19.302374Z",
     "iopub.status.busy": "2021-04-27T18:12:19.301681Z",
     "iopub.status.idle": "2021-04-27T18:12:19.570799Z",
     "shell.execute_reply": "2021-04-27T18:12:19.571303Z"
    },
    "papermill": {
     "duration": 0.31952,
     "end_time": "2021-04-27T18:12:19.571533",
     "exception": false,
     "start_time": "2021-04-27T18:12:19.252013",
     "status": "completed"
    },
    "tags": []
   },
   "outputs": [
    {
     "data": {
      "text/plain": [
       "<AxesSubplot:xlabel='Drug', ylabel='Na_to_K'>"
      ]
     },
     "execution_count": 18,
     "metadata": {},
     "output_type": "execute_result"
    },
    {
     "data": {
      "image/png": "[encoded data removed]",
      "text/plain": [
       "<Figure size 432x288 with 1 Axes>"
      ]
     },
     "metadata": {
      "needs_background": "light"
     },
     "output_type": "display_data"
    }
   ],
   "source": [
    "sns.swarmplot(x='Drug',y='Na_to_K', data=df ,palette = 'Set2')"
   ]
  },
  {
   "cell_type": "code",
   "execution_count": 19,
   "id": "olive-portuguese",
   "metadata": {
    "execution": {
     "iopub.execute_input": "2021-04-27T18:12:19.677194Z",
     "iopub.status.busy": "2021-04-27T18:12:19.676543Z",
     "iopub.status.idle": "2021-04-27T18:12:19.912481Z",
     "shell.execute_reply": "2021-04-27T18:12:19.913029Z"
    },
    "papermill": {
     "duration": 0.288919,
     "end_time": "2021-04-27T18:12:19.913214",
     "exception": false,
     "start_time": "2021-04-27T18:12:19.624295",
     "status": "completed"
    },
    "tags": []
   },
   "outputs": [
    {
     "data": {
      "text/plain": [
       "<AxesSubplot:xlabel='Drug', ylabel='Age'>"
      ]
     },
     "execution_count": 19,
     "metadata": {},
     "output_type": "execute_result"
    },
    {
     "data": {
      "image/png": "[encoded data removed]",
      "text/plain": [
       "<Figure size 432x288 with 1 Axes>"
      ]
     },
     "metadata": {
      "needs_background": "light"
     },
     "output_type": "display_data"
    }
   ],
   "source": [
    "sns.swarmplot(x='Drug',y='Age', data=df ,palette = 'Set2')"
   ]
  },
  {
   "cell_type": "code",
   "execution_count": 20,
   "id": "offshore-central",
   "metadata": {
    "execution": {
     "iopub.execute_input": "2021-04-27T18:12:20.021676Z",
     "iopub.status.busy": "2021-04-27T18:12:20.020906Z",
     "iopub.status.idle": "2021-04-27T18:12:20.502611Z",
     "shell.execute_reply": "2021-04-27T18:12:20.503089Z"
    },
    "papermill": {
     "duration": 0.535687,
     "end_time": "2021-04-27T18:12:20.503271",
     "exception": false,
     "start_time": "2021-04-27T18:12:19.967584",
     "status": "completed"
    },
    "tags": []
   },
   "outputs": [
    {
     "name": "stderr",
     "output_type": "stream",
     "text": [
      "/opt/conda/lib/python3.7/site-packages/seaborn/categorical.py:1296: UserWarning: 23.3% of the points cannot be placed; you may want to decrease the size of the markers or use stripplot.\n",
      "  warnings.warn(msg, UserWarning)\n",
      "/opt/conda/lib/python3.7/site-packages/seaborn/categorical.py:1296: UserWarning: 33.0% of the points cannot be placed; you may want to decrease the size of the markers or use stripplot.\n",
      "  warnings.warn(msg, UserWarning)\n"
     ]
    },
    {
     "data": {
      "text/plain": [
       "<seaborn.axisgrid.FacetGrid at 0x7f29b7cb9050>"
      ]
     },
     "execution_count": 20,
     "metadata": {},
     "output_type": "execute_result"
    },
    {
     "data": {
      "image/png": "[encoded data removed]",
      "text/plain": [
       "<Figure size 360x360 with 1 Axes>"
      ]
     },
     "metadata": {
      "needs_background": "light"
     },
     "output_type": "display_data"
    }
   ],
   "source": [
    "sns.catplot(x = 'Cholesterol' , y = 'Drug' , data = df , kind=\"swarm\" , palette ='Spectral')"
   ]
  },
  {
   "cell_type": "code",
   "execution_count": 21,
   "id": "cubic-policy",
   "metadata": {
    "execution": {
     "iopub.execute_input": "2021-04-27T18:12:20.618944Z",
     "iopub.status.busy": "2021-04-27T18:12:20.617488Z",
     "iopub.status.idle": "2021-04-27T18:12:21.081098Z",
     "shell.execute_reply": "2021-04-27T18:12:21.080404Z"
    },
    "papermill": {
     "duration": 0.523917,
     "end_time": "2021-04-27T18:12:21.081250",
     "exception": false,
     "start_time": "2021-04-27T18:12:20.557333",
     "status": "completed"
    },
    "tags": []
   },
   "outputs": [
    {
     "name": "stderr",
     "output_type": "stream",
     "text": [
      "/opt/conda/lib/python3.7/site-packages/seaborn/categorical.py:1296: UserWarning: 41.6% of the points cannot be placed; you may want to decrease the size of the markers or use stripplot.\n",
      "  warnings.warn(msg, UserWarning)\n",
      "/opt/conda/lib/python3.7/site-packages/seaborn/categorical.py:1296: UserWarning: 29.7% of the points cannot be placed; you may want to decrease the size of the markers or use stripplot.\n",
      "  warnings.warn(msg, UserWarning)\n",
      "/opt/conda/lib/python3.7/site-packages/seaborn/categorical.py:1296: UserWarning: 49.2% of the points cannot be placed; you may want to decrease the size of the markers or use stripplot.\n",
      "  warnings.warn(msg, UserWarning)\n"
     ]
    },
    {
     "data": {
      "text/plain": [
       "<seaborn.axisgrid.FacetGrid at 0x7f29b7c341d0>"
      ]
     },
     "execution_count": 21,
     "metadata": {},
     "output_type": "execute_result"
    },
    {
     "data": {
      "image/png": "[encoded data removed]",
      "text/plain": [
       "<Figure size 360x360 with 1 Axes>"
      ]
     },
     "metadata": {
      "needs_background": "light"
     },
     "output_type": "display_data"
    }
   ],
   "source": [
    "sns.catplot(x = 'BP' , y = 'Drug' , data = df , kind=\"swarm\" , palette ='Set2')"
   ]
  },
  {
   "cell_type": "code",
   "execution_count": 22,
   "id": "known-broadway",
   "metadata": {
    "execution": {
     "iopub.execute_input": "2021-04-27T18:12:21.237837Z",
     "iopub.status.busy": "2021-04-27T18:12:21.222876Z",
     "iopub.status.idle": "2021-04-27T18:12:21.663751Z",
     "shell.execute_reply": "2021-04-27T18:12:21.663007Z"
    },
    "papermill": {
     "duration": 0.52879,
     "end_time": "2021-04-27T18:12:21.663912",
     "exception": false,
     "start_time": "2021-04-27T18:12:21.135122",
     "status": "completed"
    },
    "tags": []
   },
   "outputs": [
    {
     "name": "stderr",
     "output_type": "stream",
     "text": [
      "/opt/conda/lib/python3.7/site-packages/seaborn/categorical.py:1296: UserWarning: 29.2% of the points cannot be placed; you may want to decrease the size of the markers or use stripplot.\n",
      "  warnings.warn(msg, UserWarning)\n",
      "/opt/conda/lib/python3.7/site-packages/seaborn/categorical.py:1296: UserWarning: 24.0% of the points cannot be placed; you may want to decrease the size of the markers or use stripplot.\n",
      "  warnings.warn(msg, UserWarning)\n"
     ]
    },
    {
     "data": {
      "text/plain": [
       "<seaborn.axisgrid.FacetGrid at 0x7f29b7b9bc10>"
      ]
     },
     "execution_count": 22,
     "metadata": {},
     "output_type": "execute_result"
    },
    {
     "data": {
      "image/png": "[encoded data removed]",
      "text/plain": [
       "<Figure size 360x360 with 1 Axes>"
      ]
     },
     "metadata": {
      "needs_background": "light"
     },
     "output_type": "display_data"
    }
   ],
   "source": [
    "sns.catplot(x = 'Sex' , y = 'Drug' , data = df , kind=\"swarm\" , palette ='Set2')"
   ]
  },
  {
   "cell_type": "code",
   "execution_count": 23,
   "id": "labeled-myanmar",
   "metadata": {
    "execution": {
     "iopub.execute_input": "2021-04-27T18:12:21.788888Z",
     "iopub.status.busy": "2021-04-27T18:12:21.788132Z",
     "iopub.status.idle": "2021-04-27T18:12:21.791754Z",
     "shell.execute_reply": "2021-04-27T18:12:21.791203Z"
    },
    "papermill": {
     "duration": 0.06901,
     "end_time": "2021-04-27T18:12:21.791909",
     "exception": false,
     "start_time": "2021-04-27T18:12:21.722899",
     "status": "completed"
    },
    "tags": []
   },
   "outputs": [],
   "source": [
    "df['Sex'] = pd.get_dummies(df['Sex'])"
   ]
  },
  {
   "cell_type": "code",
   "execution_count": 24,
   "id": "dedicated-hypothetical",
   "metadata": {
    "execution": {
     "iopub.execute_input": "2021-04-27T18:12:21.921303Z",
     "iopub.status.busy": "2021-04-27T18:12:21.920494Z",
     "iopub.status.idle": "2021-04-27T18:12:21.925372Z",
     "shell.execute_reply": "2021-04-27T18:12:21.924852Z"
    },
    "papermill": {
     "duration": 0.075355,
     "end_time": "2021-04-27T18:12:21.925527",
     "exception": false,
     "start_time": "2021-04-27T18:12:21.850172",
     "status": "completed"
    },
    "tags": []
   },
   "outputs": [
    {
     "data": {
      "text/html": [
       "<div>\n",
       "<style scoped>\n",
       "    .dataframe tbody tr th:only-of-type {\n",
       "        vertical-align: middle;\n",
       "    }\n",
       "\n",
       "    .dataframe tbody tr th {\n",
       "        vertical-align: top;\n",
       "    }\n",
       "\n",
       "    .dataframe thead th {\n",
       "        text-align: right;\n",
       "    }\n",
       "</style>\n",
       "<table border=\"1\" class=\"dataframe\">\n",
       "  <thead>\n",
       "    <tr style=\"text-align: right;\">\n",
       "      <th></th>\n",
       "      <th>Age</th>\n",
       "      <th>Sex</th>\n",
       "      <th>BP</th>\n",
       "      <th>Cholesterol</th>\n",
       "      <th>Na_to_K</th>\n",
       "      <th>Drug</th>\n",
       "    </tr>\n",
       "  </thead>\n",
       "  <tbody>\n",
       "    <tr>\n",
       "      <th>0</th>\n",
       "      <td>23</td>\n",
       "      <td>1</td>\n",
       "      <td>HIGH</td>\n",
       "      <td>HIGH</td>\n",
       "      <td>25.355</td>\n",
       "      <td>DrugY</td>\n",
       "    </tr>\n",
       "    <tr>\n",
       "      <th>1</th>\n",
       "      <td>47</td>\n",
       "      <td>0</td>\n",
       "      <td>LOW</td>\n",
       "      <td>HIGH</td>\n",
       "      <td>13.093</td>\n",
       "      <td>drugC</td>\n",
       "    </tr>\n",
       "    <tr>\n",
       "      <th>2</th>\n",
       "      <td>47</td>\n",
       "      <td>0</td>\n",
       "      <td>LOW</td>\n",
       "      <td>HIGH</td>\n",
       "      <td>10.114</td>\n",
       "      <td>drugC</td>\n",
       "    </tr>\n",
       "    <tr>\n",
       "      <th>3</th>\n",
       "      <td>28</td>\n",
       "      <td>1</td>\n",
       "      <td>NORMAL</td>\n",
       "      <td>HIGH</td>\n",
       "      <td>7.798</td>\n",
       "      <td>drugX</td>\n",
       "    </tr>\n",
       "    <tr>\n",
       "      <th>4</th>\n",
       "      <td>61</td>\n",
       "      <td>1</td>\n",
       "      <td>LOW</td>\n",
       "      <td>HIGH</td>\n",
       "      <td>18.043</td>\n",
       "      <td>DrugY</td>\n",
       "    </tr>\n",
       "  </tbody>\n",
       "</table>\n",
       "</div>"
      ],
      "text/plain": [
       "   Age  Sex      BP Cholesterol  Na_to_K   Drug\n",
       "0   23    1    HIGH        HIGH   25.355  DrugY\n",
       "1   47    0     LOW        HIGH   13.093  drugC\n",
       "2   47    0     LOW        HIGH   10.114  drugC\n",
       "3   28    1  NORMAL        HIGH    7.798  drugX\n",
       "4   61    1     LOW        HIGH   18.043  DrugY"
      ]
     },
     "execution_count": 24,
     "metadata": {},
     "output_type": "execute_result"
    }
   ],
   "source": [
    "df.head()"
   ]
  },
  {
   "cell_type": "code",
   "execution_count": 25,
   "id": "painful-bangladesh",
   "metadata": {
    "execution": {
     "iopub.execute_input": "2021-04-27T18:12:22.050009Z",
     "iopub.status.busy": "2021-04-27T18:12:22.049032Z",
     "iopub.status.idle": "2021-04-27T18:12:22.052393Z",
     "shell.execute_reply": "2021-04-27T18:12:22.051863Z"
    },
    "papermill": {
     "duration": 0.068331,
     "end_time": "2021-04-27T18:12:22.052554",
     "exception": false,
     "start_time": "2021-04-27T18:12:21.984223",
     "status": "completed"
    },
    "tags": []
   },
   "outputs": [],
   "source": [
    "df['Cholesterol'] = pd.get_dummies(df['Cholesterol'])"
   ]
  },
  {
   "cell_type": "code",
   "execution_count": 26,
   "id": "understanding-valuation",
   "metadata": {
    "execution": {
     "iopub.execute_input": "2021-04-27T18:12:22.184382Z",
     "iopub.status.busy": "2021-04-27T18:12:22.183319Z",
     "iopub.status.idle": "2021-04-27T18:12:22.188550Z",
     "shell.execute_reply": "2021-04-27T18:12:22.187907Z"
    },
    "papermill": {
     "duration": 0.076972,
     "end_time": "2021-04-27T18:12:22.188703",
     "exception": false,
     "start_time": "2021-04-27T18:12:22.111731",
     "status": "completed"
    },
    "tags": []
   },
   "outputs": [
    {
     "data": {
      "text/html": [
       "<div>\n",
       "<style scoped>\n",
       "    .dataframe tbody tr th:only-of-type {\n",
       "        vertical-align: middle;\n",
       "    }\n",
       "\n",
       "    .dataframe tbody tr th {\n",
       "        vertical-align: top;\n",
       "    }\n",
       "\n",
       "    .dataframe thead th {\n",
       "        text-align: right;\n",
       "    }\n",
       "</style>\n",
       "<table border=\"1\" class=\"dataframe\">\n",
       "  <thead>\n",
       "    <tr style=\"text-align: right;\">\n",
       "      <th></th>\n",
       "      <th>Age</th>\n",
       "      <th>Sex</th>\n",
       "      <th>BP</th>\n",
       "      <th>Cholesterol</th>\n",
       "      <th>Na_to_K</th>\n",
       "      <th>Drug</th>\n",
       "    </tr>\n",
       "  </thead>\n",
       "  <tbody>\n",
       "    <tr>\n",
       "      <th>0</th>\n",
       "      <td>23</td>\n",
       "      <td>1</td>\n",
       "      <td>HIGH</td>\n",
       "      <td>1</td>\n",
       "      <td>25.355</td>\n",
       "      <td>DrugY</td>\n",
       "    </tr>\n",
       "    <tr>\n",
       "      <th>1</th>\n",
       "      <td>47</td>\n",
       "      <td>0</td>\n",
       "      <td>LOW</td>\n",
       "      <td>1</td>\n",
       "      <td>13.093</td>\n",
       "      <td>drugC</td>\n",
       "    </tr>\n",
       "    <tr>\n",
       "      <th>2</th>\n",
       "      <td>47</td>\n",
       "      <td>0</td>\n",
       "      <td>LOW</td>\n",
       "      <td>1</td>\n",
       "      <td>10.114</td>\n",
       "      <td>drugC</td>\n",
       "    </tr>\n",
       "    <tr>\n",
       "      <th>3</th>\n",
       "      <td>28</td>\n",
       "      <td>1</td>\n",
       "      <td>NORMAL</td>\n",
       "      <td>1</td>\n",
       "      <td>7.798</td>\n",
       "      <td>drugX</td>\n",
       "    </tr>\n",
       "    <tr>\n",
       "      <th>4</th>\n",
       "      <td>61</td>\n",
       "      <td>1</td>\n",
       "      <td>LOW</td>\n",
       "      <td>1</td>\n",
       "      <td>18.043</td>\n",
       "      <td>DrugY</td>\n",
       "    </tr>\n",
       "  </tbody>\n",
       "</table>\n",
       "</div>"
      ],
      "text/plain": [
       "   Age  Sex      BP  Cholesterol  Na_to_K   Drug\n",
       "0   23    1    HIGH            1   25.355  DrugY\n",
       "1   47    0     LOW            1   13.093  drugC\n",
       "2   47    0     LOW            1   10.114  drugC\n",
       "3   28    1  NORMAL            1    7.798  drugX\n",
       "4   61    1     LOW            1   18.043  DrugY"
      ]
     },
     "execution_count": 26,
     "metadata": {},
     "output_type": "execute_result"
    }
   ],
   "source": [
    "df.head()"
   ]
  },
  {
   "cell_type": "code",
   "execution_count": 27,
   "id": "usual-shareware",
   "metadata": {
    "execution": {
     "iopub.execute_input": "2021-04-27T18:12:22.312230Z",
     "iopub.status.busy": "2021-04-27T18:12:22.311540Z",
     "iopub.status.idle": "2021-04-27T18:12:22.315245Z",
     "shell.execute_reply": "2021-04-27T18:12:22.314611Z"
    },
    "papermill": {
     "duration": 0.06852,
     "end_time": "2021-04-27T18:12:22.315420",
     "exception": false,
     "start_time": "2021-04-27T18:12:22.246900",
     "status": "completed"
    },
    "tags": []
   },
   "outputs": [],
   "source": [
    "BP = df[['BP']]"
   ]
  },
  {
   "cell_type": "code",
   "execution_count": 28,
   "id": "knowing-radiation",
   "metadata": {
    "execution": {
     "iopub.execute_input": "2021-04-27T18:12:22.442079Z",
     "iopub.status.busy": "2021-04-27T18:12:22.441416Z",
     "iopub.status.idle": "2021-04-27T18:12:22.445000Z",
     "shell.execute_reply": "2021-04-27T18:12:22.444485Z"
    },
    "papermill": {
     "duration": 0.073052,
     "end_time": "2021-04-27T18:12:22.445169",
     "exception": false,
     "start_time": "2021-04-27T18:12:22.372117",
     "status": "completed"
    },
    "tags": []
   },
   "outputs": [],
   "source": [
    "BP = pd.get_dummies(BP, drop_first = True)"
   ]
  },
  {
   "cell_type": "code",
   "execution_count": 29,
   "id": "temporal-albania",
   "metadata": {
    "execution": {
     "iopub.execute_input": "2021-04-27T18:12:22.570458Z",
     "iopub.status.busy": "2021-04-27T18:12:22.569541Z",
     "iopub.status.idle": "2021-04-27T18:12:22.572667Z",
     "shell.execute_reply": "2021-04-27T18:12:22.573164Z"
    },
    "papermill": {
     "duration": 0.071629,
     "end_time": "2021-04-27T18:12:22.573336",
     "exception": false,
     "start_time": "2021-04-27T18:12:22.501707",
     "status": "completed"
    },
    "tags": []
   },
   "outputs": [
    {
     "data": {
      "text/html": [
       "<div>\n",
       "<style scoped>\n",
       "    .dataframe tbody tr th:only-of-type {\n",
       "        vertical-align: middle;\n",
       "    }\n",
       "\n",
       "    .dataframe tbody tr th {\n",
       "        vertical-align: top;\n",
       "    }\n",
       "\n",
       "    .dataframe thead th {\n",
       "        text-align: right;\n",
       "    }\n",
       "</style>\n",
       "<table border=\"1\" class=\"dataframe\">\n",
       "  <thead>\n",
       "    <tr style=\"text-align: right;\">\n",
       "      <th></th>\n",
       "      <th>BP_LOW</th>\n",
       "      <th>BP_NORMAL</th>\n",
       "    </tr>\n",
       "  </thead>\n",
       "  <tbody>\n",
       "    <tr>\n",
       "      <th>0</th>\n",
       "      <td>0</td>\n",
       "      <td>0</td>\n",
       "    </tr>\n",
       "    <tr>\n",
       "      <th>1</th>\n",
       "      <td>1</td>\n",
       "      <td>0</td>\n",
       "    </tr>\n",
       "    <tr>\n",
       "      <th>2</th>\n",
       "      <td>1</td>\n",
       "      <td>0</td>\n",
       "    </tr>\n",
       "    <tr>\n",
       "      <th>3</th>\n",
       "      <td>0</td>\n",
       "      <td>1</td>\n",
       "    </tr>\n",
       "    <tr>\n",
       "      <th>4</th>\n",
       "      <td>1</td>\n",
       "      <td>0</td>\n",
       "    </tr>\n",
       "  </tbody>\n",
       "</table>\n",
       "</div>"
      ],
      "text/plain": [
       "   BP_LOW  BP_NORMAL\n",
       "0       0          0\n",
       "1       1          0\n",
       "2       1          0\n",
       "3       0          1\n",
       "4       1          0"
      ]
     },
     "execution_count": 29,
     "metadata": {},
     "output_type": "execute_result"
    }
   ],
   "source": [
    "BP.head()"
   ]
  },
  {
   "cell_type": "code",
   "execution_count": 30,
   "id": "seventh-medium",
   "metadata": {
    "execution": {
     "iopub.execute_input": "2021-04-27T18:12:22.706112Z",
     "iopub.status.busy": "2021-04-27T18:12:22.705334Z",
     "iopub.status.idle": "2021-04-27T18:12:22.709662Z",
     "shell.execute_reply": "2021-04-27T18:12:22.708933Z"
    },
    "papermill": {
     "duration": 0.074448,
     "end_time": "2021-04-27T18:12:22.709826",
     "exception": false,
     "start_time": "2021-04-27T18:12:22.635378",
     "status": "completed"
    },
    "tags": []
   },
   "outputs": [],
   "source": [
    "df = pd.concat([df , BP] , axis =1)"
   ]
  },
  {
   "cell_type": "code",
   "execution_count": 31,
   "id": "together-filter",
   "metadata": {
    "execution": {
     "iopub.execute_input": "2021-04-27T18:12:22.847164Z",
     "iopub.status.busy": "2021-04-27T18:12:22.846368Z",
     "iopub.status.idle": "2021-04-27T18:12:22.851130Z",
     "shell.execute_reply": "2021-04-27T18:12:22.850494Z"
    },
    "papermill": {
     "duration": 0.078482,
     "end_time": "2021-04-27T18:12:22.851304",
     "exception": false,
     "start_time": "2021-04-27T18:12:22.772822",
     "status": "completed"
    },
    "tags": []
   },
   "outputs": [
    {
     "data": {
      "text/html": [
       "<div>\n",
       "<style scoped>\n",
       "    .dataframe tbody tr th:only-of-type {\n",
       "        vertical-align: middle;\n",
       "    }\n",
       "\n",
       "    .dataframe tbody tr th {\n",
       "        vertical-align: top;\n",
       "    }\n",
       "\n",
       "    .dataframe thead th {\n",
       "        text-align: right;\n",
       "    }\n",
       "</style>\n",
       "<table border=\"1\" class=\"dataframe\">\n",
       "  <thead>\n",
       "    <tr style=\"text-align: right;\">\n",
       "      <th></th>\n",
       "      <th>Age</th>\n",
       "      <th>Sex</th>\n",
       "      <th>BP</th>\n",
       "      <th>Cholesterol</th>\n",
       "      <th>Na_to_K</th>\n",
       "      <th>Drug</th>\n",
       "      <th>BP_LOW</th>\n",
       "      <th>BP_NORMAL</th>\n",
       "    </tr>\n",
       "  </thead>\n",
       "  <tbody>\n",
       "    <tr>\n",
       "      <th>0</th>\n",
       "      <td>23</td>\n",
       "      <td>1</td>\n",
       "      <td>HIGH</td>\n",
       "      <td>1</td>\n",
       "      <td>25.355</td>\n",
       "      <td>DrugY</td>\n",
       "      <td>0</td>\n",
       "      <td>0</td>\n",
       "    </tr>\n",
       "    <tr>\n",
       "      <th>1</th>\n",
       "      <td>47</td>\n",
       "      <td>0</td>\n",
       "      <td>LOW</td>\n",
       "      <td>1</td>\n",
       "      <td>13.093</td>\n",
       "      <td>drugC</td>\n",
       "      <td>1</td>\n",
       "      <td>0</td>\n",
       "    </tr>\n",
       "    <tr>\n",
       "      <th>2</th>\n",
       "      <td>47</td>\n",
       "      <td>0</td>\n",
       "      <td>LOW</td>\n",
       "      <td>1</td>\n",
       "      <td>10.114</td>\n",
       "      <td>drugC</td>\n",
       "      <td>1</td>\n",
       "      <td>0</td>\n",
       "    </tr>\n",
       "    <tr>\n",
       "      <th>3</th>\n",
       "      <td>28</td>\n",
       "      <td>1</td>\n",
       "      <td>NORMAL</td>\n",
       "      <td>1</td>\n",
       "      <td>7.798</td>\n",
       "      <td>drugX</td>\n",
       "      <td>0</td>\n",
       "      <td>1</td>\n",
       "    </tr>\n",
       "    <tr>\n",
       "      <th>4</th>\n",
       "      <td>61</td>\n",
       "      <td>1</td>\n",
       "      <td>LOW</td>\n",
       "      <td>1</td>\n",
       "      <td>18.043</td>\n",
       "      <td>DrugY</td>\n",
       "      <td>1</td>\n",
       "      <td>0</td>\n",
       "    </tr>\n",
       "  </tbody>\n",
       "</table>\n",
       "</div>"
      ],
      "text/plain": [
       "   Age  Sex      BP  Cholesterol  Na_to_K   Drug  BP_LOW  BP_NORMAL\n",
       "0   23    1    HIGH            1   25.355  DrugY       0          0\n",
       "1   47    0     LOW            1   13.093  drugC       1          0\n",
       "2   47    0     LOW            1   10.114  drugC       1          0\n",
       "3   28    1  NORMAL            1    7.798  drugX       0          1\n",
       "4   61    1     LOW            1   18.043  DrugY       1          0"
      ]
     },
     "execution_count": 31,
     "metadata": {},
     "output_type": "execute_result"
    }
   ],
   "source": [
    "df.head()"
   ]
  },
  {
   "cell_type": "code",
   "execution_count": 32,
   "id": "nervous-concept",
   "metadata": {
    "execution": {
     "iopub.execute_input": "2021-04-27T18:12:22.983488Z",
     "iopub.status.busy": "2021-04-27T18:12:22.981782Z",
     "iopub.status.idle": "2021-04-27T18:12:22.987319Z",
     "shell.execute_reply": "2021-04-27T18:12:22.986527Z"
    },
    "papermill": {
     "duration": 0.072704,
     "end_time": "2021-04-27T18:12:22.987500",
     "exception": false,
     "start_time": "2021-04-27T18:12:22.914796",
     "status": "completed"
    },
    "tags": []
   },
   "outputs": [],
   "source": [
    "Drug = df[['Drug']]"
   ]
  },
  {
   "cell_type": "code",
   "execution_count": 33,
   "id": "primary-expert",
   "metadata": {
    "execution": {
     "iopub.execute_input": "2021-04-27T18:12:23.120060Z",
     "iopub.status.busy": "2021-04-27T18:12:23.118442Z",
     "iopub.status.idle": "2021-04-27T18:12:23.123557Z",
     "shell.execute_reply": "2021-04-27T18:12:23.122841Z"
    },
    "papermill": {
     "duration": 0.075601,
     "end_time": "2021-04-27T18:12:23.123722",
     "exception": false,
     "start_time": "2021-04-27T18:12:23.048121",
     "status": "completed"
    },
    "tags": []
   },
   "outputs": [],
   "source": [
    "Drug = pd.get_dummies(Drug)"
   ]
  },
  {
   "cell_type": "code",
   "execution_count": 34,
   "id": "still-footwear",
   "metadata": {
    "execution": {
     "iopub.execute_input": "2021-04-27T18:12:23.248196Z",
     "iopub.status.busy": "2021-04-27T18:12:23.247484Z",
     "iopub.status.idle": "2021-04-27T18:12:23.375928Z",
     "shell.execute_reply": "2021-04-27T18:12:23.376496Z"
    },
    "papermill": {
     "duration": 0.192513,
     "end_time": "2021-04-27T18:12:23.376692",
     "exception": false,
     "start_time": "2021-04-27T18:12:23.184179",
     "status": "completed"
    },
    "tags": []
   },
   "outputs": [
    {
     "data": {
      "text/html": [
       "<div>\n",
       "<style scoped>\n",
       "    .dataframe tbody tr th:only-of-type {\n",
       "        vertical-align: middle;\n",
       "    }\n",
       "\n",
       "    .dataframe tbody tr th {\n",
       "        vertical-align: top;\n",
       "    }\n",
       "\n",
       "    .dataframe thead th {\n",
       "        text-align: right;\n",
       "    }\n",
       "</style>\n",
       "<table border=\"1\" class=\"dataframe\">\n",
       "  <thead>\n",
       "    <tr style=\"text-align: right;\">\n",
       "      <th></th>\n",
       "      <th>Drug_DrugY</th>\n",
       "      <th>Drug_drugA</th>\n",
       "      <th>Drug_drugB</th>\n",
       "      <th>Drug_drugC</th>\n",
       "      <th>Drug_drugX</th>\n",
       "    </tr>\n",
       "  </thead>\n",
       "  <tbody>\n",
       "    <tr>\n",
       "      <th>0</th>\n",
       "      <td>1</td>\n",
       "      <td>0</td>\n",
       "      <td>0</td>\n",
       "      <td>0</td>\n",
       "      <td>0</td>\n",
       "    </tr>\n",
       "    <tr>\n",
       "      <th>1</th>\n",
       "      <td>0</td>\n",
       "      <td>0</td>\n",
       "      <td>0</td>\n",
       "      <td>1</td>\n",
       "      <td>0</td>\n",
       "    </tr>\n",
       "    <tr>\n",
       "      <th>2</th>\n",
       "      <td>0</td>\n",
       "      <td>0</td>\n",
       "      <td>0</td>\n",
       "      <td>1</td>\n",
       "      <td>0</td>\n",
       "    </tr>\n",
       "    <tr>\n",
       "      <th>3</th>\n",
       "      <td>0</td>\n",
       "      <td>0</td>\n",
       "      <td>0</td>\n",
       "      <td>0</td>\n",
       "      <td>1</td>\n",
       "    </tr>\n",
       "    <tr>\n",
       "      <th>4</th>\n",
       "      <td>1</td>\n",
       "      <td>0</td>\n",
       "      <td>0</td>\n",
       "      <td>0</td>\n",
       "      <td>0</td>\n",
       "    </tr>\n",
       "  </tbody>\n",
       "</table>\n",
       "</div>"
      ],
      "text/plain": [
       "   Drug_DrugY  Drug_drugA  Drug_drugB  Drug_drugC  Drug_drugX\n",
       "0           1           0           0           0           0\n",
       "1           0           0           0           1           0\n",
       "2           0           0           0           1           0\n",
       "3           0           0           0           0           1\n",
       "4           1           0           0           0           0"
      ]
     },
     "execution_count": 34,
     "metadata": {},
     "output_type": "execute_result"
    }
   ],
   "source": [
    "Drug.head()"
   ]
  },
  {
   "cell_type": "code",
   "execution_count": 35,
   "id": "moved-title",
   "metadata": {
    "execution": {
     "iopub.execute_input": "2021-04-27T18:12:23.500780Z",
     "iopub.status.busy": "2021-04-27T18:12:23.500063Z",
     "iopub.status.idle": "2021-04-27T18:12:23.506582Z",
     "shell.execute_reply": "2021-04-27T18:12:23.507138Z"
    },
    "papermill": {
     "duration": 0.068858,
     "end_time": "2021-04-27T18:12:23.507322",
     "exception": false,
     "start_time": "2021-04-27T18:12:23.438464",
     "status": "completed"
    },
    "tags": []
   },
   "outputs": [],
   "source": [
    "df = pd.concat([df,Drug] , axis =1)"
   ]
  },
  {
   "cell_type": "code",
   "execution_count": 36,
   "id": "instant-fashion",
   "metadata": {
    "execution": {
     "iopub.execute_input": "2021-04-27T18:12:23.635911Z",
     "iopub.status.busy": "2021-04-27T18:12:23.635229Z",
     "iopub.status.idle": "2021-04-27T18:12:23.650711Z",
     "shell.execute_reply": "2021-04-27T18:12:23.651295Z"
    },
    "papermill": {
     "duration": 0.08086,
     "end_time": "2021-04-27T18:12:23.651504",
     "exception": false,
     "start_time": "2021-04-27T18:12:23.570644",
     "status": "completed"
    },
    "tags": []
   },
   "outputs": [
    {
     "data": {
      "text/html": [
       "<div>\n",
       "<style scoped>\n",
       "    .dataframe tbody tr th:only-of-type {\n",
       "        vertical-align: middle;\n",
       "    }\n",
       "\n",
       "    .dataframe tbody tr th {\n",
       "        vertical-align: top;\n",
       "    }\n",
       "\n",
       "    .dataframe thead th {\n",
       "        text-align: right;\n",
       "    }\n",
       "</style>\n",
       "<table border=\"1\" class=\"dataframe\">\n",
       "  <thead>\n",
       "    <tr style=\"text-align: right;\">\n",
       "      <th></th>\n",
       "      <th>Age</th>\n",
       "      <th>Sex</th>\n",
       "      <th>BP</th>\n",
       "      <th>Cholesterol</th>\n",
       "      <th>Na_to_K</th>\n",
       "      <th>Drug</th>\n",
       "      <th>BP_LOW</th>\n",
       "      <th>BP_NORMAL</th>\n",
       "      <th>Drug_DrugY</th>\n",
       "      <th>Drug_drugA</th>\n",
       "      <th>Drug_drugB</th>\n",
       "      <th>Drug_drugC</th>\n",
       "      <th>Drug_drugX</th>\n",
       "    </tr>\n",
       "  </thead>\n",
       "  <tbody>\n",
       "    <tr>\n",
       "      <th>0</th>\n",
       "      <td>23</td>\n",
       "      <td>1</td>\n",
       "      <td>HIGH</td>\n",
       "      <td>1</td>\n",
       "      <td>25.355</td>\n",
       "      <td>DrugY</td>\n",
       "      <td>0</td>\n",
       "      <td>0</td>\n",
       "      <td>1</td>\n",
       "      <td>0</td>\n",
       "      <td>0</td>\n",
       "      <td>0</td>\n",
       "      <td>0</td>\n",
       "    </tr>\n",
       "    <tr>\n",
       "      <th>1</th>\n",
       "      <td>47</td>\n",
       "      <td>0</td>\n",
       "      <td>LOW</td>\n",
       "      <td>1</td>\n",
       "      <td>13.093</td>\n",
       "      <td>drugC</td>\n",
       "      <td>1</td>\n",
       "      <td>0</td>\n",
       "      <td>0</td>\n",
       "      <td>0</td>\n",
       "      <td>0</td>\n",
       "      <td>1</td>\n",
       "      <td>0</td>\n",
       "    </tr>\n",
       "    <tr>\n",
       "      <th>2</th>\n",
       "      <td>47</td>\n",
       "      <td>0</td>\n",
       "      <td>LOW</td>\n",
       "      <td>1</td>\n",
       "      <td>10.114</td>\n",
       "      <td>drugC</td>\n",
       "      <td>1</td>\n",
       "      <td>0</td>\n",
       "      <td>0</td>\n",
       "      <td>0</td>\n",
       "      <td>0</td>\n",
       "      <td>1</td>\n",
       "      <td>0</td>\n",
       "    </tr>\n",
       "    <tr>\n",
       "      <th>3</th>\n",
       "      <td>28</td>\n",
       "      <td>1</td>\n",
       "      <td>NORMAL</td>\n",
       "      <td>1</td>\n",
       "      <td>7.798</td>\n",
       "      <td>drugX</td>\n",
       "      <td>0</td>\n",
       "      <td>1</td>\n",
       "      <td>0</td>\n",
       "      <td>0</td>\n",
       "      <td>0</td>\n",
       "      <td>0</td>\n",
       "      <td>1</td>\n",
       "    </tr>\n",
       "    <tr>\n",
       "      <th>4</th>\n",
       "      <td>61</td>\n",
       "      <td>1</td>\n",
       "      <td>LOW</td>\n",
       "      <td>1</td>\n",
       "      <td>18.043</td>\n",
       "      <td>DrugY</td>\n",
       "      <td>1</td>\n",
       "      <td>0</td>\n",
       "      <td>1</td>\n",
       "      <td>0</td>\n",
       "      <td>0</td>\n",
       "      <td>0</td>\n",
       "      <td>0</td>\n",
       "    </tr>\n",
       "  </tbody>\n",
       "</table>\n",
       "</div>"
      ],
      "text/plain": [
       "   Age  Sex      BP  Cholesterol  Na_to_K   Drug  BP_LOW  BP_NORMAL  \\\n",
       "0   23    1    HIGH            1   25.355  DrugY       0          0   \n",
       "1   47    0     LOW            1   13.093  drugC       1          0   \n",
       "2   47    0     LOW            1   10.114  drugC       1          0   \n",
       "3   28    1  NORMAL            1    7.798  drugX       0          1   \n",
       "4   61    1     LOW            1   18.043  DrugY       1          0   \n",
       "\n",
       "   Drug_DrugY  Drug_drugA  Drug_drugB  Drug_drugC  Drug_drugX  \n",
       "0           1           0           0           0           0  \n",
       "1           0           0           0           1           0  \n",
       "2           0           0           0           1           0  \n",
       "3           0           0           0           0           1  \n",
       "4           1           0           0           0           0  "
      ]
     },
     "execution_count": 36,
     "metadata": {},
     "output_type": "execute_result"
    }
   ],
   "source": [
    "df.head()"
   ]
  },
  {
   "cell_type": "code",
   "execution_count": 37,
   "id": "altered-earthquake",
   "metadata": {
    "execution": {
     "iopub.execute_input": "2021-04-27T18:12:23.780135Z",
     "iopub.status.busy": "2021-04-27T18:12:23.779312Z",
     "iopub.status.idle": "2021-04-27T18:12:23.786324Z",
     "shell.execute_reply": "2021-04-27T18:12:23.786946Z"
    },
    "papermill": {
     "duration": 0.072924,
     "end_time": "2021-04-27T18:12:23.787143",
     "exception": false,
     "start_time": "2021-04-27T18:12:23.714219",
     "status": "completed"
    },
    "tags": []
   },
   "outputs": [],
   "source": [
    "df.drop([\"BP\", \"Drug\"], axis = 1, inplace = True)"
   ]
  },
  {
   "cell_type": "code",
   "execution_count": 38,
   "id": "sonic-mambo",
   "metadata": {
    "execution": {
     "iopub.execute_input": "2021-04-27T18:12:23.919634Z",
     "iopub.status.busy": "2021-04-27T18:12:23.918883Z",
     "iopub.status.idle": "2021-04-27T18:12:23.934032Z",
     "shell.execute_reply": "2021-04-27T18:12:23.934604Z"
    },
    "papermill": {
     "duration": 0.085308,
     "end_time": "2021-04-27T18:12:23.934801",
     "exception": false,
     "start_time": "2021-04-27T18:12:23.849493",
     "status": "completed"
    },
    "tags": []
   },
   "outputs": [
    {
     "data": {
      "text/html": [
       "<div>\n",
       "<style scoped>\n",
       "    .dataframe tbody tr th:only-of-type {\n",
       "        vertical-align: middle;\n",
       "    }\n",
       "\n",
       "    .dataframe tbody tr th {\n",
       "        vertical-align: top;\n",
       "    }\n",
       "\n",
       "    .dataframe thead th {\n",
       "        text-align: right;\n",
       "    }\n",
       "</style>\n",
       "<table border=\"1\" class=\"dataframe\">\n",
       "  <thead>\n",
       "    <tr style=\"text-align: right;\">\n",
       "      <th></th>\n",
       "      <th>Age</th>\n",
       "      <th>Sex</th>\n",
       "      <th>Cholesterol</th>\n",
       "      <th>Na_to_K</th>\n",
       "      <th>BP_LOW</th>\n",
       "      <th>BP_NORMAL</th>\n",
       "      <th>Drug_DrugY</th>\n",
       "      <th>Drug_drugA</th>\n",
       "      <th>Drug_drugB</th>\n",
       "      <th>Drug_drugC</th>\n",
       "      <th>Drug_drugX</th>\n",
       "    </tr>\n",
       "  </thead>\n",
       "  <tbody>\n",
       "    <tr>\n",
       "      <th>0</th>\n",
       "      <td>23</td>\n",
       "      <td>1</td>\n",
       "      <td>1</td>\n",
       "      <td>25.355</td>\n",
       "      <td>0</td>\n",
       "      <td>0</td>\n",
       "      <td>1</td>\n",
       "      <td>0</td>\n",
       "      <td>0</td>\n",
       "      <td>0</td>\n",
       "      <td>0</td>\n",
       "    </tr>\n",
       "    <tr>\n",
       "      <th>1</th>\n",
       "      <td>47</td>\n",
       "      <td>0</td>\n",
       "      <td>1</td>\n",
       "      <td>13.093</td>\n",
       "      <td>1</td>\n",
       "      <td>0</td>\n",
       "      <td>0</td>\n",
       "      <td>0</td>\n",
       "      <td>0</td>\n",
       "      <td>1</td>\n",
       "      <td>0</td>\n",
       "    </tr>\n",
       "    <tr>\n",
       "      <th>2</th>\n",
       "      <td>47</td>\n",
       "      <td>0</td>\n",
       "      <td>1</td>\n",
       "      <td>10.114</td>\n",
       "      <td>1</td>\n",
       "      <td>0</td>\n",
       "      <td>0</td>\n",
       "      <td>0</td>\n",
       "      <td>0</td>\n",
       "      <td>1</td>\n",
       "      <td>0</td>\n",
       "    </tr>\n",
       "    <tr>\n",
       "      <th>3</th>\n",
       "      <td>28</td>\n",
       "      <td>1</td>\n",
       "      <td>1</td>\n",
       "      <td>7.798</td>\n",
       "      <td>0</td>\n",
       "      <td>1</td>\n",
       "      <td>0</td>\n",
       "      <td>0</td>\n",
       "      <td>0</td>\n",
       "      <td>0</td>\n",
       "      <td>1</td>\n",
       "    </tr>\n",
       "    <tr>\n",
       "      <th>4</th>\n",
       "      <td>61</td>\n",
       "      <td>1</td>\n",
       "      <td>1</td>\n",
       "      <td>18.043</td>\n",
       "      <td>1</td>\n",
       "      <td>0</td>\n",
       "      <td>1</td>\n",
       "      <td>0</td>\n",
       "      <td>0</td>\n",
       "      <td>0</td>\n",
       "      <td>0</td>\n",
       "    </tr>\n",
       "  </tbody>\n",
       "</table>\n",
       "</div>"
      ],
      "text/plain": [
       "   Age  Sex  Cholesterol  Na_to_K  BP_LOW  BP_NORMAL  Drug_DrugY  Drug_drugA  \\\n",
       "0   23    1            1   25.355       0          0           1           0   \n",
       "1   47    0            1   13.093       1          0           0           0   \n",
       "2   47    0            1   10.114       1          0           0           0   \n",
       "3   28    1            1    7.798       0          1           0           0   \n",
       "4   61    1            1   18.043       1          0           1           0   \n",
       "\n",
       "   Drug_drugB  Drug_drugC  Drug_drugX  \n",
       "0           0           0           0  \n",
       "1           0           1           0  \n",
       "2           0           1           0  \n",
       "3           0           0           1  \n",
       "4           0           0           0  "
      ]
     },
     "execution_count": 38,
     "metadata": {},
     "output_type": "execute_result"
    }
   ],
   "source": [
    "df.head()"
   ]
  },
  {
   "cell_type": "code",
   "execution_count": 39,
   "id": "obvious-laptop",
   "metadata": {
    "execution": {
     "iopub.execute_input": "2021-04-27T18:12:24.068419Z",
     "iopub.status.busy": "2021-04-27T18:12:24.067677Z",
     "iopub.status.idle": "2021-04-27T18:12:24.076641Z",
     "shell.execute_reply": "2021-04-27T18:12:24.075910Z"
    },
    "papermill": {
     "duration": 0.076701,
     "end_time": "2021-04-27T18:12:24.076808",
     "exception": false,
     "start_time": "2021-04-27T18:12:24.000107",
     "status": "completed"
    },
    "tags": []
   },
   "outputs": [
    {
     "data": {
      "text/plain": [
       "Index(['Age', 'Sex', 'Cholesterol', 'Na_to_K', 'BP_LOW', 'BP_NORMAL',\n",
       "       'Drug_DrugY', 'Drug_drugA', 'Drug_drugB', 'Drug_drugC', 'Drug_drugX'],\n",
       "      dtype='object')"
      ]
     },
     "execution_count": 39,
     "metadata": {},
     "output_type": "execute_result"
    }
   ],
   "source": [
    "df.columns"
   ]
  },
  {
   "cell_type": "code",
   "execution_count": 40,
   "id": "binary-canberra",
   "metadata": {
    "execution": {
     "iopub.execute_input": "2021-04-27T18:12:24.210665Z",
     "iopub.status.busy": "2021-04-27T18:12:24.209490Z",
     "iopub.status.idle": "2021-04-27T18:12:24.216232Z",
     "shell.execute_reply": "2021-04-27T18:12:24.216788Z"
    },
    "papermill": {
     "duration": 0.078318,
     "end_time": "2021-04-27T18:12:24.216974",
     "exception": false,
     "start_time": "2021-04-27T18:12:24.138656",
     "status": "completed"
    },
    "tags": []
   },
   "outputs": [],
   "source": [
    "X = df.loc[: , ['Age' , 'Sex' , 'Cholesterol' , 'Na_to_K','BP_LOW', 'BP_NORMAL',]]"
   ]
  },
  {
   "cell_type": "code",
   "execution_count": 41,
   "id": "hairy-guitar",
   "metadata": {
    "execution": {
     "iopub.execute_input": "2021-04-27T18:12:24.347945Z",
     "iopub.status.busy": "2021-04-27T18:12:24.347252Z",
     "iopub.status.idle": "2021-04-27T18:12:24.360466Z",
     "shell.execute_reply": "2021-04-27T18:12:24.361021Z"
    },
    "papermill": {
     "duration": 0.078149,
     "end_time": "2021-04-27T18:12:24.361203",
     "exception": false,
     "start_time": "2021-04-27T18:12:24.283054",
     "status": "completed"
    },
    "tags": []
   },
   "outputs": [
    {
     "data": {
      "text/html": [
       "<div>\n",
       "<style scoped>\n",
       "    .dataframe tbody tr th:only-of-type {\n",
       "        vertical-align: middle;\n",
       "    }\n",
       "\n",
       "    .dataframe tbody tr th {\n",
       "        vertical-align: top;\n",
       "    }\n",
       "\n",
       "    .dataframe thead th {\n",
       "        text-align: right;\n",
       "    }\n",
       "</style>\n",
       "<table border=\"1\" class=\"dataframe\">\n",
       "  <thead>\n",
       "    <tr style=\"text-align: right;\">\n",
       "      <th></th>\n",
       "      <th>Age</th>\n",
       "      <th>Sex</th>\n",
       "      <th>Cholesterol</th>\n",
       "      <th>Na_to_K</th>\n",
       "      <th>BP_LOW</th>\n",
       "      <th>BP_NORMAL</th>\n",
       "    </tr>\n",
       "  </thead>\n",
       "  <tbody>\n",
       "    <tr>\n",
       "      <th>0</th>\n",
       "      <td>23</td>\n",
       "      <td>1</td>\n",
       "      <td>1</td>\n",
       "      <td>25.355</td>\n",
       "      <td>0</td>\n",
       "      <td>0</td>\n",
       "    </tr>\n",
       "    <tr>\n",
       "      <th>1</th>\n",
       "      <td>47</td>\n",
       "      <td>0</td>\n",
       "      <td>1</td>\n",
       "      <td>13.093</td>\n",
       "      <td>1</td>\n",
       "      <td>0</td>\n",
       "    </tr>\n",
       "    <tr>\n",
       "      <th>2</th>\n",
       "      <td>47</td>\n",
       "      <td>0</td>\n",
       "      <td>1</td>\n",
       "      <td>10.114</td>\n",
       "      <td>1</td>\n",
       "      <td>0</td>\n",
       "    </tr>\n",
       "    <tr>\n",
       "      <th>3</th>\n",
       "      <td>28</td>\n",
       "      <td>1</td>\n",
       "      <td>1</td>\n",
       "      <td>7.798</td>\n",
       "      <td>0</td>\n",
       "      <td>1</td>\n",
       "    </tr>\n",
       "    <tr>\n",
       "      <th>4</th>\n",
       "      <td>61</td>\n",
       "      <td>1</td>\n",
       "      <td>1</td>\n",
       "      <td>18.043</td>\n",
       "      <td>1</td>\n",
       "      <td>0</td>\n",
       "    </tr>\n",
       "  </tbody>\n",
       "</table>\n",
       "</div>"
      ],
      "text/plain": [
       "   Age  Sex  Cholesterol  Na_to_K  BP_LOW  BP_NORMAL\n",
       "0   23    1            1   25.355       0          0\n",
       "1   47    0            1   13.093       1          0\n",
       "2   47    0            1   10.114       1          0\n",
       "3   28    1            1    7.798       0          1\n",
       "4   61    1            1   18.043       1          0"
      ]
     },
     "execution_count": 41,
     "metadata": {},
     "output_type": "execute_result"
    }
   ],
   "source": [
    "X.head()"
   ]
  },
  {
   "cell_type": "code",
   "execution_count": 42,
   "id": "multiple-light",
   "metadata": {
    "execution": {
     "iopub.execute_input": "2021-04-27T18:12:24.496406Z",
     "iopub.status.busy": "2021-04-27T18:12:24.495747Z",
     "iopub.status.idle": "2021-04-27T18:12:24.500980Z",
     "shell.execute_reply": "2021-04-27T18:12:24.501534Z"
    },
    "papermill": {
     "duration": 0.073518,
     "end_time": "2021-04-27T18:12:24.501725",
     "exception": false,
     "start_time": "2021-04-27T18:12:24.428207",
     "status": "completed"
    },
    "tags": []
   },
   "outputs": [],
   "source": [
    "y = df.loc[: , ['Drug_DrugY', 'Drug_drugA', 'Drug_drugB', 'Drug_drugC', 'Drug_drugX']]"
   ]
  },
  {
   "cell_type": "code",
   "execution_count": 43,
   "id": "brave-elimination",
   "metadata": {
    "execution": {
     "iopub.execute_input": "2021-04-27T18:12:24.632282Z",
     "iopub.status.busy": "2021-04-27T18:12:24.631608Z",
     "iopub.status.idle": "2021-04-27T18:12:24.643303Z",
     "shell.execute_reply": "2021-04-27T18:12:24.642505Z"
    },
    "papermill": {
     "duration": 0.079224,
     "end_time": "2021-04-27T18:12:24.643492",
     "exception": false,
     "start_time": "2021-04-27T18:12:24.564268",
     "status": "completed"
    },
    "tags": []
   },
   "outputs": [
    {
     "data": {
      "text/html": [
       "<div>\n",
       "<style scoped>\n",
       "    .dataframe tbody tr th:only-of-type {\n",
       "        vertical-align: middle;\n",
       "    }\n",
       "\n",
       "    .dataframe tbody tr th {\n",
       "        vertical-align: top;\n",
       "    }\n",
       "\n",
       "    .dataframe thead th {\n",
       "        text-align: right;\n",
       "    }\n",
       "</style>\n",
       "<table border=\"1\" class=\"dataframe\">\n",
       "  <thead>\n",
       "    <tr style=\"text-align: right;\">\n",
       "      <th></th>\n",
       "      <th>Drug_DrugY</th>\n",
       "      <th>Drug_drugA</th>\n",
       "      <th>Drug_drugB</th>\n",
       "      <th>Drug_drugC</th>\n",
       "      <th>Drug_drugX</th>\n",
       "    </tr>\n",
       "  </thead>\n",
       "  <tbody>\n",
       "    <tr>\n",
       "      <th>0</th>\n",
       "      <td>1</td>\n",
       "      <td>0</td>\n",
       "      <td>0</td>\n",
       "      <td>0</td>\n",
       "      <td>0</td>\n",
       "    </tr>\n",
       "    <tr>\n",
       "      <th>1</th>\n",
       "      <td>0</td>\n",
       "      <td>0</td>\n",
       "      <td>0</td>\n",
       "      <td>1</td>\n",
       "      <td>0</td>\n",
       "    </tr>\n",
       "    <tr>\n",
       "      <th>2</th>\n",
       "      <td>0</td>\n",
       "      <td>0</td>\n",
       "      <td>0</td>\n",
       "      <td>1</td>\n",
       "      <td>0</td>\n",
       "    </tr>\n",
       "    <tr>\n",
       "      <th>3</th>\n",
       "      <td>0</td>\n",
       "      <td>0</td>\n",
       "      <td>0</td>\n",
       "      <td>0</td>\n",
       "      <td>1</td>\n",
       "    </tr>\n",
       "    <tr>\n",
       "      <th>4</th>\n",
       "      <td>1</td>\n",
       "      <td>0</td>\n",
       "      <td>0</td>\n",
       "      <td>0</td>\n",
       "      <td>0</td>\n",
       "    </tr>\n",
       "  </tbody>\n",
       "</table>\n",
       "</div>"
      ],
      "text/plain": [
       "   Drug_DrugY  Drug_drugA  Drug_drugB  Drug_drugC  Drug_drugX\n",
       "0           1           0           0           0           0\n",
       "1           0           0           0           1           0\n",
       "2           0           0           0           1           0\n",
       "3           0           0           0           0           1\n",
       "4           1           0           0           0           0"
      ]
     },
     "execution_count": 43,
     "metadata": {},
     "output_type": "execute_result"
    }
   ],
   "source": [
    "y.head()"
   ]
  },
  {
   "cell_type": "code",
   "execution_count": 44,
   "id": "beautiful-pennsylvania",
   "metadata": {
    "execution": {
     "iopub.execute_input": "2021-04-27T18:12:24.778756Z",
     "iopub.status.busy": "2021-04-27T18:12:24.777871Z",
     "iopub.status.idle": "2021-04-27T18:12:24.782157Z",
     "shell.execute_reply": "2021-04-27T18:12:24.781404Z"
    },
    "papermill": {
     "duration": 0.075662,
     "end_time": "2021-04-27T18:12:24.782309",
     "exception": false,
     "start_time": "2021-04-27T18:12:24.706647",
     "status": "completed"
    },
    "tags": []
   },
   "outputs": [
    {
     "data": {
      "text/plain": [
       "(200, 6)"
      ]
     },
     "execution_count": 44,
     "metadata": {},
     "output_type": "execute_result"
    }
   ],
   "source": [
    "X.shape"
   ]
  },
  {
   "cell_type": "code",
   "execution_count": 45,
   "id": "caroline-lindsay",
   "metadata": {
    "execution": {
     "iopub.execute_input": "2021-04-27T18:12:24.923949Z",
     "iopub.status.busy": "2021-04-27T18:12:24.923018Z",
     "iopub.status.idle": "2021-04-27T18:12:24.926770Z",
     "shell.execute_reply": "2021-04-27T18:12:24.927223Z"
    },
    "papermill": {
     "duration": 0.078199,
     "end_time": "2021-04-27T18:12:24.927427",
     "exception": false,
     "start_time": "2021-04-27T18:12:24.849228",
     "status": "completed"
    },
    "tags": []
   },
   "outputs": [
    {
     "data": {
      "text/plain": [
       "(200, 5)"
      ]
     },
     "execution_count": 45,
     "metadata": {},
     "output_type": "execute_result"
    }
   ],
   "source": [
    "y.shape"
   ]
  },
  {
   "cell_type": "code",
   "execution_count": 46,
   "id": "tight-highlight",
   "metadata": {
    "execution": {
     "iopub.execute_input": "2021-04-27T18:12:25.066178Z",
     "iopub.status.busy": "2021-04-27T18:12:25.065193Z",
     "iopub.status.idle": "2021-04-27T18:12:25.338030Z",
     "shell.execute_reply": "2021-04-27T18:12:25.337247Z"
    },
    "papermill": {
     "duration": 0.34452,
     "end_time": "2021-04-27T18:12:25.338188",
     "exception": false,
     "start_time": "2021-04-27T18:12:24.993668",
     "status": "completed"
    },
    "tags": []
   },
   "outputs": [],
   "source": [
    "from sklearn.model_selection import train_test_split"
   ]
  },
  {
   "cell_type": "code",
   "execution_count": 47,
   "id": "yellow-singapore",
   "metadata": {
    "execution": {
     "iopub.execute_input": "2021-04-27T18:12:25.486050Z",
     "iopub.status.busy": "2021-04-27T18:12:25.485373Z",
     "iopub.status.idle": "2021-04-27T18:12:25.488374Z",
     "shell.execute_reply": "2021-04-27T18:12:25.488916Z"
    },
    "papermill": {
     "duration": 0.080304,
     "end_time": "2021-04-27T18:12:25.489102",
     "exception": false,
     "start_time": "2021-04-27T18:12:25.408798",
     "status": "completed"
    },
    "tags": []
   },
   "outputs": [],
   "source": [
    "X_train, X_test, y_train, y_test = train_test_split(X, y, test_size=0.2, random_state=42)"
   ]
  },
  {
   "cell_type": "code",
   "execution_count": 48,
   "id": "substantial-demand",
   "metadata": {
    "execution": {
     "iopub.execute_input": "2021-04-27T18:12:25.626816Z",
     "iopub.status.busy": "2021-04-27T18:12:25.626091Z",
     "iopub.status.idle": "2021-04-27T18:12:25.904645Z",
     "shell.execute_reply": "2021-04-27T18:12:25.905221Z"
    },
    "papermill": {
     "duration": 0.34965,
     "end_time": "2021-04-27T18:12:25.905498",
     "exception": false,
     "start_time": "2021-04-27T18:12:25.555848",
     "status": "completed"
    },
    "tags": []
   },
   "outputs": [],
   "source": [
    "from sklearn.ensemble import RandomForestRegressor"
   ]
  },
  {
   "cell_type": "code",
   "execution_count": 49,
   "id": "professional-scheme",
   "metadata": {
    "execution": {
     "iopub.execute_input": "2021-04-27T18:12:26.046514Z",
     "iopub.status.busy": "2021-04-27T18:12:26.045815Z",
     "iopub.status.idle": "2021-04-27T18:12:26.050728Z",
     "shell.execute_reply": "2021-04-27T18:12:26.051582Z"
    },
    "papermill": {
     "duration": 0.078962,
     "end_time": "2021-04-27T18:12:26.051815",
     "exception": false,
     "start_time": "2021-04-27T18:12:25.972853",
     "status": "completed"
    },
    "tags": []
   },
   "outputs": [],
   "source": [
    "random = RandomForestRegressor()"
   ]
  },
  {
   "cell_type": "code",
   "execution_count": 50,
   "id": "engaged-compensation",
   "metadata": {
    "execution": {
     "iopub.execute_input": "2021-04-27T18:12:26.192249Z",
     "iopub.status.busy": "2021-04-27T18:12:26.191555Z",
     "iopub.status.idle": "2021-04-27T18:12:26.380957Z",
     "shell.execute_reply": "2021-04-27T18:12:26.381487Z"
    },
    "papermill": {
     "duration": 0.261233,
     "end_time": "2021-04-27T18:12:26.381706",
     "exception": false,
     "start_time": "2021-04-27T18:12:26.120473",
     "status": "completed"
    },
    "tags": []
   },
   "outputs": [
    {
     "data": {
      "text/plain": [
       "RandomForestRegressor()"
      ]
     },
     "execution_count": 50,
     "metadata": {},
     "output_type": "execute_result"
    }
   ],
   "source": [
    "random.fit(X_train, y_train)"
   ]
  },
  {
   "cell_type": "code",
   "execution_count": 51,
   "id": "blank-albania",
   "metadata": {
    "execution": {
     "iopub.execute_input": "2021-04-27T18:12:26.536172Z",
     "iopub.status.busy": "2021-04-27T18:12:26.535446Z",
     "iopub.status.idle": "2021-04-27T18:12:26.539641Z",
     "shell.execute_reply": "2021-04-27T18:12:26.538975Z"
    },
    "papermill": {
     "duration": 0.090776,
     "end_time": "2021-04-27T18:12:26.539786",
     "exception": false,
     "start_time": "2021-04-27T18:12:26.449010",
     "status": "completed"
    },
    "tags": []
   },
   "outputs": [],
   "source": [
    "y_pred = random.predict(X_test)"
   ]
  },
  {
   "cell_type": "code",
   "execution_count": 52,
   "id": "coated-delicious",
   "metadata": {
    "execution": {
     "iopub.execute_input": "2021-04-27T18:12:26.692270Z",
     "iopub.status.busy": "2021-04-27T18:12:26.691140Z",
     "iopub.status.idle": "2021-04-27T18:12:26.705628Z",
     "shell.execute_reply": "2021-04-27T18:12:26.704919Z"
    },
    "papermill": {
     "duration": 0.099075,
     "end_time": "2021-04-27T18:12:26.705780",
     "exception": false,
     "start_time": "2021-04-27T18:12:26.606705",
     "status": "completed"
    },
    "tags": []
   },
   "outputs": [],
   "source": [
    "acc_random = random.score(X_train, y_train)"
   ]
  },
  {
   "cell_type": "code",
   "execution_count": 53,
   "id": "polar-blanket",
   "metadata": {
    "execution": {
     "iopub.execute_input": "2021-04-27T18:12:26.849477Z",
     "iopub.status.busy": "2021-04-27T18:12:26.848176Z",
     "iopub.status.idle": "2021-04-27T18:12:26.855390Z",
     "shell.execute_reply": "2021-04-27T18:12:26.854697Z"
    },
    "papermill": {
     "duration": 0.081986,
     "end_time": "2021-04-27T18:12:26.855628",
     "exception": false,
     "start_time": "2021-04-27T18:12:26.773642",
     "status": "completed"
    },
    "tags": []
   },
   "outputs": [
    {
     "data": {
      "text/plain": [
       "0.9959371443712259"
      ]
     },
     "execution_count": 53,
     "metadata": {},
     "output_type": "execute_result"
    }
   ],
   "source": [
    "acc_random"
   ]
  },
  {
   "cell_type": "code",
   "execution_count": 54,
   "id": "broke-semester",
   "metadata": {
    "execution": {
     "iopub.execute_input": "2021-04-27T18:12:27.035013Z",
     "iopub.status.busy": "2021-04-27T18:12:27.033963Z",
     "iopub.status.idle": "2021-04-27T18:12:27.039290Z",
     "shell.execute_reply": "2021-04-27T18:12:27.038767Z"
    },
    "papermill": {
     "duration": 0.09053,
     "end_time": "2021-04-27T18:12:27.039476",
     "exception": false,
     "start_time": "2021-04-27T18:12:26.948946",
     "status": "completed"
    },
    "tags": []
   },
   "outputs": [
    {
     "data": {
      "text/html": [
       "<div>\n",
       "<style scoped>\n",
       "    .dataframe tbody tr th:only-of-type {\n",
       "        vertical-align: middle;\n",
       "    }\n",
       "\n",
       "    .dataframe tbody tr th {\n",
       "        vertical-align: top;\n",
       "    }\n",
       "\n",
       "    .dataframe thead th {\n",
       "        text-align: right;\n",
       "    }\n",
       "</style>\n",
       "<table border=\"1\" class=\"dataframe\">\n",
       "  <thead>\n",
       "    <tr style=\"text-align: right;\">\n",
       "      <th></th>\n",
       "      <th>Drug_DrugY</th>\n",
       "      <th>Drug_drugA</th>\n",
       "      <th>Drug_drugB</th>\n",
       "      <th>Drug_drugC</th>\n",
       "      <th>Drug_drugX</th>\n",
       "    </tr>\n",
       "  </thead>\n",
       "  <tbody>\n",
       "    <tr>\n",
       "      <th>128</th>\n",
       "      <td>1</td>\n",
       "      <td>0</td>\n",
       "      <td>0</td>\n",
       "      <td>0</td>\n",
       "      <td>0</td>\n",
       "    </tr>\n",
       "    <tr>\n",
       "      <th>115</th>\n",
       "      <td>1</td>\n",
       "      <td>0</td>\n",
       "      <td>0</td>\n",
       "      <td>0</td>\n",
       "      <td>0</td>\n",
       "    </tr>\n",
       "    <tr>\n",
       "      <th>69</th>\n",
       "      <td>1</td>\n",
       "      <td>0</td>\n",
       "      <td>0</td>\n",
       "      <td>0</td>\n",
       "      <td>0</td>\n",
       "    </tr>\n",
       "  </tbody>\n",
       "</table>\n",
       "</div>"
      ],
      "text/plain": [
       "     Drug_DrugY  Drug_drugA  Drug_drugB  Drug_drugC  Drug_drugX\n",
       "128           1           0           0           0           0\n",
       "115           1           0           0           0           0\n",
       "69            1           0           0           0           0"
      ]
     },
     "execution_count": 54,
     "metadata": {},
     "output_type": "execute_result"
    }
   ],
   "source": [
    "y_test[4:7]"
   ]
  },
  {
   "cell_type": "code",
   "execution_count": 55,
   "id": "colonial-crossing",
   "metadata": {
    "execution": {
     "iopub.execute_input": "2021-04-27T18:12:27.193179Z",
     "iopub.status.busy": "2021-04-27T18:12:27.192134Z",
     "iopub.status.idle": "2021-04-27T18:12:27.198327Z",
     "shell.execute_reply": "2021-04-27T18:12:27.197602Z"
    },
    "papermill": {
     "duration": 0.088842,
     "end_time": "2021-04-27T18:12:27.198509",
     "exception": false,
     "start_time": "2021-04-27T18:12:27.109667",
     "status": "completed"
    },
    "tags": []
   },
   "outputs": [
    {
     "data": {
      "text/html": [
       "<div>\n",
       "<style scoped>\n",
       "    .dataframe tbody tr th:only-of-type {\n",
       "        vertical-align: middle;\n",
       "    }\n",
       "\n",
       "    .dataframe tbody tr th {\n",
       "        vertical-align: top;\n",
       "    }\n",
       "\n",
       "    .dataframe thead th {\n",
       "        text-align: right;\n",
       "    }\n",
       "</style>\n",
       "<table border=\"1\" class=\"dataframe\">\n",
       "  <thead>\n",
       "    <tr style=\"text-align: right;\">\n",
       "      <th></th>\n",
       "      <th>Age</th>\n",
       "      <th>Sex</th>\n",
       "      <th>Cholesterol</th>\n",
       "      <th>Na_to_K</th>\n",
       "      <th>BP_LOW</th>\n",
       "      <th>BP_NORMAL</th>\n",
       "    </tr>\n",
       "  </thead>\n",
       "  <tbody>\n",
       "    <tr>\n",
       "      <th>128</th>\n",
       "      <td>47</td>\n",
       "      <td>0</td>\n",
       "      <td>0</td>\n",
       "      <td>33.542</td>\n",
       "      <td>1</td>\n",
       "      <td>0</td>\n",
       "    </tr>\n",
       "    <tr>\n",
       "      <th>115</th>\n",
       "      <td>51</td>\n",
       "      <td>0</td>\n",
       "      <td>1</td>\n",
       "      <td>18.295</td>\n",
       "      <td>0</td>\n",
       "      <td>0</td>\n",
       "    </tr>\n",
       "    <tr>\n",
       "      <th>69</th>\n",
       "      <td>18</td>\n",
       "      <td>1</td>\n",
       "      <td>0</td>\n",
       "      <td>24.276</td>\n",
       "      <td>0</td>\n",
       "      <td>0</td>\n",
       "    </tr>\n",
       "  </tbody>\n",
       "</table>\n",
       "</div>"
      ],
      "text/plain": [
       "     Age  Sex  Cholesterol  Na_to_K  BP_LOW  BP_NORMAL\n",
       "128   47    0            0   33.542       1          0\n",
       "115   51    0            1   18.295       0          0\n",
       "69    18    1            0   24.276       0          0"
      ]
     },
     "execution_count": 55,
     "metadata": {},
     "output_type": "execute_result"
    }
   ],
   "source": [
    "X_test[4:7]"
   ]
  },
  {
   "cell_type": "code",
   "execution_count": 56,
   "id": "recognized-prayer",
   "metadata": {
    "execution": {
     "iopub.execute_input": "2021-04-27T18:12:27.348291Z",
     "iopub.status.busy": "2021-04-27T18:12:27.347295Z",
     "iopub.status.idle": "2021-04-27T18:12:27.360212Z",
     "shell.execute_reply": "2021-04-27T18:12:27.359669Z"
    },
    "papermill": {
     "duration": 0.091381,
     "end_time": "2021-04-27T18:12:27.360392",
     "exception": false,
     "start_time": "2021-04-27T18:12:27.269011",
     "status": "completed"
    },
    "tags": []
   },
   "outputs": [],
   "source": [
    "predict = random.predict(X_test[4:7])"
   ]
  },
  {
   "cell_type": "code",
   "execution_count": 57,
   "id": "collected-segment",
   "metadata": {
    "execution": {
     "iopub.execute_input": "2021-04-27T18:12:27.506747Z",
     "iopub.status.busy": "2021-04-27T18:12:27.505687Z",
     "iopub.status.idle": "2021-04-27T18:12:27.510849Z",
     "shell.execute_reply": "2021-04-27T18:12:27.510208Z"
    },
    "papermill": {
     "duration": 0.080771,
     "end_time": "2021-04-27T18:12:27.510999",
     "exception": false,
     "start_time": "2021-04-27T18:12:27.430228",
     "status": "completed"
    },
    "tags": []
   },
   "outputs": [
    {
     "data": {
      "text/plain": [
       "array([[1., 0., 0., 0., 0.],\n",
       "       [1., 0., 0., 0., 0.],\n",
       "       [1., 0., 0., 0., 0.]])"
      ]
     },
     "execution_count": 57,
     "metadata": {},
     "output_type": "execute_result"
    }
   ],
   "source": [
    "predict"
   ]
  }
 ],
 "metadata": {
  "kernelspec": {
   "display_name": "Python 3",
   "language": "python",
   "name": "python3"
  },
  "language_info": {
   "codemirror_mode": {
    "name": "ipython",
    "version": 3
   },
   "file_extension": ".py",
   "mimetype": "text/x-python",
   "name": "python",
   "nbconvert_exporter": "python",
   "pygments_lexer": "ipython3",
   "version": "3.7.10"
  },
  "papermill": {
   "default_parameters": {},
   "duration": 21.911006,
   "end_time": "2021-04-27T18:12:28.397645",
   "environment_variables": {},
   "exception": null,
   "input_path": "__notebook__.ipynb",
   "output_path": "__notebook__.ipynb",
   "parameters": {},
   "start_time": "2021-04-27T18:12:06.486639",
   "version": "2.3.3"
  }
 },
 "nbformat": 4,
 "nbformat_minor": 5
}
