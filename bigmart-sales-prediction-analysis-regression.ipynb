{
 "cells": [
  {
   "cell_type": "code",
   "execution_count": 1,
   "id": "proprietary-difference",
   "metadata": {
    "_cell_guid": "b1076dfc-b9ad-4769-8c92-a6c4dae69d19",
    "_uuid": "8f2839f25d086af736a60e9eeb907d3b93b6e0e5",
    "execution": {
     "iopub.execute_input": "2021-04-11T20:37:14.210454Z",
     "iopub.status.busy": "2021-04-11T20:37:14.209775Z",
     "iopub.status.idle": "2021-04-11T20:37:14.226756Z",
     "shell.execute_reply": "2021-04-11T20:37:14.227359Z"
    },
    "papermill": {
     "duration": 0.075353,
     "end_time": "2021-04-11T20:37:14.227704",
     "exception": false,
     "start_time": "2021-04-11T20:37:14.152351",
     "status": "completed"
    },
    "tags": []
   },
   "outputs": [
    {
     "name": "stdout",
     "output_type": "stream",
     "text": [
      "/kaggle/input/bigmart-sales-data/Train.csv\n",
      "/kaggle/input/bigmart-sales-data/Test.csv\n"
     ]
    }
   ],
   "source": [
    "# This Python 3 environment comes with many helpful analytics libraries installed\n",
    "# It is defined by the kaggle/python Docker image: https://github.com/kaggle/docker-python\n",
    "# For example, here's several helpful packages to load\n",
    "\n",
    "import numpy as np # linear algebra\n",
    "import pandas as pd # data processing, CSV file I/O (e.g. pd.read_csv)\n",
    "\n",
    "# Input data files are available in the read-only \"../input/\" directory\n",
    "# For example, running this (by clicking run or pressing Shift+Enter) will list all files under the input directory\n",
    "\n",
    "import os\n",
    "for dirname, _, filenames in os.walk('/kaggle/input'):\n",
    "    for filename in filenames:\n",
    "        print(os.path.join(dirname, filename))\n",
    "\n",
    "# You can write up to 20GB to the current directory (/kaggle/working/) that gets preserved as output when you create a version using \"Save & Run All\" \n",
    "# You can also write temporary files to /kaggle/temp/, but they won't be saved outside of the current session"
   ]
  },
  {
   "cell_type": "markdown",
   "id": "general-display",
   "metadata": {
    "papermill": {
     "duration": 0.04836,
     "end_time": "2021-04-11T20:37:14.326900",
     "exception": false,
     "start_time": "2021-04-11T20:37:14.278540",
     "status": "completed"
    },
    "tags": []
   },
   "source": [
    "# IMPORT MODULES"
   ]
  },
  {
   "cell_type": "code",
   "execution_count": 2,
   "id": "adequate-threshold",
   "metadata": {
    "execution": {
     "iopub.execute_input": "2021-04-11T20:37:14.427675Z",
     "iopub.status.busy": "2021-04-11T20:37:14.427019Z",
     "iopub.status.idle": "2021-04-11T20:37:15.484034Z",
     "shell.execute_reply": "2021-04-11T20:37:15.482896Z"
    },
    "papermill": {
     "duration": 1.108554,
     "end_time": "2021-04-11T20:37:15.484190",
     "exception": false,
     "start_time": "2021-04-11T20:37:14.375636",
     "status": "completed"
    },
    "tags": []
   },
   "outputs": [],
   "source": [
    "import pandas as pd\n",
    "import numpy as np\n",
    "import seaborn as sns\n",
    "import matplotlib.pyplot as plt\n",
    "import warnings\n",
    "%matplotlib inline\n",
    "warnings.filterwarnings('ignore')"
   ]
  },
  {
   "cell_type": "markdown",
   "id": "decreased-america",
   "metadata": {
    "papermill": {
     "duration": 0.049867,
     "end_time": "2021-04-11T20:37:15.583526",
     "exception": false,
     "start_time": "2021-04-11T20:37:15.533659",
     "status": "completed"
    },
    "tags": []
   },
   "source": [
    "# LOADING THE DATASET"
   ]
  },
  {
   "cell_type": "code",
   "execution_count": 3,
   "id": "smooth-therapist",
   "metadata": {
    "execution": {
     "iopub.execute_input": "2021-04-11T20:37:15.687575Z",
     "iopub.status.busy": "2021-04-11T20:37:15.686913Z",
     "iopub.status.idle": "2021-04-11T20:37:15.743138Z",
     "shell.execute_reply": "2021-04-11T20:37:15.743829Z"
    },
    "papermill": {
     "duration": 0.110745,
     "end_time": "2021-04-11T20:37:15.744039",
     "exception": false,
     "start_time": "2021-04-11T20:37:15.633294",
     "status": "completed"
    },
    "tags": []
   },
   "outputs": [],
   "source": [
    "df = pd.read_csv('../input/bigmart-sales-data/Train.csv')"
   ]
  },
  {
   "cell_type": "code",
   "execution_count": 4,
   "id": "graphic-interpretation",
   "metadata": {
    "execution": {
     "iopub.execute_input": "2021-04-11T20:37:15.871331Z",
     "iopub.status.busy": "2021-04-11T20:37:15.870417Z",
     "iopub.status.idle": "2021-04-11T20:37:15.908915Z",
     "shell.execute_reply": "2021-04-11T20:37:15.908241Z"
    },
    "papermill": {
     "duration": 0.099191,
     "end_time": "2021-04-11T20:37:15.909069",
     "exception": false,
     "start_time": "2021-04-11T20:37:15.809878",
     "status": "completed"
    },
    "tags": []
   },
   "outputs": [
    {
     "data": {
      "text/html": [
       "<div>\n",
       "<style scoped>\n",
       "    .dataframe tbody tr th:only-of-type {\n",
       "        vertical-align: middle;\n",
       "    }\n",
       "\n",
       "    .dataframe tbody tr th {\n",
       "        vertical-align: top;\n",
       "    }\n",
       "\n",
       "    .dataframe thead th {\n",
       "        text-align: right;\n",
       "    }\n",
       "</style>\n",
       "<table border=\"1\" class=\"dataframe\">\n",
       "  <thead>\n",
       "    <tr style=\"text-align: right;\">\n",
       "      <th></th>\n",
       "      <th>Item_Identifier</th>\n",
       "      <th>Item_Weight</th>\n",
       "      <th>Item_Fat_Content</th>\n",
       "      <th>Item_Visibility</th>\n",
       "      <th>Item_Type</th>\n",
       "      <th>Item_MRP</th>\n",
       "      <th>Outlet_Identifier</th>\n",
       "      <th>Outlet_Establishment_Year</th>\n",
       "      <th>Outlet_Size</th>\n",
       "      <th>Outlet_Location_Type</th>\n",
       "      <th>Outlet_Type</th>\n",
       "      <th>Item_Outlet_Sales</th>\n",
       "    </tr>\n",
       "  </thead>\n",
       "  <tbody>\n",
       "    <tr>\n",
       "      <th>0</th>\n",
       "      <td>FDA15</td>\n",
       "      <td>9.30</td>\n",
       "      <td>Low Fat</td>\n",
       "      <td>0.016047</td>\n",
       "      <td>Dairy</td>\n",
       "      <td>249.8092</td>\n",
       "      <td>OUT049</td>\n",
       "      <td>1999</td>\n",
       "      <td>Medium</td>\n",
       "      <td>Tier 1</td>\n",
       "      <td>Supermarket Type1</td>\n",
       "      <td>3735.1380</td>\n",
       "    </tr>\n",
       "    <tr>\n",
       "      <th>1</th>\n",
       "      <td>DRC01</td>\n",
       "      <td>5.92</td>\n",
       "      <td>Regular</td>\n",
       "      <td>0.019278</td>\n",
       "      <td>Soft Drinks</td>\n",
       "      <td>48.2692</td>\n",
       "      <td>OUT018</td>\n",
       "      <td>2009</td>\n",
       "      <td>Medium</td>\n",
       "      <td>Tier 3</td>\n",
       "      <td>Supermarket Type2</td>\n",
       "      <td>443.4228</td>\n",
       "    </tr>\n",
       "    <tr>\n",
       "      <th>2</th>\n",
       "      <td>FDN15</td>\n",
       "      <td>17.50</td>\n",
       "      <td>Low Fat</td>\n",
       "      <td>0.016760</td>\n",
       "      <td>Meat</td>\n",
       "      <td>141.6180</td>\n",
       "      <td>OUT049</td>\n",
       "      <td>1999</td>\n",
       "      <td>Medium</td>\n",
       "      <td>Tier 1</td>\n",
       "      <td>Supermarket Type1</td>\n",
       "      <td>2097.2700</td>\n",
       "    </tr>\n",
       "    <tr>\n",
       "      <th>3</th>\n",
       "      <td>FDX07</td>\n",
       "      <td>19.20</td>\n",
       "      <td>Regular</td>\n",
       "      <td>0.000000</td>\n",
       "      <td>Fruits and Vegetables</td>\n",
       "      <td>182.0950</td>\n",
       "      <td>OUT010</td>\n",
       "      <td>1998</td>\n",
       "      <td>NaN</td>\n",
       "      <td>Tier 3</td>\n",
       "      <td>Grocery Store</td>\n",
       "      <td>732.3800</td>\n",
       "    </tr>\n",
       "    <tr>\n",
       "      <th>4</th>\n",
       "      <td>NCD19</td>\n",
       "      <td>8.93</td>\n",
       "      <td>Low Fat</td>\n",
       "      <td>0.000000</td>\n",
       "      <td>Household</td>\n",
       "      <td>53.8614</td>\n",
       "      <td>OUT013</td>\n",
       "      <td>1987</td>\n",
       "      <td>High</td>\n",
       "      <td>Tier 3</td>\n",
       "      <td>Supermarket Type1</td>\n",
       "      <td>994.7052</td>\n",
       "    </tr>\n",
       "  </tbody>\n",
       "</table>\n",
       "</div>"
      ],
      "text/plain": [
       "  Item_Identifier  Item_Weight Item_Fat_Content  Item_Visibility  \\\n",
       "0           FDA15         9.30          Low Fat         0.016047   \n",
       "1           DRC01         5.92          Regular         0.019278   \n",
       "2           FDN15        17.50          Low Fat         0.016760   \n",
       "3           FDX07        19.20          Regular         0.000000   \n",
       "4           NCD19         8.93          Low Fat         0.000000   \n",
       "\n",
       "               Item_Type  Item_MRP Outlet_Identifier  \\\n",
       "0                  Dairy  249.8092            OUT049   \n",
       "1            Soft Drinks   48.2692            OUT018   \n",
       "2                   Meat  141.6180            OUT049   \n",
       "3  Fruits and Vegetables  182.0950            OUT010   \n",
       "4              Household   53.8614            OUT013   \n",
       "\n",
       "   Outlet_Establishment_Year Outlet_Size Outlet_Location_Type  \\\n",
       "0                       1999      Medium               Tier 1   \n",
       "1                       2009      Medium               Tier 3   \n",
       "2                       1999      Medium               Tier 1   \n",
       "3                       1998         NaN               Tier 3   \n",
       "4                       1987        High               Tier 3   \n",
       "\n",
       "         Outlet_Type  Item_Outlet_Sales  \n",
       "0  Supermarket Type1          3735.1380  \n",
       "1  Supermarket Type2           443.4228  \n",
       "2  Supermarket Type1          2097.2700  \n",
       "3      Grocery Store           732.3800  \n",
       "4  Supermarket Type1           994.7052  "
      ]
     },
     "execution_count": 4,
     "metadata": {},
     "output_type": "execute_result"
    }
   ],
   "source": [
    "df.head()"
   ]
  },
  {
   "cell_type": "code",
   "execution_count": 5,
   "id": "certain-workplace",
   "metadata": {
    "execution": {
     "iopub.execute_input": "2021-04-11T20:37:16.019482Z",
     "iopub.status.busy": "2021-04-11T20:37:16.018728Z",
     "iopub.status.idle": "2021-04-11T20:37:16.048181Z",
     "shell.execute_reply": "2021-04-11T20:37:16.047451Z"
    },
    "papermill": {
     "duration": 0.088067,
     "end_time": "2021-04-11T20:37:16.048331",
     "exception": false,
     "start_time": "2021-04-11T20:37:15.960264",
     "status": "completed"
    },
    "tags": []
   },
   "outputs": [
    {
     "data": {
      "text/html": [
       "<div>\n",
       "<style scoped>\n",
       "    .dataframe tbody tr th:only-of-type {\n",
       "        vertical-align: middle;\n",
       "    }\n",
       "\n",
       "    .dataframe tbody tr th {\n",
       "        vertical-align: top;\n",
       "    }\n",
       "\n",
       "    .dataframe thead th {\n",
       "        text-align: right;\n",
       "    }\n",
       "</style>\n",
       "<table border=\"1\" class=\"dataframe\">\n",
       "  <thead>\n",
       "    <tr style=\"text-align: right;\">\n",
       "      <th></th>\n",
       "      <th>Item_Weight</th>\n",
       "      <th>Item_Visibility</th>\n",
       "      <th>Item_MRP</th>\n",
       "      <th>Outlet_Establishment_Year</th>\n",
       "      <th>Item_Outlet_Sales</th>\n",
       "    </tr>\n",
       "  </thead>\n",
       "  <tbody>\n",
       "    <tr>\n",
       "      <th>count</th>\n",
       "      <td>7060.000000</td>\n",
       "      <td>8523.000000</td>\n",
       "      <td>8523.000000</td>\n",
       "      <td>8523.000000</td>\n",
       "      <td>8523.000000</td>\n",
       "    </tr>\n",
       "    <tr>\n",
       "      <th>mean</th>\n",
       "      <td>12.857645</td>\n",
       "      <td>0.066132</td>\n",
       "      <td>140.992782</td>\n",
       "      <td>1997.831867</td>\n",
       "      <td>2181.288914</td>\n",
       "    </tr>\n",
       "    <tr>\n",
       "      <th>std</th>\n",
       "      <td>4.643456</td>\n",
       "      <td>0.051598</td>\n",
       "      <td>62.275067</td>\n",
       "      <td>8.371760</td>\n",
       "      <td>1706.499616</td>\n",
       "    </tr>\n",
       "    <tr>\n",
       "      <th>min</th>\n",
       "      <td>4.555000</td>\n",
       "      <td>0.000000</td>\n",
       "      <td>31.290000</td>\n",
       "      <td>1985.000000</td>\n",
       "      <td>33.290000</td>\n",
       "    </tr>\n",
       "    <tr>\n",
       "      <th>25%</th>\n",
       "      <td>8.773750</td>\n",
       "      <td>0.026989</td>\n",
       "      <td>93.826500</td>\n",
       "      <td>1987.000000</td>\n",
       "      <td>834.247400</td>\n",
       "    </tr>\n",
       "    <tr>\n",
       "      <th>50%</th>\n",
       "      <td>12.600000</td>\n",
       "      <td>0.053931</td>\n",
       "      <td>143.012800</td>\n",
       "      <td>1999.000000</td>\n",
       "      <td>1794.331000</td>\n",
       "    </tr>\n",
       "    <tr>\n",
       "      <th>75%</th>\n",
       "      <td>16.850000</td>\n",
       "      <td>0.094585</td>\n",
       "      <td>185.643700</td>\n",
       "      <td>2004.000000</td>\n",
       "      <td>3101.296400</td>\n",
       "    </tr>\n",
       "    <tr>\n",
       "      <th>max</th>\n",
       "      <td>21.350000</td>\n",
       "      <td>0.328391</td>\n",
       "      <td>266.888400</td>\n",
       "      <td>2009.000000</td>\n",
       "      <td>13086.964800</td>\n",
       "    </tr>\n",
       "  </tbody>\n",
       "</table>\n",
       "</div>"
      ],
      "text/plain": [
       "       Item_Weight  Item_Visibility     Item_MRP  Outlet_Establishment_Year  \\\n",
       "count  7060.000000      8523.000000  8523.000000                8523.000000   \n",
       "mean     12.857645         0.066132   140.992782                1997.831867   \n",
       "std       4.643456         0.051598    62.275067                   8.371760   \n",
       "min       4.555000         0.000000    31.290000                1985.000000   \n",
       "25%       8.773750         0.026989    93.826500                1987.000000   \n",
       "50%      12.600000         0.053931   143.012800                1999.000000   \n",
       "75%      16.850000         0.094585   185.643700                2004.000000   \n",
       "max      21.350000         0.328391   266.888400                2009.000000   \n",
       "\n",
       "       Item_Outlet_Sales  \n",
       "count        8523.000000  \n",
       "mean         2181.288914  \n",
       "std          1706.499616  \n",
       "min            33.290000  \n",
       "25%           834.247400  \n",
       "50%          1794.331000  \n",
       "75%          3101.296400  \n",
       "max         13086.964800  "
      ]
     },
     "execution_count": 5,
     "metadata": {},
     "output_type": "execute_result"
    }
   ],
   "source": [
    "df.describe()"
   ]
  },
  {
   "cell_type": "code",
   "execution_count": 6,
   "id": "disturbed-geology",
   "metadata": {
    "execution": {
     "iopub.execute_input": "2021-04-11T20:37:16.176691Z",
     "iopub.status.busy": "2021-04-11T20:37:16.164762Z",
     "iopub.status.idle": "2021-04-11T20:37:16.180763Z",
     "shell.execute_reply": "2021-04-11T20:37:16.181632Z"
    },
    "papermill": {
     "duration": 0.0817,
     "end_time": "2021-04-11T20:37:16.181872",
     "exception": false,
     "start_time": "2021-04-11T20:37:16.100172",
     "status": "completed"
    },
    "tags": []
   },
   "outputs": [
    {
     "name": "stdout",
     "output_type": "stream",
     "text": [
      "<class 'pandas.core.frame.DataFrame'>\n",
      "RangeIndex: 8523 entries, 0 to 8522\n",
      "Data columns (total 12 columns):\n",
      " #   Column                     Non-Null Count  Dtype  \n",
      "---  ------                     --------------  -----  \n",
      " 0   Item_Identifier            8523 non-null   object \n",
      " 1   Item_Weight                7060 non-null   float64\n",
      " 2   Item_Fat_Content           8523 non-null   object \n",
      " 3   Item_Visibility            8523 non-null   float64\n",
      " 4   Item_Type                  8523 non-null   object \n",
      " 5   Item_MRP                   8523 non-null   float64\n",
      " 6   Outlet_Identifier          8523 non-null   object \n",
      " 7   Outlet_Establishment_Year  8523 non-null   int64  \n",
      " 8   Outlet_Size                6113 non-null   object \n",
      " 9   Outlet_Location_Type       8523 non-null   object \n",
      " 10  Outlet_Type                8523 non-null   object \n",
      " 11  Item_Outlet_Sales          8523 non-null   float64\n",
      "dtypes: float64(4), int64(1), object(7)\n",
      "memory usage: 799.2+ KB\n"
     ]
    }
   ],
   "source": [
    "df.info()"
   ]
  },
  {
   "cell_type": "code",
   "execution_count": 7,
   "id": "afraid-picnic",
   "metadata": {
    "execution": {
     "iopub.execute_input": "2021-04-11T20:37:16.291446Z",
     "iopub.status.busy": "2021-04-11T20:37:16.290471Z",
     "iopub.status.idle": "2021-04-11T20:37:16.308604Z",
     "shell.execute_reply": "2021-04-11T20:37:16.307809Z"
    },
    "papermill": {
     "duration": 0.07505,
     "end_time": "2021-04-11T20:37:16.308761",
     "exception": false,
     "start_time": "2021-04-11T20:37:16.233711",
     "status": "completed"
    },
    "tags": []
   },
   "outputs": [
    {
     "data": {
      "text/plain": [
       "Item_Identifier              1559\n",
       "Item_Weight                   416\n",
       "Item_Fat_Content                5\n",
       "Item_Visibility              7880\n",
       "Item_Type                      16\n",
       "Item_MRP                     5938\n",
       "Outlet_Identifier              10\n",
       "Outlet_Establishment_Year       9\n",
       "Outlet_Size                     4\n",
       "Outlet_Location_Type            3\n",
       "Outlet_Type                     4\n",
       "Item_Outlet_Sales            3493\n",
       "dtype: int64"
      ]
     },
     "execution_count": 7,
     "metadata": {},
     "output_type": "execute_result"
    }
   ],
   "source": [
    "# unique values in dataset\n",
    "df.apply(lambda x: len(x.unique()))"
   ]
  },
  {
   "cell_type": "markdown",
   "id": "decimal-binary",
   "metadata": {
    "papermill": {
     "duration": 0.051451,
     "end_time": "2021-04-11T20:37:16.412700",
     "exception": false,
     "start_time": "2021-04-11T20:37:16.361249",
     "status": "completed"
    },
    "tags": []
   },
   "source": [
    "# PREPROCESSING THE DATASET"
   ]
  },
  {
   "cell_type": "code",
   "execution_count": 8,
   "id": "cross-latvia",
   "metadata": {
    "execution": {
     "iopub.execute_input": "2021-04-11T20:37:16.530874Z",
     "iopub.status.busy": "2021-04-11T20:37:16.530012Z",
     "iopub.status.idle": "2021-04-11T20:37:16.534937Z",
     "shell.execute_reply": "2021-04-11T20:37:16.534293Z"
    },
    "papermill": {
     "duration": 0.070598,
     "end_time": "2021-04-11T20:37:16.535075",
     "exception": false,
     "start_time": "2021-04-11T20:37:16.464477",
     "status": "completed"
    },
    "tags": []
   },
   "outputs": [
    {
     "data": {
      "text/plain": [
       "Item_Identifier                 0\n",
       "Item_Weight                  1463\n",
       "Item_Fat_Content                0\n",
       "Item_Visibility                 0\n",
       "Item_Type                       0\n",
       "Item_MRP                        0\n",
       "Outlet_Identifier               0\n",
       "Outlet_Establishment_Year       0\n",
       "Outlet_Size                  2410\n",
       "Outlet_Location_Type            0\n",
       "Outlet_Type                     0\n",
       "Item_Outlet_Sales               0\n",
       "dtype: int64"
      ]
     },
     "execution_count": 8,
     "metadata": {},
     "output_type": "execute_result"
    }
   ],
   "source": [
    "df.isnull().sum()"
   ]
  },
  {
   "cell_type": "code",
   "execution_count": 9,
   "id": "stuck-beauty",
   "metadata": {
    "execution": {
     "iopub.execute_input": "2021-04-11T20:37:16.646402Z",
     "iopub.status.busy": "2021-04-11T20:37:16.645758Z",
     "iopub.status.idle": "2021-04-11T20:37:16.648354Z",
     "shell.execute_reply": "2021-04-11T20:37:16.648830Z"
    },
    "papermill": {
     "duration": 0.061942,
     "end_time": "2021-04-11T20:37:16.649014",
     "exception": false,
     "start_time": "2021-04-11T20:37:16.587072",
     "status": "completed"
    },
    "tags": []
   },
   "outputs": [],
   "source": [
    "# categorical attributes\n",
    "cat_col = []\n",
    "for x in df.dtypes.index:\n",
    "    if df.dtypes[x] == 'object':\n",
    "        cat_col.append(x)"
   ]
  },
  {
   "cell_type": "code",
   "execution_count": 10,
   "id": "circular-winning",
   "metadata": {
    "execution": {
     "iopub.execute_input": "2021-04-11T20:37:16.759739Z",
     "iopub.status.busy": "2021-04-11T20:37:16.758957Z",
     "iopub.status.idle": "2021-04-11T20:37:16.762757Z",
     "shell.execute_reply": "2021-04-11T20:37:16.762114Z"
    },
    "papermill": {
     "duration": 0.061832,
     "end_time": "2021-04-11T20:37:16.762899",
     "exception": false,
     "start_time": "2021-04-11T20:37:16.701067",
     "status": "completed"
    },
    "tags": []
   },
   "outputs": [
    {
     "data": {
      "text/plain": [
       "['Item_Identifier',\n",
       " 'Item_Fat_Content',\n",
       " 'Item_Type',\n",
       " 'Outlet_Identifier',\n",
       " 'Outlet_Size',\n",
       " 'Outlet_Location_Type',\n",
       " 'Outlet_Type']"
      ]
     },
     "execution_count": 10,
     "metadata": {},
     "output_type": "execute_result"
    }
   ],
   "source": [
    "cat_col"
   ]
  },
  {
   "cell_type": "code",
   "execution_count": 11,
   "id": "detected-microphone",
   "metadata": {
    "execution": {
     "iopub.execute_input": "2021-04-11T20:37:16.872780Z",
     "iopub.status.busy": "2021-04-11T20:37:16.872113Z",
     "iopub.status.idle": "2021-04-11T20:37:16.875432Z",
     "shell.execute_reply": "2021-04-11T20:37:16.874787Z"
    },
    "papermill": {
     "duration": 0.059992,
     "end_time": "2021-04-11T20:37:16.875569",
     "exception": false,
     "start_time": "2021-04-11T20:37:16.815577",
     "status": "completed"
    },
    "tags": []
   },
   "outputs": [],
   "source": [
    "cat_col.remove('Item_Identifier')"
   ]
  },
  {
   "cell_type": "code",
   "execution_count": 12,
   "id": "embedded-collector",
   "metadata": {
    "execution": {
     "iopub.execute_input": "2021-04-11T20:37:16.985606Z",
     "iopub.status.busy": "2021-04-11T20:37:16.984928Z",
     "iopub.status.idle": "2021-04-11T20:37:16.988975Z",
     "shell.execute_reply": "2021-04-11T20:37:16.988293Z"
    },
    "papermill": {
     "duration": 0.061273,
     "end_time": "2021-04-11T20:37:16.989122",
     "exception": false,
     "start_time": "2021-04-11T20:37:16.927849",
     "status": "completed"
    },
    "tags": []
   },
   "outputs": [],
   "source": [
    "cat_col.remove('Outlet_Identifier')"
   ]
  },
  {
   "cell_type": "code",
   "execution_count": 13,
   "id": "complicated-negotiation",
   "metadata": {
    "execution": {
     "iopub.execute_input": "2021-04-11T20:37:17.101913Z",
     "iopub.status.busy": "2021-04-11T20:37:17.100956Z",
     "iopub.status.idle": "2021-04-11T20:37:17.105626Z",
     "shell.execute_reply": "2021-04-11T20:37:17.104990Z"
    },
    "papermill": {
     "duration": 0.063612,
     "end_time": "2021-04-11T20:37:17.105764",
     "exception": false,
     "start_time": "2021-04-11T20:37:17.042152",
     "status": "completed"
    },
    "tags": []
   },
   "outputs": [
    {
     "data": {
      "text/plain": [
       "['Item_Fat_Content',\n",
       " 'Item_Type',\n",
       " 'Outlet_Size',\n",
       " 'Outlet_Location_Type',\n",
       " 'Outlet_Type']"
      ]
     },
     "execution_count": 13,
     "metadata": {},
     "output_type": "execute_result"
    }
   ],
   "source": [
    "cat_col"
   ]
  },
  {
   "cell_type": "code",
   "execution_count": 14,
   "id": "cordless-extraction",
   "metadata": {
    "execution": {
     "iopub.execute_input": "2021-04-11T20:37:17.219333Z",
     "iopub.status.busy": "2021-04-11T20:37:17.218685Z",
     "iopub.status.idle": "2021-04-11T20:37:17.236527Z",
     "shell.execute_reply": "2021-04-11T20:37:17.237408Z"
    },
    "papermill": {
     "duration": 0.078733,
     "end_time": "2021-04-11T20:37:17.237657",
     "exception": false,
     "start_time": "2021-04-11T20:37:17.158924",
     "status": "completed"
    },
    "tags": []
   },
   "outputs": [
    {
     "name": "stdout",
     "output_type": "stream",
     "text": [
      "Item_Fat_Content\n",
      "Low Fat    5089\n",
      "Regular    2889\n",
      "LF          316\n",
      "reg         117\n",
      "low fat     112\n",
      "Name: Item_Fat_Content, dtype: int64\n",
      "\n",
      "Item_Type\n",
      "Fruits and Vegetables    1232\n",
      "Snack Foods              1200\n",
      "Household                 910\n",
      "Frozen Foods              856\n",
      "Dairy                     682\n",
      "Canned                    649\n",
      "Baking Goods              648\n",
      "Health and Hygiene        520\n",
      "Soft Drinks               445\n",
      "Meat                      425\n",
      "Breads                    251\n",
      "Hard Drinks               214\n",
      "Others                    169\n",
      "Starchy Foods             148\n",
      "Breakfast                 110\n",
      "Seafood                    64\n",
      "Name: Item_Type, dtype: int64\n",
      "\n",
      "Outlet_Size\n",
      "Medium    2793\n",
      "Small     2388\n",
      "High       932\n",
      "Name: Outlet_Size, dtype: int64\n",
      "\n",
      "Outlet_Location_Type\n",
      "Tier 3    3350\n",
      "Tier 2    2785\n",
      "Tier 1    2388\n",
      "Name: Outlet_Location_Type, dtype: int64\n",
      "\n",
      "Outlet_Type\n",
      "Supermarket Type1    5577\n",
      "Grocery Store        1083\n",
      "Supermarket Type3     935\n",
      "Supermarket Type2     928\n",
      "Name: Outlet_Type, dtype: int64\n",
      "\n"
     ]
    }
   ],
   "source": [
    "for col in cat_col:\n",
    "    print(col)\n",
    "    print(df[col].value_counts())\n",
    "    print()"
   ]
  },
  {
   "cell_type": "code",
   "execution_count": 15,
   "id": "wrapped-pathology",
   "metadata": {
    "execution": {
     "iopub.execute_input": "2021-04-11T20:37:17.349546Z",
     "iopub.status.busy": "2021-04-11T20:37:17.348903Z",
     "iopub.status.idle": "2021-04-11T20:37:17.378515Z",
     "shell.execute_reply": "2021-04-11T20:37:17.379043Z"
    },
    "papermill": {
     "duration": 0.086083,
     "end_time": "2021-04-11T20:37:17.379239",
     "exception": false,
     "start_time": "2021-04-11T20:37:17.293156",
     "status": "completed"
    },
    "tags": []
   },
   "outputs": [],
   "source": [
    "item_weight_mean = df.pivot_table(values = \"Item_Weight\", index = 'Item_Identifier')"
   ]
  },
  {
   "cell_type": "code",
   "execution_count": 16,
   "id": "downtown-excitement",
   "metadata": {
    "execution": {
     "iopub.execute_input": "2021-04-11T20:37:17.489989Z",
     "iopub.status.busy": "2021-04-11T20:37:17.489337Z",
     "iopub.status.idle": "2021-04-11T20:37:17.501793Z",
     "shell.execute_reply": "2021-04-11T20:37:17.501181Z"
    },
    "papermill": {
     "duration": 0.069053,
     "end_time": "2021-04-11T20:37:17.501948",
     "exception": false,
     "start_time": "2021-04-11T20:37:17.432895",
     "status": "completed"
    },
    "tags": []
   },
   "outputs": [
    {
     "data": {
      "text/html": [
       "<div>\n",
       "<style scoped>\n",
       "    .dataframe tbody tr th:only-of-type {\n",
       "        vertical-align: middle;\n",
       "    }\n",
       "\n",
       "    .dataframe tbody tr th {\n",
       "        vertical-align: top;\n",
       "    }\n",
       "\n",
       "    .dataframe thead th {\n",
       "        text-align: right;\n",
       "    }\n",
       "</style>\n",
       "<table border=\"1\" class=\"dataframe\">\n",
       "  <thead>\n",
       "    <tr style=\"text-align: right;\">\n",
       "      <th></th>\n",
       "      <th>Item_Weight</th>\n",
       "    </tr>\n",
       "    <tr>\n",
       "      <th>Item_Identifier</th>\n",
       "      <th></th>\n",
       "    </tr>\n",
       "  </thead>\n",
       "  <tbody>\n",
       "    <tr>\n",
       "      <th>DRA12</th>\n",
       "      <td>11.600</td>\n",
       "    </tr>\n",
       "    <tr>\n",
       "      <th>DRA24</th>\n",
       "      <td>19.350</td>\n",
       "    </tr>\n",
       "    <tr>\n",
       "      <th>DRA59</th>\n",
       "      <td>8.270</td>\n",
       "    </tr>\n",
       "    <tr>\n",
       "      <th>DRB01</th>\n",
       "      <td>7.390</td>\n",
       "    </tr>\n",
       "    <tr>\n",
       "      <th>DRB13</th>\n",
       "      <td>6.115</td>\n",
       "    </tr>\n",
       "    <tr>\n",
       "      <th>...</th>\n",
       "      <td>...</td>\n",
       "    </tr>\n",
       "    <tr>\n",
       "      <th>NCZ30</th>\n",
       "      <td>6.590</td>\n",
       "    </tr>\n",
       "    <tr>\n",
       "      <th>NCZ41</th>\n",
       "      <td>19.850</td>\n",
       "    </tr>\n",
       "    <tr>\n",
       "      <th>NCZ42</th>\n",
       "      <td>10.500</td>\n",
       "    </tr>\n",
       "    <tr>\n",
       "      <th>NCZ53</th>\n",
       "      <td>9.600</td>\n",
       "    </tr>\n",
       "    <tr>\n",
       "      <th>NCZ54</th>\n",
       "      <td>14.650</td>\n",
       "    </tr>\n",
       "  </tbody>\n",
       "</table>\n",
       "<p>1555 rows × 1 columns</p>\n",
       "</div>"
      ],
      "text/plain": [
       "                 Item_Weight\n",
       "Item_Identifier             \n",
       "DRA12                 11.600\n",
       "DRA24                 19.350\n",
       "DRA59                  8.270\n",
       "DRB01                  7.390\n",
       "DRB13                  6.115\n",
       "...                      ...\n",
       "NCZ30                  6.590\n",
       "NCZ41                 19.850\n",
       "NCZ42                 10.500\n",
       "NCZ53                  9.600\n",
       "NCZ54                 14.650\n",
       "\n",
       "[1555 rows x 1 columns]"
      ]
     },
     "execution_count": 16,
     "metadata": {},
     "output_type": "execute_result"
    }
   ],
   "source": [
    "item_weight_mean"
   ]
  },
  {
   "cell_type": "code",
   "execution_count": 17,
   "id": "weighted-copper",
   "metadata": {
    "execution": {
     "iopub.execute_input": "2021-04-11T20:37:17.615688Z",
     "iopub.status.busy": "2021-04-11T20:37:17.614768Z",
     "iopub.status.idle": "2021-04-11T20:37:17.617383Z",
     "shell.execute_reply": "2021-04-11T20:37:17.617928Z"
    },
    "papermill": {
     "duration": 0.062023,
     "end_time": "2021-04-11T20:37:17.618097",
     "exception": false,
     "start_time": "2021-04-11T20:37:17.556074",
     "status": "completed"
    },
    "tags": []
   },
   "outputs": [],
   "source": [
    "miss_bool = df['Item_Weight'].isnull()"
   ]
  },
  {
   "cell_type": "code",
   "execution_count": 18,
   "id": "expected-baker",
   "metadata": {
    "execution": {
     "iopub.execute_input": "2021-04-11T20:37:17.734232Z",
     "iopub.status.busy": "2021-04-11T20:37:17.733568Z",
     "iopub.status.idle": "2021-04-11T20:37:17.737495Z",
     "shell.execute_reply": "2021-04-11T20:37:17.736895Z"
    },
    "papermill": {
     "duration": 0.064743,
     "end_time": "2021-04-11T20:37:17.737643",
     "exception": false,
     "start_time": "2021-04-11T20:37:17.672900",
     "status": "completed"
    },
    "tags": []
   },
   "outputs": [
    {
     "data": {
      "text/plain": [
       "0       False\n",
       "1       False\n",
       "2       False\n",
       "3       False\n",
       "4       False\n",
       "        ...  \n",
       "8518    False\n",
       "8519    False\n",
       "8520    False\n",
       "8521    False\n",
       "8522    False\n",
       "Name: Item_Weight, Length: 8523, dtype: bool"
      ]
     },
     "execution_count": 18,
     "metadata": {},
     "output_type": "execute_result"
    }
   ],
   "source": [
    "miss_bool"
   ]
  },
  {
   "cell_type": "code",
   "execution_count": 19,
   "id": "forced-elephant",
   "metadata": {
    "execution": {
     "iopub.execute_input": "2021-04-11T20:37:17.854314Z",
     "iopub.status.busy": "2021-04-11T20:37:17.853688Z",
     "iopub.status.idle": "2021-04-11T20:37:18.756141Z",
     "shell.execute_reply": "2021-04-11T20:37:18.756626Z"
    },
    "papermill": {
     "duration": 0.962174,
     "end_time": "2021-04-11T20:37:18.756811",
     "exception": false,
     "start_time": "2021-04-11T20:37:17.794637",
     "status": "completed"
    },
    "tags": []
   },
   "outputs": [],
   "source": [
    "for i, item in enumerate(df['Item_Identifier']):\n",
    "    if miss_bool[i]:\n",
    "        if item in item_weight_mean:\n",
    "            df['Item_Weight'][i] = item_weight_mean.loc[item]['Item_Weight']\n",
    "        else:\n",
    "            df['Item_Weight'][i] = np.mean(df['Item_Weight'])"
   ]
  },
  {
   "cell_type": "code",
   "execution_count": 20,
   "id": "promotional-essex",
   "metadata": {
    "execution": {
     "iopub.execute_input": "2021-04-11T20:37:18.873944Z",
     "iopub.status.busy": "2021-04-11T20:37:18.873253Z",
     "iopub.status.idle": "2021-04-11T20:37:18.879808Z",
     "shell.execute_reply": "2021-04-11T20:37:18.879206Z"
    },
    "papermill": {
     "duration": 0.066279,
     "end_time": "2021-04-11T20:37:18.879950",
     "exception": false,
     "start_time": "2021-04-11T20:37:18.813671",
     "status": "completed"
    },
    "tags": []
   },
   "outputs": [
    {
     "data": {
      "text/plain": [
       "0"
      ]
     },
     "execution_count": 20,
     "metadata": {},
     "output_type": "execute_result"
    }
   ],
   "source": [
    "df['Item_Weight'].isnull().sum()"
   ]
  },
  {
   "cell_type": "code",
   "execution_count": 21,
   "id": "liberal-provision",
   "metadata": {
    "execution": {
     "iopub.execute_input": "2021-04-11T20:37:18.996119Z",
     "iopub.status.busy": "2021-04-11T20:37:18.995445Z",
     "iopub.status.idle": "2021-04-11T20:37:19.019118Z",
     "shell.execute_reply": "2021-04-11T20:37:19.019682Z"
    },
    "papermill": {
     "duration": 0.083929,
     "end_time": "2021-04-11T20:37:19.019884",
     "exception": false,
     "start_time": "2021-04-11T20:37:18.935955",
     "status": "completed"
    },
    "tags": []
   },
   "outputs": [],
   "source": [
    "outlet_size_mode = df.pivot_table(values='Outlet_Size', columns='Outlet_Type', aggfunc=(lambda x: x.mode()[0]))"
   ]
  },
  {
   "cell_type": "code",
   "execution_count": 22,
   "id": "extensive-superintendent",
   "metadata": {
    "execution": {
     "iopub.execute_input": "2021-04-11T20:37:19.143620Z",
     "iopub.status.busy": "2021-04-11T20:37:19.142464Z",
     "iopub.status.idle": "2021-04-11T20:37:19.146902Z",
     "shell.execute_reply": "2021-04-11T20:37:19.146215Z"
    },
    "papermill": {
     "duration": 0.071108,
     "end_time": "2021-04-11T20:37:19.147047",
     "exception": false,
     "start_time": "2021-04-11T20:37:19.075939",
     "status": "completed"
    },
    "tags": []
   },
   "outputs": [
    {
     "data": {
      "text/html": [
       "<div>\n",
       "<style scoped>\n",
       "    .dataframe tbody tr th:only-of-type {\n",
       "        vertical-align: middle;\n",
       "    }\n",
       "\n",
       "    .dataframe tbody tr th {\n",
       "        vertical-align: top;\n",
       "    }\n",
       "\n",
       "    .dataframe thead th {\n",
       "        text-align: right;\n",
       "    }\n",
       "</style>\n",
       "<table border=\"1\" class=\"dataframe\">\n",
       "  <thead>\n",
       "    <tr style=\"text-align: right;\">\n",
       "      <th>Outlet_Type</th>\n",
       "      <th>Grocery Store</th>\n",
       "      <th>Supermarket Type1</th>\n",
       "      <th>Supermarket Type2</th>\n",
       "      <th>Supermarket Type3</th>\n",
       "    </tr>\n",
       "  </thead>\n",
       "  <tbody>\n",
       "    <tr>\n",
       "      <th>Outlet_Size</th>\n",
       "      <td>Small</td>\n",
       "      <td>Small</td>\n",
       "      <td>Medium</td>\n",
       "      <td>Medium</td>\n",
       "    </tr>\n",
       "  </tbody>\n",
       "</table>\n",
       "</div>"
      ],
      "text/plain": [
       "Outlet_Type Grocery Store Supermarket Type1 Supermarket Type2  \\\n",
       "Outlet_Size         Small             Small            Medium   \n",
       "\n",
       "Outlet_Type Supermarket Type3  \n",
       "Outlet_Size            Medium  "
      ]
     },
     "execution_count": 22,
     "metadata": {},
     "output_type": "execute_result"
    }
   ],
   "source": [
    "outlet_size_mode"
   ]
  },
  {
   "cell_type": "code",
   "execution_count": 23,
   "id": "printable-announcement",
   "metadata": {
    "execution": {
     "iopub.execute_input": "2021-04-11T20:37:19.269441Z",
     "iopub.status.busy": "2021-04-11T20:37:19.268774Z",
     "iopub.status.idle": "2021-04-11T20:37:19.272130Z",
     "shell.execute_reply": "2021-04-11T20:37:19.271596Z"
    },
    "papermill": {
     "duration": 0.066447,
     "end_time": "2021-04-11T20:37:19.272269",
     "exception": false,
     "start_time": "2021-04-11T20:37:19.205822",
     "status": "completed"
    },
    "tags": []
   },
   "outputs": [],
   "source": [
    "miss_bool = df['Outlet_Size'].isnull()"
   ]
  },
  {
   "cell_type": "code",
   "execution_count": 24,
   "id": "conceptual-cosmetic",
   "metadata": {
    "execution": {
     "iopub.execute_input": "2021-04-11T20:37:19.398687Z",
     "iopub.status.busy": "2021-04-11T20:37:19.398000Z",
     "iopub.status.idle": "2021-04-11T20:37:19.503828Z",
     "shell.execute_reply": "2021-04-11T20:37:19.504430Z"
    },
    "papermill": {
     "duration": 0.174369,
     "end_time": "2021-04-11T20:37:19.504639",
     "exception": false,
     "start_time": "2021-04-11T20:37:19.330270",
     "status": "completed"
    },
    "tags": []
   },
   "outputs": [],
   "source": [
    "df.loc[miss_bool, 'Outlet_Size'] = df.loc[miss_bool, 'Outlet_Type'].apply(lambda x: outlet_size_mode[x])"
   ]
  },
  {
   "cell_type": "code",
   "execution_count": 25,
   "id": "intense-italy",
   "metadata": {
    "execution": {
     "iopub.execute_input": "2021-04-11T20:37:19.621955Z",
     "iopub.status.busy": "2021-04-11T20:37:19.621281Z",
     "iopub.status.idle": "2021-04-11T20:37:19.627963Z",
     "shell.execute_reply": "2021-04-11T20:37:19.628536Z"
    },
    "papermill": {
     "duration": 0.067051,
     "end_time": "2021-04-11T20:37:19.628717",
     "exception": false,
     "start_time": "2021-04-11T20:37:19.561666",
     "status": "completed"
    },
    "tags": []
   },
   "outputs": [
    {
     "data": {
      "text/plain": [
       "0"
      ]
     },
     "execution_count": 25,
     "metadata": {},
     "output_type": "execute_result"
    }
   ],
   "source": [
    "df['Outlet_Size'].isnull().sum()"
   ]
  },
  {
   "cell_type": "code",
   "execution_count": 26,
   "id": "structured-thesis",
   "metadata": {
    "execution": {
     "iopub.execute_input": "2021-04-11T20:37:19.747214Z",
     "iopub.status.busy": "2021-04-11T20:37:19.746573Z",
     "iopub.status.idle": "2021-04-11T20:37:19.753732Z",
     "shell.execute_reply": "2021-04-11T20:37:19.754384Z"
    },
    "papermill": {
     "duration": 0.068383,
     "end_time": "2021-04-11T20:37:19.754604",
     "exception": false,
     "start_time": "2021-04-11T20:37:19.686221",
     "status": "completed"
    },
    "tags": []
   },
   "outputs": [
    {
     "data": {
      "text/plain": [
       "526"
      ]
     },
     "execution_count": 26,
     "metadata": {},
     "output_type": "execute_result"
    }
   ],
   "source": [
    "sum(df['Item_Visibility'] == 0)"
   ]
  },
  {
   "cell_type": "code",
   "execution_count": 27,
   "id": "brief-genetics",
   "metadata": {
    "execution": {
     "iopub.execute_input": "2021-04-11T20:37:19.875083Z",
     "iopub.status.busy": "2021-04-11T20:37:19.874298Z",
     "iopub.status.idle": "2021-04-11T20:37:19.879693Z",
     "shell.execute_reply": "2021-04-11T20:37:19.880258Z"
    },
    "papermill": {
     "duration": 0.06785,
     "end_time": "2021-04-11T20:37:19.880455",
     "exception": false,
     "start_time": "2021-04-11T20:37:19.812605",
     "status": "completed"
    },
    "tags": []
   },
   "outputs": [],
   "source": [
    "df.loc[:,'Item_Visibility'].replace([0] , [df['Item_Visibility'].mean()] , inplace = True )"
   ]
  },
  {
   "cell_type": "code",
   "execution_count": 28,
   "id": "unsigned-train",
   "metadata": {
    "execution": {
     "iopub.execute_input": "2021-04-11T20:37:20.001537Z",
     "iopub.status.busy": "2021-04-11T20:37:20.000851Z",
     "iopub.status.idle": "2021-04-11T20:37:20.007833Z",
     "shell.execute_reply": "2021-04-11T20:37:20.008412Z"
    },
    "papermill": {
     "duration": 0.06943,
     "end_time": "2021-04-11T20:37:20.008592",
     "exception": false,
     "start_time": "2021-04-11T20:37:19.939162",
     "status": "completed"
    },
    "tags": []
   },
   "outputs": [
    {
     "data": {
      "text/plain": [
       "0"
      ]
     },
     "execution_count": 28,
     "metadata": {},
     "output_type": "execute_result"
    }
   ],
   "source": [
    "sum(df['Item_Visibility']==0)"
   ]
  },
  {
   "cell_type": "code",
   "execution_count": 29,
   "id": "sharp-thanks",
   "metadata": {
    "execution": {
     "iopub.execute_input": "2021-04-11T20:37:20.128803Z",
     "iopub.status.busy": "2021-04-11T20:37:20.128158Z",
     "iopub.status.idle": "2021-04-11T20:37:20.141967Z",
     "shell.execute_reply": "2021-04-11T20:37:20.142496Z"
    },
    "papermill": {
     "duration": 0.076083,
     "end_time": "2021-04-11T20:37:20.142667",
     "exception": false,
     "start_time": "2021-04-11T20:37:20.066584",
     "status": "completed"
    },
    "tags": []
   },
   "outputs": [
    {
     "data": {
      "text/plain": [
       "Low Fat    5517\n",
       "Regular    3006\n",
       "Name: Item_Fat_Content, dtype: int64"
      ]
     },
     "execution_count": 29,
     "metadata": {},
     "output_type": "execute_result"
    }
   ],
   "source": [
    "df['Item_Fat_Content'] = df['Item_Fat_Content'].replace({'LF':'Low Fat', 'reg':'Regular', 'low fat':'Low Fat'})\n",
    "df['Item_Fat_Content'].value_counts()"
   ]
  },
  {
   "cell_type": "markdown",
   "id": "compressed-potter",
   "metadata": {
    "papermill": {
     "duration": 0.058424,
     "end_time": "2021-04-11T20:37:20.260059",
     "exception": false,
     "start_time": "2021-04-11T20:37:20.201635",
     "status": "completed"
    },
    "tags": []
   },
   "source": [
    "# CREATION OF NEW ATTRIBUTES"
   ]
  },
  {
   "cell_type": "code",
   "execution_count": 30,
   "id": "fifteen-council",
   "metadata": {
    "execution": {
     "iopub.execute_input": "2021-04-11T20:37:20.382758Z",
     "iopub.status.busy": "2021-04-11T20:37:20.382147Z",
     "iopub.status.idle": "2021-04-11T20:37:20.390560Z",
     "shell.execute_reply": "2021-04-11T20:37:20.391070Z"
    },
    "papermill": {
     "duration": 0.070148,
     "end_time": "2021-04-11T20:37:20.391240",
     "exception": false,
     "start_time": "2021-04-11T20:37:20.321092",
     "status": "completed"
    },
    "tags": []
   },
   "outputs": [],
   "source": [
    "df['New_Item_Type'] = df['Item_Identifier'].apply(lambda x: x[:2])"
   ]
  },
  {
   "cell_type": "code",
   "execution_count": 31,
   "id": "honest-appointment",
   "metadata": {
    "execution": {
     "iopub.execute_input": "2021-04-11T20:37:20.513184Z",
     "iopub.status.busy": "2021-04-11T20:37:20.512535Z",
     "iopub.status.idle": "2021-04-11T20:37:20.520789Z",
     "shell.execute_reply": "2021-04-11T20:37:20.520100Z"
    },
    "papermill": {
     "duration": 0.070008,
     "end_time": "2021-04-11T20:37:20.520945",
     "exception": false,
     "start_time": "2021-04-11T20:37:20.450937",
     "status": "completed"
    },
    "tags": []
   },
   "outputs": [
    {
     "data": {
      "text/plain": [
       "0       FD\n",
       "1       DR\n",
       "2       FD\n",
       "3       FD\n",
       "4       NC\n",
       "        ..\n",
       "8518    FD\n",
       "8519    FD\n",
       "8520    NC\n",
       "8521    FD\n",
       "8522    DR\n",
       "Name: New_Item_Type, Length: 8523, dtype: object"
      ]
     },
     "execution_count": 31,
     "metadata": {},
     "output_type": "execute_result"
    }
   ],
   "source": [
    "df['New_Item_Type']"
   ]
  },
  {
   "cell_type": "code",
   "execution_count": 32,
   "id": "outer-paradise",
   "metadata": {
    "execution": {
     "iopub.execute_input": "2021-04-11T20:37:20.644914Z",
     "iopub.status.busy": "2021-04-11T20:37:20.644240Z",
     "iopub.status.idle": "2021-04-11T20:37:20.657213Z",
     "shell.execute_reply": "2021-04-11T20:37:20.657714Z"
    },
    "papermill": {
     "duration": 0.077003,
     "end_time": "2021-04-11T20:37:20.657919",
     "exception": false,
     "start_time": "2021-04-11T20:37:20.580916",
     "status": "completed"
    },
    "tags": []
   },
   "outputs": [
    {
     "data": {
      "text/plain": [
       "Food              6125\n",
       "Non-Consumable    1599\n",
       "Drinks             799\n",
       "Name: New_Item_Type, dtype: int64"
      ]
     },
     "execution_count": 32,
     "metadata": {},
     "output_type": "execute_result"
    }
   ],
   "source": [
    "df['New_Item_Type'] = df['New_Item_Type'].map({'FD':'Food', 'NC':'Non-Consumable', 'DR':'Drinks'})\n",
    "df['New_Item_Type'].value_counts()"
   ]
  },
  {
   "cell_type": "code",
   "execution_count": 33,
   "id": "empirical-dinner",
   "metadata": {
    "execution": {
     "iopub.execute_input": "2021-04-11T20:37:20.782937Z",
     "iopub.status.busy": "2021-04-11T20:37:20.781885Z",
     "iopub.status.idle": "2021-04-11T20:37:20.793810Z",
     "shell.execute_reply": "2021-04-11T20:37:20.794261Z"
    },
    "papermill": {
     "duration": 0.075504,
     "end_time": "2021-04-11T20:37:20.794452",
     "exception": false,
     "start_time": "2021-04-11T20:37:20.718948",
     "status": "completed"
    },
    "tags": []
   },
   "outputs": [
    {
     "data": {
      "text/plain": [
       "Low Fat       3918\n",
       "Regular       3006\n",
       "Non-Edible    1599\n",
       "Name: Item_Fat_Content, dtype: int64"
      ]
     },
     "execution_count": 33,
     "metadata": {},
     "output_type": "execute_result"
    }
   ],
   "source": [
    "df.loc[ df ['New_Item_Type'] =='Non-Consumable', 'Item_Fat_Content'] = 'Non-Edible'\n",
    "df['Item_Fat_Content'].value_counts()"
   ]
  },
  {
   "cell_type": "code",
   "execution_count": 34,
   "id": "adjusted-tourism",
   "metadata": {
    "execution": {
     "iopub.execute_input": "2021-04-11T20:37:20.917986Z",
     "iopub.status.busy": "2021-04-11T20:37:20.916962Z",
     "iopub.status.idle": "2021-04-11T20:37:20.922407Z",
     "shell.execute_reply": "2021-04-11T20:37:20.922872Z"
    },
    "papermill": {
     "duration": 0.068968,
     "end_time": "2021-04-11T20:37:20.923044",
     "exception": false,
     "start_time": "2021-04-11T20:37:20.854076",
     "status": "completed"
    },
    "tags": []
   },
   "outputs": [],
   "source": [
    "df['Outlet_Years'] = 2013 - df['Outlet_Establishment_Year']"
   ]
  },
  {
   "cell_type": "code",
   "execution_count": 35,
   "id": "convertible-fetish",
   "metadata": {
    "execution": {
     "iopub.execute_input": "2021-04-11T20:37:21.049657Z",
     "iopub.status.busy": "2021-04-11T20:37:21.048681Z",
     "iopub.status.idle": "2021-04-11T20:37:21.057047Z",
     "shell.execute_reply": "2021-04-11T20:37:21.056288Z"
    },
    "papermill": {
     "duration": 0.073257,
     "end_time": "2021-04-11T20:37:21.057186",
     "exception": false,
     "start_time": "2021-04-11T20:37:20.983929",
     "status": "completed"
    },
    "tags": []
   },
   "outputs": [
    {
     "data": {
      "text/plain": [
       "0       14\n",
       "1        4\n",
       "2       14\n",
       "3       15\n",
       "4       26\n",
       "        ..\n",
       "8518    26\n",
       "8519    11\n",
       "8520     9\n",
       "8521     4\n",
       "8522    16\n",
       "Name: Outlet_Years, Length: 8523, dtype: int64"
      ]
     },
     "execution_count": 35,
     "metadata": {},
     "output_type": "execute_result"
    }
   ],
   "source": [
    "df['Outlet_Years']"
   ]
  },
  {
   "cell_type": "code",
   "execution_count": 36,
   "id": "celtic-presence",
   "metadata": {
    "execution": {
     "iopub.execute_input": "2021-04-11T20:37:21.199034Z",
     "iopub.status.busy": "2021-04-11T20:37:21.198116Z",
     "iopub.status.idle": "2021-04-11T20:37:21.201687Z",
     "shell.execute_reply": "2021-04-11T20:37:21.202116Z"
    },
    "papermill": {
     "duration": 0.083625,
     "end_time": "2021-04-11T20:37:21.202285",
     "exception": false,
     "start_time": "2021-04-11T20:37:21.118660",
     "status": "completed"
    },
    "tags": []
   },
   "outputs": [
    {
     "data": {
      "text/html": [
       "<div>\n",
       "<style scoped>\n",
       "    .dataframe tbody tr th:only-of-type {\n",
       "        vertical-align: middle;\n",
       "    }\n",
       "\n",
       "    .dataframe tbody tr th {\n",
       "        vertical-align: top;\n",
       "    }\n",
       "\n",
       "    .dataframe thead th {\n",
       "        text-align: right;\n",
       "    }\n",
       "</style>\n",
       "<table border=\"1\" class=\"dataframe\">\n",
       "  <thead>\n",
       "    <tr style=\"text-align: right;\">\n",
       "      <th></th>\n",
       "      <th>Item_Identifier</th>\n",
       "      <th>Item_Weight</th>\n",
       "      <th>Item_Fat_Content</th>\n",
       "      <th>Item_Visibility</th>\n",
       "      <th>Item_Type</th>\n",
       "      <th>Item_MRP</th>\n",
       "      <th>Outlet_Identifier</th>\n",
       "      <th>Outlet_Establishment_Year</th>\n",
       "      <th>Outlet_Size</th>\n",
       "      <th>Outlet_Location_Type</th>\n",
       "      <th>Outlet_Type</th>\n",
       "      <th>Item_Outlet_Sales</th>\n",
       "      <th>New_Item_Type</th>\n",
       "      <th>Outlet_Years</th>\n",
       "    </tr>\n",
       "  </thead>\n",
       "  <tbody>\n",
       "    <tr>\n",
       "      <th>0</th>\n",
       "      <td>FDA15</td>\n",
       "      <td>9.30</td>\n",
       "      <td>Low Fat</td>\n",
       "      <td>0.016047</td>\n",
       "      <td>Dairy</td>\n",
       "      <td>249.8092</td>\n",
       "      <td>OUT049</td>\n",
       "      <td>1999</td>\n",
       "      <td>Medium</td>\n",
       "      <td>Tier 1</td>\n",
       "      <td>Supermarket Type1</td>\n",
       "      <td>3735.1380</td>\n",
       "      <td>Food</td>\n",
       "      <td>14</td>\n",
       "    </tr>\n",
       "    <tr>\n",
       "      <th>1</th>\n",
       "      <td>DRC01</td>\n",
       "      <td>5.92</td>\n",
       "      <td>Regular</td>\n",
       "      <td>0.019278</td>\n",
       "      <td>Soft Drinks</td>\n",
       "      <td>48.2692</td>\n",
       "      <td>OUT018</td>\n",
       "      <td>2009</td>\n",
       "      <td>Medium</td>\n",
       "      <td>Tier 3</td>\n",
       "      <td>Supermarket Type2</td>\n",
       "      <td>443.4228</td>\n",
       "      <td>Drinks</td>\n",
       "      <td>4</td>\n",
       "    </tr>\n",
       "    <tr>\n",
       "      <th>2</th>\n",
       "      <td>FDN15</td>\n",
       "      <td>17.50</td>\n",
       "      <td>Low Fat</td>\n",
       "      <td>0.016760</td>\n",
       "      <td>Meat</td>\n",
       "      <td>141.6180</td>\n",
       "      <td>OUT049</td>\n",
       "      <td>1999</td>\n",
       "      <td>Medium</td>\n",
       "      <td>Tier 1</td>\n",
       "      <td>Supermarket Type1</td>\n",
       "      <td>2097.2700</td>\n",
       "      <td>Food</td>\n",
       "      <td>14</td>\n",
       "    </tr>\n",
       "    <tr>\n",
       "      <th>3</th>\n",
       "      <td>FDX07</td>\n",
       "      <td>19.20</td>\n",
       "      <td>Regular</td>\n",
       "      <td>0.066132</td>\n",
       "      <td>Fruits and Vegetables</td>\n",
       "      <td>182.0950</td>\n",
       "      <td>OUT010</td>\n",
       "      <td>1998</td>\n",
       "      <td>Small</td>\n",
       "      <td>Tier 3</td>\n",
       "      <td>Grocery Store</td>\n",
       "      <td>732.3800</td>\n",
       "      <td>Food</td>\n",
       "      <td>15</td>\n",
       "    </tr>\n",
       "    <tr>\n",
       "      <th>4</th>\n",
       "      <td>NCD19</td>\n",
       "      <td>8.93</td>\n",
       "      <td>Non-Edible</td>\n",
       "      <td>0.066132</td>\n",
       "      <td>Household</td>\n",
       "      <td>53.8614</td>\n",
       "      <td>OUT013</td>\n",
       "      <td>1987</td>\n",
       "      <td>High</td>\n",
       "      <td>Tier 3</td>\n",
       "      <td>Supermarket Type1</td>\n",
       "      <td>994.7052</td>\n",
       "      <td>Non-Consumable</td>\n",
       "      <td>26</td>\n",
       "    </tr>\n",
       "  </tbody>\n",
       "</table>\n",
       "</div>"
      ],
      "text/plain": [
       "  Item_Identifier  Item_Weight Item_Fat_Content  Item_Visibility  \\\n",
       "0           FDA15         9.30          Low Fat         0.016047   \n",
       "1           DRC01         5.92          Regular         0.019278   \n",
       "2           FDN15        17.50          Low Fat         0.016760   \n",
       "3           FDX07        19.20          Regular         0.066132   \n",
       "4           NCD19         8.93       Non-Edible         0.066132   \n",
       "\n",
       "               Item_Type  Item_MRP Outlet_Identifier  \\\n",
       "0                  Dairy  249.8092            OUT049   \n",
       "1            Soft Drinks   48.2692            OUT018   \n",
       "2                   Meat  141.6180            OUT049   \n",
       "3  Fruits and Vegetables  182.0950            OUT010   \n",
       "4              Household   53.8614            OUT013   \n",
       "\n",
       "   Outlet_Establishment_Year Outlet_Size Outlet_Location_Type  \\\n",
       "0                       1999      Medium               Tier 1   \n",
       "1                       2009      Medium               Tier 3   \n",
       "2                       1999      Medium               Tier 1   \n",
       "3                       1998       Small               Tier 3   \n",
       "4                       1987        High               Tier 3   \n",
       "\n",
       "         Outlet_Type  Item_Outlet_Sales   New_Item_Type  Outlet_Years  \n",
       "0  Supermarket Type1          3735.1380            Food            14  \n",
       "1  Supermarket Type2           443.4228          Drinks             4  \n",
       "2  Supermarket Type1          2097.2700            Food            14  \n",
       "3      Grocery Store           732.3800            Food            15  \n",
       "4  Supermarket Type1           994.7052  Non-Consumable            26  "
      ]
     },
     "execution_count": 36,
     "metadata": {},
     "output_type": "execute_result"
    }
   ],
   "source": [
    "df.head()"
   ]
  },
  {
   "cell_type": "markdown",
   "id": "declared-revision",
   "metadata": {
    "papermill": {
     "duration": 0.062987,
     "end_time": "2021-04-11T20:37:21.326636",
     "exception": false,
     "start_time": "2021-04-11T20:37:21.263649",
     "status": "completed"
    },
    "tags": []
   },
   "source": [
    "# EXPLORATORY DATA ANALYSIS"
   ]
  },
  {
   "cell_type": "code",
   "execution_count": 37,
   "id": "intense-gamma",
   "metadata": {
    "execution": {
     "iopub.execute_input": "2021-04-11T20:37:21.452076Z",
     "iopub.status.busy": "2021-04-11T20:37:21.451465Z",
     "iopub.status.idle": "2021-04-11T20:37:21.729700Z",
     "shell.execute_reply": "2021-04-11T20:37:21.730260Z"
    },
    "papermill": {
     "duration": 0.342706,
     "end_time": "2021-04-11T20:37:21.730544",
     "exception": false,
     "start_time": "2021-04-11T20:37:21.387838",
     "status": "completed"
    },
    "tags": []
   },
   "outputs": [
    {
     "data": {
      "text/plain": [
       "<AxesSubplot:xlabel='Item_Weight', ylabel='Density'>"
      ]
     },
     "execution_count": 37,
     "metadata": {},
     "output_type": "execute_result"
    },
    {
     "data": {
      "image/png": "[encoded data removed]",
      "text/plain": [
       "<Figure size 432x288 with 1 Axes>"
      ]
     },
     "metadata": {
      "needs_background": "light"
     },
     "output_type": "display_data"
    }
   ],
   "source": [
    "sns.distplot(df['Item_Weight'] , color = 'red')"
   ]
  },
  {
   "cell_type": "code",
   "execution_count": 38,
   "id": "canadian-tokyo",
   "metadata": {
    "execution": {
     "iopub.execute_input": "2021-04-11T20:37:21.858437Z",
     "iopub.status.busy": "2021-04-11T20:37:21.857816Z",
     "iopub.status.idle": "2021-04-11T20:37:22.167470Z",
     "shell.execute_reply": "2021-04-11T20:37:22.167971Z"
    },
    "papermill": {
     "duration": 0.375161,
     "end_time": "2021-04-11T20:37:22.168138",
     "exception": false,
     "start_time": "2021-04-11T20:37:21.792977",
     "status": "completed"
    },
    "tags": []
   },
   "outputs": [
    {
     "data": {
      "text/plain": [
       "<AxesSubplot:xlabel='Item_Visibility', ylabel='Density'>"
      ]
     },
     "execution_count": 38,
     "metadata": {},
     "output_type": "execute_result"
    },
    {
     "data": {
      "image/png": "[encoded data removed]",
      "text/plain": [
       "<Figure size 432x288 with 1 Axes>"
      ]
     },
     "metadata": {
      "needs_background": "light"
     },
     "output_type": "display_data"
    }
   ],
   "source": [
    "sns.distplot(df['Item_Visibility'] , color = 'green')"
   ]
  },
  {
   "cell_type": "code",
   "execution_count": 39,
   "id": "moving-favorite",
   "metadata": {
    "execution": {
     "iopub.execute_input": "2021-04-11T20:37:22.306711Z",
     "iopub.status.busy": "2021-04-11T20:37:22.306042Z",
     "iopub.status.idle": "2021-04-11T20:37:22.552495Z",
     "shell.execute_reply": "2021-04-11T20:37:22.551894Z"
    },
    "papermill": {
     "duration": 0.320219,
     "end_time": "2021-04-11T20:37:22.552658",
     "exception": false,
     "start_time": "2021-04-11T20:37:22.232439",
     "status": "completed"
    },
    "tags": []
   },
   "outputs": [
    {
     "data": {
      "text/plain": [
       "<AxesSubplot:xlabel='Item_MRP', ylabel='Density'>"
      ]
     },
     "execution_count": 39,
     "metadata": {},
     "output_type": "execute_result"
    },
    {
     "data": {
      "image/png": "[encoded data removed]",
      "text/plain": [
       "<Figure size 432x288 with 1 Axes>"
      ]
     },
     "metadata": {
      "needs_background": "light"
     },
     "output_type": "display_data"
    }
   ],
   "source": [
    "sns.distplot(df['Item_MRP'] , color = 'purple')"
   ]
  },
  {
   "cell_type": "code",
   "execution_count": 40,
   "id": "metallic-priest",
   "metadata": {
    "execution": {
     "iopub.execute_input": "2021-04-11T20:37:22.697085Z",
     "iopub.status.busy": "2021-04-11T20:37:22.696322Z",
     "iopub.status.idle": "2021-04-11T20:37:23.002675Z",
     "shell.execute_reply": "2021-04-11T20:37:23.002026Z"
    },
    "papermill": {
     "duration": 0.383278,
     "end_time": "2021-04-11T20:37:23.002818",
     "exception": false,
     "start_time": "2021-04-11T20:37:22.619540",
     "status": "completed"
    },
    "tags": []
   },
   "outputs": [
    {
     "data": {
      "text/plain": [
       "<AxesSubplot:xlabel='Item_Outlet_Sales', ylabel='Density'>"
      ]
     },
     "execution_count": 40,
     "metadata": {},
     "output_type": "execute_result"
    },
    {
     "data": {
      "image/png": "[encoded data removed]",
      "text/plain": [
       "<Figure size 432x288 with 1 Axes>"
      ]
     },
     "metadata": {
      "needs_background": "light"
     },
     "output_type": "display_data"
    }
   ],
   "source": [
    "sns.distplot(df['Item_Outlet_Sales'] , color = 'orange')"
   ]
  },
  {
   "cell_type": "code",
   "execution_count": 41,
   "id": "entertaining-privacy",
   "metadata": {
    "execution": {
     "iopub.execute_input": "2021-04-11T20:37:23.144268Z",
     "iopub.status.busy": "2021-04-11T20:37:23.143340Z",
     "iopub.status.idle": "2021-04-11T20:37:23.148108Z",
     "shell.execute_reply": "2021-04-11T20:37:23.147575Z"
    },
    "papermill": {
     "duration": 0.078144,
     "end_time": "2021-04-11T20:37:23.148252",
     "exception": false,
     "start_time": "2021-04-11T20:37:23.070108",
     "status": "completed"
    },
    "tags": []
   },
   "outputs": [],
   "source": [
    "# log transformation:\n",
    "df['Item_Outlet_Sales'] = np.log(1+df['Item_Outlet_Sales'])"
   ]
  },
  {
   "cell_type": "code",
   "execution_count": 42,
   "id": "usual-heading",
   "metadata": {
    "execution": {
     "iopub.execute_input": "2021-04-11T20:37:23.311740Z",
     "iopub.status.busy": "2021-04-11T20:37:23.311020Z",
     "iopub.status.idle": "2021-04-11T20:37:23.580434Z",
     "shell.execute_reply": "2021-04-11T20:37:23.579724Z"
    },
    "papermill": {
     "duration": 0.364687,
     "end_time": "2021-04-11T20:37:23.580599",
     "exception": false,
     "start_time": "2021-04-11T20:37:23.215912",
     "status": "completed"
    },
    "tags": []
   },
   "outputs": [
    {
     "data": {
      "text/plain": [
       "<AxesSubplot:xlabel='Item_Outlet_Sales', ylabel='Density'>"
      ]
     },
     "execution_count": 42,
     "metadata": {},
     "output_type": "execute_result"
    },
    {
     "data": {
      "image/png": "[encoded data removed]",
      "text/plain": [
       "<Figure size 432x288 with 1 Axes>"
      ]
     },
     "metadata": {
      "needs_background": "light"
     },
     "output_type": "display_data"
    }
   ],
   "source": [
    "sns.distplot(df['Item_Outlet_Sales'] , color = 'orange')"
   ]
  },
  {
   "cell_type": "code",
   "execution_count": 43,
   "id": "seventh-destiny",
   "metadata": {
    "execution": {
     "iopub.execute_input": "2021-04-11T20:37:23.735527Z",
     "iopub.status.busy": "2021-04-11T20:37:23.734833Z",
     "iopub.status.idle": "2021-04-11T20:37:23.882223Z",
     "shell.execute_reply": "2021-04-11T20:37:23.881280Z"
    },
    "papermill": {
     "duration": 0.231879,
     "end_time": "2021-04-11T20:37:23.882372",
     "exception": false,
     "start_time": "2021-04-11T20:37:23.650493",
     "status": "completed"
    },
    "tags": []
   },
   "outputs": [
    {
     "data": {
      "text/plain": [
       "<AxesSubplot:xlabel='Item_Fat_Content', ylabel='count'>"
      ]
     },
     "execution_count": 43,
     "metadata": {},
     "output_type": "execute_result"
    },
    {
     "data": {
      "image/png": "[encoded data removed]",
      "text/plain": [
       "<Figure size 432x288 with 1 Axes>"
      ]
     },
     "metadata": {
      "needs_background": "light"
     },
     "output_type": "display_data"
    }
   ],
   "source": [
    "sns.countplot(df[\"Item_Fat_Content\"] , palette=\"Set3\")"
   ]
  },
  {
   "cell_type": "code",
   "execution_count": 44,
   "id": "collectible-professional",
   "metadata": {
    "execution": {
     "iopub.execute_input": "2021-04-11T20:37:24.031779Z",
     "iopub.status.busy": "2021-04-11T20:37:24.030865Z",
     "iopub.status.idle": "2021-04-11T20:37:24.273659Z",
     "shell.execute_reply": "2021-04-11T20:37:24.274126Z"
    },
    "papermill": {
     "duration": 0.320219,
     "end_time": "2021-04-11T20:37:24.274323",
     "exception": false,
     "start_time": "2021-04-11T20:37:23.954104",
     "status": "completed"
    },
    "tags": []
   },
   "outputs": [
    {
     "data": {
      "text/plain": [
       "[Text(0, 0, 'Dairy'),\n",
       " Text(1, 0, 'Soft Drinks'),\n",
       " Text(2, 0, 'Meat'),\n",
       " Text(3, 0, 'Fruits and Vegetables'),\n",
       " Text(4, 0, 'Household'),\n",
       " Text(5, 0, 'Baking Goods'),\n",
       " Text(6, 0, 'Snack Foods'),\n",
       " Text(7, 0, 'Frozen Foods'),\n",
       " Text(8, 0, 'Breakfast'),\n",
       " Text(9, 0, 'Health and Hygiene'),\n",
       " Text(10, 0, 'Hard Drinks'),\n",
       " Text(11, 0, 'Canned'),\n",
       " Text(12, 0, 'Breads'),\n",
       " Text(13, 0, 'Starchy Foods'),\n",
       " Text(14, 0, 'Others'),\n",
       " Text(15, 0, 'Seafood')]"
      ]
     },
     "execution_count": 44,
     "metadata": {},
     "output_type": "execute_result"
    },
    {
     "data": {
      "image/png": "[encoded data removed]",
      "text/plain": [
       "<Figure size 432x288 with 1 Axes>"
      ]
     },
     "metadata": {
      "needs_background": "light"
     },
     "output_type": "display_data"
    }
   ],
   "source": [
    "l = list(df['Item_Type'].unique())\n",
    "chart = sns.countplot(df[\"Item_Type\"],palette=\"Set3\")\n",
    "chart.set_xticklabels(labels=l, rotation=90)"
   ]
  },
  {
   "cell_type": "code",
   "execution_count": 45,
   "id": "spatial-secretary",
   "metadata": {
    "execution": {
     "iopub.execute_input": "2021-04-11T20:37:24.423700Z",
     "iopub.status.busy": "2021-04-11T20:37:24.422600Z",
     "iopub.status.idle": "2021-04-11T20:37:24.600040Z",
     "shell.execute_reply": "2021-04-11T20:37:24.599352Z"
    },
    "papermill": {
     "duration": 0.252724,
     "end_time": "2021-04-11T20:37:24.600185",
     "exception": false,
     "start_time": "2021-04-11T20:37:24.347461",
     "status": "completed"
    },
    "tags": []
   },
   "outputs": [
    {
     "data": {
      "text/plain": [
       "<AxesSubplot:xlabel='Outlet_Establishment_Year', ylabel='count'>"
      ]
     },
     "execution_count": 45,
     "metadata": {},
     "output_type": "execute_result"
    },
    {
     "data": {
      "image/png": "[encoded data removed]",
      "text/plain": [
       "<Figure size 432x288 with 1 Axes>"
      ]
     },
     "metadata": {
      "needs_background": "light"
     },
     "output_type": "display_data"
    }
   ],
   "source": [
    "sns.countplot(df['Outlet_Establishment_Year'] , palette=\"Set3\")"
   ]
  },
  {
   "cell_type": "code",
   "execution_count": 46,
   "id": "clean-title",
   "metadata": {
    "execution": {
     "iopub.execute_input": "2021-04-11T20:37:24.760152Z",
     "iopub.status.busy": "2021-04-11T20:37:24.759483Z",
     "iopub.status.idle": "2021-04-11T20:37:24.879834Z",
     "shell.execute_reply": "2021-04-11T20:37:24.879170Z"
    },
    "papermill": {
     "duration": 0.207623,
     "end_time": "2021-04-11T20:37:24.879973",
     "exception": false,
     "start_time": "2021-04-11T20:37:24.672350",
     "status": "completed"
    },
    "tags": []
   },
   "outputs": [
    {
     "data": {
      "text/plain": [
       "<AxesSubplot:xlabel='Outlet_Size', ylabel='count'>"
      ]
     },
     "execution_count": 46,
     "metadata": {},
     "output_type": "execute_result"
    },
    {
     "data": {
      "image/png": "[encoded data removed]",
      "text/plain": [
       "<Figure size 432x288 with 1 Axes>"
      ]
     },
     "metadata": {
      "needs_background": "light"
     },
     "output_type": "display_data"
    }
   ],
   "source": [
    "sns.countplot(df['Outlet_Size'], palette=\"Set3\")"
   ]
  },
  {
   "cell_type": "code",
   "execution_count": 47,
   "id": "gross-simple",
   "metadata": {
    "execution": {
     "iopub.execute_input": "2021-04-11T20:37:25.044283Z",
     "iopub.status.busy": "2021-04-11T20:37:25.043284Z",
     "iopub.status.idle": "2021-04-11T20:37:25.278464Z",
     "shell.execute_reply": "2021-04-11T20:37:25.277771Z"
    },
    "papermill": {
     "duration": 0.32472,
     "end_time": "2021-04-11T20:37:25.278609",
     "exception": false,
     "start_time": "2021-04-11T20:37:24.953889",
     "status": "completed"
    },
    "tags": []
   },
   "outputs": [
    {
     "data": {
      "text/plain": [
       "<AxesSubplot:xlabel='Outlet_Location_Type', ylabel='count'>"
      ]
     },
     "execution_count": 47,
     "metadata": {},
     "output_type": "execute_result"
    },
    {
     "data": {
      "image/png": "[encoded data removed]",
      "text/plain": [
       "<Figure size 432x288 with 1 Axes>"
      ]
     },
     "metadata": {
      "needs_background": "light"
     },
     "output_type": "display_data"
    }
   ],
   "source": [
    "sns.countplot(df['Outlet_Location_Type'] , palette=\"Set3\")"
   ]
  },
  {
   "cell_type": "code",
   "execution_count": 48,
   "id": "coated-paper",
   "metadata": {
    "execution": {
     "iopub.execute_input": "2021-04-11T20:37:25.443762Z",
     "iopub.status.busy": "2021-04-11T20:37:25.439740Z",
     "iopub.status.idle": "2021-04-11T20:37:25.576099Z",
     "shell.execute_reply": "2021-04-11T20:37:25.575382Z"
    },
    "papermill": {
     "duration": 0.221886,
     "end_time": "2021-04-11T20:37:25.576241",
     "exception": false,
     "start_time": "2021-04-11T20:37:25.354355",
     "status": "completed"
    },
    "tags": []
   },
   "outputs": [
    {
     "data": {
      "text/plain": [
       "<AxesSubplot:xlabel='Outlet_Type', ylabel='count'>"
      ]
     },
     "execution_count": 48,
     "metadata": {},
     "output_type": "execute_result"
    },
    {
     "data": {
      "image/png": "[encoded data removed]",
      "text/plain": [
       "<Figure size 432x288 with 1 Axes>"
      ]
     },
     "metadata": {
      "needs_background": "light"
     },
     "output_type": "display_data"
    }
   ],
   "source": [
    "sns.countplot(df['Outlet_Type'] , palette = 'Set3')"
   ]
  },
  {
   "cell_type": "markdown",
   "id": "sublime-noise",
   "metadata": {
    "papermill": {
     "duration": 0.077372,
     "end_time": "2021-04-11T20:37:25.729512",
     "exception": false,
     "start_time": "2021-04-11T20:37:25.652140",
     "status": "completed"
    },
    "tags": []
   },
   "source": [
    "# COORELATION MATRIX"
   ]
  },
  {
   "cell_type": "code",
   "execution_count": 49,
   "id": "expired-underground",
   "metadata": {
    "execution": {
     "iopub.execute_input": "2021-04-11T20:37:25.886337Z",
     "iopub.status.busy": "2021-04-11T20:37:25.885528Z",
     "iopub.status.idle": "2021-04-11T20:37:25.891468Z",
     "shell.execute_reply": "2021-04-11T20:37:25.890749Z"
    },
    "papermill": {
     "duration": 0.085807,
     "end_time": "2021-04-11T20:37:25.891605",
     "exception": false,
     "start_time": "2021-04-11T20:37:25.805798",
     "status": "completed"
    },
    "tags": []
   },
   "outputs": [],
   "source": [
    "corr = df.corr()"
   ]
  },
  {
   "cell_type": "code",
   "execution_count": 50,
   "id": "unexpected-remainder",
   "metadata": {
    "execution": {
     "iopub.execute_input": "2021-04-11T20:37:26.068236Z",
     "iopub.status.busy": "2021-04-11T20:37:26.065053Z",
     "iopub.status.idle": "2021-04-11T20:37:26.527977Z",
     "shell.execute_reply": "2021-04-11T20:37:26.527291Z"
    },
    "papermill": {
     "duration": 0.561129,
     "end_time": "2021-04-11T20:37:26.528122",
     "exception": false,
     "start_time": "2021-04-11T20:37:25.966993",
     "status": "completed"
    },
    "tags": []
   },
   "outputs": [
    {
     "data": {
      "text/plain": [
       "<AxesSubplot:>"
      ]
     },
     "execution_count": 50,
     "metadata": {},
     "output_type": "execute_result"
    },
    {
     "data": {
      "image/png": "[encoded data removed]",
      "text/plain": [
       "<Figure size 1080x360 with 2 Axes>"
      ]
     },
     "metadata": {
      "needs_background": "light"
     },
     "output_type": "display_data"
    }
   ],
   "source": [
    "plt.figure(figsize=(15,5))\n",
    "sns.heatmap(corr, annot=True )"
   ]
  },
  {
   "cell_type": "markdown",
   "id": "wound-newspaper",
   "metadata": {
    "papermill": {
     "duration": 0.077266,
     "end_time": "2021-04-11T20:37:26.683755",
     "exception": false,
     "start_time": "2021-04-11T20:37:26.606489",
     "status": "completed"
    },
    "tags": []
   },
   "source": [
    "# LABEL ENCODING"
   ]
  },
  {
   "cell_type": "code",
   "execution_count": 51,
   "id": "alone-eugene",
   "metadata": {
    "execution": {
     "iopub.execute_input": "2021-04-11T20:37:26.873606Z",
     "iopub.status.busy": "2021-04-11T20:37:26.872921Z",
     "iopub.status.idle": "2021-04-11T20:37:27.052201Z",
     "shell.execute_reply": "2021-04-11T20:37:27.051533Z"
    },
    "papermill": {
     "duration": 0.278557,
     "end_time": "2021-04-11T20:37:27.052341",
     "exception": false,
     "start_time": "2021-04-11T20:37:26.773784",
     "status": "completed"
    },
    "tags": []
   },
   "outputs": [],
   "source": [
    "from sklearn.preprocessing import LabelEncoder"
   ]
  },
  {
   "cell_type": "code",
   "execution_count": 52,
   "id": "interracial-thing",
   "metadata": {
    "execution": {
     "iopub.execute_input": "2021-04-11T20:37:27.213073Z",
     "iopub.status.busy": "2021-04-11T20:37:27.212024Z",
     "iopub.status.idle": "2021-04-11T20:37:27.215032Z",
     "shell.execute_reply": "2021-04-11T20:37:27.215533Z"
    },
    "papermill": {
     "duration": 0.085624,
     "end_time": "2021-04-11T20:37:27.215725",
     "exception": false,
     "start_time": "2021-04-11T20:37:27.130101",
     "status": "completed"
    },
    "tags": []
   },
   "outputs": [],
   "source": [
    "le = LabelEncoder()"
   ]
  },
  {
   "cell_type": "code",
   "execution_count": 53,
   "id": "institutional-praise",
   "metadata": {
    "execution": {
     "iopub.execute_input": "2021-04-11T20:37:27.381222Z",
     "iopub.status.busy": "2021-04-11T20:37:27.380579Z",
     "iopub.status.idle": "2021-04-11T20:37:27.384173Z",
     "shell.execute_reply": "2021-04-11T20:37:27.383543Z"
    },
    "papermill": {
     "duration": 0.090868,
     "end_time": "2021-04-11T20:37:27.384309",
     "exception": false,
     "start_time": "2021-04-11T20:37:27.293441",
     "status": "completed"
    },
    "tags": []
   },
   "outputs": [],
   "source": [
    "df['Outlet'] = le.fit_transform(df['Outlet_Identifier'])"
   ]
  },
  {
   "cell_type": "code",
   "execution_count": 54,
   "id": "wound-column",
   "metadata": {
    "execution": {
     "iopub.execute_input": "2021-04-11T20:37:27.567766Z",
     "iopub.status.busy": "2021-04-11T20:37:27.559844Z",
     "iopub.status.idle": "2021-04-11T20:37:27.571799Z",
     "shell.execute_reply": "2021-04-11T20:37:27.571078Z"
    },
    "papermill": {
     "duration": 0.110212,
     "end_time": "2021-04-11T20:37:27.571951",
     "exception": false,
     "start_time": "2021-04-11T20:37:27.461739",
     "status": "completed"
    },
    "tags": []
   },
   "outputs": [],
   "source": [
    "cat_col = ['Item_Fat_Content', 'Item_Type', 'Outlet_Size', 'Outlet_Location_Type', 'Outlet_Type', 'New_Item_Type']\n",
    "for col in cat_col:\n",
    "    df[col] = le.fit_transform(df[col])"
   ]
  },
  {
   "cell_type": "markdown",
   "id": "emerging-cooling",
   "metadata": {
    "papermill": {
     "duration": 0.078541,
     "end_time": "2021-04-11T20:37:27.729976",
     "exception": false,
     "start_time": "2021-04-11T20:37:27.651435",
     "status": "completed"
    },
    "tags": []
   },
   "source": [
    "# ONEHOT ENCODING"
   ]
  },
  {
   "cell_type": "code",
   "execution_count": 55,
   "id": "general-equilibrium",
   "metadata": {
    "execution": {
     "iopub.execute_input": "2021-04-11T20:37:27.895626Z",
     "iopub.status.busy": "2021-04-11T20:37:27.894849Z",
     "iopub.status.idle": "2021-04-11T20:37:27.908834Z",
     "shell.execute_reply": "2021-04-11T20:37:27.908241Z"
    },
    "papermill": {
     "duration": 0.09864,
     "end_time": "2021-04-11T20:37:27.908976",
     "exception": false,
     "start_time": "2021-04-11T20:37:27.810336",
     "status": "completed"
    },
    "tags": []
   },
   "outputs": [],
   "source": [
    "df = pd.get_dummies(df, columns=['Item_Fat_Content', 'Outlet_Size', 'Outlet_Location_Type', 'Outlet_Type', 'New_Item_Type'])"
   ]
  },
  {
   "cell_type": "code",
   "execution_count": 56,
   "id": "general-waterproof",
   "metadata": {
    "execution": {
     "iopub.execute_input": "2021-04-11T20:37:28.085222Z",
     "iopub.status.busy": "2021-04-11T20:37:28.081995Z",
     "iopub.status.idle": "2021-04-11T20:37:28.097271Z",
     "shell.execute_reply": "2021-04-11T20:37:28.096624Z"
    },
    "papermill": {
     "duration": 0.110547,
     "end_time": "2021-04-11T20:37:28.097438",
     "exception": false,
     "start_time": "2021-04-11T20:37:27.986891",
     "status": "completed"
    },
    "tags": []
   },
   "outputs": [
    {
     "data": {
      "text/html": [
       "<div>\n",
       "<style scoped>\n",
       "    .dataframe tbody tr th:only-of-type {\n",
       "        vertical-align: middle;\n",
       "    }\n",
       "\n",
       "    .dataframe tbody tr th {\n",
       "        vertical-align: top;\n",
       "    }\n",
       "\n",
       "    .dataframe thead th {\n",
       "        text-align: right;\n",
       "    }\n",
       "</style>\n",
       "<table border=\"1\" class=\"dataframe\">\n",
       "  <thead>\n",
       "    <tr style=\"text-align: right;\">\n",
       "      <th></th>\n",
       "      <th>Item_Identifier</th>\n",
       "      <th>Item_Weight</th>\n",
       "      <th>Item_Visibility</th>\n",
       "      <th>Item_Type</th>\n",
       "      <th>Item_MRP</th>\n",
       "      <th>Outlet_Identifier</th>\n",
       "      <th>Outlet_Establishment_Year</th>\n",
       "      <th>Item_Outlet_Sales</th>\n",
       "      <th>Outlet_Years</th>\n",
       "      <th>Outlet</th>\n",
       "      <th>...</th>\n",
       "      <th>Outlet_Location_Type_0</th>\n",
       "      <th>Outlet_Location_Type_1</th>\n",
       "      <th>Outlet_Location_Type_2</th>\n",
       "      <th>Outlet_Type_0</th>\n",
       "      <th>Outlet_Type_1</th>\n",
       "      <th>Outlet_Type_2</th>\n",
       "      <th>Outlet_Type_3</th>\n",
       "      <th>New_Item_Type_0</th>\n",
       "      <th>New_Item_Type_1</th>\n",
       "      <th>New_Item_Type_2</th>\n",
       "    </tr>\n",
       "  </thead>\n",
       "  <tbody>\n",
       "    <tr>\n",
       "      <th>0</th>\n",
       "      <td>FDA15</td>\n",
       "      <td>9.30</td>\n",
       "      <td>0.016047</td>\n",
       "      <td>4</td>\n",
       "      <td>249.8092</td>\n",
       "      <td>OUT049</td>\n",
       "      <td>1999</td>\n",
       "      <td>8.225808</td>\n",
       "      <td>14</td>\n",
       "      <td>9</td>\n",
       "      <td>...</td>\n",
       "      <td>1</td>\n",
       "      <td>0</td>\n",
       "      <td>0</td>\n",
       "      <td>0</td>\n",
       "      <td>1</td>\n",
       "      <td>0</td>\n",
       "      <td>0</td>\n",
       "      <td>0</td>\n",
       "      <td>1</td>\n",
       "      <td>0</td>\n",
       "    </tr>\n",
       "    <tr>\n",
       "      <th>1</th>\n",
       "      <td>DRC01</td>\n",
       "      <td>5.92</td>\n",
       "      <td>0.019278</td>\n",
       "      <td>14</td>\n",
       "      <td>48.2692</td>\n",
       "      <td>OUT018</td>\n",
       "      <td>2009</td>\n",
       "      <td>6.096776</td>\n",
       "      <td>4</td>\n",
       "      <td>3</td>\n",
       "      <td>...</td>\n",
       "      <td>0</td>\n",
       "      <td>0</td>\n",
       "      <td>1</td>\n",
       "      <td>0</td>\n",
       "      <td>0</td>\n",
       "      <td>1</td>\n",
       "      <td>0</td>\n",
       "      <td>1</td>\n",
       "      <td>0</td>\n",
       "      <td>0</td>\n",
       "    </tr>\n",
       "    <tr>\n",
       "      <th>2</th>\n",
       "      <td>FDN15</td>\n",
       "      <td>17.50</td>\n",
       "      <td>0.016760</td>\n",
       "      <td>10</td>\n",
       "      <td>141.6180</td>\n",
       "      <td>OUT049</td>\n",
       "      <td>1999</td>\n",
       "      <td>7.648868</td>\n",
       "      <td>14</td>\n",
       "      <td>9</td>\n",
       "      <td>...</td>\n",
       "      <td>1</td>\n",
       "      <td>0</td>\n",
       "      <td>0</td>\n",
       "      <td>0</td>\n",
       "      <td>1</td>\n",
       "      <td>0</td>\n",
       "      <td>0</td>\n",
       "      <td>0</td>\n",
       "      <td>1</td>\n",
       "      <td>0</td>\n",
       "    </tr>\n",
       "    <tr>\n",
       "      <th>3</th>\n",
       "      <td>FDX07</td>\n",
       "      <td>19.20</td>\n",
       "      <td>0.066132</td>\n",
       "      <td>6</td>\n",
       "      <td>182.0950</td>\n",
       "      <td>OUT010</td>\n",
       "      <td>1998</td>\n",
       "      <td>6.597664</td>\n",
       "      <td>15</td>\n",
       "      <td>0</td>\n",
       "      <td>...</td>\n",
       "      <td>0</td>\n",
       "      <td>0</td>\n",
       "      <td>1</td>\n",
       "      <td>1</td>\n",
       "      <td>0</td>\n",
       "      <td>0</td>\n",
       "      <td>0</td>\n",
       "      <td>0</td>\n",
       "      <td>1</td>\n",
       "      <td>0</td>\n",
       "    </tr>\n",
       "    <tr>\n",
       "      <th>4</th>\n",
       "      <td>NCD19</td>\n",
       "      <td>8.93</td>\n",
       "      <td>0.066132</td>\n",
       "      <td>9</td>\n",
       "      <td>53.8614</td>\n",
       "      <td>OUT013</td>\n",
       "      <td>1987</td>\n",
       "      <td>6.903451</td>\n",
       "      <td>26</td>\n",
       "      <td>1</td>\n",
       "      <td>...</td>\n",
       "      <td>0</td>\n",
       "      <td>0</td>\n",
       "      <td>1</td>\n",
       "      <td>0</td>\n",
       "      <td>1</td>\n",
       "      <td>0</td>\n",
       "      <td>0</td>\n",
       "      <td>0</td>\n",
       "      <td>0</td>\n",
       "      <td>1</td>\n",
       "    </tr>\n",
       "  </tbody>\n",
       "</table>\n",
       "<p>5 rows × 26 columns</p>\n",
       "</div>"
      ],
      "text/plain": [
       "  Item_Identifier  Item_Weight  Item_Visibility  Item_Type  Item_MRP  \\\n",
       "0           FDA15         9.30         0.016047          4  249.8092   \n",
       "1           DRC01         5.92         0.019278         14   48.2692   \n",
       "2           FDN15        17.50         0.016760         10  141.6180   \n",
       "3           FDX07        19.20         0.066132          6  182.0950   \n",
       "4           NCD19         8.93         0.066132          9   53.8614   \n",
       "\n",
       "  Outlet_Identifier  Outlet_Establishment_Year  Item_Outlet_Sales  \\\n",
       "0            OUT049                       1999           8.225808   \n",
       "1            OUT018                       2009           6.096776   \n",
       "2            OUT049                       1999           7.648868   \n",
       "3            OUT010                       1998           6.597664   \n",
       "4            OUT013                       1987           6.903451   \n",
       "\n",
       "   Outlet_Years  Outlet  ...  Outlet_Location_Type_0  Outlet_Location_Type_1  \\\n",
       "0            14       9  ...                       1                       0   \n",
       "1             4       3  ...                       0                       0   \n",
       "2            14       9  ...                       1                       0   \n",
       "3            15       0  ...                       0                       0   \n",
       "4            26       1  ...                       0                       0   \n",
       "\n",
       "   Outlet_Location_Type_2  Outlet_Type_0  Outlet_Type_1  Outlet_Type_2  \\\n",
       "0                       0              0              1              0   \n",
       "1                       1              0              0              1   \n",
       "2                       0              0              1              0   \n",
       "3                       1              1              0              0   \n",
       "4                       1              0              1              0   \n",
       "\n",
       "   Outlet_Type_3  New_Item_Type_0  New_Item_Type_1  New_Item_Type_2  \n",
       "0              0                0                1                0  \n",
       "1              0                1                0                0  \n",
       "2              0                0                1                0  \n",
       "3              0                0                1                0  \n",
       "4              0                0                0                1  \n",
       "\n",
       "[5 rows x 26 columns]"
      ]
     },
     "execution_count": 56,
     "metadata": {},
     "output_type": "execute_result"
    }
   ],
   "source": [
    "df.head()"
   ]
  },
  {
   "cell_type": "markdown",
   "id": "digital-setup",
   "metadata": {
    "papermill": {
     "duration": 0.078006,
     "end_time": "2021-04-11T20:37:28.254068",
     "exception": false,
     "start_time": "2021-04-11T20:37:28.176062",
     "status": "completed"
    },
    "tags": []
   },
   "source": [
    "# INPUT SPLIT"
   ]
  },
  {
   "cell_type": "code",
   "execution_count": 57,
   "id": "useful-scenario",
   "metadata": {
    "execution": {
     "iopub.execute_input": "2021-04-11T20:37:28.418945Z",
     "iopub.status.busy": "2021-04-11T20:37:28.418128Z",
     "iopub.status.idle": "2021-04-11T20:37:28.423539Z",
     "shell.execute_reply": "2021-04-11T20:37:28.422715Z"
    },
    "papermill": {
     "duration": 0.089541,
     "end_time": "2021-04-11T20:37:28.423689",
     "exception": false,
     "start_time": "2021-04-11T20:37:28.334148",
     "status": "completed"
    },
    "tags": []
   },
   "outputs": [],
   "source": [
    "X = df.drop(columns=['Outlet_Establishment_Year', 'Item_Identifier', 'Outlet_Identifier', 'Item_Outlet_Sales'])"
   ]
  },
  {
   "cell_type": "code",
   "execution_count": 58,
   "id": "involved-motivation",
   "metadata": {
    "execution": {
     "iopub.execute_input": "2021-04-11T20:37:28.589677Z",
     "iopub.status.busy": "2021-04-11T20:37:28.588912Z",
     "iopub.status.idle": "2021-04-11T20:37:28.592489Z",
     "shell.execute_reply": "2021-04-11T20:37:28.591799Z"
    },
    "papermill": {
     "duration": 0.088561,
     "end_time": "2021-04-11T20:37:28.592637",
     "exception": false,
     "start_time": "2021-04-11T20:37:28.504076",
     "status": "completed"
    },
    "tags": []
   },
   "outputs": [],
   "source": [
    "y = df['Item_Outlet_Sales']"
   ]
  },
  {
   "cell_type": "markdown",
   "id": "endless-gothic",
   "metadata": {
    "papermill": {
     "duration": 0.078693,
     "end_time": "2021-04-11T20:37:28.749841",
     "exception": false,
     "start_time": "2021-04-11T20:37:28.671148",
     "status": "completed"
    },
    "tags": []
   },
   "source": [
    "# MODEL TRAINING"
   ]
  },
  {
   "cell_type": "code",
   "execution_count": 59,
   "id": "surgical-wireless",
   "metadata": {
    "execution": {
     "iopub.execute_input": "2021-04-11T20:37:28.912689Z",
     "iopub.status.busy": "2021-04-11T20:37:28.912050Z",
     "iopub.status.idle": "2021-04-11T20:37:28.981052Z",
     "shell.execute_reply": "2021-04-11T20:37:28.980357Z"
    },
    "papermill": {
     "duration": 0.152192,
     "end_time": "2021-04-11T20:37:28.981188",
     "exception": false,
     "start_time": "2021-04-11T20:37:28.828996",
     "status": "completed"
    },
    "tags": []
   },
   "outputs": [],
   "source": [
    "from sklearn.model_selection import cross_val_score\n",
    "from sklearn.metrics import mean_squared_error"
   ]
  },
  {
   "cell_type": "code",
   "execution_count": 60,
   "id": "celtic-perth",
   "metadata": {
    "execution": {
     "iopub.execute_input": "2021-04-11T20:37:29.150150Z",
     "iopub.status.busy": "2021-04-11T20:37:29.149324Z",
     "iopub.status.idle": "2021-04-11T20:37:29.152671Z",
     "shell.execute_reply": "2021-04-11T20:37:29.152028Z"
    },
    "papermill": {
     "duration": 0.091201,
     "end_time": "2021-04-11T20:37:29.152814",
     "exception": false,
     "start_time": "2021-04-11T20:37:29.061613",
     "status": "completed"
    },
    "tags": []
   },
   "outputs": [],
   "source": [
    "def train(model, X, y):\n",
    "    model.fit(X, y)\n",
    "    pred = model.predict(X)\n",
    "    \n",
    "    cv_score = cross_val_score(model, X, y, scoring='neg_mean_squared_error', cv=5)\n",
    "    cv_score = np.abs(np.mean(cv_score))\n",
    "    \n",
    "    print(\"Model Report\")\n",
    "    print(\"MSE:\",mean_squared_error(y,pred))\n",
    "    print(\"CV Score:\", cv_score)"
   ]
  },
  {
   "cell_type": "code",
   "execution_count": 61,
   "id": "nearby-temple",
   "metadata": {
    "execution": {
     "iopub.execute_input": "2021-04-11T20:37:29.316160Z",
     "iopub.status.busy": "2021-04-11T20:37:29.315505Z",
     "iopub.status.idle": "2021-04-11T20:37:29.424750Z",
     "shell.execute_reply": "2021-04-11T20:37:29.424195Z"
    },
    "papermill": {
     "duration": 0.192786,
     "end_time": "2021-04-11T20:37:29.424912",
     "exception": false,
     "start_time": "2021-04-11T20:37:29.232126",
     "status": "completed"
    },
    "tags": []
   },
   "outputs": [],
   "source": [
    "from sklearn.linear_model import LinearRegression, Ridge, Lasso"
   ]
  },
  {
   "cell_type": "code",
   "execution_count": 62,
   "id": "premier-nutrition",
   "metadata": {
    "execution": {
     "iopub.execute_input": "2021-04-11T20:37:29.592430Z",
     "iopub.status.busy": "2021-04-11T20:37:29.591756Z",
     "iopub.status.idle": "2021-04-11T20:37:30.197034Z",
     "shell.execute_reply": "2021-04-11T20:37:30.197546Z"
    },
    "papermill": {
     "duration": 0.69349,
     "end_time": "2021-04-11T20:37:30.197741",
     "exception": false,
     "start_time": "2021-04-11T20:37:29.504251",
     "status": "completed"
    },
    "tags": []
   },
   "outputs": [
    {
     "name": "stdout",
     "output_type": "stream",
     "text": [
      "Model Report\n",
      "MSE: 0.2880065032501795\n",
      "CV Score: 0.2891413314375716\n"
     ]
    },
    {
     "data": {
      "text/plain": [
       "<AxesSubplot:title={'center':'Model Coefficients'}>"
      ]
     },
     "execution_count": 62,
     "metadata": {},
     "output_type": "execute_result"
    },
    {
     "data": {
      "image/png": "[encoded data removed]",
      "text/plain": [
       "<Figure size 432x288 with 1 Axes>"
      ]
     },
     "metadata": {
      "needs_background": "light"
     },
     "output_type": "display_data"
    }
   ],
   "source": [
    "model = LinearRegression(normalize=True)\n",
    "train(model, X, y)\n",
    "coef = pd.Series(model.coef_, X.columns).sort_values()\n",
    "coef.plot(kind='bar', title=\"Model Coefficients\",color = 'lightblue')"
   ]
  },
  {
   "cell_type": "code",
   "execution_count": 63,
   "id": "fluid-highway",
   "metadata": {
    "execution": {
     "iopub.execute_input": "2021-04-11T20:37:30.365600Z",
     "iopub.status.busy": "2021-04-11T20:37:30.364938Z",
     "iopub.status.idle": "2021-04-11T20:37:30.796949Z",
     "shell.execute_reply": "2021-04-11T20:37:30.797447Z"
    },
    "papermill": {
     "duration": 0.518018,
     "end_time": "2021-04-11T20:37:30.797633",
     "exception": false,
     "start_time": "2021-04-11T20:37:30.279615",
     "status": "completed"
    },
    "tags": []
   },
   "outputs": [
    {
     "name": "stdout",
     "output_type": "stream",
     "text": [
      "Model Report\n",
      "MSE: 0.4280298560568349\n",
      "CV Score: 0.4289289251562643\n"
     ]
    },
    {
     "data": {
      "text/plain": [
       "<AxesSubplot:title={'center':'Model Coefficients'}>"
      ]
     },
     "execution_count": 63,
     "metadata": {},
     "output_type": "execute_result"
    },
    {
     "data": {
      "image/png": "[encoded data removed]",
      "text/plain": [
       "<Figure size 432x288 with 1 Axes>"
      ]
     },
     "metadata": {
      "needs_background": "light"
     },
     "output_type": "display_data"
    }
   ],
   "source": [
    "model = Ridge(normalize=True)\n",
    "train(model, X, y)\n",
    "coef = pd.Series(model.coef_, X.columns).sort_values()\n",
    "coef.plot(kind='bar', title=\"Model Coefficients\" , color = 'red')"
   ]
  },
  {
   "cell_type": "code",
   "execution_count": 64,
   "id": "universal-illinois",
   "metadata": {
    "execution": {
     "iopub.execute_input": "2021-04-11T20:37:30.997053Z",
     "iopub.status.busy": "2021-04-11T20:37:30.995723Z",
     "iopub.status.idle": "2021-04-11T20:37:31.549791Z",
     "shell.execute_reply": "2021-04-11T20:37:31.550324Z"
    },
    "papermill": {
     "duration": 0.668843,
     "end_time": "2021-04-11T20:37:31.550534",
     "exception": false,
     "start_time": "2021-04-11T20:37:30.881691",
     "status": "completed"
    },
    "tags": []
   },
   "outputs": [
    {
     "name": "stdout",
     "output_type": "stream",
     "text": [
      "Model Report\n",
      "MSE: 0.7628688679102087\n",
      "CV Score: 0.7630789166281843\n"
     ]
    },
    {
     "data": {
      "text/plain": [
       "<AxesSubplot:title={'center':'Model Coefficients'}>"
      ]
     },
     "execution_count": 64,
     "metadata": {},
     "output_type": "execute_result"
    },
    {
     "data": {
      "image/png": "[encoded data removed]",
      "text/plain": [
       "<Figure size 432x288 with 1 Axes>"
      ]
     },
     "metadata": {
      "needs_background": "light"
     },
     "output_type": "display_data"
    }
   ],
   "source": [
    "\n",
    "model = Lasso()\n",
    "train(model, X, y)\n",
    "coef = pd.Series(model.coef_, X.columns).sort_values()\n",
    "coef.plot(kind='bar', title=\"Model Coefficients\" , color ='lightblue')"
   ]
  },
  {
   "cell_type": "code",
   "execution_count": 65,
   "id": "interim-youth",
   "metadata": {
    "execution": {
     "iopub.execute_input": "2021-04-11T20:37:31.728451Z",
     "iopub.status.busy": "2021-04-11T20:37:31.727679Z",
     "iopub.status.idle": "2021-04-11T20:37:31.853190Z",
     "shell.execute_reply": "2021-04-11T20:37:31.854189Z"
    },
    "papermill": {
     "duration": 0.217176,
     "end_time": "2021-04-11T20:37:31.854418",
     "exception": false,
     "start_time": "2021-04-11T20:37:31.637242",
     "status": "completed"
    },
    "tags": []
   },
   "outputs": [],
   "source": [
    "from sklearn.tree import DecisionTreeRegressor"
   ]
  },
  {
   "cell_type": "code",
   "execution_count": 66,
   "id": "nutritional-groove",
   "metadata": {
    "execution": {
     "iopub.execute_input": "2021-04-11T20:37:32.035567Z",
     "iopub.status.busy": "2021-04-11T20:37:32.034800Z",
     "iopub.status.idle": "2021-04-11T20:37:32.725236Z",
     "shell.execute_reply": "2021-04-11T20:37:32.724596Z"
    },
    "papermill": {
     "duration": 0.784849,
     "end_time": "2021-04-11T20:37:32.725405",
     "exception": false,
     "start_time": "2021-04-11T20:37:31.940556",
     "status": "completed"
    },
    "tags": []
   },
   "outputs": [
    {
     "name": "stdout",
     "output_type": "stream",
     "text": [
      "Model Report\n",
      "MSE: 5.5534030638578795e-34\n",
      "CV Score: 0.5780268182428869\n"
     ]
    },
    {
     "data": {
      "text/plain": [
       "<AxesSubplot:title={'center':'Feature Importance'}>"
      ]
     },
     "execution_count": 66,
     "metadata": {},
     "output_type": "execute_result"
    },
    {
     "data": {
      "image/png": "[encoded data removed]",
      "text/plain": [
       "<Figure size 432x288 with 1 Axes>"
      ]
     },
     "metadata": {
      "needs_background": "light"
     },
     "output_type": "display_data"
    }
   ],
   "source": [
    "model = DecisionTreeRegressor()\n",
    "train(model, X, y)\n",
    "coef = pd.Series(model.feature_importances_, X.columns).sort_values(ascending=False)\n",
    "coef.plot(kind='bar', title=\"Feature Importance\" , color ='red')"
   ]
  },
  {
   "cell_type": "code",
   "execution_count": 67,
   "id": "editorial-tamil",
   "metadata": {
    "execution": {
     "iopub.execute_input": "2021-04-11T20:37:32.905678Z",
     "iopub.status.busy": "2021-04-11T20:37:32.904992Z",
     "iopub.status.idle": "2021-04-11T20:37:32.936824Z",
     "shell.execute_reply": "2021-04-11T20:37:32.937745Z"
    },
    "papermill": {
     "duration": 0.123519,
     "end_time": "2021-04-11T20:37:32.937951",
     "exception": false,
     "start_time": "2021-04-11T20:37:32.814432",
     "status": "completed"
    },
    "tags": []
   },
   "outputs": [],
   "source": [
    "from sklearn.ensemble import RandomForestRegressor"
   ]
  },
  {
   "cell_type": "code",
   "execution_count": 68,
   "id": "ultimate-taiwan",
   "metadata": {
    "execution": {
     "iopub.execute_input": "2021-04-11T20:37:33.118008Z",
     "iopub.status.busy": "2021-04-11T20:37:33.117333Z",
     "iopub.status.idle": "2021-04-11T20:37:57.443746Z",
     "shell.execute_reply": "2021-04-11T20:37:57.443215Z"
    },
    "papermill": {
     "duration": 24.418083,
     "end_time": "2021-04-11T20:37:57.443902",
     "exception": false,
     "start_time": "2021-04-11T20:37:33.025819",
     "status": "completed"
    },
    "tags": []
   },
   "outputs": [
    {
     "name": "stdout",
     "output_type": "stream",
     "text": [
      "Model Report\n",
      "MSE: 0.04219770924638248\n",
      "CV Score: 0.31102570546219077\n"
     ]
    },
    {
     "data": {
      "text/plain": [
       "<AxesSubplot:title={'center':'Feature Importance'}>"
      ]
     },
     "execution_count": 68,
     "metadata": {},
     "output_type": "execute_result"
    },
    {
     "data": {
      "image/png": "[encoded data removed]",
      "text/plain": [
       "<Figure size 432x288 with 1 Axes>"
      ]
     },
     "metadata": {
      "needs_background": "light"
     },
     "output_type": "display_data"
    }
   ],
   "source": [
    "model = RandomForestRegressor()\n",
    "train(model, X, y)\n",
    "coef = pd.Series(model.feature_importances_, X.columns).sort_values(ascending=False)\n",
    "coef.plot(kind='bar', title=\"Feature Importance\" , color = 'lightblue')"
   ]
  },
  {
   "cell_type": "code",
   "execution_count": 69,
   "id": "bound-leeds",
   "metadata": {
    "execution": {
     "iopub.execute_input": "2021-04-11T20:37:57.627448Z",
     "iopub.status.busy": "2021-04-11T20:37:57.626425Z",
     "iopub.status.idle": "2021-04-11T20:37:57.629996Z",
     "shell.execute_reply": "2021-04-11T20:37:57.629337Z"
    },
    "papermill": {
     "duration": 0.09715,
     "end_time": "2021-04-11T20:37:57.630137",
     "exception": false,
     "start_time": "2021-04-11T20:37:57.532987",
     "status": "completed"
    },
    "tags": []
   },
   "outputs": [],
   "source": [
    "from sklearn.ensemble import ExtraTreesRegressor"
   ]
  },
  {
   "cell_type": "code",
   "execution_count": 70,
   "id": "separate-hudson",
   "metadata": {
    "execution": {
     "iopub.execute_input": "2021-04-11T20:37:57.819823Z",
     "iopub.status.busy": "2021-04-11T20:37:57.818806Z",
     "iopub.status.idle": "2021-04-11T20:38:14.789848Z",
     "shell.execute_reply": "2021-04-11T20:38:14.789241Z"
    },
    "papermill": {
     "duration": 17.070515,
     "end_time": "2021-04-11T20:38:14.790016",
     "exception": false,
     "start_time": "2021-04-11T20:37:57.719501",
     "status": "completed"
    },
    "tags": []
   },
   "outputs": [
    {
     "name": "stdout",
     "output_type": "stream",
     "text": [
      "Model Report\n",
      "MSE: 1.0418489584965893e-28\n",
      "CV Score: 0.3327957503839155\n"
     ]
    },
    {
     "data": {
      "text/plain": [
       "<AxesSubplot:title={'center':'Feature Importance'}>"
      ]
     },
     "execution_count": 70,
     "metadata": {},
     "output_type": "execute_result"
    },
    {
     "data": {
      "image/png": "[encoded data removed]",
      "text/plain": [
       "<Figure size 432x288 with 1 Axes>"
      ]
     },
     "metadata": {
      "needs_background": "light"
     },
     "output_type": "display_data"
    }
   ],
   "source": [
    "model = ExtraTreesRegressor()\n",
    "train(model, X, y)\n",
    "coef = pd.Series(model.feature_importances_, X.columns).sort_values(ascending=False)\n",
    "coef.plot(kind='bar', title=\"Feature Importance\" , color = 'red')"
   ]
  }
 ],
 "metadata": {
  "kernelspec": {
   "display_name": "Python 3",
   "language": "python",
   "name": "python3"
  },
  "language_info": {
   "codemirror_mode": {
    "name": "ipython",
    "version": 3
   },
   "file_extension": ".py",
   "mimetype": "text/x-python",
   "name": "python",
   "nbconvert_exporter": "python",
   "pygments_lexer": "ipython3",
   "version": "3.7.9"
  },
  "papermill": {
   "default_parameters": {},
   "duration": 68.443727,
   "end_time": "2021-04-11T20:38:15.694858",
   "environment_variables": {},
   "exception": null,
   "input_path": "__notebook__.ipynb",
   "output_path": "__notebook__.ipynb",
   "parameters": {},
   "start_time": "2021-04-11T20:37:07.251131",
   "version": "2.3.2"
  }
 },
 "nbformat": 4,
 "nbformat_minor": 5
}
