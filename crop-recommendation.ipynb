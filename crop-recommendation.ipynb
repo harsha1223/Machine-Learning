{
 "cells": [
  {
   "cell_type": "markdown",
   "id": "demonstrated-delaware",
   "metadata": {
    "papermill": {
     "duration": 0.039153,
     "end_time": "2021-05-14T16:30:10.394742",
     "exception": false,
     "start_time": "2021-05-14T16:30:10.355589",
     "status": "completed"
    },
    "tags": []
   },
   "source": [
    "# IMPORT MODULE"
   ]
  },
  {
   "cell_type": "code",
   "execution_count": 1,
   "id": "amended-bundle",
   "metadata": {
    "execution": {
     "iopub.execute_input": "2021-05-14T16:30:10.481779Z",
     "iopub.status.busy": "2021-05-14T16:30:10.481065Z",
     "iopub.status.idle": "2021-05-14T16:30:11.442189Z",
     "shell.execute_reply": "2021-05-14T16:30:11.440700Z"
    },
    "papermill": {
     "duration": 1.010031,
     "end_time": "2021-05-14T16:30:11.442363",
     "exception": false,
     "start_time": "2021-05-14T16:30:10.432332",
     "status": "completed"
    },
    "tags": []
   },
   "outputs": [],
   "source": [
    "import pandas as pd\n",
    "import numpy as np\n",
    "import seaborn as sns\n",
    "import matplotlib.pyplot as plt\n",
    "%matplotlib inline"
   ]
  },
  {
   "cell_type": "markdown",
   "id": "pressed-metropolitan",
   "metadata": {
    "papermill": {
     "duration": 0.037538,
     "end_time": "2021-05-14T16:30:11.517975",
     "exception": false,
     "start_time": "2021-05-14T16:30:11.480437",
     "status": "completed"
    },
    "tags": []
   },
   "source": [
    "# READ THE DATASET"
   ]
  },
  {
   "cell_type": "code",
   "execution_count": 2,
   "id": "adjacent-mistress",
   "metadata": {
    "execution": {
     "iopub.execute_input": "2021-05-14T16:30:11.598760Z",
     "iopub.status.busy": "2021-05-14T16:30:11.598040Z",
     "iopub.status.idle": "2021-05-14T16:30:11.621199Z",
     "shell.execute_reply": "2021-05-14T16:30:11.620489Z"
    },
    "papermill": {
     "duration": 0.065744,
     "end_time": "2021-05-14T16:30:11.621356",
     "exception": false,
     "start_time": "2021-05-14T16:30:11.555612",
     "status": "completed"
    },
    "tags": []
   },
   "outputs": [],
   "source": [
    "data = pd.read_csv('../input/crop-recommendation-dataset/Crop_recommendation.csv')"
   ]
  },
  {
   "cell_type": "code",
   "execution_count": 3,
   "id": "dangerous-finland",
   "metadata": {
    "execution": {
     "iopub.execute_input": "2021-05-14T16:30:11.709381Z",
     "iopub.status.busy": "2021-05-14T16:30:11.707775Z",
     "iopub.status.idle": "2021-05-14T16:30:11.731878Z",
     "shell.execute_reply": "2021-05-14T16:30:11.731175Z"
    },
    "papermill": {
     "duration": 0.072766,
     "end_time": "2021-05-14T16:30:11.732036",
     "exception": false,
     "start_time": "2021-05-14T16:30:11.659270",
     "status": "completed"
    },
    "tags": []
   },
   "outputs": [
    {
     "data": {
      "text/html": [
       "<div>\n",
       "<style scoped>\n",
       "    .dataframe tbody tr th:only-of-type {\n",
       "        vertical-align: middle;\n",
       "    }\n",
       "\n",
       "    .dataframe tbody tr th {\n",
       "        vertical-align: top;\n",
       "    }\n",
       "\n",
       "    .dataframe thead th {\n",
       "        text-align: right;\n",
       "    }\n",
       "</style>\n",
       "<table border=\"1\" class=\"dataframe\">\n",
       "  <thead>\n",
       "    <tr style=\"text-align: right;\">\n",
       "      <th></th>\n",
       "      <th>N</th>\n",
       "      <th>P</th>\n",
       "      <th>K</th>\n",
       "      <th>temperature</th>\n",
       "      <th>humidity</th>\n",
       "      <th>ph</th>\n",
       "      <th>rainfall</th>\n",
       "      <th>label</th>\n",
       "    </tr>\n",
       "  </thead>\n",
       "  <tbody>\n",
       "    <tr>\n",
       "      <th>0</th>\n",
       "      <td>90</td>\n",
       "      <td>42</td>\n",
       "      <td>43</td>\n",
       "      <td>20.879744</td>\n",
       "      <td>82.002744</td>\n",
       "      <td>6.502985</td>\n",
       "      <td>202.935536</td>\n",
       "      <td>rice</td>\n",
       "    </tr>\n",
       "    <tr>\n",
       "      <th>1</th>\n",
       "      <td>85</td>\n",
       "      <td>58</td>\n",
       "      <td>41</td>\n",
       "      <td>21.770462</td>\n",
       "      <td>80.319644</td>\n",
       "      <td>7.038096</td>\n",
       "      <td>226.655537</td>\n",
       "      <td>rice</td>\n",
       "    </tr>\n",
       "    <tr>\n",
       "      <th>2</th>\n",
       "      <td>60</td>\n",
       "      <td>55</td>\n",
       "      <td>44</td>\n",
       "      <td>23.004459</td>\n",
       "      <td>82.320763</td>\n",
       "      <td>7.840207</td>\n",
       "      <td>263.964248</td>\n",
       "      <td>rice</td>\n",
       "    </tr>\n",
       "    <tr>\n",
       "      <th>3</th>\n",
       "      <td>74</td>\n",
       "      <td>35</td>\n",
       "      <td>40</td>\n",
       "      <td>26.491096</td>\n",
       "      <td>80.158363</td>\n",
       "      <td>6.980401</td>\n",
       "      <td>242.864034</td>\n",
       "      <td>rice</td>\n",
       "    </tr>\n",
       "    <tr>\n",
       "      <th>4</th>\n",
       "      <td>78</td>\n",
       "      <td>42</td>\n",
       "      <td>42</td>\n",
       "      <td>20.130175</td>\n",
       "      <td>81.604873</td>\n",
       "      <td>7.628473</td>\n",
       "      <td>262.717340</td>\n",
       "      <td>rice</td>\n",
       "    </tr>\n",
       "  </tbody>\n",
       "</table>\n",
       "</div>"
      ],
      "text/plain": [
       "    N   P   K  temperature   humidity        ph    rainfall label\n",
       "0  90  42  43    20.879744  82.002744  6.502985  202.935536  rice\n",
       "1  85  58  41    21.770462  80.319644  7.038096  226.655537  rice\n",
       "2  60  55  44    23.004459  82.320763  7.840207  263.964248  rice\n",
       "3  74  35  40    26.491096  80.158363  6.980401  242.864034  rice\n",
       "4  78  42  42    20.130175  81.604873  7.628473  262.717340  rice"
      ]
     },
     "execution_count": 3,
     "metadata": {},
     "output_type": "execute_result"
    }
   ],
   "source": [
    "data.head()"
   ]
  },
  {
   "cell_type": "markdown",
   "id": "geological-package",
   "metadata": {
    "papermill": {
     "duration": 0.038377,
     "end_time": "2021-05-14T16:30:11.809789",
     "exception": false,
     "start_time": "2021-05-14T16:30:11.771412",
     "status": "completed"
    },
    "tags": []
   },
   "source": [
    "*The dataset above allow the users to build a predictive model to recommend the most suitable crops to grow in a particular farm based on various parameters.*"
   ]
  },
  {
   "cell_type": "markdown",
   "id": "unsigned-plumbing",
   "metadata": {
    "papermill": {
     "duration": 0.038425,
     "end_time": "2021-05-14T16:30:11.886693",
     "exception": false,
     "start_time": "2021-05-14T16:30:11.848268",
     "status": "completed"
    },
    "tags": []
   },
   "source": [
    "*Data fields:*\n",
    "\n",
    "* N - ratio of Nitrogen content in soil\n",
    "* P - ratio of Phosphorous content in soil\n",
    "* K - ratio of Potassium content in soil\n",
    "* temperature - temperature in degree Celsius\n",
    "* humidity - relative humidity in %\n",
    "* ph - ph value of the soil\n",
    "* rainfall - rainfall in mm\n"
   ]
  },
  {
   "cell_type": "code",
   "execution_count": 4,
   "id": "future-nancy",
   "metadata": {
    "execution": {
     "iopub.execute_input": "2021-05-14T16:30:11.969900Z",
     "iopub.status.busy": "2021-05-14T16:30:11.969017Z",
     "iopub.status.idle": "2021-05-14T16:30:11.973324Z",
     "shell.execute_reply": "2021-05-14T16:30:11.972793Z"
    },
    "papermill": {
     "duration": 0.047954,
     "end_time": "2021-05-14T16:30:11.973476",
     "exception": false,
     "start_time": "2021-05-14T16:30:11.925522",
     "status": "completed"
    },
    "tags": []
   },
   "outputs": [
    {
     "data": {
      "text/plain": [
       "(2200, 8)"
      ]
     },
     "execution_count": 4,
     "metadata": {},
     "output_type": "execute_result"
    }
   ],
   "source": [
    "data.shape"
   ]
  },
  {
   "cell_type": "code",
   "execution_count": 5,
   "id": "preliminary-recommendation",
   "metadata": {
    "execution": {
     "iopub.execute_input": "2021-05-14T16:30:12.055060Z",
     "iopub.status.busy": "2021-05-14T16:30:12.054408Z",
     "iopub.status.idle": "2021-05-14T16:30:12.092665Z",
     "shell.execute_reply": "2021-05-14T16:30:12.093162Z"
    },
    "papermill": {
     "duration": 0.080318,
     "end_time": "2021-05-14T16:30:12.093348",
     "exception": false,
     "start_time": "2021-05-14T16:30:12.013030",
     "status": "completed"
    },
    "tags": []
   },
   "outputs": [
    {
     "data": {
      "text/html": [
       "<div>\n",
       "<style scoped>\n",
       "    .dataframe tbody tr th:only-of-type {\n",
       "        vertical-align: middle;\n",
       "    }\n",
       "\n",
       "    .dataframe tbody tr th {\n",
       "        vertical-align: top;\n",
       "    }\n",
       "\n",
       "    .dataframe thead th {\n",
       "        text-align: right;\n",
       "    }\n",
       "</style>\n",
       "<table border=\"1\" class=\"dataframe\">\n",
       "  <thead>\n",
       "    <tr style=\"text-align: right;\">\n",
       "      <th></th>\n",
       "      <th>N</th>\n",
       "      <th>P</th>\n",
       "      <th>K</th>\n",
       "      <th>temperature</th>\n",
       "      <th>humidity</th>\n",
       "      <th>ph</th>\n",
       "      <th>rainfall</th>\n",
       "    </tr>\n",
       "  </thead>\n",
       "  <tbody>\n",
       "    <tr>\n",
       "      <th>count</th>\n",
       "      <td>2200.000000</td>\n",
       "      <td>2200.000000</td>\n",
       "      <td>2200.000000</td>\n",
       "      <td>2200.000000</td>\n",
       "      <td>2200.000000</td>\n",
       "      <td>2200.000000</td>\n",
       "      <td>2200.000000</td>\n",
       "    </tr>\n",
       "    <tr>\n",
       "      <th>mean</th>\n",
       "      <td>50.551818</td>\n",
       "      <td>53.362727</td>\n",
       "      <td>48.149091</td>\n",
       "      <td>25.616244</td>\n",
       "      <td>71.481779</td>\n",
       "      <td>6.469480</td>\n",
       "      <td>103.463655</td>\n",
       "    </tr>\n",
       "    <tr>\n",
       "      <th>std</th>\n",
       "      <td>36.917334</td>\n",
       "      <td>32.985883</td>\n",
       "      <td>50.647931</td>\n",
       "      <td>5.063749</td>\n",
       "      <td>22.263812</td>\n",
       "      <td>0.773938</td>\n",
       "      <td>54.958389</td>\n",
       "    </tr>\n",
       "    <tr>\n",
       "      <th>min</th>\n",
       "      <td>0.000000</td>\n",
       "      <td>5.000000</td>\n",
       "      <td>5.000000</td>\n",
       "      <td>8.825675</td>\n",
       "      <td>14.258040</td>\n",
       "      <td>3.504752</td>\n",
       "      <td>20.211267</td>\n",
       "    </tr>\n",
       "    <tr>\n",
       "      <th>25%</th>\n",
       "      <td>21.000000</td>\n",
       "      <td>28.000000</td>\n",
       "      <td>20.000000</td>\n",
       "      <td>22.769375</td>\n",
       "      <td>60.261953</td>\n",
       "      <td>5.971693</td>\n",
       "      <td>64.551686</td>\n",
       "    </tr>\n",
       "    <tr>\n",
       "      <th>50%</th>\n",
       "      <td>37.000000</td>\n",
       "      <td>51.000000</td>\n",
       "      <td>32.000000</td>\n",
       "      <td>25.598693</td>\n",
       "      <td>80.473146</td>\n",
       "      <td>6.425045</td>\n",
       "      <td>94.867624</td>\n",
       "    </tr>\n",
       "    <tr>\n",
       "      <th>75%</th>\n",
       "      <td>84.250000</td>\n",
       "      <td>68.000000</td>\n",
       "      <td>49.000000</td>\n",
       "      <td>28.561654</td>\n",
       "      <td>89.948771</td>\n",
       "      <td>6.923643</td>\n",
       "      <td>124.267508</td>\n",
       "    </tr>\n",
       "    <tr>\n",
       "      <th>max</th>\n",
       "      <td>140.000000</td>\n",
       "      <td>145.000000</td>\n",
       "      <td>205.000000</td>\n",
       "      <td>43.675493</td>\n",
       "      <td>99.981876</td>\n",
       "      <td>9.935091</td>\n",
       "      <td>298.560117</td>\n",
       "    </tr>\n",
       "  </tbody>\n",
       "</table>\n",
       "</div>"
      ],
      "text/plain": [
       "                 N            P            K  temperature     humidity  \\\n",
       "count  2200.000000  2200.000000  2200.000000  2200.000000  2200.000000   \n",
       "mean     50.551818    53.362727    48.149091    25.616244    71.481779   \n",
       "std      36.917334    32.985883    50.647931     5.063749    22.263812   \n",
       "min       0.000000     5.000000     5.000000     8.825675    14.258040   \n",
       "25%      21.000000    28.000000    20.000000    22.769375    60.261953   \n",
       "50%      37.000000    51.000000    32.000000    25.598693    80.473146   \n",
       "75%      84.250000    68.000000    49.000000    28.561654    89.948771   \n",
       "max     140.000000   145.000000   205.000000    43.675493    99.981876   \n",
       "\n",
       "                ph     rainfall  \n",
       "count  2200.000000  2200.000000  \n",
       "mean      6.469480   103.463655  \n",
       "std       0.773938    54.958389  \n",
       "min       3.504752    20.211267  \n",
       "25%       5.971693    64.551686  \n",
       "50%       6.425045    94.867624  \n",
       "75%       6.923643   124.267508  \n",
       "max       9.935091   298.560117  "
      ]
     },
     "execution_count": 5,
     "metadata": {},
     "output_type": "execute_result"
    }
   ],
   "source": [
    "data.describe()"
   ]
  },
  {
   "cell_type": "code",
   "execution_count": 6,
   "id": "typical-syndicate",
   "metadata": {
    "execution": {
     "iopub.execute_input": "2021-05-14T16:30:12.191998Z",
     "iopub.status.busy": "2021-05-14T16:30:12.191076Z",
     "iopub.status.idle": "2021-05-14T16:30:12.195085Z",
     "shell.execute_reply": "2021-05-14T16:30:12.195720Z"
    },
    "papermill": {
     "duration": 0.063208,
     "end_time": "2021-05-14T16:30:12.195899",
     "exception": false,
     "start_time": "2021-05-14T16:30:12.132691",
     "status": "completed"
    },
    "tags": []
   },
   "outputs": [
    {
     "name": "stdout",
     "output_type": "stream",
     "text": [
      "<class 'pandas.core.frame.DataFrame'>\n",
      "RangeIndex: 2200 entries, 0 to 2199\n",
      "Data columns (total 8 columns):\n",
      " #   Column       Non-Null Count  Dtype  \n",
      "---  ------       --------------  -----  \n",
      " 0   N            2200 non-null   int64  \n",
      " 1   P            2200 non-null   int64  \n",
      " 2   K            2200 non-null   int64  \n",
      " 3   temperature  2200 non-null   float64\n",
      " 4   humidity     2200 non-null   float64\n",
      " 5   ph           2200 non-null   float64\n",
      " 6   rainfall     2200 non-null   float64\n",
      " 7   label        2200 non-null   object \n",
      "dtypes: float64(4), int64(3), object(1)\n",
      "memory usage: 137.6+ KB\n"
     ]
    }
   ],
   "source": [
    "data.info()"
   ]
  },
  {
   "cell_type": "code",
   "execution_count": 7,
   "id": "pregnant-profession",
   "metadata": {
    "execution": {
     "iopub.execute_input": "2021-05-14T16:30:12.286112Z",
     "iopub.status.busy": "2021-05-14T16:30:12.285136Z",
     "iopub.status.idle": "2021-05-14T16:30:12.290060Z",
     "shell.execute_reply": "2021-05-14T16:30:12.289519Z"
    },
    "papermill": {
     "duration": 0.052948,
     "end_time": "2021-05-14T16:30:12.290197",
     "exception": false,
     "start_time": "2021-05-14T16:30:12.237249",
     "status": "completed"
    },
    "tags": []
   },
   "outputs": [
    {
     "data": {
      "text/plain": [
       "N              0\n",
       "P              0\n",
       "K              0\n",
       "temperature    0\n",
       "humidity       0\n",
       "ph             0\n",
       "rainfall       0\n",
       "label          0\n",
       "dtype: int64"
      ]
     },
     "execution_count": 7,
     "metadata": {},
     "output_type": "execute_result"
    }
   ],
   "source": [
    "data.isnull().sum()"
   ]
  },
  {
   "cell_type": "markdown",
   "id": "statutory-agriculture",
   "metadata": {
    "papermill": {
     "duration": 0.040147,
     "end_time": "2021-05-14T16:30:12.370852",
     "exception": false,
     "start_time": "2021-05-14T16:30:12.330705",
     "status": "completed"
    },
    "tags": []
   },
   "source": [
    "*There are no \"NaN\" values in the data.*"
   ]
  },
  {
   "cell_type": "code",
   "execution_count": 8,
   "id": "patient-photographer",
   "metadata": {
    "execution": {
     "iopub.execute_input": "2021-05-14T16:30:12.456911Z",
     "iopub.status.busy": "2021-05-14T16:30:12.456060Z",
     "iopub.status.idle": "2021-05-14T16:30:12.468313Z",
     "shell.execute_reply": "2021-05-14T16:30:12.467733Z"
    },
    "papermill": {
     "duration": 0.057279,
     "end_time": "2021-05-14T16:30:12.468465",
     "exception": false,
     "start_time": "2021-05-14T16:30:12.411186",
     "status": "completed"
    },
    "tags": []
   },
   "outputs": [
    {
     "data": {
      "text/plain": [
       "N               137\n",
       "P               117\n",
       "K                73\n",
       "temperature    2200\n",
       "humidity       2200\n",
       "ph             2200\n",
       "rainfall       2200\n",
       "label            22\n",
       "dtype: int64"
      ]
     },
     "execution_count": 8,
     "metadata": {},
     "output_type": "execute_result"
    }
   ],
   "source": [
    "data.apply(lambda x: len(x.unique()))"
   ]
  },
  {
   "cell_type": "code",
   "execution_count": 9,
   "id": "liable-indie",
   "metadata": {
    "execution": {
     "iopub.execute_input": "2021-05-14T16:30:12.559550Z",
     "iopub.status.busy": "2021-05-14T16:30:12.558660Z",
     "iopub.status.idle": "2021-05-14T16:30:12.564385Z",
     "shell.execute_reply": "2021-05-14T16:30:12.563854Z"
    },
    "papermill": {
     "duration": 0.054632,
     "end_time": "2021-05-14T16:30:12.564543",
     "exception": false,
     "start_time": "2021-05-14T16:30:12.509911",
     "status": "completed"
    },
    "tags": []
   },
   "outputs": [
    {
     "data": {
      "text/plain": [
       "muskmelon      100\n",
       "chickpea       100\n",
       "mango          100\n",
       "kidneybeans    100\n",
       "jute           100\n",
       "blackgram      100\n",
       "mungbean       100\n",
       "banana         100\n",
       "coffee         100\n",
       "pomegranate    100\n",
       "pigeonpeas     100\n",
       "lentil         100\n",
       "cotton         100\n",
       "watermelon     100\n",
       "grapes         100\n",
       "apple          100\n",
       "papaya         100\n",
       "coconut        100\n",
       "maize          100\n",
       "orange         100\n",
       "mothbeans      100\n",
       "rice           100\n",
       "Name: label, dtype: int64"
      ]
     },
     "execution_count": 9,
     "metadata": {},
     "output_type": "execute_result"
    }
   ],
   "source": [
    "data['label'].value_counts()"
   ]
  },
  {
   "cell_type": "markdown",
   "id": "excited-czech",
   "metadata": {
    "papermill": {
     "duration": 0.041432,
     "end_time": "2021-05-14T16:30:12.647530",
     "exception": false,
     "start_time": "2021-05-14T16:30:12.606098",
     "status": "completed"
    },
    "tags": []
   },
   "source": [
    "# EXPLORATORY DATA ANALYSIS"
   ]
  },
  {
   "cell_type": "code",
   "execution_count": 10,
   "id": "following-horror",
   "metadata": {
    "execution": {
     "iopub.execute_input": "2021-05-14T16:30:12.751443Z",
     "iopub.status.busy": "2021-05-14T16:30:12.750794Z",
     "iopub.status.idle": "2021-05-14T16:30:13.026599Z",
     "shell.execute_reply": "2021-05-14T16:30:13.027067Z"
    },
    "papermill": {
     "duration": 0.338187,
     "end_time": "2021-05-14T16:30:13.027247",
     "exception": false,
     "start_time": "2021-05-14T16:30:12.689060",
     "status": "completed"
    },
    "tags": []
   },
   "outputs": [
    {
     "data": {
      "text/plain": [
       "<AxesSubplot:>"
      ]
     },
     "execution_count": 10,
     "metadata": {},
     "output_type": "execute_result"
    },
    {
     "data": {
      "image/png": "[encoded data removed]",
      "text/plain": [
       "<Figure size 864x432 with 2 Axes>"
      ]
     },
     "metadata": {
      "needs_background": "light"
     },
     "output_type": "display_data"
    }
   ],
   "source": [
    "f,ax=plt.subplots(figsize=(12,6))\n",
    "corr=data.corr()\n",
    "sns.heatmap(corr , ax=ax ,   cmap=\"rocket_r\")"
   ]
  },
  {
   "cell_type": "code",
   "execution_count": 11,
   "id": "devoted-concept",
   "metadata": {
    "execution": {
     "iopub.execute_input": "2021-05-14T16:30:13.117619Z",
     "iopub.status.busy": "2021-05-14T16:30:13.116631Z",
     "iopub.status.idle": "2021-05-14T16:30:13.122244Z",
     "shell.execute_reply": "2021-05-14T16:30:13.122700Z"
    },
    "papermill": {
     "duration": 0.052485,
     "end_time": "2021-05-14T16:30:13.122871",
     "exception": false,
     "start_time": "2021-05-14T16:30:13.070386",
     "status": "completed"
    },
    "tags": []
   },
   "outputs": [
    {
     "data": {
      "text/plain": [
       "Index(['N', 'P', 'K', 'temperature', 'humidity', 'ph', 'rainfall', 'label'], dtype='object')"
      ]
     },
     "execution_count": 11,
     "metadata": {},
     "output_type": "execute_result"
    }
   ],
   "source": [
    "data.columns"
   ]
  },
  {
   "cell_type": "code",
   "execution_count": 12,
   "id": "modified-destiny",
   "metadata": {
    "execution": {
     "iopub.execute_input": "2021-05-14T16:30:13.212970Z",
     "iopub.status.busy": "2021-05-14T16:30:13.212026Z",
     "iopub.status.idle": "2021-05-14T16:30:13.726285Z",
     "shell.execute_reply": "2021-05-14T16:30:13.725554Z"
    },
    "papermill": {
     "duration": 0.560511,
     "end_time": "2021-05-14T16:30:13.726430",
     "exception": false,
     "start_time": "2021-05-14T16:30:13.165919",
     "status": "completed"
    },
    "tags": []
   },
   "outputs": [
    {
     "name": "stderr",
     "output_type": "stream",
     "text": [
      "/opt/conda/lib/python3.7/site-packages/seaborn/distributions.py:2557: FutureWarning: `distplot` is a deprecated function and will be removed in a future version. Please adapt your code to use either `displot` (a figure-level function with similar flexibility) or `histplot` (an axes-level function for histograms).\n",
      "  warnings.warn(msg, FutureWarning)\n",
      "/opt/conda/lib/python3.7/site-packages/seaborn/distributions.py:2557: FutureWarning: `distplot` is a deprecated function and will be removed in a future version. Please adapt your code to use either `displot` (a figure-level function with similar flexibility) or `histplot` (an axes-level function for histograms).\n",
      "  warnings.warn(msg, FutureWarning)\n"
     ]
    },
    {
     "data": {
      "image/png": "[encoded data removed]",
      "text/plain": [
       "<Figure size 1440x360 with 2 Axes>"
      ]
     },
     "metadata": {
      "needs_background": "light"
     },
     "output_type": "display_data"
    }
   ],
   "source": [
    "f= plt.figure(figsize=(20,5))\n",
    "ax=f.add_subplot(121)\n",
    "sns.distplot(data['N'] , color ='red',ax=ax)\n",
    "\n",
    "ax=f.add_subplot(122)\n",
    "sns.distplot(data['P'] , color ='green' , ax = ax)\n",
    "plt.tight_layout()"
   ]
  },
  {
   "cell_type": "code",
   "execution_count": 13,
   "id": "harmful-renewal",
   "metadata": {
    "execution": {
     "iopub.execute_input": "2021-05-14T16:30:13.820401Z",
     "iopub.status.busy": "2021-05-14T16:30:13.819494Z",
     "iopub.status.idle": "2021-05-14T16:30:14.460442Z",
     "shell.execute_reply": "2021-05-14T16:30:14.460967Z"
    },
    "papermill": {
     "duration": 0.689732,
     "end_time": "2021-05-14T16:30:14.461135",
     "exception": false,
     "start_time": "2021-05-14T16:30:13.771403",
     "status": "completed"
    },
    "tags": []
   },
   "outputs": [
    {
     "name": "stderr",
     "output_type": "stream",
     "text": [
      "/opt/conda/lib/python3.7/site-packages/seaborn/distributions.py:2557: FutureWarning: `distplot` is a deprecated function and will be removed in a future version. Please adapt your code to use either `displot` (a figure-level function with similar flexibility) or `histplot` (an axes-level function for histograms).\n",
      "  warnings.warn(msg, FutureWarning)\n",
      "/opt/conda/lib/python3.7/site-packages/seaborn/distributions.py:2557: FutureWarning: `distplot` is a deprecated function and will be removed in a future version. Please adapt your code to use either `displot` (a figure-level function with similar flexibility) or `histplot` (an axes-level function for histograms).\n",
      "  warnings.warn(msg, FutureWarning)\n"
     ]
    },
    {
     "data": {
      "image/png": "[encoded data removed]",
      "text/plain": [
       "<Figure size 1440x360 with 2 Axes>"
      ]
     },
     "metadata": {
      "needs_background": "light"
     },
     "output_type": "display_data"
    }
   ],
   "source": [
    "f= plt.figure(figsize=(20,5))\n",
    "ax=f.add_subplot(121)\n",
    "sns.distplot(data['K'] , color ='red',ax=ax)\n",
    "\n",
    "ax=f.add_subplot(122)\n",
    "sns.distplot(data['temperature'] , color ='green' , ax = ax)\n",
    "plt.tight_layout()"
   ]
  },
  {
   "cell_type": "code",
   "execution_count": 14,
   "id": "answering-hours",
   "metadata": {
    "execution": {
     "iopub.execute_input": "2021-05-14T16:30:14.559773Z",
     "iopub.status.busy": "2021-05-14T16:30:14.558828Z",
     "iopub.status.idle": "2021-05-14T16:30:15.076065Z",
     "shell.execute_reply": "2021-05-14T16:30:15.076538Z"
    },
    "papermill": {
     "duration": 0.568373,
     "end_time": "2021-05-14T16:30:15.076717",
     "exception": false,
     "start_time": "2021-05-14T16:30:14.508344",
     "status": "completed"
    },
    "tags": []
   },
   "outputs": [
    {
     "name": "stderr",
     "output_type": "stream",
     "text": [
      "/opt/conda/lib/python3.7/site-packages/seaborn/distributions.py:2557: FutureWarning: `distplot` is a deprecated function and will be removed in a future version. Please adapt your code to use either `displot` (a figure-level function with similar flexibility) or `histplot` (an axes-level function for histograms).\n",
      "  warnings.warn(msg, FutureWarning)\n",
      "/opt/conda/lib/python3.7/site-packages/seaborn/distributions.py:2557: FutureWarning: `distplot` is a deprecated function and will be removed in a future version. Please adapt your code to use either `displot` (a figure-level function with similar flexibility) or `histplot` (an axes-level function for histograms).\n",
      "  warnings.warn(msg, FutureWarning)\n"
     ]
    },
    {
     "data": {
      "image/png": "[encoded data removed]",
      "text/plain": [
       "<Figure size 1440x360 with 2 Axes>"
      ]
     },
     "metadata": {
      "needs_background": "light"
     },
     "output_type": "display_data"
    }
   ],
   "source": [
    "f= plt.figure(figsize=(20,5))\n",
    "ax=f.add_subplot(121)\n",
    "sns.distplot(data['humidity'] , color ='red',ax=ax)\n",
    "\n",
    "ax=f.add_subplot(122)\n",
    "sns.distplot(data['ph'] , color ='green' , ax = ax)\n",
    "plt.tight_layout()"
   ]
  },
  {
   "cell_type": "code",
   "execution_count": 15,
   "id": "contemporary-poker",
   "metadata": {
    "execution": {
     "iopub.execute_input": "2021-05-14T16:30:15.203547Z",
     "iopub.status.busy": "2021-05-14T16:30:15.202811Z",
     "iopub.status.idle": "2021-05-14T16:30:15.410790Z",
     "shell.execute_reply": "2021-05-14T16:30:15.410136Z"
    },
    "papermill": {
     "duration": 0.284825,
     "end_time": "2021-05-14T16:30:15.410940",
     "exception": false,
     "start_time": "2021-05-14T16:30:15.126115",
     "status": "completed"
    },
    "tags": []
   },
   "outputs": [
    {
     "name": "stderr",
     "output_type": "stream",
     "text": [
      "/opt/conda/lib/python3.7/site-packages/seaborn/distributions.py:2557: FutureWarning: `distplot` is a deprecated function and will be removed in a future version. Please adapt your code to use either `displot` (a figure-level function with similar flexibility) or `histplot` (an axes-level function for histograms).\n",
      "  warnings.warn(msg, FutureWarning)\n"
     ]
    },
    {
     "data": {
      "text/plain": [
       "<AxesSubplot:xlabel='rainfall', ylabel='Density'>"
      ]
     },
     "execution_count": 15,
     "metadata": {},
     "output_type": "execute_result"
    },
    {
     "data": {
      "image/png": "[encoded data removed]",
      "text/plain": [
       "<Figure size 432x288 with 1 Axes>"
      ]
     },
     "metadata": {
      "needs_background": "light"
     },
     "output_type": "display_data"
    }
   ],
   "source": [
    "sns.distplot(data['rainfall'],color ='red')"
   ]
  },
  {
   "cell_type": "code",
   "execution_count": 16,
   "id": "attached-poker",
   "metadata": {
    "execution": {
     "iopub.execute_input": "2021-05-14T16:30:15.520132Z",
     "iopub.status.busy": "2021-05-14T16:30:15.519465Z",
     "iopub.status.idle": "2021-05-14T16:30:15.801142Z",
     "shell.execute_reply": "2021-05-14T16:30:15.801604Z"
    },
    "papermill": {
     "duration": 0.339842,
     "end_time": "2021-05-14T16:30:15.801779",
     "exception": false,
     "start_time": "2021-05-14T16:30:15.461937",
     "status": "completed"
    },
    "tags": []
   },
   "outputs": [
    {
     "name": "stderr",
     "output_type": "stream",
     "text": [
      "/opt/conda/lib/python3.7/site-packages/seaborn/_decorators.py:43: FutureWarning: Pass the following variable as a keyword arg: x. From version 0.12, the only valid positional argument will be `data`, and passing other arguments without an explicit keyword will result in an error or misinterpretation.\n",
      "  FutureWarning\n"
     ]
    },
    {
     "data": {
      "image/png": "[encoded data removed]",
      "text/plain": [
       "<Figure size 1080x360 with 1 Axes>"
      ]
     },
     "metadata": {
      "needs_background": "light"
     },
     "output_type": "display_data"
    }
   ],
   "source": [
    "f= plt.figure(figsize=(15,5))\n",
    "sns.countplot(data['label'] , palette = 'Spectral')\n",
    "plt.xticks(rotation=90)\n",
    "plt.show()"
   ]
  },
  {
   "cell_type": "markdown",
   "id": "finite-massage",
   "metadata": {
    "papermill": {
     "duration": 0.052564,
     "end_time": "2021-05-14T16:30:15.906222",
     "exception": false,
     "start_time": "2021-05-14T16:30:15.853658",
     "status": "completed"
    },
    "tags": []
   },
   "source": [
    "# SEPERATING FEATURES AND TARGET LABEL"
   ]
  },
  {
   "cell_type": "code",
   "execution_count": 17,
   "id": "patent-christmas",
   "metadata": {
    "execution": {
     "iopub.execute_input": "2021-05-14T16:30:16.019400Z",
     "iopub.status.busy": "2021-05-14T16:30:16.018772Z",
     "iopub.status.idle": "2021-05-14T16:30:16.020703Z",
     "shell.execute_reply": "2021-05-14T16:30:16.021150Z"
    },
    "papermill": {
     "duration": 0.060815,
     "end_time": "2021-05-14T16:30:16.021339",
     "exception": false,
     "start_time": "2021-05-14T16:30:15.960524",
     "status": "completed"
    },
    "tags": []
   },
   "outputs": [],
   "source": [
    "X = data.drop('label' ,axis =1)"
   ]
  },
  {
   "cell_type": "code",
   "execution_count": 18,
   "id": "composed-swaziland",
   "metadata": {
    "execution": {
     "iopub.execute_input": "2021-05-14T16:30:16.129425Z",
     "iopub.status.busy": "2021-05-14T16:30:16.128708Z",
     "iopub.status.idle": "2021-05-14T16:30:16.141189Z",
     "shell.execute_reply": "2021-05-14T16:30:16.140481Z"
    },
    "papermill": {
     "duration": 0.067533,
     "end_time": "2021-05-14T16:30:16.141336",
     "exception": false,
     "start_time": "2021-05-14T16:30:16.073803",
     "status": "completed"
    },
    "tags": []
   },
   "outputs": [
    {
     "data": {
      "text/html": [
       "<div>\n",
       "<style scoped>\n",
       "    .dataframe tbody tr th:only-of-type {\n",
       "        vertical-align: middle;\n",
       "    }\n",
       "\n",
       "    .dataframe tbody tr th {\n",
       "        vertical-align: top;\n",
       "    }\n",
       "\n",
       "    .dataframe thead th {\n",
       "        text-align: right;\n",
       "    }\n",
       "</style>\n",
       "<table border=\"1\" class=\"dataframe\">\n",
       "  <thead>\n",
       "    <tr style=\"text-align: right;\">\n",
       "      <th></th>\n",
       "      <th>N</th>\n",
       "      <th>P</th>\n",
       "      <th>K</th>\n",
       "      <th>temperature</th>\n",
       "      <th>humidity</th>\n",
       "      <th>ph</th>\n",
       "      <th>rainfall</th>\n",
       "    </tr>\n",
       "  </thead>\n",
       "  <tbody>\n",
       "    <tr>\n",
       "      <th>0</th>\n",
       "      <td>90</td>\n",
       "      <td>42</td>\n",
       "      <td>43</td>\n",
       "      <td>20.879744</td>\n",
       "      <td>82.002744</td>\n",
       "      <td>6.502985</td>\n",
       "      <td>202.935536</td>\n",
       "    </tr>\n",
       "    <tr>\n",
       "      <th>1</th>\n",
       "      <td>85</td>\n",
       "      <td>58</td>\n",
       "      <td>41</td>\n",
       "      <td>21.770462</td>\n",
       "      <td>80.319644</td>\n",
       "      <td>7.038096</td>\n",
       "      <td>226.655537</td>\n",
       "    </tr>\n",
       "    <tr>\n",
       "      <th>2</th>\n",
       "      <td>60</td>\n",
       "      <td>55</td>\n",
       "      <td>44</td>\n",
       "      <td>23.004459</td>\n",
       "      <td>82.320763</td>\n",
       "      <td>7.840207</td>\n",
       "      <td>263.964248</td>\n",
       "    </tr>\n",
       "    <tr>\n",
       "      <th>3</th>\n",
       "      <td>74</td>\n",
       "      <td>35</td>\n",
       "      <td>40</td>\n",
       "      <td>26.491096</td>\n",
       "      <td>80.158363</td>\n",
       "      <td>6.980401</td>\n",
       "      <td>242.864034</td>\n",
       "    </tr>\n",
       "    <tr>\n",
       "      <th>4</th>\n",
       "      <td>78</td>\n",
       "      <td>42</td>\n",
       "      <td>42</td>\n",
       "      <td>20.130175</td>\n",
       "      <td>81.604873</td>\n",
       "      <td>7.628473</td>\n",
       "      <td>262.717340</td>\n",
       "    </tr>\n",
       "  </tbody>\n",
       "</table>\n",
       "</div>"
      ],
      "text/plain": [
       "    N   P   K  temperature   humidity        ph    rainfall\n",
       "0  90  42  43    20.879744  82.002744  6.502985  202.935536\n",
       "1  85  58  41    21.770462  80.319644  7.038096  226.655537\n",
       "2  60  55  44    23.004459  82.320763  7.840207  263.964248\n",
       "3  74  35  40    26.491096  80.158363  6.980401  242.864034\n",
       "4  78  42  42    20.130175  81.604873  7.628473  262.717340"
      ]
     },
     "execution_count": 18,
     "metadata": {},
     "output_type": "execute_result"
    }
   ],
   "source": [
    "X.head()"
   ]
  },
  {
   "cell_type": "code",
   "execution_count": 19,
   "id": "consolidated-tourist",
   "metadata": {
    "execution": {
     "iopub.execute_input": "2021-05-14T16:30:16.254437Z",
     "iopub.status.busy": "2021-05-14T16:30:16.253657Z",
     "iopub.status.idle": "2021-05-14T16:30:16.406092Z",
     "shell.execute_reply": "2021-05-14T16:30:16.405368Z"
    },
    "papermill": {
     "duration": 0.21062,
     "end_time": "2021-05-14T16:30:16.406239",
     "exception": false,
     "start_time": "2021-05-14T16:30:16.195619",
     "status": "completed"
    },
    "tags": []
   },
   "outputs": [],
   "source": [
    "from sklearn.preprocessing import LabelEncoder"
   ]
  },
  {
   "cell_type": "code",
   "execution_count": 20,
   "id": "agreed-improvement",
   "metadata": {
    "execution": {
     "iopub.execute_input": "2021-05-14T16:30:16.518050Z",
     "iopub.status.busy": "2021-05-14T16:30:16.517260Z",
     "iopub.status.idle": "2021-05-14T16:30:16.520609Z",
     "shell.execute_reply": "2021-05-14T16:30:16.520038Z"
    },
    "papermill": {
     "duration": 0.061141,
     "end_time": "2021-05-14T16:30:16.520748",
     "exception": false,
     "start_time": "2021-05-14T16:30:16.459607",
     "status": "completed"
    },
    "tags": []
   },
   "outputs": [],
   "source": [
    "le = LabelEncoder()"
   ]
  },
  {
   "cell_type": "code",
   "execution_count": 21,
   "id": "appropriate-budget",
   "metadata": {
    "execution": {
     "iopub.execute_input": "2021-05-14T16:30:16.634280Z",
     "iopub.status.busy": "2021-05-14T16:30:16.633636Z",
     "iopub.status.idle": "2021-05-14T16:30:16.636404Z",
     "shell.execute_reply": "2021-05-14T16:30:16.636908Z"
    },
    "papermill": {
     "duration": 0.062818,
     "end_time": "2021-05-14T16:30:16.637074",
     "exception": false,
     "start_time": "2021-05-14T16:30:16.574256",
     "status": "completed"
    },
    "tags": []
   },
   "outputs": [],
   "source": [
    "data['label'] = le.fit_transform(data['label'])"
   ]
  },
  {
   "cell_type": "code",
   "execution_count": 22,
   "id": "verified-short",
   "metadata": {
    "execution": {
     "iopub.execute_input": "2021-05-14T16:30:16.757816Z",
     "iopub.status.busy": "2021-05-14T16:30:16.756852Z",
     "iopub.status.idle": "2021-05-14T16:30:16.761550Z",
     "shell.execute_reply": "2021-05-14T16:30:16.760916Z"
    },
    "papermill": {
     "duration": 0.07143,
     "end_time": "2021-05-14T16:30:16.761789",
     "exception": false,
     "start_time": "2021-05-14T16:30:16.690359",
     "status": "completed"
    },
    "tags": []
   },
   "outputs": [
    {
     "data": {
      "text/html": [
       "<div>\n",
       "<style scoped>\n",
       "    .dataframe tbody tr th:only-of-type {\n",
       "        vertical-align: middle;\n",
       "    }\n",
       "\n",
       "    .dataframe tbody tr th {\n",
       "        vertical-align: top;\n",
       "    }\n",
       "\n",
       "    .dataframe thead th {\n",
       "        text-align: right;\n",
       "    }\n",
       "</style>\n",
       "<table border=\"1\" class=\"dataframe\">\n",
       "  <thead>\n",
       "    <tr style=\"text-align: right;\">\n",
       "      <th></th>\n",
       "      <th>N</th>\n",
       "      <th>P</th>\n",
       "      <th>K</th>\n",
       "      <th>temperature</th>\n",
       "      <th>humidity</th>\n",
       "      <th>ph</th>\n",
       "      <th>rainfall</th>\n",
       "      <th>label</th>\n",
       "    </tr>\n",
       "  </thead>\n",
       "  <tbody>\n",
       "    <tr>\n",
       "      <th>0</th>\n",
       "      <td>90</td>\n",
       "      <td>42</td>\n",
       "      <td>43</td>\n",
       "      <td>20.879744</td>\n",
       "      <td>82.002744</td>\n",
       "      <td>6.502985</td>\n",
       "      <td>202.935536</td>\n",
       "      <td>20</td>\n",
       "    </tr>\n",
       "    <tr>\n",
       "      <th>1</th>\n",
       "      <td>85</td>\n",
       "      <td>58</td>\n",
       "      <td>41</td>\n",
       "      <td>21.770462</td>\n",
       "      <td>80.319644</td>\n",
       "      <td>7.038096</td>\n",
       "      <td>226.655537</td>\n",
       "      <td>20</td>\n",
       "    </tr>\n",
       "    <tr>\n",
       "      <th>2</th>\n",
       "      <td>60</td>\n",
       "      <td>55</td>\n",
       "      <td>44</td>\n",
       "      <td>23.004459</td>\n",
       "      <td>82.320763</td>\n",
       "      <td>7.840207</td>\n",
       "      <td>263.964248</td>\n",
       "      <td>20</td>\n",
       "    </tr>\n",
       "    <tr>\n",
       "      <th>3</th>\n",
       "      <td>74</td>\n",
       "      <td>35</td>\n",
       "      <td>40</td>\n",
       "      <td>26.491096</td>\n",
       "      <td>80.158363</td>\n",
       "      <td>6.980401</td>\n",
       "      <td>242.864034</td>\n",
       "      <td>20</td>\n",
       "    </tr>\n",
       "    <tr>\n",
       "      <th>4</th>\n",
       "      <td>78</td>\n",
       "      <td>42</td>\n",
       "      <td>42</td>\n",
       "      <td>20.130175</td>\n",
       "      <td>81.604873</td>\n",
       "      <td>7.628473</td>\n",
       "      <td>262.717340</td>\n",
       "      <td>20</td>\n",
       "    </tr>\n",
       "  </tbody>\n",
       "</table>\n",
       "</div>"
      ],
      "text/plain": [
       "    N   P   K  temperature   humidity        ph    rainfall  label\n",
       "0  90  42  43    20.879744  82.002744  6.502985  202.935536     20\n",
       "1  85  58  41    21.770462  80.319644  7.038096  226.655537     20\n",
       "2  60  55  44    23.004459  82.320763  7.840207  263.964248     20\n",
       "3  74  35  40    26.491096  80.158363  6.980401  242.864034     20\n",
       "4  78  42  42    20.130175  81.604873  7.628473  262.717340     20"
      ]
     },
     "execution_count": 22,
     "metadata": {},
     "output_type": "execute_result"
    }
   ],
   "source": [
    "data.head()"
   ]
  },
  {
   "cell_type": "code",
   "execution_count": 23,
   "id": "utility-chuck",
   "metadata": {
    "execution": {
     "iopub.execute_input": "2021-05-14T16:30:16.875046Z",
     "iopub.status.busy": "2021-05-14T16:30:16.874264Z",
     "iopub.status.idle": "2021-05-14T16:30:16.877852Z",
     "shell.execute_reply": "2021-05-14T16:30:16.878323Z"
    },
    "papermill": {
     "duration": 0.06218,
     "end_time": "2021-05-14T16:30:16.878547",
     "exception": false,
     "start_time": "2021-05-14T16:30:16.816367",
     "status": "completed"
    },
    "tags": []
   },
   "outputs": [],
   "source": [
    "y = data['label']"
   ]
  },
  {
   "cell_type": "code",
   "execution_count": 24,
   "id": "piano-chuck",
   "metadata": {
    "execution": {
     "iopub.execute_input": "2021-05-14T16:30:16.990329Z",
     "iopub.status.busy": "2021-05-14T16:30:16.989663Z",
     "iopub.status.idle": "2021-05-14T16:30:16.995932Z",
     "shell.execute_reply": "2021-05-14T16:30:16.995216Z"
    },
    "papermill": {
     "duration": 0.06329,
     "end_time": "2021-05-14T16:30:16.996068",
     "exception": false,
     "start_time": "2021-05-14T16:30:16.932778",
     "status": "completed"
    },
    "tags": []
   },
   "outputs": [
    {
     "data": {
      "text/plain": [
       "0    20\n",
       "1    20\n",
       "2    20\n",
       "3    20\n",
       "4    20\n",
       "Name: label, dtype: int64"
      ]
     },
     "execution_count": 24,
     "metadata": {},
     "output_type": "execute_result"
    }
   ],
   "source": [
    "y.head()"
   ]
  },
  {
   "cell_type": "markdown",
   "id": "continued-librarian",
   "metadata": {
    "papermill": {
     "duration": 0.054066,
     "end_time": "2021-05-14T16:30:17.104586",
     "exception": false,
     "start_time": "2021-05-14T16:30:17.050520",
     "status": "completed"
    },
    "tags": []
   },
   "source": [
    "# TRAIN TEST SPLIT"
   ]
  },
  {
   "cell_type": "code",
   "execution_count": 25,
   "id": "surface-hindu",
   "metadata": {
    "execution": {
     "iopub.execute_input": "2021-05-14T16:30:17.217329Z",
     "iopub.status.busy": "2021-05-14T16:30:17.216588Z",
     "iopub.status.idle": "2021-05-14T16:30:17.219902Z",
     "shell.execute_reply": "2021-05-14T16:30:17.220426Z"
    },
    "papermill": {
     "duration": 0.060901,
     "end_time": "2021-05-14T16:30:17.220610",
     "exception": false,
     "start_time": "2021-05-14T16:30:17.159709",
     "status": "completed"
    },
    "tags": []
   },
   "outputs": [],
   "source": [
    "model = []\n",
    "accuracy = []"
   ]
  },
  {
   "cell_type": "code",
   "execution_count": 26,
   "id": "heard-religious",
   "metadata": {
    "execution": {
     "iopub.execute_input": "2021-05-14T16:30:17.333720Z",
     "iopub.status.busy": "2021-05-14T16:30:17.333054Z",
     "iopub.status.idle": "2021-05-14T16:30:17.406101Z",
     "shell.execute_reply": "2021-05-14T16:30:17.406650Z"
    },
    "papermill": {
     "duration": 0.131399,
     "end_time": "2021-05-14T16:30:17.406832",
     "exception": false,
     "start_time": "2021-05-14T16:30:17.275433",
     "status": "completed"
    },
    "tags": []
   },
   "outputs": [],
   "source": [
    "from sklearn.model_selection import train_test_split"
   ]
  },
  {
   "cell_type": "code",
   "execution_count": 27,
   "id": "colonial-arena",
   "metadata": {
    "execution": {
     "iopub.execute_input": "2021-05-14T16:30:17.526032Z",
     "iopub.status.busy": "2021-05-14T16:30:17.523286Z",
     "iopub.status.idle": "2021-05-14T16:30:17.529990Z",
     "shell.execute_reply": "2021-05-14T16:30:17.529343Z"
    },
    "papermill": {
     "duration": 0.067696,
     "end_time": "2021-05-14T16:30:17.530127",
     "exception": false,
     "start_time": "2021-05-14T16:30:17.462431",
     "status": "completed"
    },
    "tags": []
   },
   "outputs": [],
   "source": [
    "X_train,X_test,y_train,y_test = train_test_split(X,y,test_size = 0.2, random_state=42)"
   ]
  },
  {
   "cell_type": "markdown",
   "id": "promotional-schedule",
   "metadata": {
    "papermill": {
     "duration": 0.055509,
     "end_time": "2021-05-14T16:30:17.640584",
     "exception": false,
     "start_time": "2021-05-14T16:30:17.585075",
     "status": "completed"
    },
    "tags": []
   },
   "source": [
    "# DECISION TREE"
   ]
  },
  {
   "cell_type": "code",
   "execution_count": 28,
   "id": "separated-judges",
   "metadata": {
    "execution": {
     "iopub.execute_input": "2021-05-14T16:30:17.755542Z",
     "iopub.status.busy": "2021-05-14T16:30:17.754871Z",
     "iopub.status.idle": "2021-05-14T16:30:17.981083Z",
     "shell.execute_reply": "2021-05-14T16:30:17.979914Z"
    },
    "papermill": {
     "duration": 0.285443,
     "end_time": "2021-05-14T16:30:17.981243",
     "exception": false,
     "start_time": "2021-05-14T16:30:17.695800",
     "status": "completed"
    },
    "tags": []
   },
   "outputs": [],
   "source": [
    "from sklearn.tree import DecisionTreeClassifier"
   ]
  },
  {
   "cell_type": "code",
   "execution_count": 29,
   "id": "exotic-photography",
   "metadata": {
    "execution": {
     "iopub.execute_input": "2021-05-14T16:30:18.099301Z",
     "iopub.status.busy": "2021-05-14T16:30:18.098671Z",
     "iopub.status.idle": "2021-05-14T16:30:18.101140Z",
     "shell.execute_reply": "2021-05-14T16:30:18.101652Z"
    },
    "papermill": {
     "duration": 0.064318,
     "end_time": "2021-05-14T16:30:18.101831",
     "exception": false,
     "start_time": "2021-05-14T16:30:18.037513",
     "status": "completed"
    },
    "tags": []
   },
   "outputs": [],
   "source": [
    "DT = DecisionTreeClassifier()"
   ]
  },
  {
   "cell_type": "code",
   "execution_count": 30,
   "id": "miniature-exclusive",
   "metadata": {
    "execution": {
     "iopub.execute_input": "2021-05-14T16:30:18.220414Z",
     "iopub.status.busy": "2021-05-14T16:30:18.219292Z",
     "iopub.status.idle": "2021-05-14T16:30:18.237476Z",
     "shell.execute_reply": "2021-05-14T16:30:18.236900Z"
    },
    "papermill": {
     "duration": 0.080113,
     "end_time": "2021-05-14T16:30:18.237627",
     "exception": false,
     "start_time": "2021-05-14T16:30:18.157514",
     "status": "completed"
    },
    "tags": []
   },
   "outputs": [
    {
     "data": {
      "text/plain": [
       "DecisionTreeClassifier()"
      ]
     },
     "execution_count": 30,
     "metadata": {},
     "output_type": "execute_result"
    }
   ],
   "source": [
    "DT.fit(X_train , y_train)"
   ]
  },
  {
   "cell_type": "code",
   "execution_count": 31,
   "id": "hawaiian-dress",
   "metadata": {
    "execution": {
     "iopub.execute_input": "2021-05-14T16:30:18.356132Z",
     "iopub.status.busy": "2021-05-14T16:30:18.355475Z",
     "iopub.status.idle": "2021-05-14T16:30:18.359341Z",
     "shell.execute_reply": "2021-05-14T16:30:18.358647Z"
    },
    "papermill": {
     "duration": 0.065924,
     "end_time": "2021-05-14T16:30:18.359497",
     "exception": false,
     "start_time": "2021-05-14T16:30:18.293573",
     "status": "completed"
    },
    "tags": []
   },
   "outputs": [],
   "source": [
    "predict = DT.predict(X_test)"
   ]
  },
  {
   "cell_type": "code",
   "execution_count": 32,
   "id": "changed-douglas",
   "metadata": {
    "execution": {
     "iopub.execute_input": "2021-05-14T16:30:18.478635Z",
     "iopub.status.busy": "2021-05-14T16:30:18.477936Z",
     "iopub.status.idle": "2021-05-14T16:30:18.482141Z",
     "shell.execute_reply": "2021-05-14T16:30:18.482619Z"
    },
    "papermill": {
     "duration": 0.067128,
     "end_time": "2021-05-14T16:30:18.482798",
     "exception": false,
     "start_time": "2021-05-14T16:30:18.415670",
     "status": "completed"
    },
    "tags": []
   },
   "outputs": [],
   "source": [
    "DT_accuracy = DT.score(X_test,y_test)"
   ]
  },
  {
   "cell_type": "code",
   "execution_count": 33,
   "id": "dietary-virginia",
   "metadata": {
    "execution": {
     "iopub.execute_input": "2021-05-14T16:30:18.604672Z",
     "iopub.status.busy": "2021-05-14T16:30:18.603985Z",
     "iopub.status.idle": "2021-05-14T16:30:18.607921Z",
     "shell.execute_reply": "2021-05-14T16:30:18.608378Z"
    },
    "papermill": {
     "duration": 0.064679,
     "end_time": "2021-05-14T16:30:18.608570",
     "exception": false,
     "start_time": "2021-05-14T16:30:18.543891",
     "status": "completed"
    },
    "tags": []
   },
   "outputs": [
    {
     "data": {
      "text/plain": [
       "0.9886363636363636"
      ]
     },
     "execution_count": 33,
     "metadata": {},
     "output_type": "execute_result"
    }
   ],
   "source": [
    "DT_accuracy"
   ]
  },
  {
   "cell_type": "code",
   "execution_count": 34,
   "id": "composed-princess",
   "metadata": {
    "execution": {
     "iopub.execute_input": "2021-05-14T16:30:18.725959Z",
     "iopub.status.busy": "2021-05-14T16:30:18.725310Z",
     "iopub.status.idle": "2021-05-14T16:30:18.728660Z",
     "shell.execute_reply": "2021-05-14T16:30:18.728105Z"
    },
    "papermill": {
     "duration": 0.063869,
     "end_time": "2021-05-14T16:30:18.728799",
     "exception": false,
     "start_time": "2021-05-14T16:30:18.664930",
     "status": "completed"
    },
    "tags": []
   },
   "outputs": [],
   "source": [
    "accuracy.append(DT_accuracy)"
   ]
  },
  {
   "cell_type": "code",
   "execution_count": 35,
   "id": "tender-poverty",
   "metadata": {
    "execution": {
     "iopub.execute_input": "2021-05-14T16:30:18.846658Z",
     "iopub.status.busy": "2021-05-14T16:30:18.845991Z",
     "iopub.status.idle": "2021-05-14T16:30:18.849687Z",
     "shell.execute_reply": "2021-05-14T16:30:18.849186Z"
    },
    "papermill": {
     "duration": 0.064551,
     "end_time": "2021-05-14T16:30:18.849823",
     "exception": false,
     "start_time": "2021-05-14T16:30:18.785272",
     "status": "completed"
    },
    "tags": []
   },
   "outputs": [],
   "source": [
    "model.append('Decision Tree')"
   ]
  },
  {
   "cell_type": "markdown",
   "id": "recreational-leonard",
   "metadata": {
    "papermill": {
     "duration": 0.057265,
     "end_time": "2021-05-14T16:30:18.963576",
     "exception": false,
     "start_time": "2021-05-14T16:30:18.906311",
     "status": "completed"
    },
    "tags": []
   },
   "source": [
    "# LOGISTIC REGRESSION"
   ]
  },
  {
   "cell_type": "code",
   "execution_count": 36,
   "id": "severe-correction",
   "metadata": {
    "execution": {
     "iopub.execute_input": "2021-05-14T16:30:19.081124Z",
     "iopub.status.busy": "2021-05-14T16:30:19.080526Z",
     "iopub.status.idle": "2021-05-14T16:30:19.083222Z",
     "shell.execute_reply": "2021-05-14T16:30:19.082619Z"
    },
    "papermill": {
     "duration": 0.063367,
     "end_time": "2021-05-14T16:30:19.083350",
     "exception": false,
     "start_time": "2021-05-14T16:30:19.019983",
     "status": "completed"
    },
    "tags": []
   },
   "outputs": [],
   "source": [
    "from sklearn.linear_model import LogisticRegression"
   ]
  },
  {
   "cell_type": "code",
   "execution_count": 37,
   "id": "sacred-bidding",
   "metadata": {
    "execution": {
     "iopub.execute_input": "2021-05-14T16:30:19.202854Z",
     "iopub.status.busy": "2021-05-14T16:30:19.202188Z",
     "iopub.status.idle": "2021-05-14T16:30:19.204538Z",
     "shell.execute_reply": "2021-05-14T16:30:19.203922Z"
    },
    "papermill": {
     "duration": 0.063704,
     "end_time": "2021-05-14T16:30:19.204673",
     "exception": false,
     "start_time": "2021-05-14T16:30:19.140969",
     "status": "completed"
    },
    "tags": []
   },
   "outputs": [],
   "source": [
    "LG = LogisticRegression()"
   ]
  },
  {
   "cell_type": "code",
   "execution_count": 38,
   "id": "interpreted-narrow",
   "metadata": {
    "execution": {
     "iopub.execute_input": "2021-05-14T16:30:19.327786Z",
     "iopub.status.busy": "2021-05-14T16:30:19.327120Z",
     "iopub.status.idle": "2021-05-14T16:30:19.843910Z",
     "shell.execute_reply": "2021-05-14T16:30:19.844782Z"
    },
    "papermill": {
     "duration": 0.58204,
     "end_time": "2021-05-14T16:30:19.845043",
     "exception": false,
     "start_time": "2021-05-14T16:30:19.263003",
     "status": "completed"
    },
    "tags": []
   },
   "outputs": [
    {
     "name": "stderr",
     "output_type": "stream",
     "text": [
      "/opt/conda/lib/python3.7/site-packages/sklearn/linear_model/_logistic.py:765: ConvergenceWarning: lbfgs failed to converge (status=1):\n",
      "STOP: TOTAL NO. of ITERATIONS REACHED LIMIT.\n",
      "\n",
      "Increase the number of iterations (max_iter) or scale the data as shown in:\n",
      "    https://scikit-learn.org/stable/modules/preprocessing.html\n",
      "Please also refer to the documentation for alternative solver options:\n",
      "    https://scikit-learn.org/stable/modules/linear_model.html#logistic-regression\n",
      "  extra_warning_msg=_LOGISTIC_SOLVER_CONVERGENCE_MSG)\n"
     ]
    },
    {
     "data": {
      "text/plain": [
       "LogisticRegression()"
      ]
     },
     "execution_count": 38,
     "metadata": {},
     "output_type": "execute_result"
    }
   ],
   "source": [
    "LG.fit(X_train , y_train)"
   ]
  },
  {
   "cell_type": "code",
   "execution_count": 39,
   "id": "encouraging-asbestos",
   "metadata": {
    "execution": {
     "iopub.execute_input": "2021-05-14T16:30:20.017848Z",
     "iopub.status.busy": "2021-05-14T16:30:20.016989Z",
     "iopub.status.idle": "2021-05-14T16:30:20.021339Z",
     "shell.execute_reply": "2021-05-14T16:30:20.020756Z"
    },
    "papermill": {
     "duration": 0.073863,
     "end_time": "2021-05-14T16:30:20.021492",
     "exception": false,
     "start_time": "2021-05-14T16:30:19.947629",
     "status": "completed"
    },
    "tags": []
   },
   "outputs": [],
   "source": [
    "LG_accuracy = LG.score(X_test,y_test)"
   ]
  },
  {
   "cell_type": "code",
   "execution_count": 40,
   "id": "ambient-smart",
   "metadata": {
    "execution": {
     "iopub.execute_input": "2021-05-14T16:30:20.143565Z",
     "iopub.status.busy": "2021-05-14T16:30:20.142789Z",
     "iopub.status.idle": "2021-05-14T16:30:20.146010Z",
     "shell.execute_reply": "2021-05-14T16:30:20.146524Z"
    },
    "papermill": {
     "duration": 0.067082,
     "end_time": "2021-05-14T16:30:20.146705",
     "exception": false,
     "start_time": "2021-05-14T16:30:20.079623",
     "status": "completed"
    },
    "tags": []
   },
   "outputs": [
    {
     "data": {
      "text/plain": [
       "0.9454545454545454"
      ]
     },
     "execution_count": 40,
     "metadata": {},
     "output_type": "execute_result"
    }
   ],
   "source": [
    "LG_accuracy"
   ]
  },
  {
   "cell_type": "code",
   "execution_count": 41,
   "id": "derived-thirty",
   "metadata": {
    "execution": {
     "iopub.execute_input": "2021-05-14T16:30:20.266764Z",
     "iopub.status.busy": "2021-05-14T16:30:20.265806Z",
     "iopub.status.idle": "2021-05-14T16:30:20.269601Z",
     "shell.execute_reply": "2021-05-14T16:30:20.270041Z"
    },
    "papermill": {
     "duration": 0.065425,
     "end_time": "2021-05-14T16:30:20.270205",
     "exception": false,
     "start_time": "2021-05-14T16:30:20.204780",
     "status": "completed"
    },
    "tags": []
   },
   "outputs": [],
   "source": [
    "accuracy.append(LG_accuracy)"
   ]
  },
  {
   "cell_type": "code",
   "execution_count": 42,
   "id": "cooked-graham",
   "metadata": {
    "execution": {
     "iopub.execute_input": "2021-05-14T16:30:20.390658Z",
     "iopub.status.busy": "2021-05-14T16:30:20.389668Z",
     "iopub.status.idle": "2021-05-14T16:30:20.393431Z",
     "shell.execute_reply": "2021-05-14T16:30:20.393891Z"
    },
    "papermill": {
     "duration": 0.065442,
     "end_time": "2021-05-14T16:30:20.394055",
     "exception": false,
     "start_time": "2021-05-14T16:30:20.328613",
     "status": "completed"
    },
    "tags": []
   },
   "outputs": [],
   "source": [
    "model.append('Logistic Regression')"
   ]
  },
  {
   "cell_type": "markdown",
   "id": "crucial-forum",
   "metadata": {
    "papermill": {
     "duration": 0.059535,
     "end_time": "2021-05-14T16:30:20.511540",
     "exception": false,
     "start_time": "2021-05-14T16:30:20.452005",
     "status": "completed"
    },
    "tags": []
   },
   "source": [
    "# RANDOM FOREST"
   ]
  },
  {
   "cell_type": "code",
   "execution_count": 43,
   "id": "supported-train",
   "metadata": {
    "execution": {
     "iopub.execute_input": "2021-05-14T16:30:20.632107Z",
     "iopub.status.busy": "2021-05-14T16:30:20.631249Z",
     "iopub.status.idle": "2021-05-14T16:30:20.663934Z",
     "shell.execute_reply": "2021-05-14T16:30:20.663355Z"
    },
    "papermill": {
     "duration": 0.093913,
     "end_time": "2021-05-14T16:30:20.664072",
     "exception": false,
     "start_time": "2021-05-14T16:30:20.570159",
     "status": "completed"
    },
    "tags": []
   },
   "outputs": [],
   "source": [
    "from sklearn.ensemble import RandomForestClassifier"
   ]
  },
  {
   "cell_type": "code",
   "execution_count": 44,
   "id": "invisible-nelson",
   "metadata": {
    "execution": {
     "iopub.execute_input": "2021-05-14T16:30:20.784819Z",
     "iopub.status.busy": "2021-05-14T16:30:20.784205Z",
     "iopub.status.idle": "2021-05-14T16:30:20.787762Z",
     "shell.execute_reply": "2021-05-14T16:30:20.788327Z"
    },
    "papermill": {
     "duration": 0.065843,
     "end_time": "2021-05-14T16:30:20.788512",
     "exception": false,
     "start_time": "2021-05-14T16:30:20.722669",
     "status": "completed"
    },
    "tags": []
   },
   "outputs": [],
   "source": [
    "RF = RandomForestClassifier()"
   ]
  },
  {
   "cell_type": "code",
   "execution_count": 45,
   "id": "nominated-salvation",
   "metadata": {
    "execution": {
     "iopub.execute_input": "2021-05-14T16:30:20.909882Z",
     "iopub.status.busy": "2021-05-14T16:30:20.909253Z",
     "iopub.status.idle": "2021-05-14T16:30:21.301475Z",
     "shell.execute_reply": "2021-05-14T16:30:21.301962Z"
    },
    "papermill": {
     "duration": 0.454136,
     "end_time": "2021-05-14T16:30:21.302128",
     "exception": false,
     "start_time": "2021-05-14T16:30:20.847992",
     "status": "completed"
    },
    "tags": []
   },
   "outputs": [
    {
     "data": {
      "text/plain": [
       "RandomForestClassifier()"
      ]
     },
     "execution_count": 45,
     "metadata": {},
     "output_type": "execute_result"
    }
   ],
   "source": [
    "RF.fit(X_train , y_train)"
   ]
  },
  {
   "cell_type": "code",
   "execution_count": 46,
   "id": "available-symbol",
   "metadata": {
    "execution": {
     "iopub.execute_input": "2021-05-14T16:30:21.423467Z",
     "iopub.status.busy": "2021-05-14T16:30:21.422700Z",
     "iopub.status.idle": "2021-05-14T16:30:21.449562Z",
     "shell.execute_reply": "2021-05-14T16:30:21.450022Z"
    },
    "papermill": {
     "duration": 0.088981,
     "end_time": "2021-05-14T16:30:21.450206",
     "exception": false,
     "start_time": "2021-05-14T16:30:21.361225",
     "status": "completed"
    },
    "tags": []
   },
   "outputs": [],
   "source": [
    "RF_accuracy = RF.score(X_test,y_test)"
   ]
  },
  {
   "cell_type": "code",
   "execution_count": 47,
   "id": "educational-worry",
   "metadata": {
    "execution": {
     "iopub.execute_input": "2021-05-14T16:30:21.600017Z",
     "iopub.status.busy": "2021-05-14T16:30:21.599392Z",
     "iopub.status.idle": "2021-05-14T16:30:21.603838Z",
     "shell.execute_reply": "2021-05-14T16:30:21.604409Z"
    },
    "papermill": {
     "duration": 0.085515,
     "end_time": "2021-05-14T16:30:21.604585",
     "exception": false,
     "start_time": "2021-05-14T16:30:21.519070",
     "status": "completed"
    },
    "tags": []
   },
   "outputs": [
    {
     "data": {
      "text/plain": [
       "0.9931818181818182"
      ]
     },
     "execution_count": 47,
     "metadata": {},
     "output_type": "execute_result"
    }
   ],
   "source": [
    "RF_accuracy"
   ]
  },
  {
   "cell_type": "code",
   "execution_count": 48,
   "id": "solid-oriental",
   "metadata": {
    "execution": {
     "iopub.execute_input": "2021-05-14T16:30:21.727327Z",
     "iopub.status.busy": "2021-05-14T16:30:21.726672Z",
     "iopub.status.idle": "2021-05-14T16:30:21.730577Z",
     "shell.execute_reply": "2021-05-14T16:30:21.731023Z"
    },
    "papermill": {
     "duration": 0.066756,
     "end_time": "2021-05-14T16:30:21.731186",
     "exception": false,
     "start_time": "2021-05-14T16:30:21.664430",
     "status": "completed"
    },
    "tags": []
   },
   "outputs": [],
   "source": [
    "accuracy.append(RF_accuracy)\n",
    "model.append('Random Forest')"
   ]
  },
  {
   "cell_type": "code",
   "execution_count": 49,
   "id": "quarterly-spanish",
   "metadata": {
    "execution": {
     "iopub.execute_input": "2021-05-14T16:30:21.855997Z",
     "iopub.status.busy": "2021-05-14T16:30:21.855310Z",
     "iopub.status.idle": "2021-05-14T16:30:21.858152Z",
     "shell.execute_reply": "2021-05-14T16:30:21.858698Z"
    },
    "papermill": {
     "duration": 0.067856,
     "end_time": "2021-05-14T16:30:21.858887",
     "exception": false,
     "start_time": "2021-05-14T16:30:21.791031",
     "status": "completed"
    },
    "tags": []
   },
   "outputs": [
    {
     "data": {
      "text/plain": [
       "['Decision Tree', 'Logistic Regression', 'Random Forest']"
      ]
     },
     "execution_count": 49,
     "metadata": {},
     "output_type": "execute_result"
    }
   ],
   "source": [
    "model"
   ]
  },
  {
   "cell_type": "code",
   "execution_count": 50,
   "id": "characteristic-outline",
   "metadata": {
    "execution": {
     "iopub.execute_input": "2021-05-14T16:30:21.987722Z",
     "iopub.status.busy": "2021-05-14T16:30:21.987086Z",
     "iopub.status.idle": "2021-05-14T16:30:21.993286Z",
     "shell.execute_reply": "2021-05-14T16:30:21.992748Z"
    },
    "papermill": {
     "duration": 0.071507,
     "end_time": "2021-05-14T16:30:21.993423",
     "exception": false,
     "start_time": "2021-05-14T16:30:21.921916",
     "status": "completed"
    },
    "tags": []
   },
   "outputs": [
    {
     "data": {
      "text/plain": [
       "[0.9886363636363636, 0.9454545454545454, 0.9931818181818182]"
      ]
     },
     "execution_count": 50,
     "metadata": {},
     "output_type": "execute_result"
    }
   ],
   "source": [
    "accuracy"
   ]
  },
  {
   "cell_type": "code",
   "execution_count": 51,
   "id": "considered-syndication",
   "metadata": {
    "execution": {
     "iopub.execute_input": "2021-05-14T16:30:22.144539Z",
     "iopub.status.busy": "2021-05-14T16:30:22.143527Z",
     "iopub.status.idle": "2021-05-14T16:30:22.245143Z",
     "shell.execute_reply": "2021-05-14T16:30:22.245637Z"
    },
    "papermill": {
     "duration": 0.190959,
     "end_time": "2021-05-14T16:30:22.245820",
     "exception": false,
     "start_time": "2021-05-14T16:30:22.054861",
     "status": "completed"
    },
    "tags": []
   },
   "outputs": [
    {
     "data": {
      "text/plain": [
       "<AxesSubplot:>"
      ]
     },
     "execution_count": 51,
     "metadata": {},
     "output_type": "execute_result"
    },
    {
     "data": {
      "image/png": "[encoded data removed]",
      "text/plain": [
       "<Figure size 432x288 with 1 Axes>"
      ]
     },
     "metadata": {
      "needs_background": "light"
     },
     "output_type": "display_data"
    }
   ],
   "source": [
    "sns.barplot(x = model , y = accuracy ,palette ='Spectral')"
   ]
  }
 ],
 "metadata": {
  "kernelspec": {
   "display_name": "Python 3",
   "language": "python",
   "name": "python3"
  },
  "language_info": {
   "codemirror_mode": {
    "name": "ipython",
    "version": 3
   },
   "file_extension": ".py",
   "mimetype": "text/x-python",
   "name": "python",
   "nbconvert_exporter": "python",
   "pygments_lexer": "ipython3",
   "version": "3.7.10"
  },
  "papermill": {
   "default_parameters": {},
   "duration": 21.949453,
   "end_time": "2021-05-14T16:30:23.959058",
   "environment_variables": {},
   "exception": null,
   "input_path": "__notebook__.ipynb",
   "output_path": "__notebook__.ipynb",
   "parameters": {},
   "start_time": "2021-05-14T16:30:02.009605",
   "version": "2.3.3"
  }
 },
 "nbformat": 4,
 "nbformat_minor": 5
}
