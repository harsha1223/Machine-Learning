{
 "cells": [
  {
   "cell_type": "code",
   "execution_count": 1,
   "id": "irish-rubber",
   "metadata": {
    "_cell_guid": "b1076dfc-b9ad-4769-8c92-a6c4dae69d19",
    "_uuid": "8f2839f25d086af736a60e9eeb907d3b93b6e0e5",
    "execution": {
     "iopub.execute_input": "2021-04-18T17:55:43.076634Z",
     "iopub.status.busy": "2021-04-18T17:55:43.075991Z",
     "iopub.status.idle": "2021-04-18T17:55:43.092919Z",
     "shell.execute_reply": "2021-04-18T17:55:43.091998Z"
    },
    "papermill": {
     "duration": 0.068099,
     "end_time": "2021-04-18T17:55:43.093110",
     "exception": false,
     "start_time": "2021-04-18T17:55:43.025011",
     "status": "completed"
    },
    "tags": []
   },
   "outputs": [
    {
     "name": "stdout",
     "output_type": "stream",
     "text": [
      "/kaggle/input/mobile-price-classification/train.csv\n",
      "/kaggle/input/mobile-price-classification/test.csv\n"
     ]
    }
   ],
   "source": [
    "# This Python 3 environment comes with many helpful analytics libraries installed\n",
    "# It is defined by the kaggle/python Docker image: https://github.com/kaggle/docker-python\n",
    "# For example, here's several helpful packages to load\n",
    "\n",
    "import numpy as np # linear algebra\n",
    "import pandas as pd # data processing, CSV file I/O (e.g. pd.read_csv)\n",
    "\n",
    "# Input data files are available in the read-only \"../input/\" directory\n",
    "# For example, running this (by clicking run or pressing Shift+Enter) will list all files under the input directory\n",
    "\n",
    "import os\n",
    "for dirname, _, filenames in os.walk('/kaggle/input'):\n",
    "    for filename in filenames:\n",
    "        print(os.path.join(dirname, filename))\n",
    "\n",
    "# You can write up to 20GB to the current directory (/kaggle/working/) that gets preserved as output when you create a version using \"Save & Run All\" \n",
    "# You can also write temporary files to /kaggle/temp/, but they won't be saved outside of the current session"
   ]
  },
  {
   "cell_type": "code",
   "execution_count": 2,
   "id": "sound-stewart",
   "metadata": {
    "execution": {
     "iopub.execute_input": "2021-04-18T17:55:43.182685Z",
     "iopub.status.busy": "2021-04-18T17:55:43.181860Z",
     "iopub.status.idle": "2021-04-18T17:55:43.184808Z",
     "shell.execute_reply": "2021-04-18T17:55:43.184119Z"
    },
    "papermill": {
     "duration": 0.049465,
     "end_time": "2021-04-18T17:55:43.184975",
     "exception": false,
     "start_time": "2021-04-18T17:55:43.135510",
     "status": "completed"
    },
    "tags": []
   },
   "outputs": [],
   "source": [
    "import pandas as pd\n",
    "import matplotlib.pyplot as plt"
   ]
  },
  {
   "cell_type": "code",
   "execution_count": 3,
   "id": "breeding-spring",
   "metadata": {
    "execution": {
     "iopub.execute_input": "2021-04-18T17:55:43.275392Z",
     "iopub.status.busy": "2021-04-18T17:55:43.272792Z",
     "iopub.status.idle": "2021-04-18T17:55:43.299326Z",
     "shell.execute_reply": "2021-04-18T17:55:43.299900Z"
    },
    "papermill": {
     "duration": 0.072528,
     "end_time": "2021-04-18T17:55:43.300261",
     "exception": false,
     "start_time": "2021-04-18T17:55:43.227733",
     "status": "completed"
    },
    "tags": []
   },
   "outputs": [],
   "source": [
    "df_train = pd.read_csv('../input/mobile-price-classification/train.csv')"
   ]
  },
  {
   "cell_type": "code",
   "execution_count": 4,
   "id": "confused-letters",
   "metadata": {
    "execution": {
     "iopub.execute_input": "2021-04-18T17:55:43.395828Z",
     "iopub.status.busy": "2021-04-18T17:55:43.395037Z",
     "iopub.status.idle": "2021-04-18T17:55:43.438709Z",
     "shell.execute_reply": "2021-04-18T17:55:43.439298Z"
    },
    "papermill": {
     "duration": 0.093694,
     "end_time": "2021-04-18T17:55:43.439495",
     "exception": false,
     "start_time": "2021-04-18T17:55:43.345801",
     "status": "completed"
    },
    "tags": []
   },
   "outputs": [
    {
     "data": {
      "text/html": [
       "<div>\n",
       "<style scoped>\n",
       "    .dataframe tbody tr th:only-of-type {\n",
       "        vertical-align: middle;\n",
       "    }\n",
       "\n",
       "    .dataframe tbody tr th {\n",
       "        vertical-align: top;\n",
       "    }\n",
       "\n",
       "    .dataframe thead th {\n",
       "        text-align: right;\n",
       "    }\n",
       "</style>\n",
       "<table border=\"1\" class=\"dataframe\">\n",
       "  <thead>\n",
       "    <tr style=\"text-align: right;\">\n",
       "      <th></th>\n",
       "      <th>battery_power</th>\n",
       "      <th>blue</th>\n",
       "      <th>clock_speed</th>\n",
       "      <th>dual_sim</th>\n",
       "      <th>fc</th>\n",
       "      <th>four_g</th>\n",
       "      <th>int_memory</th>\n",
       "      <th>m_dep</th>\n",
       "      <th>mobile_wt</th>\n",
       "      <th>n_cores</th>\n",
       "      <th>...</th>\n",
       "      <th>px_height</th>\n",
       "      <th>px_width</th>\n",
       "      <th>ram</th>\n",
       "      <th>sc_h</th>\n",
       "      <th>sc_w</th>\n",
       "      <th>talk_time</th>\n",
       "      <th>three_g</th>\n",
       "      <th>touch_screen</th>\n",
       "      <th>wifi</th>\n",
       "      <th>price_range</th>\n",
       "    </tr>\n",
       "  </thead>\n",
       "  <tbody>\n",
       "    <tr>\n",
       "      <th>0</th>\n",
       "      <td>842</td>\n",
       "      <td>0</td>\n",
       "      <td>2.2</td>\n",
       "      <td>0</td>\n",
       "      <td>1</td>\n",
       "      <td>0</td>\n",
       "      <td>7</td>\n",
       "      <td>0.6</td>\n",
       "      <td>188</td>\n",
       "      <td>2</td>\n",
       "      <td>...</td>\n",
       "      <td>20</td>\n",
       "      <td>756</td>\n",
       "      <td>2549</td>\n",
       "      <td>9</td>\n",
       "      <td>7</td>\n",
       "      <td>19</td>\n",
       "      <td>0</td>\n",
       "      <td>0</td>\n",
       "      <td>1</td>\n",
       "      <td>1</td>\n",
       "    </tr>\n",
       "    <tr>\n",
       "      <th>1</th>\n",
       "      <td>1021</td>\n",
       "      <td>1</td>\n",
       "      <td>0.5</td>\n",
       "      <td>1</td>\n",
       "      <td>0</td>\n",
       "      <td>1</td>\n",
       "      <td>53</td>\n",
       "      <td>0.7</td>\n",
       "      <td>136</td>\n",
       "      <td>3</td>\n",
       "      <td>...</td>\n",
       "      <td>905</td>\n",
       "      <td>1988</td>\n",
       "      <td>2631</td>\n",
       "      <td>17</td>\n",
       "      <td>3</td>\n",
       "      <td>7</td>\n",
       "      <td>1</td>\n",
       "      <td>1</td>\n",
       "      <td>0</td>\n",
       "      <td>2</td>\n",
       "    </tr>\n",
       "    <tr>\n",
       "      <th>2</th>\n",
       "      <td>563</td>\n",
       "      <td>1</td>\n",
       "      <td>0.5</td>\n",
       "      <td>1</td>\n",
       "      <td>2</td>\n",
       "      <td>1</td>\n",
       "      <td>41</td>\n",
       "      <td>0.9</td>\n",
       "      <td>145</td>\n",
       "      <td>5</td>\n",
       "      <td>...</td>\n",
       "      <td>1263</td>\n",
       "      <td>1716</td>\n",
       "      <td>2603</td>\n",
       "      <td>11</td>\n",
       "      <td>2</td>\n",
       "      <td>9</td>\n",
       "      <td>1</td>\n",
       "      <td>1</td>\n",
       "      <td>0</td>\n",
       "      <td>2</td>\n",
       "    </tr>\n",
       "    <tr>\n",
       "      <th>3</th>\n",
       "      <td>615</td>\n",
       "      <td>1</td>\n",
       "      <td>2.5</td>\n",
       "      <td>0</td>\n",
       "      <td>0</td>\n",
       "      <td>0</td>\n",
       "      <td>10</td>\n",
       "      <td>0.8</td>\n",
       "      <td>131</td>\n",
       "      <td>6</td>\n",
       "      <td>...</td>\n",
       "      <td>1216</td>\n",
       "      <td>1786</td>\n",
       "      <td>2769</td>\n",
       "      <td>16</td>\n",
       "      <td>8</td>\n",
       "      <td>11</td>\n",
       "      <td>1</td>\n",
       "      <td>0</td>\n",
       "      <td>0</td>\n",
       "      <td>2</td>\n",
       "    </tr>\n",
       "    <tr>\n",
       "      <th>4</th>\n",
       "      <td>1821</td>\n",
       "      <td>1</td>\n",
       "      <td>1.2</td>\n",
       "      <td>0</td>\n",
       "      <td>13</td>\n",
       "      <td>1</td>\n",
       "      <td>44</td>\n",
       "      <td>0.6</td>\n",
       "      <td>141</td>\n",
       "      <td>2</td>\n",
       "      <td>...</td>\n",
       "      <td>1208</td>\n",
       "      <td>1212</td>\n",
       "      <td>1411</td>\n",
       "      <td>8</td>\n",
       "      <td>2</td>\n",
       "      <td>15</td>\n",
       "      <td>1</td>\n",
       "      <td>1</td>\n",
       "      <td>0</td>\n",
       "      <td>1</td>\n",
       "    </tr>\n",
       "  </tbody>\n",
       "</table>\n",
       "<p>5 rows × 21 columns</p>\n",
       "</div>"
      ],
      "text/plain": [
       "   battery_power  blue  clock_speed  dual_sim  fc  four_g  int_memory  m_dep  \\\n",
       "0            842     0          2.2         0   1       0           7    0.6   \n",
       "1           1021     1          0.5         1   0       1          53    0.7   \n",
       "2            563     1          0.5         1   2       1          41    0.9   \n",
       "3            615     1          2.5         0   0       0          10    0.8   \n",
       "4           1821     1          1.2         0  13       1          44    0.6   \n",
       "\n",
       "   mobile_wt  n_cores  ...  px_height  px_width   ram  sc_h  sc_w  talk_time  \\\n",
       "0        188        2  ...         20       756  2549     9     7         19   \n",
       "1        136        3  ...        905      1988  2631    17     3          7   \n",
       "2        145        5  ...       1263      1716  2603    11     2          9   \n",
       "3        131        6  ...       1216      1786  2769    16     8         11   \n",
       "4        141        2  ...       1208      1212  1411     8     2         15   \n",
       "\n",
       "   three_g  touch_screen  wifi  price_range  \n",
       "0        0             0     1            1  \n",
       "1        1             1     0            2  \n",
       "2        1             1     0            2  \n",
       "3        1             0     0            2  \n",
       "4        1             1     0            1  \n",
       "\n",
       "[5 rows x 21 columns]"
      ]
     },
     "execution_count": 4,
     "metadata": {},
     "output_type": "execute_result"
    }
   ],
   "source": [
    "df_train.head()"
   ]
  },
  {
   "cell_type": "code",
   "execution_count": 5,
   "id": "advance-inspector",
   "metadata": {
    "execution": {
     "iopub.execute_input": "2021-04-18T17:55:43.533359Z",
     "iopub.status.busy": "2021-04-18T17:55:43.532600Z",
     "iopub.status.idle": "2021-04-18T17:55:43.551027Z",
     "shell.execute_reply": "2021-04-18T17:55:43.550351Z"
    },
    "papermill": {
     "duration": 0.065635,
     "end_time": "2021-04-18T17:55:43.551189",
     "exception": false,
     "start_time": "2021-04-18T17:55:43.485554",
     "status": "completed"
    },
    "tags": []
   },
   "outputs": [],
   "source": [
    "df_test = pd.read_csv('../input/mobile-price-classification/test.csv')"
   ]
  },
  {
   "cell_type": "code",
   "execution_count": 6,
   "id": "continuous-province",
   "metadata": {
    "execution": {
     "iopub.execute_input": "2021-04-18T17:55:43.658925Z",
     "iopub.status.busy": "2021-04-18T17:55:43.657771Z",
     "iopub.status.idle": "2021-04-18T17:55:43.672952Z",
     "shell.execute_reply": "2021-04-18T17:55:43.673504Z"
    },
    "papermill": {
     "duration": 0.07629,
     "end_time": "2021-04-18T17:55:43.673694",
     "exception": false,
     "start_time": "2021-04-18T17:55:43.597404",
     "status": "completed"
    },
    "tags": []
   },
   "outputs": [
    {
     "data": {
      "text/html": [
       "<div>\n",
       "<style scoped>\n",
       "    .dataframe tbody tr th:only-of-type {\n",
       "        vertical-align: middle;\n",
       "    }\n",
       "\n",
       "    .dataframe tbody tr th {\n",
       "        vertical-align: top;\n",
       "    }\n",
       "\n",
       "    .dataframe thead th {\n",
       "        text-align: right;\n",
       "    }\n",
       "</style>\n",
       "<table border=\"1\" class=\"dataframe\">\n",
       "  <thead>\n",
       "    <tr style=\"text-align: right;\">\n",
       "      <th></th>\n",
       "      <th>id</th>\n",
       "      <th>battery_power</th>\n",
       "      <th>blue</th>\n",
       "      <th>clock_speed</th>\n",
       "      <th>dual_sim</th>\n",
       "      <th>fc</th>\n",
       "      <th>four_g</th>\n",
       "      <th>int_memory</th>\n",
       "      <th>m_dep</th>\n",
       "      <th>mobile_wt</th>\n",
       "      <th>...</th>\n",
       "      <th>pc</th>\n",
       "      <th>px_height</th>\n",
       "      <th>px_width</th>\n",
       "      <th>ram</th>\n",
       "      <th>sc_h</th>\n",
       "      <th>sc_w</th>\n",
       "      <th>talk_time</th>\n",
       "      <th>three_g</th>\n",
       "      <th>touch_screen</th>\n",
       "      <th>wifi</th>\n",
       "    </tr>\n",
       "  </thead>\n",
       "  <tbody>\n",
       "    <tr>\n",
       "      <th>0</th>\n",
       "      <td>1</td>\n",
       "      <td>1043</td>\n",
       "      <td>1</td>\n",
       "      <td>1.8</td>\n",
       "      <td>1</td>\n",
       "      <td>14</td>\n",
       "      <td>0</td>\n",
       "      <td>5</td>\n",
       "      <td>0.1</td>\n",
       "      <td>193</td>\n",
       "      <td>...</td>\n",
       "      <td>16</td>\n",
       "      <td>226</td>\n",
       "      <td>1412</td>\n",
       "      <td>3476</td>\n",
       "      <td>12</td>\n",
       "      <td>7</td>\n",
       "      <td>2</td>\n",
       "      <td>0</td>\n",
       "      <td>1</td>\n",
       "      <td>0</td>\n",
       "    </tr>\n",
       "    <tr>\n",
       "      <th>1</th>\n",
       "      <td>2</td>\n",
       "      <td>841</td>\n",
       "      <td>1</td>\n",
       "      <td>0.5</td>\n",
       "      <td>1</td>\n",
       "      <td>4</td>\n",
       "      <td>1</td>\n",
       "      <td>61</td>\n",
       "      <td>0.8</td>\n",
       "      <td>191</td>\n",
       "      <td>...</td>\n",
       "      <td>12</td>\n",
       "      <td>746</td>\n",
       "      <td>857</td>\n",
       "      <td>3895</td>\n",
       "      <td>6</td>\n",
       "      <td>0</td>\n",
       "      <td>7</td>\n",
       "      <td>1</td>\n",
       "      <td>0</td>\n",
       "      <td>0</td>\n",
       "    </tr>\n",
       "    <tr>\n",
       "      <th>2</th>\n",
       "      <td>3</td>\n",
       "      <td>1807</td>\n",
       "      <td>1</td>\n",
       "      <td>2.8</td>\n",
       "      <td>0</td>\n",
       "      <td>1</td>\n",
       "      <td>0</td>\n",
       "      <td>27</td>\n",
       "      <td>0.9</td>\n",
       "      <td>186</td>\n",
       "      <td>...</td>\n",
       "      <td>4</td>\n",
       "      <td>1270</td>\n",
       "      <td>1366</td>\n",
       "      <td>2396</td>\n",
       "      <td>17</td>\n",
       "      <td>10</td>\n",
       "      <td>10</td>\n",
       "      <td>0</td>\n",
       "      <td>1</td>\n",
       "      <td>1</td>\n",
       "    </tr>\n",
       "    <tr>\n",
       "      <th>3</th>\n",
       "      <td>4</td>\n",
       "      <td>1546</td>\n",
       "      <td>0</td>\n",
       "      <td>0.5</td>\n",
       "      <td>1</td>\n",
       "      <td>18</td>\n",
       "      <td>1</td>\n",
       "      <td>25</td>\n",
       "      <td>0.5</td>\n",
       "      <td>96</td>\n",
       "      <td>...</td>\n",
       "      <td>20</td>\n",
       "      <td>295</td>\n",
       "      <td>1752</td>\n",
       "      <td>3893</td>\n",
       "      <td>10</td>\n",
       "      <td>0</td>\n",
       "      <td>7</td>\n",
       "      <td>1</td>\n",
       "      <td>1</td>\n",
       "      <td>0</td>\n",
       "    </tr>\n",
       "    <tr>\n",
       "      <th>4</th>\n",
       "      <td>5</td>\n",
       "      <td>1434</td>\n",
       "      <td>0</td>\n",
       "      <td>1.4</td>\n",
       "      <td>0</td>\n",
       "      <td>11</td>\n",
       "      <td>1</td>\n",
       "      <td>49</td>\n",
       "      <td>0.5</td>\n",
       "      <td>108</td>\n",
       "      <td>...</td>\n",
       "      <td>18</td>\n",
       "      <td>749</td>\n",
       "      <td>810</td>\n",
       "      <td>1773</td>\n",
       "      <td>15</td>\n",
       "      <td>8</td>\n",
       "      <td>7</td>\n",
       "      <td>1</td>\n",
       "      <td>0</td>\n",
       "      <td>1</td>\n",
       "    </tr>\n",
       "  </tbody>\n",
       "</table>\n",
       "<p>5 rows × 21 columns</p>\n",
       "</div>"
      ],
      "text/plain": [
       "   id  battery_power  blue  clock_speed  dual_sim  fc  four_g  int_memory  \\\n",
       "0   1           1043     1          1.8         1  14       0           5   \n",
       "1   2            841     1          0.5         1   4       1          61   \n",
       "2   3           1807     1          2.8         0   1       0          27   \n",
       "3   4           1546     0          0.5         1  18       1          25   \n",
       "4   5           1434     0          1.4         0  11       1          49   \n",
       "\n",
       "   m_dep  mobile_wt  ...  pc  px_height  px_width   ram  sc_h  sc_w  \\\n",
       "0    0.1        193  ...  16        226      1412  3476    12     7   \n",
       "1    0.8        191  ...  12        746       857  3895     6     0   \n",
       "2    0.9        186  ...   4       1270      1366  2396    17    10   \n",
       "3    0.5         96  ...  20        295      1752  3893    10     0   \n",
       "4    0.5        108  ...  18        749       810  1773    15     8   \n",
       "\n",
       "   talk_time  three_g  touch_screen  wifi  \n",
       "0          2        0             1     0  \n",
       "1          7        1             0     0  \n",
       "2         10        0             1     1  \n",
       "3          7        1             1     0  \n",
       "4          7        1             0     1  \n",
       "\n",
       "[5 rows x 21 columns]"
      ]
     },
     "execution_count": 6,
     "metadata": {},
     "output_type": "execute_result"
    }
   ],
   "source": [
    "df_test.head()"
   ]
  },
  {
   "cell_type": "code",
   "execution_count": 7,
   "id": "bearing-wealth",
   "metadata": {
    "execution": {
     "iopub.execute_input": "2021-04-18T17:55:43.768747Z",
     "iopub.status.busy": "2021-04-18T17:55:43.767807Z",
     "iopub.status.idle": "2021-04-18T17:55:43.773174Z",
     "shell.execute_reply": "2021-04-18T17:55:43.772481Z"
    },
    "papermill": {
     "duration": 0.053958,
     "end_time": "2021-04-18T17:55:43.773372",
     "exception": false,
     "start_time": "2021-04-18T17:55:43.719414",
     "status": "completed"
    },
    "tags": []
   },
   "outputs": [
    {
     "data": {
      "text/plain": [
       "(2000, 21)"
      ]
     },
     "execution_count": 7,
     "metadata": {},
     "output_type": "execute_result"
    }
   ],
   "source": [
    "df_train.shape"
   ]
  },
  {
   "cell_type": "code",
   "execution_count": 8,
   "id": "diverse-orange",
   "metadata": {
    "execution": {
     "iopub.execute_input": "2021-04-18T17:55:43.870394Z",
     "iopub.status.busy": "2021-04-18T17:55:43.869309Z",
     "iopub.status.idle": "2021-04-18T17:55:43.874983Z",
     "shell.execute_reply": "2021-04-18T17:55:43.874418Z"
    },
    "papermill": {
     "duration": 0.054533,
     "end_time": "2021-04-18T17:55:43.875141",
     "exception": false,
     "start_time": "2021-04-18T17:55:43.820608",
     "status": "completed"
    },
    "tags": []
   },
   "outputs": [
    {
     "data": {
      "text/plain": [
       "(1000, 21)"
      ]
     },
     "execution_count": 8,
     "metadata": {},
     "output_type": "execute_result"
    }
   ],
   "source": [
    "df_test.shape"
   ]
  },
  {
   "cell_type": "code",
   "execution_count": 9,
   "id": "canadian-wings",
   "metadata": {
    "execution": {
     "iopub.execute_input": "2021-04-18T17:55:43.987492Z",
     "iopub.status.busy": "2021-04-18T17:55:43.971471Z",
     "iopub.status.idle": "2021-04-18T17:55:43.992150Z",
     "shell.execute_reply": "2021-04-18T17:55:43.991287Z"
    },
    "papermill": {
     "duration": 0.073122,
     "end_time": "2021-04-18T17:55:43.992361",
     "exception": false,
     "start_time": "2021-04-18T17:55:43.919239",
     "status": "completed"
    },
    "tags": []
   },
   "outputs": [
    {
     "name": "stdout",
     "output_type": "stream",
     "text": [
      "<class 'pandas.core.frame.DataFrame'>\n",
      "RangeIndex: 2000 entries, 0 to 1999\n",
      "Data columns (total 21 columns):\n",
      " #   Column         Non-Null Count  Dtype  \n",
      "---  ------         --------------  -----  \n",
      " 0   battery_power  2000 non-null   int64  \n",
      " 1   blue           2000 non-null   int64  \n",
      " 2   clock_speed    2000 non-null   float64\n",
      " 3   dual_sim       2000 non-null   int64  \n",
      " 4   fc             2000 non-null   int64  \n",
      " 5   four_g         2000 non-null   int64  \n",
      " 6   int_memory     2000 non-null   int64  \n",
      " 7   m_dep          2000 non-null   float64\n",
      " 8   mobile_wt      2000 non-null   int64  \n",
      " 9   n_cores        2000 non-null   int64  \n",
      " 10  pc             2000 non-null   int64  \n",
      " 11  px_height      2000 non-null   int64  \n",
      " 12  px_width       2000 non-null   int64  \n",
      " 13  ram            2000 non-null   int64  \n",
      " 14  sc_h           2000 non-null   int64  \n",
      " 15  sc_w           2000 non-null   int64  \n",
      " 16  talk_time      2000 non-null   int64  \n",
      " 17  three_g        2000 non-null   int64  \n",
      " 18  touch_screen   2000 non-null   int64  \n",
      " 19  wifi           2000 non-null   int64  \n",
      " 20  price_range    2000 non-null   int64  \n",
      "dtypes: float64(2), int64(19)\n",
      "memory usage: 328.2 KB\n"
     ]
    }
   ],
   "source": [
    "df_train.info()"
   ]
  },
  {
   "cell_type": "code",
   "execution_count": 10,
   "id": "beautiful-grammar",
   "metadata": {
    "execution": {
     "iopub.execute_input": "2021-04-18T17:55:44.094005Z",
     "iopub.status.busy": "2021-04-18T17:55:44.091401Z",
     "iopub.status.idle": "2021-04-18T17:55:44.108616Z",
     "shell.execute_reply": "2021-04-18T17:55:44.109124Z"
    },
    "papermill": {
     "duration": 0.068379,
     "end_time": "2021-04-18T17:55:44.109342",
     "exception": false,
     "start_time": "2021-04-18T17:55:44.040963",
     "status": "completed"
    },
    "tags": []
   },
   "outputs": [
    {
     "name": "stdout",
     "output_type": "stream",
     "text": [
      "<class 'pandas.core.frame.DataFrame'>\n",
      "RangeIndex: 1000 entries, 0 to 999\n",
      "Data columns (total 21 columns):\n",
      " #   Column         Non-Null Count  Dtype  \n",
      "---  ------         --------------  -----  \n",
      " 0   id             1000 non-null   int64  \n",
      " 1   battery_power  1000 non-null   int64  \n",
      " 2   blue           1000 non-null   int64  \n",
      " 3   clock_speed    1000 non-null   float64\n",
      " 4   dual_sim       1000 non-null   int64  \n",
      " 5   fc             1000 non-null   int64  \n",
      " 6   four_g         1000 non-null   int64  \n",
      " 7   int_memory     1000 non-null   int64  \n",
      " 8   m_dep          1000 non-null   float64\n",
      " 9   mobile_wt      1000 non-null   int64  \n",
      " 10  n_cores        1000 non-null   int64  \n",
      " 11  pc             1000 non-null   int64  \n",
      " 12  px_height      1000 non-null   int64  \n",
      " 13  px_width       1000 non-null   int64  \n",
      " 14  ram            1000 non-null   int64  \n",
      " 15  sc_h           1000 non-null   int64  \n",
      " 16  sc_w           1000 non-null   int64  \n",
      " 17  talk_time      1000 non-null   int64  \n",
      " 18  three_g        1000 non-null   int64  \n",
      " 19  touch_screen   1000 non-null   int64  \n",
      " 20  wifi           1000 non-null   int64  \n",
      "dtypes: float64(2), int64(19)\n",
      "memory usage: 164.2 KB\n"
     ]
    }
   ],
   "source": [
    "df_test.info()"
   ]
  },
  {
   "cell_type": "code",
   "execution_count": 11,
   "id": "adjustable-shock",
   "metadata": {
    "execution": {
     "iopub.execute_input": "2021-04-18T17:55:44.212748Z",
     "iopub.status.busy": "2021-04-18T17:55:44.211635Z",
     "iopub.status.idle": "2021-04-18T17:55:44.220567Z",
     "shell.execute_reply": "2021-04-18T17:55:44.219768Z"
    },
    "papermill": {
     "duration": 0.063074,
     "end_time": "2021-04-18T17:55:44.220747",
     "exception": false,
     "start_time": "2021-04-18T17:55:44.157673",
     "status": "completed"
    },
    "tags": []
   },
   "outputs": [
    {
     "data": {
      "text/plain": [
       "battery_power    0\n",
       "blue             0\n",
       "clock_speed      0\n",
       "dual_sim         0\n",
       "fc               0\n",
       "four_g           0\n",
       "int_memory       0\n",
       "m_dep            0\n",
       "mobile_wt        0\n",
       "n_cores          0\n",
       "pc               0\n",
       "px_height        0\n",
       "px_width         0\n",
       "ram              0\n",
       "sc_h             0\n",
       "sc_w             0\n",
       "talk_time        0\n",
       "three_g          0\n",
       "touch_screen     0\n",
       "wifi             0\n",
       "price_range      0\n",
       "dtype: int64"
      ]
     },
     "execution_count": 11,
     "metadata": {},
     "output_type": "execute_result"
    }
   ],
   "source": [
    "df_train.isnull().sum()"
   ]
  },
  {
   "cell_type": "code",
   "execution_count": 12,
   "id": "interesting-recording",
   "metadata": {
    "execution": {
     "iopub.execute_input": "2021-04-18T17:55:44.326628Z",
     "iopub.status.busy": "2021-04-18T17:55:44.325823Z",
     "iopub.status.idle": "2021-04-18T17:55:44.404742Z",
     "shell.execute_reply": "2021-04-18T17:55:44.405309Z"
    },
    "papermill": {
     "duration": 0.135008,
     "end_time": "2021-04-18T17:55:44.405510",
     "exception": false,
     "start_time": "2021-04-18T17:55:44.270502",
     "status": "completed"
    },
    "tags": []
   },
   "outputs": [
    {
     "data": {
      "text/html": [
       "<div>\n",
       "<style scoped>\n",
       "    .dataframe tbody tr th:only-of-type {\n",
       "        vertical-align: middle;\n",
       "    }\n",
       "\n",
       "    .dataframe tbody tr th {\n",
       "        vertical-align: top;\n",
       "    }\n",
       "\n",
       "    .dataframe thead th {\n",
       "        text-align: right;\n",
       "    }\n",
       "</style>\n",
       "<table border=\"1\" class=\"dataframe\">\n",
       "  <thead>\n",
       "    <tr style=\"text-align: right;\">\n",
       "      <th></th>\n",
       "      <th>battery_power</th>\n",
       "      <th>blue</th>\n",
       "      <th>clock_speed</th>\n",
       "      <th>dual_sim</th>\n",
       "      <th>fc</th>\n",
       "      <th>four_g</th>\n",
       "      <th>int_memory</th>\n",
       "      <th>m_dep</th>\n",
       "      <th>mobile_wt</th>\n",
       "      <th>n_cores</th>\n",
       "      <th>...</th>\n",
       "      <th>px_height</th>\n",
       "      <th>px_width</th>\n",
       "      <th>ram</th>\n",
       "      <th>sc_h</th>\n",
       "      <th>sc_w</th>\n",
       "      <th>talk_time</th>\n",
       "      <th>three_g</th>\n",
       "      <th>touch_screen</th>\n",
       "      <th>wifi</th>\n",
       "      <th>price_range</th>\n",
       "    </tr>\n",
       "  </thead>\n",
       "  <tbody>\n",
       "    <tr>\n",
       "      <th>count</th>\n",
       "      <td>2000.000000</td>\n",
       "      <td>2000.0000</td>\n",
       "      <td>2000.000000</td>\n",
       "      <td>2000.000000</td>\n",
       "      <td>2000.000000</td>\n",
       "      <td>2000.000000</td>\n",
       "      <td>2000.000000</td>\n",
       "      <td>2000.000000</td>\n",
       "      <td>2000.000000</td>\n",
       "      <td>2000.000000</td>\n",
       "      <td>...</td>\n",
       "      <td>2000.000000</td>\n",
       "      <td>2000.000000</td>\n",
       "      <td>2000.000000</td>\n",
       "      <td>2000.000000</td>\n",
       "      <td>2000.000000</td>\n",
       "      <td>2000.000000</td>\n",
       "      <td>2000.000000</td>\n",
       "      <td>2000.000000</td>\n",
       "      <td>2000.000000</td>\n",
       "      <td>2000.000000</td>\n",
       "    </tr>\n",
       "    <tr>\n",
       "      <th>mean</th>\n",
       "      <td>1238.518500</td>\n",
       "      <td>0.4950</td>\n",
       "      <td>1.522250</td>\n",
       "      <td>0.509500</td>\n",
       "      <td>4.309500</td>\n",
       "      <td>0.521500</td>\n",
       "      <td>32.046500</td>\n",
       "      <td>0.501750</td>\n",
       "      <td>140.249000</td>\n",
       "      <td>4.520500</td>\n",
       "      <td>...</td>\n",
       "      <td>645.108000</td>\n",
       "      <td>1251.515500</td>\n",
       "      <td>2124.213000</td>\n",
       "      <td>12.306500</td>\n",
       "      <td>5.767000</td>\n",
       "      <td>11.011000</td>\n",
       "      <td>0.761500</td>\n",
       "      <td>0.503000</td>\n",
       "      <td>0.507000</td>\n",
       "      <td>1.500000</td>\n",
       "    </tr>\n",
       "    <tr>\n",
       "      <th>std</th>\n",
       "      <td>439.418206</td>\n",
       "      <td>0.5001</td>\n",
       "      <td>0.816004</td>\n",
       "      <td>0.500035</td>\n",
       "      <td>4.341444</td>\n",
       "      <td>0.499662</td>\n",
       "      <td>18.145715</td>\n",
       "      <td>0.288416</td>\n",
       "      <td>35.399655</td>\n",
       "      <td>2.287837</td>\n",
       "      <td>...</td>\n",
       "      <td>443.780811</td>\n",
       "      <td>432.199447</td>\n",
       "      <td>1084.732044</td>\n",
       "      <td>4.213245</td>\n",
       "      <td>4.356398</td>\n",
       "      <td>5.463955</td>\n",
       "      <td>0.426273</td>\n",
       "      <td>0.500116</td>\n",
       "      <td>0.500076</td>\n",
       "      <td>1.118314</td>\n",
       "    </tr>\n",
       "    <tr>\n",
       "      <th>min</th>\n",
       "      <td>501.000000</td>\n",
       "      <td>0.0000</td>\n",
       "      <td>0.500000</td>\n",
       "      <td>0.000000</td>\n",
       "      <td>0.000000</td>\n",
       "      <td>0.000000</td>\n",
       "      <td>2.000000</td>\n",
       "      <td>0.100000</td>\n",
       "      <td>80.000000</td>\n",
       "      <td>1.000000</td>\n",
       "      <td>...</td>\n",
       "      <td>0.000000</td>\n",
       "      <td>500.000000</td>\n",
       "      <td>256.000000</td>\n",
       "      <td>5.000000</td>\n",
       "      <td>0.000000</td>\n",
       "      <td>2.000000</td>\n",
       "      <td>0.000000</td>\n",
       "      <td>0.000000</td>\n",
       "      <td>0.000000</td>\n",
       "      <td>0.000000</td>\n",
       "    </tr>\n",
       "    <tr>\n",
       "      <th>25%</th>\n",
       "      <td>851.750000</td>\n",
       "      <td>0.0000</td>\n",
       "      <td>0.700000</td>\n",
       "      <td>0.000000</td>\n",
       "      <td>1.000000</td>\n",
       "      <td>0.000000</td>\n",
       "      <td>16.000000</td>\n",
       "      <td>0.200000</td>\n",
       "      <td>109.000000</td>\n",
       "      <td>3.000000</td>\n",
       "      <td>...</td>\n",
       "      <td>282.750000</td>\n",
       "      <td>874.750000</td>\n",
       "      <td>1207.500000</td>\n",
       "      <td>9.000000</td>\n",
       "      <td>2.000000</td>\n",
       "      <td>6.000000</td>\n",
       "      <td>1.000000</td>\n",
       "      <td>0.000000</td>\n",
       "      <td>0.000000</td>\n",
       "      <td>0.750000</td>\n",
       "    </tr>\n",
       "    <tr>\n",
       "      <th>50%</th>\n",
       "      <td>1226.000000</td>\n",
       "      <td>0.0000</td>\n",
       "      <td>1.500000</td>\n",
       "      <td>1.000000</td>\n",
       "      <td>3.000000</td>\n",
       "      <td>1.000000</td>\n",
       "      <td>32.000000</td>\n",
       "      <td>0.500000</td>\n",
       "      <td>141.000000</td>\n",
       "      <td>4.000000</td>\n",
       "      <td>...</td>\n",
       "      <td>564.000000</td>\n",
       "      <td>1247.000000</td>\n",
       "      <td>2146.500000</td>\n",
       "      <td>12.000000</td>\n",
       "      <td>5.000000</td>\n",
       "      <td>11.000000</td>\n",
       "      <td>1.000000</td>\n",
       "      <td>1.000000</td>\n",
       "      <td>1.000000</td>\n",
       "      <td>1.500000</td>\n",
       "    </tr>\n",
       "    <tr>\n",
       "      <th>75%</th>\n",
       "      <td>1615.250000</td>\n",
       "      <td>1.0000</td>\n",
       "      <td>2.200000</td>\n",
       "      <td>1.000000</td>\n",
       "      <td>7.000000</td>\n",
       "      <td>1.000000</td>\n",
       "      <td>48.000000</td>\n",
       "      <td>0.800000</td>\n",
       "      <td>170.000000</td>\n",
       "      <td>7.000000</td>\n",
       "      <td>...</td>\n",
       "      <td>947.250000</td>\n",
       "      <td>1633.000000</td>\n",
       "      <td>3064.500000</td>\n",
       "      <td>16.000000</td>\n",
       "      <td>9.000000</td>\n",
       "      <td>16.000000</td>\n",
       "      <td>1.000000</td>\n",
       "      <td>1.000000</td>\n",
       "      <td>1.000000</td>\n",
       "      <td>2.250000</td>\n",
       "    </tr>\n",
       "    <tr>\n",
       "      <th>max</th>\n",
       "      <td>1998.000000</td>\n",
       "      <td>1.0000</td>\n",
       "      <td>3.000000</td>\n",
       "      <td>1.000000</td>\n",
       "      <td>19.000000</td>\n",
       "      <td>1.000000</td>\n",
       "      <td>64.000000</td>\n",
       "      <td>1.000000</td>\n",
       "      <td>200.000000</td>\n",
       "      <td>8.000000</td>\n",
       "      <td>...</td>\n",
       "      <td>1960.000000</td>\n",
       "      <td>1998.000000</td>\n",
       "      <td>3998.000000</td>\n",
       "      <td>19.000000</td>\n",
       "      <td>18.000000</td>\n",
       "      <td>20.000000</td>\n",
       "      <td>1.000000</td>\n",
       "      <td>1.000000</td>\n",
       "      <td>1.000000</td>\n",
       "      <td>3.000000</td>\n",
       "    </tr>\n",
       "  </tbody>\n",
       "</table>\n",
       "<p>8 rows × 21 columns</p>\n",
       "</div>"
      ],
      "text/plain": [
       "       battery_power       blue  clock_speed     dual_sim           fc  \\\n",
       "count    2000.000000  2000.0000  2000.000000  2000.000000  2000.000000   \n",
       "mean     1238.518500     0.4950     1.522250     0.509500     4.309500   \n",
       "std       439.418206     0.5001     0.816004     0.500035     4.341444   \n",
       "min       501.000000     0.0000     0.500000     0.000000     0.000000   \n",
       "25%       851.750000     0.0000     0.700000     0.000000     1.000000   \n",
       "50%      1226.000000     0.0000     1.500000     1.000000     3.000000   \n",
       "75%      1615.250000     1.0000     2.200000     1.000000     7.000000   \n",
       "max      1998.000000     1.0000     3.000000     1.000000    19.000000   \n",
       "\n",
       "            four_g   int_memory        m_dep    mobile_wt      n_cores  ...  \\\n",
       "count  2000.000000  2000.000000  2000.000000  2000.000000  2000.000000  ...   \n",
       "mean      0.521500    32.046500     0.501750   140.249000     4.520500  ...   \n",
       "std       0.499662    18.145715     0.288416    35.399655     2.287837  ...   \n",
       "min       0.000000     2.000000     0.100000    80.000000     1.000000  ...   \n",
       "25%       0.000000    16.000000     0.200000   109.000000     3.000000  ...   \n",
       "50%       1.000000    32.000000     0.500000   141.000000     4.000000  ...   \n",
       "75%       1.000000    48.000000     0.800000   170.000000     7.000000  ...   \n",
       "max       1.000000    64.000000     1.000000   200.000000     8.000000  ...   \n",
       "\n",
       "         px_height     px_width          ram         sc_h         sc_w  \\\n",
       "count  2000.000000  2000.000000  2000.000000  2000.000000  2000.000000   \n",
       "mean    645.108000  1251.515500  2124.213000    12.306500     5.767000   \n",
       "std     443.780811   432.199447  1084.732044     4.213245     4.356398   \n",
       "min       0.000000   500.000000   256.000000     5.000000     0.000000   \n",
       "25%     282.750000   874.750000  1207.500000     9.000000     2.000000   \n",
       "50%     564.000000  1247.000000  2146.500000    12.000000     5.000000   \n",
       "75%     947.250000  1633.000000  3064.500000    16.000000     9.000000   \n",
       "max    1960.000000  1998.000000  3998.000000    19.000000    18.000000   \n",
       "\n",
       "         talk_time      three_g  touch_screen         wifi  price_range  \n",
       "count  2000.000000  2000.000000   2000.000000  2000.000000  2000.000000  \n",
       "mean     11.011000     0.761500      0.503000     0.507000     1.500000  \n",
       "std       5.463955     0.426273      0.500116     0.500076     1.118314  \n",
       "min       2.000000     0.000000      0.000000     0.000000     0.000000  \n",
       "25%       6.000000     1.000000      0.000000     0.000000     0.750000  \n",
       "50%      11.000000     1.000000      1.000000     1.000000     1.500000  \n",
       "75%      16.000000     1.000000      1.000000     1.000000     2.250000  \n",
       "max      20.000000     1.000000      1.000000     1.000000     3.000000  \n",
       "\n",
       "[8 rows x 21 columns]"
      ]
     },
     "execution_count": 12,
     "metadata": {},
     "output_type": "execute_result"
    }
   ],
   "source": [
    "df_train.describe()"
   ]
  },
  {
   "cell_type": "code",
   "execution_count": 13,
   "id": "occupational-ocean",
   "metadata": {
    "execution": {
     "iopub.execute_input": "2021-04-18T17:55:44.502757Z",
     "iopub.status.busy": "2021-04-18T17:55:44.502009Z",
     "iopub.status.idle": "2021-04-18T17:55:44.783353Z",
     "shell.execute_reply": "2021-04-18T17:55:44.781720Z"
    },
    "papermill": {
     "duration": 0.33176,
     "end_time": "2021-04-18T17:55:44.783522",
     "exception": false,
     "start_time": "2021-04-18T17:55:44.451762",
     "status": "completed"
    },
    "tags": []
   },
   "outputs": [
    {
     "data": {
      "image/png": "[encoded data removed]",
      "text/plain": [
       "<Figure size 432x288 with 1 Axes>"
      ]
     },
     "metadata": {
      "needs_background": "light"
     },
     "output_type": "display_data"
    }
   ],
   "source": [
    "df_train.plot(x = 'price_range' , y ='ram' , kind = 'scatter' , color = 'lightblue')\n",
    "plt.show()"
   ]
  },
  {
   "cell_type": "code",
   "execution_count": 14,
   "id": "formal-inside",
   "metadata": {
    "execution": {
     "iopub.execute_input": "2021-04-18T17:55:44.891686Z",
     "iopub.status.busy": "2021-04-18T17:55:44.885109Z",
     "iopub.status.idle": "2021-04-18T17:55:45.062156Z",
     "shell.execute_reply": "2021-04-18T17:55:45.061560Z"
    },
    "papermill": {
     "duration": 0.22998,
     "end_time": "2021-04-18T17:55:45.062367",
     "exception": false,
     "start_time": "2021-04-18T17:55:44.832387",
     "status": "completed"
    },
    "tags": []
   },
   "outputs": [
    {
     "data": {
      "image/png": "[encoded data removed]",
      "text/plain": [
       "<Figure size 432x288 with 1 Axes>"
      ]
     },
     "metadata": {
      "needs_background": "light"
     },
     "output_type": "display_data"
    }
   ],
   "source": [
    "df_train.plot(x = 'price_range' , y = 'battery_power' , kind = 'scatter' , color ='red')\n",
    "plt.show()"
   ]
  },
  {
   "cell_type": "code",
   "execution_count": 15,
   "id": "ethical-villa",
   "metadata": {
    "execution": {
     "iopub.execute_input": "2021-04-18T17:55:45.168997Z",
     "iopub.status.busy": "2021-04-18T17:55:45.163335Z",
     "iopub.status.idle": "2021-04-18T17:55:45.341324Z",
     "shell.execute_reply": "2021-04-18T17:55:45.340583Z"
    },
    "papermill": {
     "duration": 0.231074,
     "end_time": "2021-04-18T17:55:45.341489",
     "exception": false,
     "start_time": "2021-04-18T17:55:45.110415",
     "status": "completed"
    },
    "tags": []
   },
   "outputs": [
    {
     "data": {
      "image/png": "[encoded data removed]",
      "text/plain": [
       "<Figure size 432x288 with 1 Axes>"
      ]
     },
     "metadata": {
      "needs_background": "light"
     },
     "output_type": "display_data"
    }
   ],
   "source": [
    "df_train.plot(x = 'price_range' , y ='fc' , kind = 'scatter' , color = 'lightblue')\n",
    "plt.show()"
   ]
  },
  {
   "cell_type": "code",
   "execution_count": 16,
   "id": "embedded-black",
   "metadata": {
    "execution": {
     "iopub.execute_input": "2021-04-18T17:55:45.455763Z",
     "iopub.status.busy": "2021-04-18T17:55:45.455012Z",
     "iopub.status.idle": "2021-04-18T17:55:45.627601Z",
     "shell.execute_reply": "2021-04-18T17:55:45.627030Z"
    },
    "papermill": {
     "duration": 0.235997,
     "end_time": "2021-04-18T17:55:45.627770",
     "exception": false,
     "start_time": "2021-04-18T17:55:45.391773",
     "status": "completed"
    },
    "tags": []
   },
   "outputs": [
    {
     "data": {
      "image/png": "[encoded data removed]",
      "text/plain": [
       "<Figure size 432x288 with 1 Axes>"
      ]
     },
     "metadata": {
      "needs_background": "light"
     },
     "output_type": "display_data"
    }
   ],
   "source": [
    "df_train.plot(x = 'price_range' , y = 'n_cores' , kind = 'scatter' , color ='red')\n",
    "plt.show()"
   ]
  },
  {
   "cell_type": "code",
   "execution_count": 17,
   "id": "extreme-italy",
   "metadata": {
    "execution": {
     "iopub.execute_input": "2021-04-18T17:55:45.735132Z",
     "iopub.status.busy": "2021-04-18T17:55:45.734476Z",
     "iopub.status.idle": "2021-04-18T17:55:45.737816Z",
     "shell.execute_reply": "2021-04-18T17:55:45.737255Z"
    },
    "papermill": {
     "duration": 0.058323,
     "end_time": "2021-04-18T17:55:45.737963",
     "exception": false,
     "start_time": "2021-04-18T17:55:45.679640",
     "status": "completed"
    },
    "tags": []
   },
   "outputs": [],
   "source": [
    "X = df_train.drop('price_range',axis=1)"
   ]
  },
  {
   "cell_type": "code",
   "execution_count": 18,
   "id": "warming-sister",
   "metadata": {
    "execution": {
     "iopub.execute_input": "2021-04-18T17:55:45.863090Z",
     "iopub.status.busy": "2021-04-18T17:55:45.861827Z",
     "iopub.status.idle": "2021-04-18T17:55:45.867470Z",
     "shell.execute_reply": "2021-04-18T17:55:45.866767Z"
    },
    "papermill": {
     "duration": 0.07935,
     "end_time": "2021-04-18T17:55:45.867621",
     "exception": false,
     "start_time": "2021-04-18T17:55:45.788271",
     "status": "completed"
    },
    "tags": []
   },
   "outputs": [
    {
     "data": {
      "text/html": [
       "<div>\n",
       "<style scoped>\n",
       "    .dataframe tbody tr th:only-of-type {\n",
       "        vertical-align: middle;\n",
       "    }\n",
       "\n",
       "    .dataframe tbody tr th {\n",
       "        vertical-align: top;\n",
       "    }\n",
       "\n",
       "    .dataframe thead th {\n",
       "        text-align: right;\n",
       "    }\n",
       "</style>\n",
       "<table border=\"1\" class=\"dataframe\">\n",
       "  <thead>\n",
       "    <tr style=\"text-align: right;\">\n",
       "      <th></th>\n",
       "      <th>battery_power</th>\n",
       "      <th>blue</th>\n",
       "      <th>clock_speed</th>\n",
       "      <th>dual_sim</th>\n",
       "      <th>fc</th>\n",
       "      <th>four_g</th>\n",
       "      <th>int_memory</th>\n",
       "      <th>m_dep</th>\n",
       "      <th>mobile_wt</th>\n",
       "      <th>n_cores</th>\n",
       "      <th>pc</th>\n",
       "      <th>px_height</th>\n",
       "      <th>px_width</th>\n",
       "      <th>ram</th>\n",
       "      <th>sc_h</th>\n",
       "      <th>sc_w</th>\n",
       "      <th>talk_time</th>\n",
       "      <th>three_g</th>\n",
       "      <th>touch_screen</th>\n",
       "      <th>wifi</th>\n",
       "    </tr>\n",
       "  </thead>\n",
       "  <tbody>\n",
       "    <tr>\n",
       "      <th>0</th>\n",
       "      <td>842</td>\n",
       "      <td>0</td>\n",
       "      <td>2.2</td>\n",
       "      <td>0</td>\n",
       "      <td>1</td>\n",
       "      <td>0</td>\n",
       "      <td>7</td>\n",
       "      <td>0.6</td>\n",
       "      <td>188</td>\n",
       "      <td>2</td>\n",
       "      <td>2</td>\n",
       "      <td>20</td>\n",
       "      <td>756</td>\n",
       "      <td>2549</td>\n",
       "      <td>9</td>\n",
       "      <td>7</td>\n",
       "      <td>19</td>\n",
       "      <td>0</td>\n",
       "      <td>0</td>\n",
       "      <td>1</td>\n",
       "    </tr>\n",
       "    <tr>\n",
       "      <th>1</th>\n",
       "      <td>1021</td>\n",
       "      <td>1</td>\n",
       "      <td>0.5</td>\n",
       "      <td>1</td>\n",
       "      <td>0</td>\n",
       "      <td>1</td>\n",
       "      <td>53</td>\n",
       "      <td>0.7</td>\n",
       "      <td>136</td>\n",
       "      <td>3</td>\n",
       "      <td>6</td>\n",
       "      <td>905</td>\n",
       "      <td>1988</td>\n",
       "      <td>2631</td>\n",
       "      <td>17</td>\n",
       "      <td>3</td>\n",
       "      <td>7</td>\n",
       "      <td>1</td>\n",
       "      <td>1</td>\n",
       "      <td>0</td>\n",
       "    </tr>\n",
       "    <tr>\n",
       "      <th>2</th>\n",
       "      <td>563</td>\n",
       "      <td>1</td>\n",
       "      <td>0.5</td>\n",
       "      <td>1</td>\n",
       "      <td>2</td>\n",
       "      <td>1</td>\n",
       "      <td>41</td>\n",
       "      <td>0.9</td>\n",
       "      <td>145</td>\n",
       "      <td>5</td>\n",
       "      <td>6</td>\n",
       "      <td>1263</td>\n",
       "      <td>1716</td>\n",
       "      <td>2603</td>\n",
       "      <td>11</td>\n",
       "      <td>2</td>\n",
       "      <td>9</td>\n",
       "      <td>1</td>\n",
       "      <td>1</td>\n",
       "      <td>0</td>\n",
       "    </tr>\n",
       "    <tr>\n",
       "      <th>3</th>\n",
       "      <td>615</td>\n",
       "      <td>1</td>\n",
       "      <td>2.5</td>\n",
       "      <td>0</td>\n",
       "      <td>0</td>\n",
       "      <td>0</td>\n",
       "      <td>10</td>\n",
       "      <td>0.8</td>\n",
       "      <td>131</td>\n",
       "      <td>6</td>\n",
       "      <td>9</td>\n",
       "      <td>1216</td>\n",
       "      <td>1786</td>\n",
       "      <td>2769</td>\n",
       "      <td>16</td>\n",
       "      <td>8</td>\n",
       "      <td>11</td>\n",
       "      <td>1</td>\n",
       "      <td>0</td>\n",
       "      <td>0</td>\n",
       "    </tr>\n",
       "    <tr>\n",
       "      <th>4</th>\n",
       "      <td>1821</td>\n",
       "      <td>1</td>\n",
       "      <td>1.2</td>\n",
       "      <td>0</td>\n",
       "      <td>13</td>\n",
       "      <td>1</td>\n",
       "      <td>44</td>\n",
       "      <td>0.6</td>\n",
       "      <td>141</td>\n",
       "      <td>2</td>\n",
       "      <td>14</td>\n",
       "      <td>1208</td>\n",
       "      <td>1212</td>\n",
       "      <td>1411</td>\n",
       "      <td>8</td>\n",
       "      <td>2</td>\n",
       "      <td>15</td>\n",
       "      <td>1</td>\n",
       "      <td>1</td>\n",
       "      <td>0</td>\n",
       "    </tr>\n",
       "  </tbody>\n",
       "</table>\n",
       "</div>"
      ],
      "text/plain": [
       "   battery_power  blue  clock_speed  dual_sim  fc  four_g  int_memory  m_dep  \\\n",
       "0            842     0          2.2         0   1       0           7    0.6   \n",
       "1           1021     1          0.5         1   0       1          53    0.7   \n",
       "2            563     1          0.5         1   2       1          41    0.9   \n",
       "3            615     1          2.5         0   0       0          10    0.8   \n",
       "4           1821     1          1.2         0  13       1          44    0.6   \n",
       "\n",
       "   mobile_wt  n_cores  pc  px_height  px_width   ram  sc_h  sc_w  talk_time  \\\n",
       "0        188        2   2         20       756  2549     9     7         19   \n",
       "1        136        3   6        905      1988  2631    17     3          7   \n",
       "2        145        5   6       1263      1716  2603    11     2          9   \n",
       "3        131        6   9       1216      1786  2769    16     8         11   \n",
       "4        141        2  14       1208      1212  1411     8     2         15   \n",
       "\n",
       "   three_g  touch_screen  wifi  \n",
       "0        0             0     1  \n",
       "1        1             1     0  \n",
       "2        1             1     0  \n",
       "3        1             0     0  \n",
       "4        1             1     0  "
      ]
     },
     "execution_count": 18,
     "metadata": {},
     "output_type": "execute_result"
    }
   ],
   "source": [
    "X.head()"
   ]
  },
  {
   "cell_type": "code",
   "execution_count": 19,
   "id": "defensive-johnson",
   "metadata": {
    "execution": {
     "iopub.execute_input": "2021-04-18T17:55:45.974697Z",
     "iopub.status.busy": "2021-04-18T17:55:45.973649Z",
     "iopub.status.idle": "2021-04-18T17:55:45.979028Z",
     "shell.execute_reply": "2021-04-18T17:55:45.978192Z"
    },
    "papermill": {
     "duration": 0.060083,
     "end_time": "2021-04-18T17:55:45.979187",
     "exception": false,
     "start_time": "2021-04-18T17:55:45.919104",
     "status": "completed"
    },
    "tags": []
   },
   "outputs": [
    {
     "data": {
      "text/plain": [
       "(2000, 20)"
      ]
     },
     "execution_count": 19,
     "metadata": {},
     "output_type": "execute_result"
    }
   ],
   "source": [
    "X.shape"
   ]
  },
  {
   "cell_type": "code",
   "execution_count": 20,
   "id": "presidential-canyon",
   "metadata": {
    "execution": {
     "iopub.execute_input": "2021-04-18T17:55:46.089981Z",
     "iopub.status.busy": "2021-04-18T17:55:46.089210Z",
     "iopub.status.idle": "2021-04-18T17:55:46.091692Z",
     "shell.execute_reply": "2021-04-18T17:55:46.092420Z"
    },
    "papermill": {
     "duration": 0.060179,
     "end_time": "2021-04-18T17:55:46.092619",
     "exception": false,
     "start_time": "2021-04-18T17:55:46.032440",
     "status": "completed"
    },
    "tags": []
   },
   "outputs": [],
   "source": [
    "Y=df_train['price_range']"
   ]
  },
  {
   "cell_type": "code",
   "execution_count": 21,
   "id": "disturbed-respect",
   "metadata": {
    "execution": {
     "iopub.execute_input": "2021-04-18T17:55:46.202582Z",
     "iopub.status.busy": "2021-04-18T17:55:46.201762Z",
     "iopub.status.idle": "2021-04-18T17:55:46.208347Z",
     "shell.execute_reply": "2021-04-18T17:55:46.208881Z"
    },
    "papermill": {
     "duration": 0.06378,
     "end_time": "2021-04-18T17:55:46.209080",
     "exception": false,
     "start_time": "2021-04-18T17:55:46.145300",
     "status": "completed"
    },
    "tags": []
   },
   "outputs": [
    {
     "data": {
      "text/plain": [
       "0    1\n",
       "1    2\n",
       "2    2\n",
       "3    2\n",
       "4    1\n",
       "Name: price_range, dtype: int64"
      ]
     },
     "execution_count": 21,
     "metadata": {},
     "output_type": "execute_result"
    }
   ],
   "source": [
    "Y.head()"
   ]
  },
  {
   "cell_type": "code",
   "execution_count": 22,
   "id": "proud-island",
   "metadata": {
    "execution": {
     "iopub.execute_input": "2021-04-18T17:55:46.323869Z",
     "iopub.status.busy": "2021-04-18T17:55:46.323132Z",
     "iopub.status.idle": "2021-04-18T17:55:46.328388Z",
     "shell.execute_reply": "2021-04-18T17:55:46.328910Z"
    },
    "papermill": {
     "duration": 0.064008,
     "end_time": "2021-04-18T17:55:46.329099",
     "exception": false,
     "start_time": "2021-04-18T17:55:46.265091",
     "status": "completed"
    },
    "tags": []
   },
   "outputs": [],
   "source": [
    "df_test=df_test.drop('id',axis=1)"
   ]
  },
  {
   "cell_type": "code",
   "execution_count": 23,
   "id": "breeding-asian",
   "metadata": {
    "execution": {
     "iopub.execute_input": "2021-04-18T17:55:46.441131Z",
     "iopub.status.busy": "2021-04-18T17:55:46.440409Z",
     "iopub.status.idle": "2021-04-18T17:55:46.445167Z",
     "shell.execute_reply": "2021-04-18T17:55:46.445833Z"
    },
    "papermill": {
     "duration": 0.063137,
     "end_time": "2021-04-18T17:55:46.446165",
     "exception": false,
     "start_time": "2021-04-18T17:55:46.383028",
     "status": "completed"
    },
    "tags": []
   },
   "outputs": [
    {
     "data": {
      "text/plain": [
       "(1000, 20)"
      ]
     },
     "execution_count": 23,
     "metadata": {},
     "output_type": "execute_result"
    }
   ],
   "source": [
    "df_test.shape"
   ]
  },
  {
   "cell_type": "code",
   "execution_count": 24,
   "id": "abandoned-machinery",
   "metadata": {
    "execution": {
     "iopub.execute_input": "2021-04-18T17:55:46.561833Z",
     "iopub.status.busy": "2021-04-18T17:55:46.561076Z",
     "iopub.status.idle": "2021-04-18T17:55:47.815212Z",
     "shell.execute_reply": "2021-04-18T17:55:47.814497Z"
    },
    "papermill": {
     "duration": 1.312065,
     "end_time": "2021-04-18T17:55:47.815391",
     "exception": false,
     "start_time": "2021-04-18T17:55:46.503326",
     "status": "completed"
    },
    "tags": []
   },
   "outputs": [],
   "source": [
    "from sklearn.preprocessing import StandardScaler\n",
    "std=StandardScaler()"
   ]
  },
  {
   "cell_type": "code",
   "execution_count": 25,
   "id": "electrical-teaching",
   "metadata": {
    "execution": {
     "iopub.execute_input": "2021-04-18T17:55:47.929891Z",
     "iopub.status.busy": "2021-04-18T17:55:47.929153Z",
     "iopub.status.idle": "2021-04-18T17:55:47.937196Z",
     "shell.execute_reply": "2021-04-18T17:55:47.936493Z"
    },
    "papermill": {
     "duration": 0.066858,
     "end_time": "2021-04-18T17:55:47.937382",
     "exception": false,
     "start_time": "2021-04-18T17:55:47.870524",
     "status": "completed"
    },
    "tags": []
   },
   "outputs": [],
   "source": [
    "X_std=std.fit_transform(X)"
   ]
  },
  {
   "cell_type": "code",
   "execution_count": 26,
   "id": "another-submission",
   "metadata": {
    "execution": {
     "iopub.execute_input": "2021-04-18T17:55:48.054473Z",
     "iopub.status.busy": "2021-04-18T17:55:48.053638Z",
     "iopub.status.idle": "2021-04-18T17:55:48.058286Z",
     "shell.execute_reply": "2021-04-18T17:55:48.057698Z"
    },
    "papermill": {
     "duration": 0.067665,
     "end_time": "2021-04-18T17:55:48.058444",
     "exception": false,
     "start_time": "2021-04-18T17:55:47.990779",
     "status": "completed"
    },
    "tags": []
   },
   "outputs": [],
   "source": [
    "df_test_std=std.transform(df_test)"
   ]
  },
  {
   "cell_type": "code",
   "execution_count": 27,
   "id": "prompt-butterfly",
   "metadata": {
    "execution": {
     "iopub.execute_input": "2021-04-18T17:55:48.173630Z",
     "iopub.status.busy": "2021-04-18T17:55:48.172593Z",
     "iopub.status.idle": "2021-04-18T17:55:48.177380Z",
     "shell.execute_reply": "2021-04-18T17:55:48.176734Z"
    },
    "papermill": {
     "duration": 0.066328,
     "end_time": "2021-04-18T17:55:48.177532",
     "exception": false,
     "start_time": "2021-04-18T17:55:48.111204",
     "status": "completed"
    },
    "tags": []
   },
   "outputs": [
    {
     "data": {
      "text/plain": [
       "array([[-0.90259726, -0.9900495 ,  0.83077942, ..., -1.78686097,\n",
       "        -1.00601811,  0.98609664],\n",
       "       [-0.49513857,  1.0100505 , -1.2530642 , ...,  0.55964063,\n",
       "         0.99401789, -1.01409939],\n",
       "       [-1.5376865 ,  1.0100505 , -1.2530642 , ...,  0.55964063,\n",
       "         0.99401789, -1.01409939],\n",
       "       ...,\n",
       "       [ 1.53077336, -0.9900495 , -0.76274805, ...,  0.55964063,\n",
       "         0.99401789, -1.01409939],\n",
       "       [ 0.62252745, -0.9900495 , -0.76274805, ...,  0.55964063,\n",
       "         0.99401789,  0.98609664],\n",
       "       [-1.65833069,  1.0100505 ,  0.58562134, ...,  0.55964063,\n",
       "         0.99401789,  0.98609664]])"
      ]
     },
     "execution_count": 27,
     "metadata": {},
     "output_type": "execute_result"
    }
   ],
   "source": [
    "X_std"
   ]
  },
  {
   "cell_type": "code",
   "execution_count": 28,
   "id": "purple-salon",
   "metadata": {
    "execution": {
     "iopub.execute_input": "2021-04-18T17:55:48.292686Z",
     "iopub.status.busy": "2021-04-18T17:55:48.291897Z",
     "iopub.status.idle": "2021-04-18T17:55:48.296622Z",
     "shell.execute_reply": "2021-04-18T17:55:48.295931Z"
    },
    "papermill": {
     "duration": 0.065709,
     "end_time": "2021-04-18T17:55:48.296773",
     "exception": false,
     "start_time": "2021-04-18T17:55:48.231064",
     "status": "completed"
    },
    "tags": []
   },
   "outputs": [
    {
     "data": {
      "text/plain": [
       "array([[-0.44505984,  1.0100505 ,  0.34046327, ..., -1.78686097,\n",
       "         0.99401789, -1.01409939],\n",
       "       [-0.90487356,  1.0100505 , -1.2530642 , ...,  0.55964063,\n",
       "        -1.00601811, -1.01409939],\n",
       "       [ 1.29403758,  1.0100505 ,  1.56625363, ..., -1.78686097,\n",
       "         0.99401789,  0.98609664],\n",
       "       ...,\n",
       "       [-0.12182446, -0.9900495 , -0.14985287, ...,  0.55964063,\n",
       "        -1.00601811, -1.01409939],\n",
       "       [ 0.67032987,  1.0100505 , -1.2530642 , ..., -1.78686097,\n",
       "         0.99401789, -1.01409939],\n",
       "       [ 0.07166151,  1.0100505 , -1.2530642 , ...,  0.55964063,\n",
       "        -1.00601811,  0.98609664]])"
      ]
     },
     "execution_count": 28,
     "metadata": {},
     "output_type": "execute_result"
    }
   ],
   "source": [
    "df_test_std"
   ]
  },
  {
   "cell_type": "code",
   "execution_count": 29,
   "id": "general-active",
   "metadata": {
    "execution": {
     "iopub.execute_input": "2021-04-18T17:55:48.430929Z",
     "iopub.status.busy": "2021-04-18T17:55:48.417249Z",
     "iopub.status.idle": "2021-04-18T17:55:48.435444Z",
     "shell.execute_reply": "2021-04-18T17:55:48.434751Z"
    },
    "papermill": {
     "duration": 0.085003,
     "end_time": "2021-04-18T17:55:48.435611",
     "exception": false,
     "start_time": "2021-04-18T17:55:48.350608",
     "status": "completed"
    },
    "tags": []
   },
   "outputs": [
    {
     "data": {
      "text/html": [
       "<div>\n",
       "<style scoped>\n",
       "    .dataframe tbody tr th:only-of-type {\n",
       "        vertical-align: middle;\n",
       "    }\n",
       "\n",
       "    .dataframe tbody tr th {\n",
       "        vertical-align: top;\n",
       "    }\n",
       "\n",
       "    .dataframe thead th {\n",
       "        text-align: right;\n",
       "    }\n",
       "</style>\n",
       "<table border=\"1\" class=\"dataframe\">\n",
       "  <thead>\n",
       "    <tr style=\"text-align: right;\">\n",
       "      <th></th>\n",
       "      <th>battery_power</th>\n",
       "      <th>blue</th>\n",
       "      <th>clock_speed</th>\n",
       "      <th>dual_sim</th>\n",
       "      <th>fc</th>\n",
       "      <th>four_g</th>\n",
       "      <th>int_memory</th>\n",
       "      <th>m_dep</th>\n",
       "      <th>mobile_wt</th>\n",
       "      <th>n_cores</th>\n",
       "      <th>pc</th>\n",
       "      <th>px_height</th>\n",
       "      <th>px_width</th>\n",
       "      <th>ram</th>\n",
       "      <th>sc_h</th>\n",
       "      <th>sc_w</th>\n",
       "      <th>talk_time</th>\n",
       "      <th>three_g</th>\n",
       "      <th>touch_screen</th>\n",
       "      <th>wifi</th>\n",
       "    </tr>\n",
       "  </thead>\n",
       "  <tbody>\n",
       "    <tr>\n",
       "      <th>0</th>\n",
       "      <td>842</td>\n",
       "      <td>0</td>\n",
       "      <td>2.2</td>\n",
       "      <td>0</td>\n",
       "      <td>1</td>\n",
       "      <td>0</td>\n",
       "      <td>7</td>\n",
       "      <td>0.6</td>\n",
       "      <td>188</td>\n",
       "      <td>2</td>\n",
       "      <td>2</td>\n",
       "      <td>20</td>\n",
       "      <td>756</td>\n",
       "      <td>2549</td>\n",
       "      <td>9</td>\n",
       "      <td>7</td>\n",
       "      <td>19</td>\n",
       "      <td>0</td>\n",
       "      <td>0</td>\n",
       "      <td>1</td>\n",
       "    </tr>\n",
       "    <tr>\n",
       "      <th>1</th>\n",
       "      <td>1021</td>\n",
       "      <td>1</td>\n",
       "      <td>0.5</td>\n",
       "      <td>1</td>\n",
       "      <td>0</td>\n",
       "      <td>1</td>\n",
       "      <td>53</td>\n",
       "      <td>0.7</td>\n",
       "      <td>136</td>\n",
       "      <td>3</td>\n",
       "      <td>6</td>\n",
       "      <td>905</td>\n",
       "      <td>1988</td>\n",
       "      <td>2631</td>\n",
       "      <td>17</td>\n",
       "      <td>3</td>\n",
       "      <td>7</td>\n",
       "      <td>1</td>\n",
       "      <td>1</td>\n",
       "      <td>0</td>\n",
       "    </tr>\n",
       "    <tr>\n",
       "      <th>2</th>\n",
       "      <td>563</td>\n",
       "      <td>1</td>\n",
       "      <td>0.5</td>\n",
       "      <td>1</td>\n",
       "      <td>2</td>\n",
       "      <td>1</td>\n",
       "      <td>41</td>\n",
       "      <td>0.9</td>\n",
       "      <td>145</td>\n",
       "      <td>5</td>\n",
       "      <td>6</td>\n",
       "      <td>1263</td>\n",
       "      <td>1716</td>\n",
       "      <td>2603</td>\n",
       "      <td>11</td>\n",
       "      <td>2</td>\n",
       "      <td>9</td>\n",
       "      <td>1</td>\n",
       "      <td>1</td>\n",
       "      <td>0</td>\n",
       "    </tr>\n",
       "    <tr>\n",
       "      <th>3</th>\n",
       "      <td>615</td>\n",
       "      <td>1</td>\n",
       "      <td>2.5</td>\n",
       "      <td>0</td>\n",
       "      <td>0</td>\n",
       "      <td>0</td>\n",
       "      <td>10</td>\n",
       "      <td>0.8</td>\n",
       "      <td>131</td>\n",
       "      <td>6</td>\n",
       "      <td>9</td>\n",
       "      <td>1216</td>\n",
       "      <td>1786</td>\n",
       "      <td>2769</td>\n",
       "      <td>16</td>\n",
       "      <td>8</td>\n",
       "      <td>11</td>\n",
       "      <td>1</td>\n",
       "      <td>0</td>\n",
       "      <td>0</td>\n",
       "    </tr>\n",
       "    <tr>\n",
       "      <th>4</th>\n",
       "      <td>1821</td>\n",
       "      <td>1</td>\n",
       "      <td>1.2</td>\n",
       "      <td>0</td>\n",
       "      <td>13</td>\n",
       "      <td>1</td>\n",
       "      <td>44</td>\n",
       "      <td>0.6</td>\n",
       "      <td>141</td>\n",
       "      <td>2</td>\n",
       "      <td>14</td>\n",
       "      <td>1208</td>\n",
       "      <td>1212</td>\n",
       "      <td>1411</td>\n",
       "      <td>8</td>\n",
       "      <td>2</td>\n",
       "      <td>15</td>\n",
       "      <td>1</td>\n",
       "      <td>1</td>\n",
       "      <td>0</td>\n",
       "    </tr>\n",
       "    <tr>\n",
       "      <th>...</th>\n",
       "      <td>...</td>\n",
       "      <td>...</td>\n",
       "      <td>...</td>\n",
       "      <td>...</td>\n",
       "      <td>...</td>\n",
       "      <td>...</td>\n",
       "      <td>...</td>\n",
       "      <td>...</td>\n",
       "      <td>...</td>\n",
       "      <td>...</td>\n",
       "      <td>...</td>\n",
       "      <td>...</td>\n",
       "      <td>...</td>\n",
       "      <td>...</td>\n",
       "      <td>...</td>\n",
       "      <td>...</td>\n",
       "      <td>...</td>\n",
       "      <td>...</td>\n",
       "      <td>...</td>\n",
       "      <td>...</td>\n",
       "    </tr>\n",
       "    <tr>\n",
       "      <th>1995</th>\n",
       "      <td>794</td>\n",
       "      <td>1</td>\n",
       "      <td>0.5</td>\n",
       "      <td>1</td>\n",
       "      <td>0</td>\n",
       "      <td>1</td>\n",
       "      <td>2</td>\n",
       "      <td>0.8</td>\n",
       "      <td>106</td>\n",
       "      <td>6</td>\n",
       "      <td>14</td>\n",
       "      <td>1222</td>\n",
       "      <td>1890</td>\n",
       "      <td>668</td>\n",
       "      <td>13</td>\n",
       "      <td>4</td>\n",
       "      <td>19</td>\n",
       "      <td>1</td>\n",
       "      <td>1</td>\n",
       "      <td>0</td>\n",
       "    </tr>\n",
       "    <tr>\n",
       "      <th>1996</th>\n",
       "      <td>1965</td>\n",
       "      <td>1</td>\n",
       "      <td>2.6</td>\n",
       "      <td>1</td>\n",
       "      <td>0</td>\n",
       "      <td>0</td>\n",
       "      <td>39</td>\n",
       "      <td>0.2</td>\n",
       "      <td>187</td>\n",
       "      <td>4</td>\n",
       "      <td>3</td>\n",
       "      <td>915</td>\n",
       "      <td>1965</td>\n",
       "      <td>2032</td>\n",
       "      <td>11</td>\n",
       "      <td>10</td>\n",
       "      <td>16</td>\n",
       "      <td>1</td>\n",
       "      <td>1</td>\n",
       "      <td>1</td>\n",
       "    </tr>\n",
       "    <tr>\n",
       "      <th>1997</th>\n",
       "      <td>1911</td>\n",
       "      <td>0</td>\n",
       "      <td>0.9</td>\n",
       "      <td>1</td>\n",
       "      <td>1</td>\n",
       "      <td>1</td>\n",
       "      <td>36</td>\n",
       "      <td>0.7</td>\n",
       "      <td>108</td>\n",
       "      <td>8</td>\n",
       "      <td>3</td>\n",
       "      <td>868</td>\n",
       "      <td>1632</td>\n",
       "      <td>3057</td>\n",
       "      <td>9</td>\n",
       "      <td>1</td>\n",
       "      <td>5</td>\n",
       "      <td>1</td>\n",
       "      <td>1</td>\n",
       "      <td>0</td>\n",
       "    </tr>\n",
       "    <tr>\n",
       "      <th>1998</th>\n",
       "      <td>1512</td>\n",
       "      <td>0</td>\n",
       "      <td>0.9</td>\n",
       "      <td>0</td>\n",
       "      <td>4</td>\n",
       "      <td>1</td>\n",
       "      <td>46</td>\n",
       "      <td>0.1</td>\n",
       "      <td>145</td>\n",
       "      <td>5</td>\n",
       "      <td>5</td>\n",
       "      <td>336</td>\n",
       "      <td>670</td>\n",
       "      <td>869</td>\n",
       "      <td>18</td>\n",
       "      <td>10</td>\n",
       "      <td>19</td>\n",
       "      <td>1</td>\n",
       "      <td>1</td>\n",
       "      <td>1</td>\n",
       "    </tr>\n",
       "    <tr>\n",
       "      <th>1999</th>\n",
       "      <td>510</td>\n",
       "      <td>1</td>\n",
       "      <td>2.0</td>\n",
       "      <td>1</td>\n",
       "      <td>5</td>\n",
       "      <td>1</td>\n",
       "      <td>45</td>\n",
       "      <td>0.9</td>\n",
       "      <td>168</td>\n",
       "      <td>6</td>\n",
       "      <td>16</td>\n",
       "      <td>483</td>\n",
       "      <td>754</td>\n",
       "      <td>3919</td>\n",
       "      <td>19</td>\n",
       "      <td>4</td>\n",
       "      <td>2</td>\n",
       "      <td>1</td>\n",
       "      <td>1</td>\n",
       "      <td>1</td>\n",
       "    </tr>\n",
       "  </tbody>\n",
       "</table>\n",
       "<p>2000 rows × 20 columns</p>\n",
       "</div>"
      ],
      "text/plain": [
       "      battery_power  blue  clock_speed  dual_sim  fc  four_g  int_memory  \\\n",
       "0               842     0          2.2         0   1       0           7   \n",
       "1              1021     1          0.5         1   0       1          53   \n",
       "2               563     1          0.5         1   2       1          41   \n",
       "3               615     1          2.5         0   0       0          10   \n",
       "4              1821     1          1.2         0  13       1          44   \n",
       "...             ...   ...          ...       ...  ..     ...         ...   \n",
       "1995            794     1          0.5         1   0       1           2   \n",
       "1996           1965     1          2.6         1   0       0          39   \n",
       "1997           1911     0          0.9         1   1       1          36   \n",
       "1998           1512     0          0.9         0   4       1          46   \n",
       "1999            510     1          2.0         1   5       1          45   \n",
       "\n",
       "      m_dep  mobile_wt  n_cores  pc  px_height  px_width   ram  sc_h  sc_w  \\\n",
       "0       0.6        188        2   2         20       756  2549     9     7   \n",
       "1       0.7        136        3   6        905      1988  2631    17     3   \n",
       "2       0.9        145        5   6       1263      1716  2603    11     2   \n",
       "3       0.8        131        6   9       1216      1786  2769    16     8   \n",
       "4       0.6        141        2  14       1208      1212  1411     8     2   \n",
       "...     ...        ...      ...  ..        ...       ...   ...   ...   ...   \n",
       "1995    0.8        106        6  14       1222      1890   668    13     4   \n",
       "1996    0.2        187        4   3        915      1965  2032    11    10   \n",
       "1997    0.7        108        8   3        868      1632  3057     9     1   \n",
       "1998    0.1        145        5   5        336       670   869    18    10   \n",
       "1999    0.9        168        6  16        483       754  3919    19     4   \n",
       "\n",
       "      talk_time  three_g  touch_screen  wifi  \n",
       "0            19        0             0     1  \n",
       "1             7        1             1     0  \n",
       "2             9        1             1     0  \n",
       "3            11        1             0     0  \n",
       "4            15        1             1     0  \n",
       "...         ...      ...           ...   ...  \n",
       "1995         19        1             1     0  \n",
       "1996         16        1             1     1  \n",
       "1997          5        1             1     0  \n",
       "1998         19        1             1     1  \n",
       "1999          2        1             1     1  \n",
       "\n",
       "[2000 rows x 20 columns]"
      ]
     },
     "execution_count": 29,
     "metadata": {},
     "output_type": "execute_result"
    }
   ],
   "source": [
    "X"
   ]
  },
  {
   "cell_type": "code",
   "execution_count": 30,
   "id": "elect-farming",
   "metadata": {
    "execution": {
     "iopub.execute_input": "2021-04-18T17:55:48.551456Z",
     "iopub.status.busy": "2021-04-18T17:55:48.550473Z",
     "iopub.status.idle": "2021-04-18T17:55:48.555838Z",
     "shell.execute_reply": "2021-04-18T17:55:48.555094Z"
    },
    "papermill": {
     "duration": 0.066189,
     "end_time": "2021-04-18T17:55:48.555988",
     "exception": false,
     "start_time": "2021-04-18T17:55:48.489799",
     "status": "completed"
    },
    "tags": []
   },
   "outputs": [
    {
     "data": {
      "text/plain": [
       "0       1\n",
       "1       2\n",
       "2       2\n",
       "3       2\n",
       "4       1\n",
       "       ..\n",
       "1995    0\n",
       "1996    2\n",
       "1997    3\n",
       "1998    0\n",
       "1999    3\n",
       "Name: price_range, Length: 2000, dtype: int64"
      ]
     },
     "execution_count": 30,
     "metadata": {},
     "output_type": "execute_result"
    }
   ],
   "source": [
    "Y"
   ]
  },
  {
   "cell_type": "code",
   "execution_count": 31,
   "id": "sound-minutes",
   "metadata": {
    "execution": {
     "iopub.execute_input": "2021-04-18T17:55:48.669575Z",
     "iopub.status.busy": "2021-04-18T17:55:48.668893Z",
     "iopub.status.idle": "2021-04-18T17:55:48.748874Z",
     "shell.execute_reply": "2021-04-18T17:55:48.748127Z"
    },
    "papermill": {
     "duration": 0.138369,
     "end_time": "2021-04-18T17:55:48.749041",
     "exception": false,
     "start_time": "2021-04-18T17:55:48.610672",
     "status": "completed"
    },
    "tags": []
   },
   "outputs": [],
   "source": [
    "from sklearn.model_selection import train_test_split"
   ]
  },
  {
   "cell_type": "code",
   "execution_count": 32,
   "id": "wooden-mitchell",
   "metadata": {
    "execution": {
     "iopub.execute_input": "2021-04-18T17:55:48.869286Z",
     "iopub.status.busy": "2021-04-18T17:55:48.866682Z",
     "iopub.status.idle": "2021-04-18T17:55:48.873687Z",
     "shell.execute_reply": "2021-04-18T17:55:48.872971Z"
    },
    "papermill": {
     "duration": 0.069926,
     "end_time": "2021-04-18T17:55:48.873842",
     "exception": false,
     "start_time": "2021-04-18T17:55:48.803916",
     "status": "completed"
    },
    "tags": []
   },
   "outputs": [],
   "source": [
    "X_train,X_test,Y_train,Y_test=train_test_split(X,Y,test_size=0.2,random_state=1)"
   ]
  },
  {
   "cell_type": "code",
   "execution_count": 33,
   "id": "prompt-ghost",
   "metadata": {
    "execution": {
     "iopub.execute_input": "2021-04-18T17:55:49.010559Z",
     "iopub.status.busy": "2021-04-18T17:55:49.009066Z",
     "iopub.status.idle": "2021-04-18T17:55:49.014626Z",
     "shell.execute_reply": "2021-04-18T17:55:49.015190Z"
    },
    "papermill": {
     "duration": 0.087097,
     "end_time": "2021-04-18T17:55:49.015414",
     "exception": false,
     "start_time": "2021-04-18T17:55:48.928317",
     "status": "completed"
    },
    "tags": []
   },
   "outputs": [
    {
     "data": {
      "text/html": [
       "<div>\n",
       "<style scoped>\n",
       "    .dataframe tbody tr th:only-of-type {\n",
       "        vertical-align: middle;\n",
       "    }\n",
       "\n",
       "    .dataframe tbody tr th {\n",
       "        vertical-align: top;\n",
       "    }\n",
       "\n",
       "    .dataframe thead th {\n",
       "        text-align: right;\n",
       "    }\n",
       "</style>\n",
       "<table border=\"1\" class=\"dataframe\">\n",
       "  <thead>\n",
       "    <tr style=\"text-align: right;\">\n",
       "      <th></th>\n",
       "      <th>battery_power</th>\n",
       "      <th>blue</th>\n",
       "      <th>clock_speed</th>\n",
       "      <th>dual_sim</th>\n",
       "      <th>fc</th>\n",
       "      <th>four_g</th>\n",
       "      <th>int_memory</th>\n",
       "      <th>m_dep</th>\n",
       "      <th>mobile_wt</th>\n",
       "      <th>n_cores</th>\n",
       "      <th>pc</th>\n",
       "      <th>px_height</th>\n",
       "      <th>px_width</th>\n",
       "      <th>ram</th>\n",
       "      <th>sc_h</th>\n",
       "      <th>sc_w</th>\n",
       "      <th>talk_time</th>\n",
       "      <th>three_g</th>\n",
       "      <th>touch_screen</th>\n",
       "      <th>wifi</th>\n",
       "    </tr>\n",
       "  </thead>\n",
       "  <tbody>\n",
       "    <tr>\n",
       "      <th>0</th>\n",
       "      <td>842</td>\n",
       "      <td>0</td>\n",
       "      <td>2.2</td>\n",
       "      <td>0</td>\n",
       "      <td>1</td>\n",
       "      <td>0</td>\n",
       "      <td>7</td>\n",
       "      <td>0.6</td>\n",
       "      <td>188</td>\n",
       "      <td>2</td>\n",
       "      <td>2</td>\n",
       "      <td>20</td>\n",
       "      <td>756</td>\n",
       "      <td>2549</td>\n",
       "      <td>9</td>\n",
       "      <td>7</td>\n",
       "      <td>19</td>\n",
       "      <td>0</td>\n",
       "      <td>0</td>\n",
       "      <td>1</td>\n",
       "    </tr>\n",
       "    <tr>\n",
       "      <th>816</th>\n",
       "      <td>805</td>\n",
       "      <td>1</td>\n",
       "      <td>0.7</td>\n",
       "      <td>0</td>\n",
       "      <td>0</td>\n",
       "      <td>0</td>\n",
       "      <td>64</td>\n",
       "      <td>0.1</td>\n",
       "      <td>97</td>\n",
       "      <td>4</td>\n",
       "      <td>14</td>\n",
       "      <td>641</td>\n",
       "      <td>704</td>\n",
       "      <td>418</td>\n",
       "      <td>11</td>\n",
       "      <td>6</td>\n",
       "      <td>17</td>\n",
       "      <td>0</td>\n",
       "      <td>1</td>\n",
       "      <td>1</td>\n",
       "    </tr>\n",
       "    <tr>\n",
       "      <th>790</th>\n",
       "      <td>911</td>\n",
       "      <td>1</td>\n",
       "      <td>2.9</td>\n",
       "      <td>0</td>\n",
       "      <td>0</td>\n",
       "      <td>0</td>\n",
       "      <td>46</td>\n",
       "      <td>0.1</td>\n",
       "      <td>181</td>\n",
       "      <td>5</td>\n",
       "      <td>1</td>\n",
       "      <td>461</td>\n",
       "      <td>670</td>\n",
       "      <td>363</td>\n",
       "      <td>9</td>\n",
       "      <td>5</td>\n",
       "      <td>17</td>\n",
       "      <td>0</td>\n",
       "      <td>1</td>\n",
       "      <td>0</td>\n",
       "    </tr>\n",
       "    <tr>\n",
       "      <th>361</th>\n",
       "      <td>899</td>\n",
       "      <td>0</td>\n",
       "      <td>0.5</td>\n",
       "      <td>1</td>\n",
       "      <td>13</td>\n",
       "      <td>1</td>\n",
       "      <td>57</td>\n",
       "      <td>0.9</td>\n",
       "      <td>172</td>\n",
       "      <td>2</td>\n",
       "      <td>18</td>\n",
       "      <td>788</td>\n",
       "      <td>1331</td>\n",
       "      <td>364</td>\n",
       "      <td>11</td>\n",
       "      <td>1</td>\n",
       "      <td>7</td>\n",
       "      <td>1</td>\n",
       "      <td>1</td>\n",
       "      <td>0</td>\n",
       "    </tr>\n",
       "    <tr>\n",
       "      <th>592</th>\n",
       "      <td>1263</td>\n",
       "      <td>0</td>\n",
       "      <td>0.5</td>\n",
       "      <td>0</td>\n",
       "      <td>12</td>\n",
       "      <td>0</td>\n",
       "      <td>64</td>\n",
       "      <td>0.3</td>\n",
       "      <td>175</td>\n",
       "      <td>5</td>\n",
       "      <td>18</td>\n",
       "      <td>178</td>\n",
       "      <td>1883</td>\n",
       "      <td>1183</td>\n",
       "      <td>14</td>\n",
       "      <td>3</td>\n",
       "      <td>17</td>\n",
       "      <td>0</td>\n",
       "      <td>0</td>\n",
       "      <td>1</td>\n",
       "    </tr>\n",
       "    <tr>\n",
       "      <th>...</th>\n",
       "      <td>...</td>\n",
       "      <td>...</td>\n",
       "      <td>...</td>\n",
       "      <td>...</td>\n",
       "      <td>...</td>\n",
       "      <td>...</td>\n",
       "      <td>...</td>\n",
       "      <td>...</td>\n",
       "      <td>...</td>\n",
       "      <td>...</td>\n",
       "      <td>...</td>\n",
       "      <td>...</td>\n",
       "      <td>...</td>\n",
       "      <td>...</td>\n",
       "      <td>...</td>\n",
       "      <td>...</td>\n",
       "      <td>...</td>\n",
       "      <td>...</td>\n",
       "      <td>...</td>\n",
       "      <td>...</td>\n",
       "    </tr>\n",
       "    <tr>\n",
       "      <th>1791</th>\n",
       "      <td>1203</td>\n",
       "      <td>1</td>\n",
       "      <td>0.5</td>\n",
       "      <td>1</td>\n",
       "      <td>0</td>\n",
       "      <td>1</td>\n",
       "      <td>11</td>\n",
       "      <td>0.9</td>\n",
       "      <td>109</td>\n",
       "      <td>2</td>\n",
       "      <td>12</td>\n",
       "      <td>35</td>\n",
       "      <td>510</td>\n",
       "      <td>1672</td>\n",
       "      <td>17</td>\n",
       "      <td>13</td>\n",
       "      <td>19</td>\n",
       "      <td>1</td>\n",
       "      <td>1</td>\n",
       "      <td>0</td>\n",
       "    </tr>\n",
       "    <tr>\n",
       "      <th>1096</th>\n",
       "      <td>1154</td>\n",
       "      <td>0</td>\n",
       "      <td>2.0</td>\n",
       "      <td>0</td>\n",
       "      <td>6</td>\n",
       "      <td>1</td>\n",
       "      <td>35</td>\n",
       "      <td>0.8</td>\n",
       "      <td>159</td>\n",
       "      <td>5</td>\n",
       "      <td>16</td>\n",
       "      <td>1003</td>\n",
       "      <td>1827</td>\n",
       "      <td>3262</td>\n",
       "      <td>16</td>\n",
       "      <td>15</td>\n",
       "      <td>16</td>\n",
       "      <td>1</td>\n",
       "      <td>0</td>\n",
       "      <td>0</td>\n",
       "    </tr>\n",
       "    <tr>\n",
       "      <th>1932</th>\n",
       "      <td>718</td>\n",
       "      <td>1</td>\n",
       "      <td>1.6</td>\n",
       "      <td>1</td>\n",
       "      <td>1</td>\n",
       "      <td>1</td>\n",
       "      <td>30</td>\n",
       "      <td>0.4</td>\n",
       "      <td>93</td>\n",
       "      <td>3</td>\n",
       "      <td>12</td>\n",
       "      <td>662</td>\n",
       "      <td>997</td>\n",
       "      <td>1601</td>\n",
       "      <td>10</td>\n",
       "      <td>9</td>\n",
       "      <td>12</td>\n",
       "      <td>1</td>\n",
       "      <td>1</td>\n",
       "      <td>1</td>\n",
       "    </tr>\n",
       "    <tr>\n",
       "      <th>235</th>\n",
       "      <td>1523</td>\n",
       "      <td>1</td>\n",
       "      <td>1.8</td>\n",
       "      <td>0</td>\n",
       "      <td>6</td>\n",
       "      <td>1</td>\n",
       "      <td>11</td>\n",
       "      <td>0.1</td>\n",
       "      <td>129</td>\n",
       "      <td>1</td>\n",
       "      <td>8</td>\n",
       "      <td>148</td>\n",
       "      <td>1606</td>\n",
       "      <td>707</td>\n",
       "      <td>19</td>\n",
       "      <td>8</td>\n",
       "      <td>19</td>\n",
       "      <td>1</td>\n",
       "      <td>1</td>\n",
       "      <td>0</td>\n",
       "    </tr>\n",
       "    <tr>\n",
       "      <th>1061</th>\n",
       "      <td>1522</td>\n",
       "      <td>1</td>\n",
       "      <td>0.7</td>\n",
       "      <td>1</td>\n",
       "      <td>4</td>\n",
       "      <td>0</td>\n",
       "      <td>28</td>\n",
       "      <td>0.2</td>\n",
       "      <td>124</td>\n",
       "      <td>1</td>\n",
       "      <td>5</td>\n",
       "      <td>952</td>\n",
       "      <td>1191</td>\n",
       "      <td>1368</td>\n",
       "      <td>14</td>\n",
       "      <td>5</td>\n",
       "      <td>17</td>\n",
       "      <td>1</td>\n",
       "      <td>0</td>\n",
       "      <td>1</td>\n",
       "    </tr>\n",
       "  </tbody>\n",
       "</table>\n",
       "<p>1600 rows × 20 columns</p>\n",
       "</div>"
      ],
      "text/plain": [
       "      battery_power  blue  clock_speed  dual_sim  fc  four_g  int_memory  \\\n",
       "0               842     0          2.2         0   1       0           7   \n",
       "816             805     1          0.7         0   0       0          64   \n",
       "790             911     1          2.9         0   0       0          46   \n",
       "361             899     0          0.5         1  13       1          57   \n",
       "592            1263     0          0.5         0  12       0          64   \n",
       "...             ...   ...          ...       ...  ..     ...         ...   \n",
       "1791           1203     1          0.5         1   0       1          11   \n",
       "1096           1154     0          2.0         0   6       1          35   \n",
       "1932            718     1          1.6         1   1       1          30   \n",
       "235            1523     1          1.8         0   6       1          11   \n",
       "1061           1522     1          0.7         1   4       0          28   \n",
       "\n",
       "      m_dep  mobile_wt  n_cores  pc  px_height  px_width   ram  sc_h  sc_w  \\\n",
       "0       0.6        188        2   2         20       756  2549     9     7   \n",
       "816     0.1         97        4  14        641       704   418    11     6   \n",
       "790     0.1        181        5   1        461       670   363     9     5   \n",
       "361     0.9        172        2  18        788      1331   364    11     1   \n",
       "592     0.3        175        5  18        178      1883  1183    14     3   \n",
       "...     ...        ...      ...  ..        ...       ...   ...   ...   ...   \n",
       "1791    0.9        109        2  12         35       510  1672    17    13   \n",
       "1096    0.8        159        5  16       1003      1827  3262    16    15   \n",
       "1932    0.4         93        3  12        662       997  1601    10     9   \n",
       "235     0.1        129        1   8        148      1606   707    19     8   \n",
       "1061    0.2        124        1   5        952      1191  1368    14     5   \n",
       "\n",
       "      talk_time  three_g  touch_screen  wifi  \n",
       "0            19        0             0     1  \n",
       "816          17        0             1     1  \n",
       "790          17        0             1     0  \n",
       "361           7        1             1     0  \n",
       "592          17        0             0     1  \n",
       "...         ...      ...           ...   ...  \n",
       "1791         19        1             1     0  \n",
       "1096         16        1             0     0  \n",
       "1932         12        1             1     1  \n",
       "235          19        1             1     0  \n",
       "1061         17        1             0     1  \n",
       "\n",
       "[1600 rows x 20 columns]"
      ]
     },
     "execution_count": 33,
     "metadata": {},
     "output_type": "execute_result"
    }
   ],
   "source": [
    "X_train"
   ]
  },
  {
   "cell_type": "code",
   "execution_count": 34,
   "id": "technological-regular",
   "metadata": {
    "execution": {
     "iopub.execute_input": "2021-04-18T17:55:49.137318Z",
     "iopub.status.busy": "2021-04-18T17:55:49.136180Z",
     "iopub.status.idle": "2021-04-18T17:55:49.139956Z",
     "shell.execute_reply": "2021-04-18T17:55:49.140513Z"
    },
    "papermill": {
     "duration": 0.067634,
     "end_time": "2021-04-18T17:55:49.140696",
     "exception": false,
     "start_time": "2021-04-18T17:55:49.073062",
     "status": "completed"
    },
    "tags": []
   },
   "outputs": [
    {
     "data": {
      "text/plain": [
       "0       1\n",
       "816     0\n",
       "790     0\n",
       "361     0\n",
       "592     1\n",
       "       ..\n",
       "1791    0\n",
       "1096    3\n",
       "1932    1\n",
       "235     0\n",
       "1061    1\n",
       "Name: price_range, Length: 1600, dtype: int64"
      ]
     },
     "execution_count": 34,
     "metadata": {},
     "output_type": "execute_result"
    }
   ],
   "source": [
    "Y_train"
   ]
  },
  {
   "cell_type": "code",
   "execution_count": 35,
   "id": "unauthorized-material",
   "metadata": {
    "execution": {
     "iopub.execute_input": "2021-04-18T17:55:49.260423Z",
     "iopub.status.busy": "2021-04-18T17:55:49.259313Z",
     "iopub.status.idle": "2021-04-18T17:55:49.264178Z",
     "shell.execute_reply": "2021-04-18T17:55:49.263590Z"
    },
    "papermill": {
     "duration": 0.067695,
     "end_time": "2021-04-18T17:55:49.264386",
     "exception": false,
     "start_time": "2021-04-18T17:55:49.196691",
     "status": "completed"
    },
    "tags": []
   },
   "outputs": [
    {
     "data": {
      "text/plain": [
       "674     0\n",
       "1699    0\n",
       "1282    1\n",
       "1315    1\n",
       "1210    2\n",
       "       ..\n",
       "400     2\n",
       "763     3\n",
       "385     3\n",
       "1667    1\n",
       "1820    0\n",
       "Name: price_range, Length: 400, dtype: int64"
      ]
     },
     "execution_count": 35,
     "metadata": {},
     "output_type": "execute_result"
    }
   ],
   "source": [
    "Y_test"
   ]
  },
  {
   "cell_type": "code",
   "execution_count": 36,
   "id": "japanese-consultation",
   "metadata": {
    "execution": {
     "iopub.execute_input": "2021-04-18T17:55:49.404318Z",
     "iopub.status.busy": "2021-04-18T17:55:49.403642Z",
     "iopub.status.idle": "2021-04-18T17:55:49.409549Z",
     "shell.execute_reply": "2021-04-18T17:55:49.408871Z"
    },
    "papermill": {
     "duration": 0.088425,
     "end_time": "2021-04-18T17:55:49.409705",
     "exception": false,
     "start_time": "2021-04-18T17:55:49.321280",
     "status": "completed"
    },
    "tags": []
   },
   "outputs": [
    {
     "data": {
      "text/html": [
       "<div>\n",
       "<style scoped>\n",
       "    .dataframe tbody tr th:only-of-type {\n",
       "        vertical-align: middle;\n",
       "    }\n",
       "\n",
       "    .dataframe tbody tr th {\n",
       "        vertical-align: top;\n",
       "    }\n",
       "\n",
       "    .dataframe thead th {\n",
       "        text-align: right;\n",
       "    }\n",
       "</style>\n",
       "<table border=\"1\" class=\"dataframe\">\n",
       "  <thead>\n",
       "    <tr style=\"text-align: right;\">\n",
       "      <th></th>\n",
       "      <th>battery_power</th>\n",
       "      <th>blue</th>\n",
       "      <th>clock_speed</th>\n",
       "      <th>dual_sim</th>\n",
       "      <th>fc</th>\n",
       "      <th>four_g</th>\n",
       "      <th>int_memory</th>\n",
       "      <th>m_dep</th>\n",
       "      <th>mobile_wt</th>\n",
       "      <th>n_cores</th>\n",
       "      <th>pc</th>\n",
       "      <th>px_height</th>\n",
       "      <th>px_width</th>\n",
       "      <th>ram</th>\n",
       "      <th>sc_h</th>\n",
       "      <th>sc_w</th>\n",
       "      <th>talk_time</th>\n",
       "      <th>three_g</th>\n",
       "      <th>touch_screen</th>\n",
       "      <th>wifi</th>\n",
       "    </tr>\n",
       "  </thead>\n",
       "  <tbody>\n",
       "    <tr>\n",
       "      <th>674</th>\n",
       "      <td>1034</td>\n",
       "      <td>0</td>\n",
       "      <td>2.6</td>\n",
       "      <td>1</td>\n",
       "      <td>2</td>\n",
       "      <td>1</td>\n",
       "      <td>45</td>\n",
       "      <td>0.3</td>\n",
       "      <td>190</td>\n",
       "      <td>3</td>\n",
       "      <td>4</td>\n",
       "      <td>182</td>\n",
       "      <td>1293</td>\n",
       "      <td>969</td>\n",
       "      <td>15</td>\n",
       "      <td>1</td>\n",
       "      <td>7</td>\n",
       "      <td>1</td>\n",
       "      <td>0</td>\n",
       "      <td>0</td>\n",
       "    </tr>\n",
       "    <tr>\n",
       "      <th>1699</th>\n",
       "      <td>1002</td>\n",
       "      <td>1</td>\n",
       "      <td>1.8</td>\n",
       "      <td>0</td>\n",
       "      <td>1</td>\n",
       "      <td>0</td>\n",
       "      <td>45</td>\n",
       "      <td>0.7</td>\n",
       "      <td>180</td>\n",
       "      <td>7</td>\n",
       "      <td>7</td>\n",
       "      <td>948</td>\n",
       "      <td>1007</td>\n",
       "      <td>1234</td>\n",
       "      <td>19</td>\n",
       "      <td>13</td>\n",
       "      <td>18</td>\n",
       "      <td>1</td>\n",
       "      <td>1</td>\n",
       "      <td>0</td>\n",
       "    </tr>\n",
       "    <tr>\n",
       "      <th>1282</th>\n",
       "      <td>609</td>\n",
       "      <td>1</td>\n",
       "      <td>0.5</td>\n",
       "      <td>0</td>\n",
       "      <td>4</td>\n",
       "      <td>1</td>\n",
       "      <td>10</td>\n",
       "      <td>0.1</td>\n",
       "      <td>81</td>\n",
       "      <td>6</td>\n",
       "      <td>6</td>\n",
       "      <td>113</td>\n",
       "      <td>1524</td>\n",
       "      <td>1905</td>\n",
       "      <td>16</td>\n",
       "      <td>3</td>\n",
       "      <td>18</td>\n",
       "      <td>1</td>\n",
       "      <td>1</td>\n",
       "      <td>1</td>\n",
       "    </tr>\n",
       "    <tr>\n",
       "      <th>1315</th>\n",
       "      <td>1510</td>\n",
       "      <td>0</td>\n",
       "      <td>0.6</td>\n",
       "      <td>1</td>\n",
       "      <td>1</td>\n",
       "      <td>0</td>\n",
       "      <td>32</td>\n",
       "      <td>0.7</td>\n",
       "      <td>135</td>\n",
       "      <td>3</td>\n",
       "      <td>8</td>\n",
       "      <td>963</td>\n",
       "      <td>1520</td>\n",
       "      <td>854</td>\n",
       "      <td>8</td>\n",
       "      <td>2</td>\n",
       "      <td>10</td>\n",
       "      <td>1</td>\n",
       "      <td>0</td>\n",
       "      <td>1</td>\n",
       "    </tr>\n",
       "    <tr>\n",
       "      <th>1210</th>\n",
       "      <td>805</td>\n",
       "      <td>1</td>\n",
       "      <td>1.7</td>\n",
       "      <td>1</td>\n",
       "      <td>0</td>\n",
       "      <td>1</td>\n",
       "      <td>58</td>\n",
       "      <td>0.9</td>\n",
       "      <td>168</td>\n",
       "      <td>3</td>\n",
       "      <td>10</td>\n",
       "      <td>81</td>\n",
       "      <td>1544</td>\n",
       "      <td>3397</td>\n",
       "      <td>7</td>\n",
       "      <td>6</td>\n",
       "      <td>2</td>\n",
       "      <td>1</td>\n",
       "      <td>0</td>\n",
       "      <td>0</td>\n",
       "    </tr>\n",
       "    <tr>\n",
       "      <th>...</th>\n",
       "      <td>...</td>\n",
       "      <td>...</td>\n",
       "      <td>...</td>\n",
       "      <td>...</td>\n",
       "      <td>...</td>\n",
       "      <td>...</td>\n",
       "      <td>...</td>\n",
       "      <td>...</td>\n",
       "      <td>...</td>\n",
       "      <td>...</td>\n",
       "      <td>...</td>\n",
       "      <td>...</td>\n",
       "      <td>...</td>\n",
       "      <td>...</td>\n",
       "      <td>...</td>\n",
       "      <td>...</td>\n",
       "      <td>...</td>\n",
       "      <td>...</td>\n",
       "      <td>...</td>\n",
       "      <td>...</td>\n",
       "    </tr>\n",
       "    <tr>\n",
       "      <th>400</th>\n",
       "      <td>1266</td>\n",
       "      <td>0</td>\n",
       "      <td>1.9</td>\n",
       "      <td>1</td>\n",
       "      <td>0</td>\n",
       "      <td>1</td>\n",
       "      <td>7</td>\n",
       "      <td>0.2</td>\n",
       "      <td>184</td>\n",
       "      <td>3</td>\n",
       "      <td>12</td>\n",
       "      <td>346</td>\n",
       "      <td>1468</td>\n",
       "      <td>2532</td>\n",
       "      <td>10</td>\n",
       "      <td>5</td>\n",
       "      <td>4</td>\n",
       "      <td>1</td>\n",
       "      <td>1</td>\n",
       "      <td>1</td>\n",
       "    </tr>\n",
       "    <tr>\n",
       "      <th>763</th>\n",
       "      <td>1741</td>\n",
       "      <td>1</td>\n",
       "      <td>1.8</td>\n",
       "      <td>0</td>\n",
       "      <td>0</td>\n",
       "      <td>0</td>\n",
       "      <td>14</td>\n",
       "      <td>0.7</td>\n",
       "      <td>143</td>\n",
       "      <td>8</td>\n",
       "      <td>0</td>\n",
       "      <td>730</td>\n",
       "      <td>1895</td>\n",
       "      <td>3387</td>\n",
       "      <td>11</td>\n",
       "      <td>3</td>\n",
       "      <td>3</td>\n",
       "      <td>1</td>\n",
       "      <td>0</td>\n",
       "      <td>0</td>\n",
       "    </tr>\n",
       "    <tr>\n",
       "      <th>385</th>\n",
       "      <td>1880</td>\n",
       "      <td>1</td>\n",
       "      <td>1.8</td>\n",
       "      <td>0</td>\n",
       "      <td>4</td>\n",
       "      <td>1</td>\n",
       "      <td>18</td>\n",
       "      <td>0.7</td>\n",
       "      <td>138</td>\n",
       "      <td>3</td>\n",
       "      <td>5</td>\n",
       "      <td>71</td>\n",
       "      <td>699</td>\n",
       "      <td>3333</td>\n",
       "      <td>17</td>\n",
       "      <td>15</td>\n",
       "      <td>7</td>\n",
       "      <td>1</td>\n",
       "      <td>0</td>\n",
       "      <td>0</td>\n",
       "    </tr>\n",
       "    <tr>\n",
       "      <th>1667</th>\n",
       "      <td>1967</td>\n",
       "      <td>0</td>\n",
       "      <td>0.5</td>\n",
       "      <td>0</td>\n",
       "      <td>0</td>\n",
       "      <td>1</td>\n",
       "      <td>46</td>\n",
       "      <td>0.6</td>\n",
       "      <td>199</td>\n",
       "      <td>1</td>\n",
       "      <td>7</td>\n",
       "      <td>518</td>\n",
       "      <td>1374</td>\n",
       "      <td>1567</td>\n",
       "      <td>15</td>\n",
       "      <td>2</td>\n",
       "      <td>7</td>\n",
       "      <td>1</td>\n",
       "      <td>1</td>\n",
       "      <td>0</td>\n",
       "    </tr>\n",
       "    <tr>\n",
       "      <th>1820</th>\n",
       "      <td>665</td>\n",
       "      <td>1</td>\n",
       "      <td>0.7</td>\n",
       "      <td>0</td>\n",
       "      <td>0</td>\n",
       "      <td>1</td>\n",
       "      <td>31</td>\n",
       "      <td>0.1</td>\n",
       "      <td>185</td>\n",
       "      <td>5</td>\n",
       "      <td>2</td>\n",
       "      <td>496</td>\n",
       "      <td>1804</td>\n",
       "      <td>690</td>\n",
       "      <td>5</td>\n",
       "      <td>2</td>\n",
       "      <td>15</td>\n",
       "      <td>1</td>\n",
       "      <td>0</td>\n",
       "      <td>0</td>\n",
       "    </tr>\n",
       "  </tbody>\n",
       "</table>\n",
       "<p>400 rows × 20 columns</p>\n",
       "</div>"
      ],
      "text/plain": [
       "      battery_power  blue  clock_speed  dual_sim  fc  four_g  int_memory  \\\n",
       "674            1034     0          2.6         1   2       1          45   \n",
       "1699           1002     1          1.8         0   1       0          45   \n",
       "1282            609     1          0.5         0   4       1          10   \n",
       "1315           1510     0          0.6         1   1       0          32   \n",
       "1210            805     1          1.7         1   0       1          58   \n",
       "...             ...   ...          ...       ...  ..     ...         ...   \n",
       "400            1266     0          1.9         1   0       1           7   \n",
       "763            1741     1          1.8         0   0       0          14   \n",
       "385            1880     1          1.8         0   4       1          18   \n",
       "1667           1967     0          0.5         0   0       1          46   \n",
       "1820            665     1          0.7         0   0       1          31   \n",
       "\n",
       "      m_dep  mobile_wt  n_cores  pc  px_height  px_width   ram  sc_h  sc_w  \\\n",
       "674     0.3        190        3   4        182      1293   969    15     1   \n",
       "1699    0.7        180        7   7        948      1007  1234    19    13   \n",
       "1282    0.1         81        6   6        113      1524  1905    16     3   \n",
       "1315    0.7        135        3   8        963      1520   854     8     2   \n",
       "1210    0.9        168        3  10         81      1544  3397     7     6   \n",
       "...     ...        ...      ...  ..        ...       ...   ...   ...   ...   \n",
       "400     0.2        184        3  12        346      1468  2532    10     5   \n",
       "763     0.7        143        8   0        730      1895  3387    11     3   \n",
       "385     0.7        138        3   5         71       699  3333    17    15   \n",
       "1667    0.6        199        1   7        518      1374  1567    15     2   \n",
       "1820    0.1        185        5   2        496      1804   690     5     2   \n",
       "\n",
       "      talk_time  three_g  touch_screen  wifi  \n",
       "674           7        1             0     0  \n",
       "1699         18        1             1     0  \n",
       "1282         18        1             1     1  \n",
       "1315         10        1             0     1  \n",
       "1210          2        1             0     0  \n",
       "...         ...      ...           ...   ...  \n",
       "400           4        1             1     1  \n",
       "763           3        1             0     0  \n",
       "385           7        1             0     0  \n",
       "1667          7        1             1     0  \n",
       "1820         15        1             0     0  \n",
       "\n",
       "[400 rows x 20 columns]"
      ]
     },
     "execution_count": 36,
     "metadata": {},
     "output_type": "execute_result"
    }
   ],
   "source": [
    "X_test"
   ]
  },
  {
   "cell_type": "code",
   "execution_count": 37,
   "id": "promotional-pacific",
   "metadata": {
    "execution": {
     "iopub.execute_input": "2021-04-18T17:55:49.530013Z",
     "iopub.status.busy": "2021-04-18T17:55:49.529237Z",
     "iopub.status.idle": "2021-04-18T17:55:49.770698Z",
     "shell.execute_reply": "2021-04-18T17:55:49.771249Z"
    },
    "papermill": {
     "duration": 0.304252,
     "end_time": "2021-04-18T17:55:49.771465",
     "exception": false,
     "start_time": "2021-04-18T17:55:49.467213",
     "status": "completed"
    },
    "tags": []
   },
   "outputs": [],
   "source": [
    "# DECISION TREE:\n",
    "from sklearn.tree import DecisionTreeClassifier\n",
    "dt=DecisionTreeClassifier()"
   ]
  },
  {
   "cell_type": "code",
   "execution_count": 38,
   "id": "aerial-davis",
   "metadata": {
    "execution": {
     "iopub.execute_input": "2021-04-18T17:55:49.898364Z",
     "iopub.status.busy": "2021-04-18T17:55:49.897320Z",
     "iopub.status.idle": "2021-04-18T17:55:49.918276Z",
     "shell.execute_reply": "2021-04-18T17:55:49.917725Z"
    },
    "papermill": {
     "duration": 0.088402,
     "end_time": "2021-04-18T17:55:49.918429",
     "exception": false,
     "start_time": "2021-04-18T17:55:49.830027",
     "status": "completed"
    },
    "tags": []
   },
   "outputs": [
    {
     "data": {
      "text/plain": [
       "DecisionTreeClassifier()"
      ]
     },
     "execution_count": 38,
     "metadata": {},
     "output_type": "execute_result"
    }
   ],
   "source": [
    "dt.fit(X_train,Y_train)"
   ]
  },
  {
   "cell_type": "code",
   "execution_count": 39,
   "id": "excellent-robinson",
   "metadata": {
    "execution": {
     "iopub.execute_input": "2021-04-18T17:55:50.043075Z",
     "iopub.status.busy": "2021-04-18T17:55:50.042295Z",
     "iopub.status.idle": "2021-04-18T17:55:50.046037Z",
     "shell.execute_reply": "2021-04-18T17:55:50.045418Z"
    },
    "papermill": {
     "duration": 0.069436,
     "end_time": "2021-04-18T17:55:50.046198",
     "exception": false,
     "start_time": "2021-04-18T17:55:49.976762",
     "status": "completed"
    },
    "tags": []
   },
   "outputs": [],
   "source": [
    "Y_pred=dt.predict(X_test)"
   ]
  },
  {
   "cell_type": "code",
   "execution_count": 40,
   "id": "usual-index",
   "metadata": {
    "execution": {
     "iopub.execute_input": "2021-04-18T17:55:50.172297Z",
     "iopub.status.busy": "2021-04-18T17:55:50.171607Z",
     "iopub.status.idle": "2021-04-18T17:55:50.176808Z",
     "shell.execute_reply": "2021-04-18T17:55:50.176250Z"
    },
    "papermill": {
     "duration": 0.070999,
     "end_time": "2021-04-18T17:55:50.176977",
     "exception": false,
     "start_time": "2021-04-18T17:55:50.105978",
     "status": "completed"
    },
    "tags": []
   },
   "outputs": [
    {
     "data": {
      "text/plain": [
       "array([0, 0, 1, 0, 3, 2, 1, 2, 2, 3, 0, 3, 1, 1, 3, 0, 0, 1, 1, 1, 3, 3,\n",
       "       1, 2, 3, 2, 2, 3, 2, 2, 2, 1, 3, 0, 3, 3, 0, 0, 0, 0, 2, 0, 2, 2,\n",
       "       0, 1, 2, 2, 1, 2, 1, 3, 1, 3, 1, 3, 1, 3, 3, 1, 0, 2, 1, 3, 2, 1,\n",
       "       0, 2, 3, 2, 1, 3, 0, 3, 3, 1, 2, 1, 1, 0, 0, 3, 1, 2, 3, 2, 2, 1,\n",
       "       1, 1, 2, 0, 1, 0, 2, 2, 3, 0, 3, 3, 3, 3, 0, 1, 2, 0, 0, 1, 0, 2,\n",
       "       0, 3, 0, 1, 2, 2, 3, 1, 2, 1, 2, 0, 0, 0, 3, 0, 1, 0, 0, 1, 0, 2,\n",
       "       0, 3, 3, 0, 3, 2, 1, 1, 0, 0, 3, 1, 0, 2, 0, 0, 0, 1, 3, 3, 1, 1,\n",
       "       0, 1, 1, 1, 3, 1, 3, 1, 3, 3, 3, 1, 2, 1, 3, 2, 2, 0, 2, 2, 0, 3,\n",
       "       3, 0, 1, 3, 0, 3, 1, 0, 2, 3, 3, 1, 2, 1, 2, 2, 1, 3, 0, 1, 2, 3,\n",
       "       3, 1, 3, 2, 0, 1, 2, 2, 2, 1, 0, 2, 0, 2, 1, 0, 2, 0, 1, 0, 3, 1,\n",
       "       0, 1, 2, 1, 3, 3, 1, 3, 2, 1, 1, 2, 3, 3, 2, 1, 0, 1, 2, 2, 3, 2,\n",
       "       2, 2, 1, 1, 2, 0, 3, 3, 3, 1, 2, 1, 0, 2, 1, 3, 2, 0, 3, 1, 1, 1,\n",
       "       2, 1, 2, 0, 3, 2, 2, 0, 0, 1, 2, 3, 0, 1, 1, 3, 3, 1, 1, 2, 2, 0,\n",
       "       0, 3, 0, 0, 1, 3, 2, 3, 0, 0, 1, 2, 3, 3, 2, 2, 0, 0, 3, 1, 1, 0,\n",
       "       0, 0, 2, 1, 2, 1, 0, 2, 3, 1, 3, 3, 3, 1, 1, 1, 2, 1, 1, 0, 2, 3,\n",
       "       3, 1, 1, 0, 1, 2, 3, 2, 0, 3, 2, 2, 2, 2, 2, 3, 3, 2, 3, 2, 0, 3,\n",
       "       1, 0, 3, 1, 3, 2, 3, 2, 3, 0, 3, 0, 1, 1, 2, 2, 0, 0, 2, 3, 1, 0,\n",
       "       3, 3, 3, 0, 2, 2, 1, 3, 2, 3, 3, 0, 3, 2, 0, 1, 3, 2, 2, 0, 2, 2,\n",
       "       3, 2, 1, 0])"
      ]
     },
     "execution_count": 40,
     "metadata": {},
     "output_type": "execute_result"
    }
   ],
   "source": [
    "Y_pred"
   ]
  },
  {
   "cell_type": "code",
   "execution_count": 41,
   "id": "political-production",
   "metadata": {
    "execution": {
     "iopub.execute_input": "2021-04-18T17:55:50.301400Z",
     "iopub.status.busy": "2021-04-18T17:55:50.300594Z",
     "iopub.status.idle": "2021-04-18T17:55:50.305283Z",
     "shell.execute_reply": "2021-04-18T17:55:50.304744Z"
    },
    "papermill": {
     "duration": 0.069829,
     "end_time": "2021-04-18T17:55:50.305433",
     "exception": false,
     "start_time": "2021-04-18T17:55:50.235604",
     "status": "completed"
    },
    "tags": []
   },
   "outputs": [
    {
     "data": {
      "text/plain": [
       "674     0\n",
       "1699    0\n",
       "1282    1\n",
       "1315    1\n",
       "1210    2\n",
       "       ..\n",
       "400     2\n",
       "763     3\n",
       "385     3\n",
       "1667    1\n",
       "1820    0\n",
       "Name: price_range, Length: 400, dtype: int64"
      ]
     },
     "execution_count": 41,
     "metadata": {},
     "output_type": "execute_result"
    }
   ],
   "source": [
    "Y_test"
   ]
  },
  {
   "cell_type": "code",
   "execution_count": 42,
   "id": "placed-confusion",
   "metadata": {
    "execution": {
     "iopub.execute_input": "2021-04-18T17:55:50.428424Z",
     "iopub.status.busy": "2021-04-18T17:55:50.427737Z",
     "iopub.status.idle": "2021-04-18T17:55:50.431143Z",
     "shell.execute_reply": "2021-04-18T17:55:50.430515Z"
    },
    "papermill": {
     "duration": 0.066798,
     "end_time": "2021-04-18T17:55:50.431324",
     "exception": false,
     "start_time": "2021-04-18T17:55:50.364526",
     "status": "completed"
    },
    "tags": []
   },
   "outputs": [],
   "source": [
    "from sklearn.metrics import accuracy_score"
   ]
  },
  {
   "cell_type": "code",
   "execution_count": 43,
   "id": "rational-lover",
   "metadata": {
    "execution": {
     "iopub.execute_input": "2021-04-18T17:55:50.552801Z",
     "iopub.status.busy": "2021-04-18T17:55:50.552165Z",
     "iopub.status.idle": "2021-04-18T17:55:50.556497Z",
     "shell.execute_reply": "2021-04-18T17:55:50.557070Z"
    },
    "papermill": {
     "duration": 0.066953,
     "end_time": "2021-04-18T17:55:50.557283",
     "exception": false,
     "start_time": "2021-04-18T17:55:50.490330",
     "status": "completed"
    },
    "tags": []
   },
   "outputs": [],
   "source": [
    "dt_ac=accuracy_score(Y_test,Y_pred)"
   ]
  },
  {
   "cell_type": "code",
   "execution_count": 44,
   "id": "objective-magic",
   "metadata": {
    "execution": {
     "iopub.execute_input": "2021-04-18T17:55:50.679581Z",
     "iopub.status.busy": "2021-04-18T17:55:50.678800Z",
     "iopub.status.idle": "2021-04-18T17:55:50.684890Z",
     "shell.execute_reply": "2021-04-18T17:55:50.685368Z"
    },
    "papermill": {
     "duration": 0.068883,
     "end_time": "2021-04-18T17:55:50.685559",
     "exception": false,
     "start_time": "2021-04-18T17:55:50.616676",
     "status": "completed"
    },
    "tags": []
   },
   "outputs": [
    {
     "data": {
      "text/plain": [
       "0.8575"
      ]
     },
     "execution_count": 44,
     "metadata": {},
     "output_type": "execute_result"
    }
   ],
   "source": [
    "dt_ac"
   ]
  },
  {
   "cell_type": "code",
   "execution_count": 45,
   "id": "restricted-horse",
   "metadata": {
    "execution": {
     "iopub.execute_input": "2021-04-18T17:55:50.812656Z",
     "iopub.status.busy": "2021-04-18T17:55:50.811655Z",
     "iopub.status.idle": "2021-04-18T17:55:50.819329Z",
     "shell.execute_reply": "2021-04-18T17:55:50.818746Z"
    },
    "papermill": {
     "duration": 0.074164,
     "end_time": "2021-04-18T17:55:50.819494",
     "exception": false,
     "start_time": "2021-04-18T17:55:50.745330",
     "status": "completed"
    },
    "tags": []
   },
   "outputs": [],
   "source": [
    "# KNN:\n",
    "X_train_std=std.fit_transform(X_train)"
   ]
  },
  {
   "cell_type": "code",
   "execution_count": 46,
   "id": "awful-intention",
   "metadata": {
    "execution": {
     "iopub.execute_input": "2021-04-18T17:55:50.948537Z",
     "iopub.status.busy": "2021-04-18T17:55:50.947757Z",
     "iopub.status.idle": "2021-04-18T17:55:50.951325Z",
     "shell.execute_reply": "2021-04-18T17:55:50.951883Z"
    },
    "papermill": {
     "duration": 0.071027,
     "end_time": "2021-04-18T17:55:50.952070",
     "exception": false,
     "start_time": "2021-04-18T17:55:50.881043",
     "status": "completed"
    },
    "tags": []
   },
   "outputs": [],
   "source": [
    "X_test_std=std.transform(X_test)"
   ]
  },
  {
   "cell_type": "code",
   "execution_count": 47,
   "id": "subjective-amplifier",
   "metadata": {
    "execution": {
     "iopub.execute_input": "2021-04-18T17:55:51.080887Z",
     "iopub.status.busy": "2021-04-18T17:55:51.080190Z",
     "iopub.status.idle": "2021-04-18T17:55:51.084823Z",
     "shell.execute_reply": "2021-04-18T17:55:51.084106Z"
    },
    "papermill": {
     "duration": 0.071792,
     "end_time": "2021-04-18T17:55:51.084973",
     "exception": false,
     "start_time": "2021-04-18T17:55:51.013181",
     "status": "completed"
    },
    "tags": []
   },
   "outputs": [
    {
     "data": {
      "text/plain": [
       "array([[-0.49109398, -0.99128795,  1.33165174, ...,  0.56965192,\n",
       "        -1.02020406, -1.01384584],\n",
       "       [-0.56454768,  1.00878862,  0.35176429, ...,  0.56965192,\n",
       "         0.98019606, -1.01384584],\n",
       "       [-1.46665102,  1.00878862, -1.24055283, ...,  0.56965192,\n",
       "         0.98019606,  0.98634324],\n",
       "       ...,\n",
       "       [ 1.45083838,  1.00878862,  0.35176429, ...,  0.56965192,\n",
       "        -1.02020406, -1.01384584],\n",
       "       [ 1.65054065, -0.99128795, -1.24055283, ...,  0.56965192,\n",
       "         0.98019606, -1.01384584],\n",
       "       [-1.33810703,  1.00878862, -0.99558096, ...,  0.56965192,\n",
       "        -1.02020406, -1.01384584]])"
      ]
     },
     "execution_count": 47,
     "metadata": {},
     "output_type": "execute_result"
    }
   ],
   "source": [
    "X_test_std"
   ]
  },
  {
   "cell_type": "code",
   "execution_count": 48,
   "id": "improving-enemy",
   "metadata": {
    "execution": {
     "iopub.execute_input": "2021-04-18T17:55:51.212641Z",
     "iopub.status.busy": "2021-04-18T17:55:51.211868Z",
     "iopub.status.idle": "2021-04-18T17:55:51.214157Z",
     "shell.execute_reply": "2021-04-18T17:55:51.214663Z"
    },
    "papermill": {
     "duration": 0.067899,
     "end_time": "2021-04-18T17:55:51.214872",
     "exception": false,
     "start_time": "2021-04-18T17:55:51.146973",
     "status": "completed"
    },
    "tags": []
   },
   "outputs": [],
   "source": [
    "from sklearn.neighbors import KNeighborsClassifier"
   ]
  },
  {
   "cell_type": "code",
   "execution_count": 49,
   "id": "dried-rehabilitation",
   "metadata": {
    "execution": {
     "iopub.execute_input": "2021-04-18T17:55:51.339878Z",
     "iopub.status.busy": "2021-04-18T17:55:51.339145Z",
     "iopub.status.idle": "2021-04-18T17:55:51.342640Z",
     "shell.execute_reply": "2021-04-18T17:55:51.343199Z"
    },
    "papermill": {
     "duration": 0.067402,
     "end_time": "2021-04-18T17:55:51.343397",
     "exception": false,
     "start_time": "2021-04-18T17:55:51.275995",
     "status": "completed"
    },
    "tags": []
   },
   "outputs": [],
   "source": [
    "knn=KNeighborsClassifier()"
   ]
  },
  {
   "cell_type": "code",
   "execution_count": 50,
   "id": "possible-estonia",
   "metadata": {
    "execution": {
     "iopub.execute_input": "2021-04-18T17:55:51.469678Z",
     "iopub.status.busy": "2021-04-18T17:55:51.468992Z",
     "iopub.status.idle": "2021-04-18T17:55:51.475704Z",
     "shell.execute_reply": "2021-04-18T17:55:51.475057Z"
    },
    "papermill": {
     "duration": 0.070948,
     "end_time": "2021-04-18T17:55:51.475859",
     "exception": false,
     "start_time": "2021-04-18T17:55:51.404911",
     "status": "completed"
    },
    "tags": []
   },
   "outputs": [
    {
     "data": {
      "text/plain": [
       "KNeighborsClassifier()"
      ]
     },
     "execution_count": 50,
     "metadata": {},
     "output_type": "execute_result"
    }
   ],
   "source": [
    "knn.fit(X_train_std,Y_train)"
   ]
  },
  {
   "cell_type": "code",
   "execution_count": 51,
   "id": "separate-sheep",
   "metadata": {
    "execution": {
     "iopub.execute_input": "2021-04-18T17:55:51.602083Z",
     "iopub.status.busy": "2021-04-18T17:55:51.601442Z",
     "iopub.status.idle": "2021-04-18T17:55:51.659728Z",
     "shell.execute_reply": "2021-04-18T17:55:51.661168Z"
    },
    "papermill": {
     "duration": 0.124189,
     "end_time": "2021-04-18T17:55:51.661455",
     "exception": false,
     "start_time": "2021-04-18T17:55:51.537266",
     "status": "completed"
    },
    "tags": []
   },
   "outputs": [],
   "source": [
    "Y_pred=knn.predict(X_test_std)"
   ]
  },
  {
   "cell_type": "code",
   "execution_count": 52,
   "id": "loving-valentine",
   "metadata": {
    "execution": {
     "iopub.execute_input": "2021-04-18T17:55:51.821840Z",
     "iopub.status.busy": "2021-04-18T17:55:51.820656Z",
     "iopub.status.idle": "2021-04-18T17:55:51.824930Z",
     "shell.execute_reply": "2021-04-18T17:55:51.825428Z"
    },
    "papermill": {
     "duration": 0.072725,
     "end_time": "2021-04-18T17:55:51.825612",
     "exception": false,
     "start_time": "2021-04-18T17:55:51.752887",
     "status": "completed"
    },
    "tags": []
   },
   "outputs": [
    {
     "data": {
      "text/plain": [
       "array([0, 1, 1, 0, 1, 1, 0, 2, 1, 3, 0, 3, 2, 0, 2, 0, 1, 1, 1, 2, 3, 2,\n",
       "       1, 3, 3, 2, 2, 1, 1, 3, 1, 1, 2, 0, 3, 1, 0, 0, 1, 1, 0, 1, 2, 0,\n",
       "       0, 2, 1, 2, 0, 2, 1, 1, 0, 2, 2, 2, 0, 2, 2, 0, 0, 0, 0, 2, 0, 2,\n",
       "       0, 2, 2, 2, 1, 1, 0, 3, 3, 1, 3, 0, 1, 0, 0, 3, 2, 2, 3, 1, 2, 0,\n",
       "       2, 0, 1, 0, 0, 1, 2, 2, 2, 0, 1, 1, 1, 3, 0, 0, 2, 0, 0, 1, 1, 0,\n",
       "       0, 3, 2, 2, 2, 0, 1, 0, 1, 1, 1, 0, 0, 0, 3, 1, 1, 0, 1, 1, 0, 2,\n",
       "       0, 2, 2, 1, 2, 2, 2, 2, 0, 1, 3, 0, 1, 2, 0, 1, 0, 0, 2, 3, 1, 0,\n",
       "       0, 0, 1, 0, 1, 2, 2, 0, 2, 2, 3, 0, 3, 2, 3, 2, 1, 0, 1, 0, 1, 3,\n",
       "       2, 0, 1, 3, 0, 3, 0, 2, 1, 3, 3, 1, 1, 1, 2, 1, 2, 2, 0, 2, 1, 3,\n",
       "       2, 0, 3, 2, 0, 3, 2, 1, 2, 0, 0, 2, 1, 2, 2, 0, 3, 0, 1, 0, 1, 1,\n",
       "       2, 2, 2, 2, 2, 1, 0, 3, 2, 1, 0, 1, 3, 3, 1, 1, 0, 1, 2, 0, 1, 2,\n",
       "       1, 0, 0, 2, 1, 0, 3, 2, 2, 0, 0, 1, 1, 3, 1, 2, 1, 0, 1, 0, 1, 2,\n",
       "       2, 2, 2, 0, 1, 0, 3, 0, 0, 2, 2, 3, 0, 2, 1, 2, 3, 1, 1, 0, 2, 1,\n",
       "       1, 2, 0, 0, 1, 3, 1, 3, 0, 0, 2, 3, 3, 3, 0, 3, 0, 1, 1, 0, 1, 0,\n",
       "       1, 0, 1, 1, 3, 0, 0, 2, 3, 2, 2, 2, 3, 1, 2, 1, 1, 1, 0, 0, 3, 2,\n",
       "       3, 0, 1, 0, 1, 2, 1, 2, 2, 2, 3, 2, 2, 2, 0, 3, 3, 2, 3, 3, 1, 2,\n",
       "       1, 0, 1, 2, 2, 1, 1, 1, 2, 1, 2, 0, 1, 0, 1, 2, 0, 1, 1, 1, 2, 0,\n",
       "       2, 3, 3, 0, 3, 1, 1, 2, 3, 3, 3, 0, 3, 2, 0, 2, 3, 2, 2, 0, 1, 1,\n",
       "       2, 3, 2, 1])"
      ]
     },
     "execution_count": 52,
     "metadata": {},
     "output_type": "execute_result"
    }
   ],
   "source": [
    "Y_pred"
   ]
  },
  {
   "cell_type": "code",
   "execution_count": 53,
   "id": "atomic-consent",
   "metadata": {
    "execution": {
     "iopub.execute_input": "2021-04-18T17:55:51.955430Z",
     "iopub.status.busy": "2021-04-18T17:55:51.954415Z",
     "iopub.status.idle": "2021-04-18T17:55:51.959679Z",
     "shell.execute_reply": "2021-04-18T17:55:51.960204Z"
    },
    "papermill": {
     "duration": 0.071205,
     "end_time": "2021-04-18T17:55:51.960531",
     "exception": false,
     "start_time": "2021-04-18T17:55:51.889326",
     "status": "completed"
    },
    "tags": []
   },
   "outputs": [],
   "source": [
    "knn_ac=accuracy_score(Y_test,Y_pred)"
   ]
  },
  {
   "cell_type": "code",
   "execution_count": 54,
   "id": "genuine-remark",
   "metadata": {
    "execution": {
     "iopub.execute_input": "2021-04-18T17:55:52.094699Z",
     "iopub.status.busy": "2021-04-18T17:55:52.093595Z",
     "iopub.status.idle": "2021-04-18T17:55:52.098404Z",
     "shell.execute_reply": "2021-04-18T17:55:52.097841Z"
    },
    "papermill": {
     "duration": 0.073809,
     "end_time": "2021-04-18T17:55:52.098566",
     "exception": false,
     "start_time": "2021-04-18T17:55:52.024757",
     "status": "completed"
    },
    "tags": []
   },
   "outputs": [
    {
     "data": {
      "text/plain": [
       "0.5225"
      ]
     },
     "execution_count": 54,
     "metadata": {},
     "output_type": "execute_result"
    }
   ],
   "source": [
    "knn_ac"
   ]
  },
  {
   "cell_type": "code",
   "execution_count": 55,
   "id": "rapid-football",
   "metadata": {
    "execution": {
     "iopub.execute_input": "2021-04-18T17:55:52.229749Z",
     "iopub.status.busy": "2021-04-18T17:55:52.228908Z",
     "iopub.status.idle": "2021-04-18T17:55:52.232024Z",
     "shell.execute_reply": "2021-04-18T17:55:52.232533Z"
    },
    "papermill": {
     "duration": 0.071166,
     "end_time": "2021-04-18T17:55:52.232718",
     "exception": false,
     "start_time": "2021-04-18T17:55:52.161552",
     "status": "completed"
    },
    "tags": []
   },
   "outputs": [],
   "source": [
    "# Logistic Regression:\n",
    "from sklearn.linear_model import LogisticRegression\n",
    "lr=LogisticRegression()"
   ]
  },
  {
   "cell_type": "code",
   "execution_count": 56,
   "id": "broadband-edmonton",
   "metadata": {
    "execution": {
     "iopub.execute_input": "2021-04-18T17:55:52.364384Z",
     "iopub.status.busy": "2021-04-18T17:55:52.363686Z",
     "iopub.status.idle": "2021-04-18T17:55:52.417103Z",
     "shell.execute_reply": "2021-04-18T17:55:52.416479Z"
    },
    "papermill": {
     "duration": 0.121255,
     "end_time": "2021-04-18T17:55:52.417266",
     "exception": false,
     "start_time": "2021-04-18T17:55:52.296011",
     "status": "completed"
    },
    "tags": []
   },
   "outputs": [
    {
     "data": {
      "text/plain": [
       "LogisticRegression()"
      ]
     },
     "execution_count": 56,
     "metadata": {},
     "output_type": "execute_result"
    }
   ],
   "source": [
    "lr.fit(X_train_std,Y_train)"
   ]
  },
  {
   "cell_type": "code",
   "execution_count": 57,
   "id": "selected-mounting",
   "metadata": {
    "execution": {
     "iopub.execute_input": "2021-04-18T17:55:52.548457Z",
     "iopub.status.busy": "2021-04-18T17:55:52.547412Z",
     "iopub.status.idle": "2021-04-18T17:55:52.552656Z",
     "shell.execute_reply": "2021-04-18T17:55:52.553186Z"
    },
    "papermill": {
     "duration": 0.072406,
     "end_time": "2021-04-18T17:55:52.553404",
     "exception": false,
     "start_time": "2021-04-18T17:55:52.480998",
     "status": "completed"
    },
    "tags": []
   },
   "outputs": [],
   "source": [
    "Y_pred=lr.predict(X_test_std)"
   ]
  },
  {
   "cell_type": "code",
   "execution_count": 58,
   "id": "powerful-edgar",
   "metadata": {
    "execution": {
     "iopub.execute_input": "2021-04-18T17:55:52.688775Z",
     "iopub.status.busy": "2021-04-18T17:55:52.687779Z",
     "iopub.status.idle": "2021-04-18T17:55:52.694429Z",
     "shell.execute_reply": "2021-04-18T17:55:52.694880Z"
    },
    "papermill": {
     "duration": 0.078022,
     "end_time": "2021-04-18T17:55:52.695053",
     "exception": false,
     "start_time": "2021-04-18T17:55:52.617031",
     "status": "completed"
    },
    "tags": []
   },
   "outputs": [
    {
     "data": {
      "text/plain": [
       "array([0, 0, 1, 1, 2, 2, 0, 2, 2, 3, 0, 3, 1, 1, 3, 0, 0, 1, 1, 1, 3, 3,\n",
       "       1, 2, 3, 2, 2, 3, 2, 2, 2, 1, 2, 0, 3, 3, 0, 0, 0, 0, 2, 1, 2, 1,\n",
       "       0, 1, 2, 2, 1, 2, 1, 3, 1, 3, 1, 3, 1, 3, 3, 1, 0, 2, 0, 3, 2, 1,\n",
       "       1, 2, 3, 2, 1, 2, 0, 3, 3, 1, 2, 1, 0, 0, 0, 3, 1, 2, 3, 2, 2, 0,\n",
       "       1, 1, 3, 0, 1, 1, 2, 3, 3, 0, 3, 3, 3, 3, 0, 1, 2, 0, 0, 1, 0, 2,\n",
       "       0, 3, 1, 1, 2, 2, 3, 1, 2, 1, 2, 0, 0, 0, 3, 0, 1, 1, 0, 1, 0, 2,\n",
       "       0, 3, 3, 0, 3, 2, 2, 1, 0, 0, 3, 1, 0, 2, 0, 0, 0, 1, 3, 3, 1, 1,\n",
       "       0, 2, 1, 0, 3, 1, 3, 1, 2, 2, 3, 1, 2, 2, 3, 2, 2, 0, 2, 2, 0, 3,\n",
       "       3, 0, 0, 3, 0, 3, 0, 0, 2, 3, 3, 1, 2, 1, 2, 3, 2, 2, 0, 1, 1, 3,\n",
       "       3, 1, 3, 2, 0, 1, 2, 2, 2, 1, 0, 2, 0, 3, 2, 0, 2, 0, 1, 0, 2, 1,\n",
       "       0, 1, 2, 1, 3, 3, 0, 3, 2, 1, 0, 2, 3, 3, 2, 1, 0, 1, 3, 2, 3, 2,\n",
       "       2, 1, 0, 1, 3, 0, 3, 3, 3, 1, 2, 1, 0, 1, 1, 3, 2, 0, 3, 1, 1, 1,\n",
       "       2, 1, 2, 0, 3, 2, 2, 0, 0, 1, 3, 3, 0, 1, 1, 2, 3, 2, 2, 2, 2, 0,\n",
       "       0, 3, 0, 0, 1, 3, 2, 3, 0, 0, 1, 2, 3, 2, 2, 2, 0, 0, 3, 1, 1, 0,\n",
       "       0, 0, 3, 1, 2, 1, 0, 2, 3, 1, 3, 3, 3, 1, 1, 1, 2, 1, 1, 0, 3, 3,\n",
       "       3, 1, 1, 0, 1, 2, 3, 2, 0, 3, 3, 2, 2, 2, 1, 2, 3, 2, 3, 2, 1, 3,\n",
       "       1, 0, 3, 1, 3, 1, 2, 2, 3, 0, 2, 0, 1, 1, 2, 3, 0, 0, 2, 3, 1, 0,\n",
       "       3, 3, 3, 0, 2, 2, 1, 3, 3, 3, 3, 0, 3, 2, 0, 1, 3, 2, 2, 0, 2, 2,\n",
       "       3, 3, 1, 0])"
      ]
     },
     "execution_count": 58,
     "metadata": {},
     "output_type": "execute_result"
    }
   ],
   "source": [
    "Y_pred"
   ]
  },
  {
   "cell_type": "code",
   "execution_count": 59,
   "id": "awful-seven",
   "metadata": {
    "execution": {
     "iopub.execute_input": "2021-04-18T17:55:52.826183Z",
     "iopub.status.busy": "2021-04-18T17:55:52.825200Z",
     "iopub.status.idle": "2021-04-18T17:55:52.829989Z",
     "shell.execute_reply": "2021-04-18T17:55:52.830505Z"
    },
    "papermill": {
     "duration": 0.072021,
     "end_time": "2021-04-18T17:55:52.830689",
     "exception": false,
     "start_time": "2021-04-18T17:55:52.758668",
     "status": "completed"
    },
    "tags": []
   },
   "outputs": [],
   "source": [
    "lr_ac=accuracy_score(Y_test,Y_pred)"
   ]
  },
  {
   "cell_type": "code",
   "execution_count": 60,
   "id": "german-sugar",
   "metadata": {
    "execution": {
     "iopub.execute_input": "2021-04-18T17:55:52.967032Z",
     "iopub.status.busy": "2021-04-18T17:55:52.966007Z",
     "iopub.status.idle": "2021-04-18T17:55:52.971974Z",
     "shell.execute_reply": "2021-04-18T17:55:52.972517Z"
    },
    "papermill": {
     "duration": 0.07521,
     "end_time": "2021-04-18T17:55:52.972692",
     "exception": false,
     "start_time": "2021-04-18T17:55:52.897482",
     "status": "completed"
    },
    "tags": []
   },
   "outputs": [
    {
     "data": {
      "text/plain": [
       "0.96"
      ]
     },
     "execution_count": 60,
     "metadata": {},
     "output_type": "execute_result"
    }
   ],
   "source": [
    "lr_ac"
   ]
  },
  {
   "cell_type": "code",
   "execution_count": 61,
   "id": "basic-record",
   "metadata": {
    "execution": {
     "iopub.execute_input": "2021-04-18T17:55:53.132557Z",
     "iopub.status.busy": "2021-04-18T17:55:53.131839Z",
     "iopub.status.idle": "2021-04-18T17:55:53.224942Z",
     "shell.execute_reply": "2021-04-18T17:55:53.224271Z"
    },
    "papermill": {
     "duration": 0.186694,
     "end_time": "2021-04-18T17:55:53.225086",
     "exception": false,
     "start_time": "2021-04-18T17:55:53.038392",
     "status": "completed"
    },
    "tags": []
   },
   "outputs": [
    {
     "data": {
      "image/png": "[encoded data removed]",
      "text/plain": [
       "<Figure size 432x288 with 1 Axes>"
      ]
     },
     "metadata": {
      "needs_background": "light"
     },
     "output_type": "display_data"
    }
   ],
   "source": [
    "plt.bar(x=['dt','knn','lr'],height=[dt_ac,knn_ac,lr_ac],color = 'lightblue')\n",
    "plt.xlabel(\"Algorithms\")\n",
    "plt.ylabel(\"Accuracy Score\")\n",
    "plt.show()"
   ]
  },
  {
   "cell_type": "code",
   "execution_count": null,
   "id": "olive-regression",
   "metadata": {
    "papermill": {
     "duration": 0.080033,
     "end_time": "2021-04-18T17:55:53.370553",
     "exception": false,
     "start_time": "2021-04-18T17:55:53.290520",
     "status": "completed"
    },
    "tags": []
   },
   "outputs": [],
   "source": []
  }
 ],
 "metadata": {
  "kernelspec": {
   "display_name": "Python 3",
   "language": "python",
   "name": "python3"
  },
  "language_info": {
   "codemirror_mode": {
    "name": "ipython",
    "version": 3
   },
   "file_extension": ".py",
   "mimetype": "text/x-python",
   "name": "python",
   "nbconvert_exporter": "python",
   "pygments_lexer": "ipython3",
   "version": "3.7.9"
  },
  "papermill": {
   "default_parameters": {},
   "duration": 18.187742,
   "end_time": "2021-04-18T17:55:54.147468",
   "environment_variables": {},
   "exception": null,
   "input_path": "__notebook__.ipynb",
   "output_path": "__notebook__.ipynb",
   "parameters": {},
   "start_time": "2021-04-18T17:55:35.959726",
   "version": "2.3.2"
  }
 },
 "nbformat": 4,
 "nbformat_minor": 5
}
