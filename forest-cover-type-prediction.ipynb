{
 "cells": [
  {
   "cell_type": "code",
   "execution_count": 1,
   "id": "played-notebook",
   "metadata": {
    "_cell_guid": "b1076dfc-b9ad-4769-8c92-a6c4dae69d19",
    "_uuid": "8f2839f25d086af736a60e9eeb907d3b93b6e0e5",
    "execution": {
     "iopub.execute_input": "2021-05-08T18:25:26.930601Z",
     "iopub.status.busy": "2021-05-08T18:25:26.929401Z",
     "iopub.status.idle": "2021-05-08T18:25:26.954133Z",
     "shell.execute_reply": "2021-05-08T18:25:26.953085Z"
    },
    "papermill": {
     "duration": 0.053364,
     "end_time": "2021-05-08T18:25:26.954363",
     "exception": false,
     "start_time": "2021-05-08T18:25:26.900999",
     "status": "completed"
    },
    "tags": []
   },
   "outputs": [
    {
     "name": "stdout",
     "output_type": "stream",
     "text": [
      "/kaggle/input/forest-cover-type-dataset/covtype.csv\n"
     ]
    }
   ],
   "source": [
    "# This Python 3 environment comes with many helpful analytics libraries installed\n",
    "# It is defined by the kaggle/python Docker image: https://github.com/kaggle/docker-python\n",
    "# For example, here's several helpful packages to load\n",
    "\n",
    "import numpy as np # linear algebra\n",
    "import pandas as pd # data processing, CSV file I/O (e.g. pd.read_csv)\n",
    "\n",
    "# Input data files are available in the read-only \"../input/\" directory\n",
    "# For example, running this (by clicking run or pressing Shift+Enter) will list all files under the input directory\n",
    "\n",
    "import os\n",
    "for dirname, _, filenames in os.walk('/kaggle/input'):\n",
    "    for filename in filenames:\n",
    "        print(os.path.join(dirname, filename))\n",
    "\n",
    "# You can write up to 20GB to the current directory (/kaggle/working/) that gets preserved as output when you create a version using \"Save & Run All\" \n",
    "# You can also write temporary files to /kaggle/temp/, but they won't be saved outside of the current session"
   ]
  },
  {
   "cell_type": "markdown",
   "id": "engaged-fetish",
   "metadata": {
    "papermill": {
     "duration": 0.025996,
     "end_time": "2021-05-08T18:25:27.006317",
     "exception": false,
     "start_time": "2021-05-08T18:25:26.980321",
     "status": "completed"
    },
    "tags": []
   },
   "source": [
    "# IMPORT MODULES"
   ]
  },
  {
   "cell_type": "code",
   "execution_count": 2,
   "id": "greater-notification",
   "metadata": {
    "execution": {
     "iopub.execute_input": "2021-05-08T18:25:27.060635Z",
     "iopub.status.busy": "2021-05-08T18:25:27.059935Z",
     "iopub.status.idle": "2021-05-08T18:25:28.020636Z",
     "shell.execute_reply": "2021-05-08T18:25:28.019888Z"
    },
    "papermill": {
     "duration": 0.98904,
     "end_time": "2021-05-08T18:25:28.020785",
     "exception": false,
     "start_time": "2021-05-08T18:25:27.031745",
     "status": "completed"
    },
    "tags": []
   },
   "outputs": [],
   "source": [
    "import pandas as pd\n",
    "import numpy as np\n",
    "import seaborn as sns\n",
    "import matplotlib.pyplot as plt\n",
    "%matplotlib inline"
   ]
  },
  {
   "cell_type": "markdown",
   "id": "silver-sarah",
   "metadata": {
    "papermill": {
     "duration": 0.025165,
     "end_time": "2021-05-08T18:25:28.071734",
     "exception": false,
     "start_time": "2021-05-08T18:25:28.046569",
     "status": "completed"
    },
    "tags": []
   },
   "source": [
    "# READ THE DATASET"
   ]
  },
  {
   "cell_type": "code",
   "execution_count": 3,
   "id": "manufactured-tutorial",
   "metadata": {
    "execution": {
     "iopub.execute_input": "2021-05-08T18:25:28.127571Z",
     "iopub.status.busy": "2021-05-08T18:25:28.126843Z",
     "iopub.status.idle": "2021-05-08T18:25:31.051199Z",
     "shell.execute_reply": "2021-05-08T18:25:31.050177Z"
    },
    "papermill": {
     "duration": 2.954993,
     "end_time": "2021-05-08T18:25:31.051389",
     "exception": false,
     "start_time": "2021-05-08T18:25:28.096396",
     "status": "completed"
    },
    "tags": []
   },
   "outputs": [],
   "source": [
    "df = pd.read_csv('../input/forest-cover-type-dataset/covtype.csv')"
   ]
  },
  {
   "cell_type": "code",
   "execution_count": 4,
   "id": "arranged-active",
   "metadata": {
    "execution": {
     "iopub.execute_input": "2021-05-08T18:25:31.111530Z",
     "iopub.status.busy": "2021-05-08T18:25:31.110549Z",
     "iopub.status.idle": "2021-05-08T18:25:31.114919Z",
     "shell.execute_reply": "2021-05-08T18:25:31.115364Z"
    },
    "papermill": {
     "duration": 0.037294,
     "end_time": "2021-05-08T18:25:31.115552",
     "exception": false,
     "start_time": "2021-05-08T18:25:31.078258",
     "status": "completed"
    },
    "tags": []
   },
   "outputs": [
    {
     "data": {
      "text/plain": [
       "(581012, 55)"
      ]
     },
     "execution_count": 4,
     "metadata": {},
     "output_type": "execute_result"
    }
   ],
   "source": [
    "df.shape"
   ]
  },
  {
   "cell_type": "code",
   "execution_count": 5,
   "id": "christian-violin",
   "metadata": {
    "execution": {
     "iopub.execute_input": "2021-05-08T18:25:31.178510Z",
     "iopub.status.busy": "2021-05-08T18:25:31.177812Z",
     "iopub.status.idle": "2021-05-08T18:25:31.204149Z",
     "shell.execute_reply": "2021-05-08T18:25:31.204868Z"
    },
    "papermill": {
     "duration": 0.064141,
     "end_time": "2021-05-08T18:25:31.205064",
     "exception": false,
     "start_time": "2021-05-08T18:25:31.140923",
     "status": "completed"
    },
    "tags": []
   },
   "outputs": [
    {
     "data": {
      "text/html": [
       "<div>\n",
       "<style scoped>\n",
       "    .dataframe tbody tr th:only-of-type {\n",
       "        vertical-align: middle;\n",
       "    }\n",
       "\n",
       "    .dataframe tbody tr th {\n",
       "        vertical-align: top;\n",
       "    }\n",
       "\n",
       "    .dataframe thead th {\n",
       "        text-align: right;\n",
       "    }\n",
       "</style>\n",
       "<table border=\"1\" class=\"dataframe\">\n",
       "  <thead>\n",
       "    <tr style=\"text-align: right;\">\n",
       "      <th></th>\n",
       "      <th>Elevation</th>\n",
       "      <th>Aspect</th>\n",
       "      <th>Slope</th>\n",
       "      <th>Horizontal_Distance_To_Hydrology</th>\n",
       "      <th>Vertical_Distance_To_Hydrology</th>\n",
       "      <th>Horizontal_Distance_To_Roadways</th>\n",
       "      <th>Hillshade_9am</th>\n",
       "      <th>Hillshade_Noon</th>\n",
       "      <th>Hillshade_3pm</th>\n",
       "      <th>Horizontal_Distance_To_Fire_Points</th>\n",
       "      <th>...</th>\n",
       "      <th>Soil_Type32</th>\n",
       "      <th>Soil_Type33</th>\n",
       "      <th>Soil_Type34</th>\n",
       "      <th>Soil_Type35</th>\n",
       "      <th>Soil_Type36</th>\n",
       "      <th>Soil_Type37</th>\n",
       "      <th>Soil_Type38</th>\n",
       "      <th>Soil_Type39</th>\n",
       "      <th>Soil_Type40</th>\n",
       "      <th>Cover_Type</th>\n",
       "    </tr>\n",
       "  </thead>\n",
       "  <tbody>\n",
       "    <tr>\n",
       "      <th>0</th>\n",
       "      <td>2596</td>\n",
       "      <td>51</td>\n",
       "      <td>3</td>\n",
       "      <td>258</td>\n",
       "      <td>0</td>\n",
       "      <td>510</td>\n",
       "      <td>221</td>\n",
       "      <td>232</td>\n",
       "      <td>148</td>\n",
       "      <td>6279</td>\n",
       "      <td>...</td>\n",
       "      <td>0</td>\n",
       "      <td>0</td>\n",
       "      <td>0</td>\n",
       "      <td>0</td>\n",
       "      <td>0</td>\n",
       "      <td>0</td>\n",
       "      <td>0</td>\n",
       "      <td>0</td>\n",
       "      <td>0</td>\n",
       "      <td>5</td>\n",
       "    </tr>\n",
       "    <tr>\n",
       "      <th>1</th>\n",
       "      <td>2590</td>\n",
       "      <td>56</td>\n",
       "      <td>2</td>\n",
       "      <td>212</td>\n",
       "      <td>-6</td>\n",
       "      <td>390</td>\n",
       "      <td>220</td>\n",
       "      <td>235</td>\n",
       "      <td>151</td>\n",
       "      <td>6225</td>\n",
       "      <td>...</td>\n",
       "      <td>0</td>\n",
       "      <td>0</td>\n",
       "      <td>0</td>\n",
       "      <td>0</td>\n",
       "      <td>0</td>\n",
       "      <td>0</td>\n",
       "      <td>0</td>\n",
       "      <td>0</td>\n",
       "      <td>0</td>\n",
       "      <td>5</td>\n",
       "    </tr>\n",
       "    <tr>\n",
       "      <th>2</th>\n",
       "      <td>2804</td>\n",
       "      <td>139</td>\n",
       "      <td>9</td>\n",
       "      <td>268</td>\n",
       "      <td>65</td>\n",
       "      <td>3180</td>\n",
       "      <td>234</td>\n",
       "      <td>238</td>\n",
       "      <td>135</td>\n",
       "      <td>6121</td>\n",
       "      <td>...</td>\n",
       "      <td>0</td>\n",
       "      <td>0</td>\n",
       "      <td>0</td>\n",
       "      <td>0</td>\n",
       "      <td>0</td>\n",
       "      <td>0</td>\n",
       "      <td>0</td>\n",
       "      <td>0</td>\n",
       "      <td>0</td>\n",
       "      <td>2</td>\n",
       "    </tr>\n",
       "    <tr>\n",
       "      <th>3</th>\n",
       "      <td>2785</td>\n",
       "      <td>155</td>\n",
       "      <td>18</td>\n",
       "      <td>242</td>\n",
       "      <td>118</td>\n",
       "      <td>3090</td>\n",
       "      <td>238</td>\n",
       "      <td>238</td>\n",
       "      <td>122</td>\n",
       "      <td>6211</td>\n",
       "      <td>...</td>\n",
       "      <td>0</td>\n",
       "      <td>0</td>\n",
       "      <td>0</td>\n",
       "      <td>0</td>\n",
       "      <td>0</td>\n",
       "      <td>0</td>\n",
       "      <td>0</td>\n",
       "      <td>0</td>\n",
       "      <td>0</td>\n",
       "      <td>2</td>\n",
       "    </tr>\n",
       "    <tr>\n",
       "      <th>4</th>\n",
       "      <td>2595</td>\n",
       "      <td>45</td>\n",
       "      <td>2</td>\n",
       "      <td>153</td>\n",
       "      <td>-1</td>\n",
       "      <td>391</td>\n",
       "      <td>220</td>\n",
       "      <td>234</td>\n",
       "      <td>150</td>\n",
       "      <td>6172</td>\n",
       "      <td>...</td>\n",
       "      <td>0</td>\n",
       "      <td>0</td>\n",
       "      <td>0</td>\n",
       "      <td>0</td>\n",
       "      <td>0</td>\n",
       "      <td>0</td>\n",
       "      <td>0</td>\n",
       "      <td>0</td>\n",
       "      <td>0</td>\n",
       "      <td>5</td>\n",
       "    </tr>\n",
       "  </tbody>\n",
       "</table>\n",
       "<p>5 rows × 55 columns</p>\n",
       "</div>"
      ],
      "text/plain": [
       "   Elevation  Aspect  Slope  Horizontal_Distance_To_Hydrology  \\\n",
       "0       2596      51      3                               258   \n",
       "1       2590      56      2                               212   \n",
       "2       2804     139      9                               268   \n",
       "3       2785     155     18                               242   \n",
       "4       2595      45      2                               153   \n",
       "\n",
       "   Vertical_Distance_To_Hydrology  Horizontal_Distance_To_Roadways  \\\n",
       "0                               0                              510   \n",
       "1                              -6                              390   \n",
       "2                              65                             3180   \n",
       "3                             118                             3090   \n",
       "4                              -1                              391   \n",
       "\n",
       "   Hillshade_9am  Hillshade_Noon  Hillshade_3pm  \\\n",
       "0            221             232            148   \n",
       "1            220             235            151   \n",
       "2            234             238            135   \n",
       "3            238             238            122   \n",
       "4            220             234            150   \n",
       "\n",
       "   Horizontal_Distance_To_Fire_Points  ...  Soil_Type32  Soil_Type33  \\\n",
       "0                                6279  ...            0            0   \n",
       "1                                6225  ...            0            0   \n",
       "2                                6121  ...            0            0   \n",
       "3                                6211  ...            0            0   \n",
       "4                                6172  ...            0            0   \n",
       "\n",
       "   Soil_Type34  Soil_Type35  Soil_Type36  Soil_Type37  Soil_Type38  \\\n",
       "0            0            0            0            0            0   \n",
       "1            0            0            0            0            0   \n",
       "2            0            0            0            0            0   \n",
       "3            0            0            0            0            0   \n",
       "4            0            0            0            0            0   \n",
       "\n",
       "   Soil_Type39  Soil_Type40  Cover_Type  \n",
       "0            0            0           5  \n",
       "1            0            0           5  \n",
       "2            0            0           2  \n",
       "3            0            0           2  \n",
       "4            0            0           5  \n",
       "\n",
       "[5 rows x 55 columns]"
      ]
     },
     "execution_count": 5,
     "metadata": {},
     "output_type": "execute_result"
    }
   ],
   "source": [
    "df.head()"
   ]
  },
  {
   "cell_type": "code",
   "execution_count": 6,
   "id": "becoming-resistance",
   "metadata": {
    "execution": {
     "iopub.execute_input": "2021-05-08T18:25:31.260935Z",
     "iopub.status.busy": "2021-05-08T18:25:31.260259Z",
     "iopub.status.idle": "2021-05-08T18:25:31.342018Z",
     "shell.execute_reply": "2021-05-08T18:25:31.341055Z"
    },
    "papermill": {
     "duration": 0.110721,
     "end_time": "2021-05-08T18:25:31.342217",
     "exception": false,
     "start_time": "2021-05-08T18:25:31.231496",
     "status": "completed"
    },
    "tags": []
   },
   "outputs": [
    {
     "name": "stdout",
     "output_type": "stream",
     "text": [
      "<class 'pandas.core.frame.DataFrame'>\n",
      "RangeIndex: 581012 entries, 0 to 581011\n",
      "Data columns (total 55 columns):\n",
      " #   Column                              Non-Null Count   Dtype\n",
      "---  ------                              --------------   -----\n",
      " 0   Elevation                           581012 non-null  int64\n",
      " 1   Aspect                              581012 non-null  int64\n",
      " 2   Slope                               581012 non-null  int64\n",
      " 3   Horizontal_Distance_To_Hydrology    581012 non-null  int64\n",
      " 4   Vertical_Distance_To_Hydrology      581012 non-null  int64\n",
      " 5   Horizontal_Distance_To_Roadways     581012 non-null  int64\n",
      " 6   Hillshade_9am                       581012 non-null  int64\n",
      " 7   Hillshade_Noon                      581012 non-null  int64\n",
      " 8   Hillshade_3pm                       581012 non-null  int64\n",
      " 9   Horizontal_Distance_To_Fire_Points  581012 non-null  int64\n",
      " 10  Wilderness_Area1                    581012 non-null  int64\n",
      " 11  Wilderness_Area2                    581012 non-null  int64\n",
      " 12  Wilderness_Area3                    581012 non-null  int64\n",
      " 13  Wilderness_Area4                    581012 non-null  int64\n",
      " 14  Soil_Type1                          581012 non-null  int64\n",
      " 15  Soil_Type2                          581012 non-null  int64\n",
      " 16  Soil_Type3                          581012 non-null  int64\n",
      " 17  Soil_Type4                          581012 non-null  int64\n",
      " 18  Soil_Type5                          581012 non-null  int64\n",
      " 19  Soil_Type6                          581012 non-null  int64\n",
      " 20  Soil_Type7                          581012 non-null  int64\n",
      " 21  Soil_Type8                          581012 non-null  int64\n",
      " 22  Soil_Type9                          581012 non-null  int64\n",
      " 23  Soil_Type10                         581012 non-null  int64\n",
      " 24  Soil_Type11                         581012 non-null  int64\n",
      " 25  Soil_Type12                         581012 non-null  int64\n",
      " 26  Soil_Type13                         581012 non-null  int64\n",
      " 27  Soil_Type14                         581012 non-null  int64\n",
      " 28  Soil_Type15                         581012 non-null  int64\n",
      " 29  Soil_Type16                         581012 non-null  int64\n",
      " 30  Soil_Type17                         581012 non-null  int64\n",
      " 31  Soil_Type18                         581012 non-null  int64\n",
      " 32  Soil_Type19                         581012 non-null  int64\n",
      " 33  Soil_Type20                         581012 non-null  int64\n",
      " 34  Soil_Type21                         581012 non-null  int64\n",
      " 35  Soil_Type22                         581012 non-null  int64\n",
      " 36  Soil_Type23                         581012 non-null  int64\n",
      " 37  Soil_Type24                         581012 non-null  int64\n",
      " 38  Soil_Type25                         581012 non-null  int64\n",
      " 39  Soil_Type26                         581012 non-null  int64\n",
      " 40  Soil_Type27                         581012 non-null  int64\n",
      " 41  Soil_Type28                         581012 non-null  int64\n",
      " 42  Soil_Type29                         581012 non-null  int64\n",
      " 43  Soil_Type30                         581012 non-null  int64\n",
      " 44  Soil_Type31                         581012 non-null  int64\n",
      " 45  Soil_Type32                         581012 non-null  int64\n",
      " 46  Soil_Type33                         581012 non-null  int64\n",
      " 47  Soil_Type34                         581012 non-null  int64\n",
      " 48  Soil_Type35                         581012 non-null  int64\n",
      " 49  Soil_Type36                         581012 non-null  int64\n",
      " 50  Soil_Type37                         581012 non-null  int64\n",
      " 51  Soil_Type38                         581012 non-null  int64\n",
      " 52  Soil_Type39                         581012 non-null  int64\n",
      " 53  Soil_Type40                         581012 non-null  int64\n",
      " 54  Cover_Type                          581012 non-null  int64\n",
      "dtypes: int64(55)\n",
      "memory usage: 243.8 MB\n"
     ]
    }
   ],
   "source": [
    "df.info()"
   ]
  },
  {
   "cell_type": "code",
   "execution_count": 7,
   "id": "domestic-wireless",
   "metadata": {
    "execution": {
     "iopub.execute_input": "2021-05-08T18:25:31.484440Z",
     "iopub.status.busy": "2021-05-08T18:25:31.483594Z",
     "iopub.status.idle": "2021-05-08T18:25:32.367218Z",
     "shell.execute_reply": "2021-05-08T18:25:32.367769Z"
    },
    "papermill": {
     "duration": 0.99804,
     "end_time": "2021-05-08T18:25:32.367946",
     "exception": false,
     "start_time": "2021-05-08T18:25:31.369906",
     "status": "completed"
    },
    "tags": []
   },
   "outputs": [
    {
     "data": {
      "text/html": [
       "<div>\n",
       "<style scoped>\n",
       "    .dataframe tbody tr th:only-of-type {\n",
       "        vertical-align: middle;\n",
       "    }\n",
       "\n",
       "    .dataframe tbody tr th {\n",
       "        vertical-align: top;\n",
       "    }\n",
       "\n",
       "    .dataframe thead th {\n",
       "        text-align: right;\n",
       "    }\n",
       "</style>\n",
       "<table border=\"1\" class=\"dataframe\">\n",
       "  <thead>\n",
       "    <tr style=\"text-align: right;\">\n",
       "      <th></th>\n",
       "      <th>Elevation</th>\n",
       "      <th>Aspect</th>\n",
       "      <th>Slope</th>\n",
       "      <th>Horizontal_Distance_To_Hydrology</th>\n",
       "      <th>Vertical_Distance_To_Hydrology</th>\n",
       "      <th>Horizontal_Distance_To_Roadways</th>\n",
       "      <th>Hillshade_9am</th>\n",
       "      <th>Hillshade_Noon</th>\n",
       "      <th>Hillshade_3pm</th>\n",
       "      <th>Horizontal_Distance_To_Fire_Points</th>\n",
       "      <th>...</th>\n",
       "      <th>Soil_Type32</th>\n",
       "      <th>Soil_Type33</th>\n",
       "      <th>Soil_Type34</th>\n",
       "      <th>Soil_Type35</th>\n",
       "      <th>Soil_Type36</th>\n",
       "      <th>Soil_Type37</th>\n",
       "      <th>Soil_Type38</th>\n",
       "      <th>Soil_Type39</th>\n",
       "      <th>Soil_Type40</th>\n",
       "      <th>Cover_Type</th>\n",
       "    </tr>\n",
       "  </thead>\n",
       "  <tbody>\n",
       "    <tr>\n",
       "      <th>count</th>\n",
       "      <td>581012.000000</td>\n",
       "      <td>581012.000000</td>\n",
       "      <td>581012.000000</td>\n",
       "      <td>581012.000000</td>\n",
       "      <td>581012.000000</td>\n",
       "      <td>581012.000000</td>\n",
       "      <td>581012.000000</td>\n",
       "      <td>581012.000000</td>\n",
       "      <td>581012.000000</td>\n",
       "      <td>581012.000000</td>\n",
       "      <td>...</td>\n",
       "      <td>581012.000000</td>\n",
       "      <td>581012.000000</td>\n",
       "      <td>581012.000000</td>\n",
       "      <td>581012.000000</td>\n",
       "      <td>581012.000000</td>\n",
       "      <td>581012.000000</td>\n",
       "      <td>581012.000000</td>\n",
       "      <td>581012.000000</td>\n",
       "      <td>581012.000000</td>\n",
       "      <td>581012.000000</td>\n",
       "    </tr>\n",
       "    <tr>\n",
       "      <th>mean</th>\n",
       "      <td>2959.365301</td>\n",
       "      <td>155.656807</td>\n",
       "      <td>14.103704</td>\n",
       "      <td>269.428217</td>\n",
       "      <td>46.418855</td>\n",
       "      <td>2350.146611</td>\n",
       "      <td>212.146049</td>\n",
       "      <td>223.318716</td>\n",
       "      <td>142.528263</td>\n",
       "      <td>1980.291226</td>\n",
       "      <td>...</td>\n",
       "      <td>0.090392</td>\n",
       "      <td>0.077716</td>\n",
       "      <td>0.002773</td>\n",
       "      <td>0.003255</td>\n",
       "      <td>0.000205</td>\n",
       "      <td>0.000513</td>\n",
       "      <td>0.026803</td>\n",
       "      <td>0.023762</td>\n",
       "      <td>0.015060</td>\n",
       "      <td>2.051471</td>\n",
       "    </tr>\n",
       "    <tr>\n",
       "      <th>std</th>\n",
       "      <td>279.984734</td>\n",
       "      <td>111.913721</td>\n",
       "      <td>7.488242</td>\n",
       "      <td>212.549356</td>\n",
       "      <td>58.295232</td>\n",
       "      <td>1559.254870</td>\n",
       "      <td>26.769889</td>\n",
       "      <td>19.768697</td>\n",
       "      <td>38.274529</td>\n",
       "      <td>1324.195210</td>\n",
       "      <td>...</td>\n",
       "      <td>0.286743</td>\n",
       "      <td>0.267725</td>\n",
       "      <td>0.052584</td>\n",
       "      <td>0.056957</td>\n",
       "      <td>0.014310</td>\n",
       "      <td>0.022641</td>\n",
       "      <td>0.161508</td>\n",
       "      <td>0.152307</td>\n",
       "      <td>0.121791</td>\n",
       "      <td>1.396504</td>\n",
       "    </tr>\n",
       "    <tr>\n",
       "      <th>min</th>\n",
       "      <td>1859.000000</td>\n",
       "      <td>0.000000</td>\n",
       "      <td>0.000000</td>\n",
       "      <td>0.000000</td>\n",
       "      <td>-173.000000</td>\n",
       "      <td>0.000000</td>\n",
       "      <td>0.000000</td>\n",
       "      <td>0.000000</td>\n",
       "      <td>0.000000</td>\n",
       "      <td>0.000000</td>\n",
       "      <td>...</td>\n",
       "      <td>0.000000</td>\n",
       "      <td>0.000000</td>\n",
       "      <td>0.000000</td>\n",
       "      <td>0.000000</td>\n",
       "      <td>0.000000</td>\n",
       "      <td>0.000000</td>\n",
       "      <td>0.000000</td>\n",
       "      <td>0.000000</td>\n",
       "      <td>0.000000</td>\n",
       "      <td>1.000000</td>\n",
       "    </tr>\n",
       "    <tr>\n",
       "      <th>25%</th>\n",
       "      <td>2809.000000</td>\n",
       "      <td>58.000000</td>\n",
       "      <td>9.000000</td>\n",
       "      <td>108.000000</td>\n",
       "      <td>7.000000</td>\n",
       "      <td>1106.000000</td>\n",
       "      <td>198.000000</td>\n",
       "      <td>213.000000</td>\n",
       "      <td>119.000000</td>\n",
       "      <td>1024.000000</td>\n",
       "      <td>...</td>\n",
       "      <td>0.000000</td>\n",
       "      <td>0.000000</td>\n",
       "      <td>0.000000</td>\n",
       "      <td>0.000000</td>\n",
       "      <td>0.000000</td>\n",
       "      <td>0.000000</td>\n",
       "      <td>0.000000</td>\n",
       "      <td>0.000000</td>\n",
       "      <td>0.000000</td>\n",
       "      <td>1.000000</td>\n",
       "    </tr>\n",
       "    <tr>\n",
       "      <th>50%</th>\n",
       "      <td>2996.000000</td>\n",
       "      <td>127.000000</td>\n",
       "      <td>13.000000</td>\n",
       "      <td>218.000000</td>\n",
       "      <td>30.000000</td>\n",
       "      <td>1997.000000</td>\n",
       "      <td>218.000000</td>\n",
       "      <td>226.000000</td>\n",
       "      <td>143.000000</td>\n",
       "      <td>1710.000000</td>\n",
       "      <td>...</td>\n",
       "      <td>0.000000</td>\n",
       "      <td>0.000000</td>\n",
       "      <td>0.000000</td>\n",
       "      <td>0.000000</td>\n",
       "      <td>0.000000</td>\n",
       "      <td>0.000000</td>\n",
       "      <td>0.000000</td>\n",
       "      <td>0.000000</td>\n",
       "      <td>0.000000</td>\n",
       "      <td>2.000000</td>\n",
       "    </tr>\n",
       "    <tr>\n",
       "      <th>75%</th>\n",
       "      <td>3163.000000</td>\n",
       "      <td>260.000000</td>\n",
       "      <td>18.000000</td>\n",
       "      <td>384.000000</td>\n",
       "      <td>69.000000</td>\n",
       "      <td>3328.000000</td>\n",
       "      <td>231.000000</td>\n",
       "      <td>237.000000</td>\n",
       "      <td>168.000000</td>\n",
       "      <td>2550.000000</td>\n",
       "      <td>...</td>\n",
       "      <td>0.000000</td>\n",
       "      <td>0.000000</td>\n",
       "      <td>0.000000</td>\n",
       "      <td>0.000000</td>\n",
       "      <td>0.000000</td>\n",
       "      <td>0.000000</td>\n",
       "      <td>0.000000</td>\n",
       "      <td>0.000000</td>\n",
       "      <td>0.000000</td>\n",
       "      <td>2.000000</td>\n",
       "    </tr>\n",
       "    <tr>\n",
       "      <th>max</th>\n",
       "      <td>3858.000000</td>\n",
       "      <td>360.000000</td>\n",
       "      <td>66.000000</td>\n",
       "      <td>1397.000000</td>\n",
       "      <td>601.000000</td>\n",
       "      <td>7117.000000</td>\n",
       "      <td>254.000000</td>\n",
       "      <td>254.000000</td>\n",
       "      <td>254.000000</td>\n",
       "      <td>7173.000000</td>\n",
       "      <td>...</td>\n",
       "      <td>1.000000</td>\n",
       "      <td>1.000000</td>\n",
       "      <td>1.000000</td>\n",
       "      <td>1.000000</td>\n",
       "      <td>1.000000</td>\n",
       "      <td>1.000000</td>\n",
       "      <td>1.000000</td>\n",
       "      <td>1.000000</td>\n",
       "      <td>1.000000</td>\n",
       "      <td>7.000000</td>\n",
       "    </tr>\n",
       "  </tbody>\n",
       "</table>\n",
       "<p>8 rows × 55 columns</p>\n",
       "</div>"
      ],
      "text/plain": [
       "           Elevation         Aspect          Slope  \\\n",
       "count  581012.000000  581012.000000  581012.000000   \n",
       "mean     2959.365301     155.656807      14.103704   \n",
       "std       279.984734     111.913721       7.488242   \n",
       "min      1859.000000       0.000000       0.000000   \n",
       "25%      2809.000000      58.000000       9.000000   \n",
       "50%      2996.000000     127.000000      13.000000   \n",
       "75%      3163.000000     260.000000      18.000000   \n",
       "max      3858.000000     360.000000      66.000000   \n",
       "\n",
       "       Horizontal_Distance_To_Hydrology  Vertical_Distance_To_Hydrology  \\\n",
       "count                     581012.000000                   581012.000000   \n",
       "mean                         269.428217                       46.418855   \n",
       "std                          212.549356                       58.295232   \n",
       "min                            0.000000                     -173.000000   \n",
       "25%                          108.000000                        7.000000   \n",
       "50%                          218.000000                       30.000000   \n",
       "75%                          384.000000                       69.000000   \n",
       "max                         1397.000000                      601.000000   \n",
       "\n",
       "       Horizontal_Distance_To_Roadways  Hillshade_9am  Hillshade_Noon  \\\n",
       "count                    581012.000000  581012.000000   581012.000000   \n",
       "mean                       2350.146611     212.146049      223.318716   \n",
       "std                        1559.254870      26.769889       19.768697   \n",
       "min                           0.000000       0.000000        0.000000   \n",
       "25%                        1106.000000     198.000000      213.000000   \n",
       "50%                        1997.000000     218.000000      226.000000   \n",
       "75%                        3328.000000     231.000000      237.000000   \n",
       "max                        7117.000000     254.000000      254.000000   \n",
       "\n",
       "       Hillshade_3pm  Horizontal_Distance_To_Fire_Points  ...    Soil_Type32  \\\n",
       "count  581012.000000                       581012.000000  ...  581012.000000   \n",
       "mean      142.528263                         1980.291226  ...       0.090392   \n",
       "std        38.274529                         1324.195210  ...       0.286743   \n",
       "min         0.000000                            0.000000  ...       0.000000   \n",
       "25%       119.000000                         1024.000000  ...       0.000000   \n",
       "50%       143.000000                         1710.000000  ...       0.000000   \n",
       "75%       168.000000                         2550.000000  ...       0.000000   \n",
       "max       254.000000                         7173.000000  ...       1.000000   \n",
       "\n",
       "         Soil_Type33    Soil_Type34    Soil_Type35    Soil_Type36  \\\n",
       "count  581012.000000  581012.000000  581012.000000  581012.000000   \n",
       "mean        0.077716       0.002773       0.003255       0.000205   \n",
       "std         0.267725       0.052584       0.056957       0.014310   \n",
       "min         0.000000       0.000000       0.000000       0.000000   \n",
       "25%         0.000000       0.000000       0.000000       0.000000   \n",
       "50%         0.000000       0.000000       0.000000       0.000000   \n",
       "75%         0.000000       0.000000       0.000000       0.000000   \n",
       "max         1.000000       1.000000       1.000000       1.000000   \n",
       "\n",
       "         Soil_Type37    Soil_Type38    Soil_Type39    Soil_Type40  \\\n",
       "count  581012.000000  581012.000000  581012.000000  581012.000000   \n",
       "mean        0.000513       0.026803       0.023762       0.015060   \n",
       "std         0.022641       0.161508       0.152307       0.121791   \n",
       "min         0.000000       0.000000       0.000000       0.000000   \n",
       "25%         0.000000       0.000000       0.000000       0.000000   \n",
       "50%         0.000000       0.000000       0.000000       0.000000   \n",
       "75%         0.000000       0.000000       0.000000       0.000000   \n",
       "max         1.000000       1.000000       1.000000       1.000000   \n",
       "\n",
       "          Cover_Type  \n",
       "count  581012.000000  \n",
       "mean        2.051471  \n",
       "std         1.396504  \n",
       "min         1.000000  \n",
       "25%         1.000000  \n",
       "50%         2.000000  \n",
       "75%         2.000000  \n",
       "max         7.000000  \n",
       "\n",
       "[8 rows x 55 columns]"
      ]
     },
     "execution_count": 7,
     "metadata": {},
     "output_type": "execute_result"
    }
   ],
   "source": [
    "df.describe()"
   ]
  },
  {
   "cell_type": "code",
   "execution_count": 8,
   "id": "numerous-yesterday",
   "metadata": {
    "execution": {
     "iopub.execute_input": "2021-05-08T18:25:32.426680Z",
     "iopub.status.busy": "2021-05-08T18:25:32.425972Z",
     "iopub.status.idle": "2021-05-08T18:25:32.478041Z",
     "shell.execute_reply": "2021-05-08T18:25:32.478621Z"
    },
    "papermill": {
     "duration": 0.083195,
     "end_time": "2021-05-08T18:25:32.478819",
     "exception": false,
     "start_time": "2021-05-08T18:25:32.395624",
     "status": "completed"
    },
    "tags": []
   },
   "outputs": [
    {
     "data": {
      "text/plain": [
       "Elevation                             0\n",
       "Aspect                                0\n",
       "Slope                                 0\n",
       "Horizontal_Distance_To_Hydrology      0\n",
       "Vertical_Distance_To_Hydrology        0\n",
       "Horizontal_Distance_To_Roadways       0\n",
       "Hillshade_9am                         0\n",
       "Hillshade_Noon                        0\n",
       "Hillshade_3pm                         0\n",
       "Horizontal_Distance_To_Fire_Points    0\n",
       "Wilderness_Area1                      0\n",
       "Wilderness_Area2                      0\n",
       "Wilderness_Area3                      0\n",
       "Wilderness_Area4                      0\n",
       "Soil_Type1                            0\n",
       "Soil_Type2                            0\n",
       "Soil_Type3                            0\n",
       "Soil_Type4                            0\n",
       "Soil_Type5                            0\n",
       "Soil_Type6                            0\n",
       "Soil_Type7                            0\n",
       "Soil_Type8                            0\n",
       "Soil_Type9                            0\n",
       "Soil_Type10                           0\n",
       "Soil_Type11                           0\n",
       "Soil_Type12                           0\n",
       "Soil_Type13                           0\n",
       "Soil_Type14                           0\n",
       "Soil_Type15                           0\n",
       "Soil_Type16                           0\n",
       "Soil_Type17                           0\n",
       "Soil_Type18                           0\n",
       "Soil_Type19                           0\n",
       "Soil_Type20                           0\n",
       "Soil_Type21                           0\n",
       "Soil_Type22                           0\n",
       "Soil_Type23                           0\n",
       "Soil_Type24                           0\n",
       "Soil_Type25                           0\n",
       "Soil_Type26                           0\n",
       "Soil_Type27                           0\n",
       "Soil_Type28                           0\n",
       "Soil_Type29                           0\n",
       "Soil_Type30                           0\n",
       "Soil_Type31                           0\n",
       "Soil_Type32                           0\n",
       "Soil_Type33                           0\n",
       "Soil_Type34                           0\n",
       "Soil_Type35                           0\n",
       "Soil_Type36                           0\n",
       "Soil_Type37                           0\n",
       "Soil_Type38                           0\n",
       "Soil_Type39                           0\n",
       "Soil_Type40                           0\n",
       "Cover_Type                            0\n",
       "dtype: int64"
      ]
     },
     "execution_count": 8,
     "metadata": {},
     "output_type": "execute_result"
    }
   ],
   "source": [
    "df.isnull().sum()"
   ]
  },
  {
   "cell_type": "code",
   "execution_count": 9,
   "id": "classified-papua",
   "metadata": {
    "execution": {
     "iopub.execute_input": "2021-05-08T18:25:32.539065Z",
     "iopub.status.busy": "2021-05-08T18:25:32.538230Z",
     "iopub.status.idle": "2021-05-08T18:25:32.762237Z",
     "shell.execute_reply": "2021-05-08T18:25:32.762814Z"
    },
    "papermill": {
     "duration": 0.255719,
     "end_time": "2021-05-08T18:25:32.763006",
     "exception": false,
     "start_time": "2021-05-08T18:25:32.507287",
     "status": "completed"
    },
    "tags": []
   },
   "outputs": [
    {
     "data": {
      "text/plain": [
       "Elevation                             1978\n",
       "Aspect                                 361\n",
       "Slope                                   67\n",
       "Horizontal_Distance_To_Hydrology       551\n",
       "Vertical_Distance_To_Hydrology         700\n",
       "Horizontal_Distance_To_Roadways       5785\n",
       "Hillshade_9am                          207\n",
       "Hillshade_Noon                         185\n",
       "Hillshade_3pm                          255\n",
       "Horizontal_Distance_To_Fire_Points    5827\n",
       "Wilderness_Area1                         2\n",
       "Wilderness_Area2                         2\n",
       "Wilderness_Area3                         2\n",
       "Wilderness_Area4                         2\n",
       "Soil_Type1                               2\n",
       "Soil_Type2                               2\n",
       "Soil_Type3                               2\n",
       "Soil_Type4                               2\n",
       "Soil_Type5                               2\n",
       "Soil_Type6                               2\n",
       "Soil_Type7                               2\n",
       "Soil_Type8                               2\n",
       "Soil_Type9                               2\n",
       "Soil_Type10                              2\n",
       "Soil_Type11                              2\n",
       "Soil_Type12                              2\n",
       "Soil_Type13                              2\n",
       "Soil_Type14                              2\n",
       "Soil_Type15                              2\n",
       "Soil_Type16                              2\n",
       "Soil_Type17                              2\n",
       "Soil_Type18                              2\n",
       "Soil_Type19                              2\n",
       "Soil_Type20                              2\n",
       "Soil_Type21                              2\n",
       "Soil_Type22                              2\n",
       "Soil_Type23                              2\n",
       "Soil_Type24                              2\n",
       "Soil_Type25                              2\n",
       "Soil_Type26                              2\n",
       "Soil_Type27                              2\n",
       "Soil_Type28                              2\n",
       "Soil_Type29                              2\n",
       "Soil_Type30                              2\n",
       "Soil_Type31                              2\n",
       "Soil_Type32                              2\n",
       "Soil_Type33                              2\n",
       "Soil_Type34                              2\n",
       "Soil_Type35                              2\n",
       "Soil_Type36                              2\n",
       "Soil_Type37                              2\n",
       "Soil_Type38                              2\n",
       "Soil_Type39                              2\n",
       "Soil_Type40                              2\n",
       "Cover_Type                               7\n",
       "dtype: int64"
      ]
     },
     "execution_count": 9,
     "metadata": {},
     "output_type": "execute_result"
    }
   ],
   "source": [
    "df.apply(lambda x: len(x.unique()))"
   ]
  },
  {
   "cell_type": "code",
   "execution_count": 10,
   "id": "bulgarian-advisory",
   "metadata": {
    "execution": {
     "iopub.execute_input": "2021-05-08T18:25:32.824563Z",
     "iopub.status.busy": "2021-05-08T18:25:32.823928Z",
     "iopub.status.idle": "2021-05-08T18:25:32.837369Z",
     "shell.execute_reply": "2021-05-08T18:25:32.836763Z"
    },
    "papermill": {
     "duration": 0.044842,
     "end_time": "2021-05-08T18:25:32.837533",
     "exception": false,
     "start_time": "2021-05-08T18:25:32.792691",
     "status": "completed"
    },
    "tags": []
   },
   "outputs": [
    {
     "data": {
      "text/plain": [
       "2    283301\n",
       "1    211840\n",
       "3     35754\n",
       "7     20510\n",
       "6     17367\n",
       "5      9493\n",
       "4      2747\n",
       "Name: Cover_Type, dtype: int64"
      ]
     },
     "execution_count": 10,
     "metadata": {},
     "output_type": "execute_result"
    }
   ],
   "source": [
    "df['Cover_Type'].value_counts()"
   ]
  },
  {
   "cell_type": "markdown",
   "id": "careful-projection",
   "metadata": {
    "papermill": {
     "duration": 0.028802,
     "end_time": "2021-05-08T18:25:32.895605",
     "exception": false,
     "start_time": "2021-05-08T18:25:32.866803",
     "status": "completed"
    },
    "tags": []
   },
   "source": [
    "# EXPLORATORY DATA ANALYSIS"
   ]
  },
  {
   "cell_type": "code",
   "execution_count": 11,
   "id": "dominican-clause",
   "metadata": {
    "execution": {
     "iopub.execute_input": "2021-05-08T18:25:32.958545Z",
     "iopub.status.busy": "2021-05-08T18:25:32.957737Z",
     "iopub.status.idle": "2021-05-08T18:25:36.331576Z",
     "shell.execute_reply": "2021-05-08T18:25:36.332073Z"
    },
    "papermill": {
     "duration": 3.407706,
     "end_time": "2021-05-08T18:25:36.332240",
     "exception": false,
     "start_time": "2021-05-08T18:25:32.924534",
     "status": "completed"
    },
    "tags": []
   },
   "outputs": [
    {
     "name": "stderr",
     "output_type": "stream",
     "text": [
      "/opt/conda/lib/python3.7/site-packages/seaborn/distributions.py:2557: FutureWarning: `distplot` is a deprecated function and will be removed in a future version. Please adapt your code to use either `displot` (a figure-level function with similar flexibility) or `histplot` (an axes-level function for histograms).\n",
      "  warnings.warn(msg, FutureWarning)\n"
     ]
    },
    {
     "data": {
      "text/plain": [
       "<AxesSubplot:xlabel='Elevation', ylabel='Density'>"
      ]
     },
     "execution_count": 11,
     "metadata": {},
     "output_type": "execute_result"
    },
    {
     "data": {
      "image/png": "[encoded data removed]",
      "text/plain": [
       "<Figure size 432x288 with 1 Axes>"
      ]
     },
     "metadata": {
      "needs_background": "light"
     },
     "output_type": "display_data"
    }
   ],
   "source": [
    "sns.distplot(df['Elevation'] , color = 'red')"
   ]
  },
  {
   "cell_type": "code",
   "execution_count": 12,
   "id": "distributed-hazard",
   "metadata": {
    "execution": {
     "iopub.execute_input": "2021-05-08T18:25:36.427430Z",
     "iopub.status.busy": "2021-05-08T18:25:36.426149Z",
     "iopub.status.idle": "2021-05-08T18:25:39.792797Z",
     "shell.execute_reply": "2021-05-08T18:25:39.792219Z"
    },
    "papermill": {
     "duration": 3.427394,
     "end_time": "2021-05-08T18:25:39.793013",
     "exception": false,
     "start_time": "2021-05-08T18:25:36.365619",
     "status": "completed"
    },
    "tags": []
   },
   "outputs": [
    {
     "name": "stderr",
     "output_type": "stream",
     "text": [
      "/opt/conda/lib/python3.7/site-packages/seaborn/distributions.py:2557: FutureWarning: `distplot` is a deprecated function and will be removed in a future version. Please adapt your code to use either `displot` (a figure-level function with similar flexibility) or `histplot` (an axes-level function for histograms).\n",
      "  warnings.warn(msg, FutureWarning)\n"
     ]
    },
    {
     "data": {
      "text/plain": [
       "<AxesSubplot:xlabel='Aspect', ylabel='Density'>"
      ]
     },
     "execution_count": 12,
     "metadata": {},
     "output_type": "execute_result"
    },
    {
     "data": {
      "image/png": "[encoded data removed]",
      "text/plain": [
       "<Figure size 432x288 with 1 Axes>"
      ]
     },
     "metadata": {
      "needs_background": "light"
     },
     "output_type": "display_data"
    }
   ],
   "source": [
    "sns.distplot(df['Aspect'] , color = 'purple')"
   ]
  },
  {
   "cell_type": "code",
   "execution_count": 13,
   "id": "incoming-midnight",
   "metadata": {
    "execution": {
     "iopub.execute_input": "2021-05-08T18:25:39.888988Z",
     "iopub.status.busy": "2021-05-08T18:25:39.888242Z",
     "iopub.status.idle": "2021-05-08T18:25:42.939939Z",
     "shell.execute_reply": "2021-05-08T18:25:42.939378Z"
    },
    "papermill": {
     "duration": 3.113984,
     "end_time": "2021-05-08T18:25:42.940085",
     "exception": false,
     "start_time": "2021-05-08T18:25:39.826101",
     "status": "completed"
    },
    "tags": []
   },
   "outputs": [
    {
     "name": "stderr",
     "output_type": "stream",
     "text": [
      "/opt/conda/lib/python3.7/site-packages/seaborn/distributions.py:2557: FutureWarning: `distplot` is a deprecated function and will be removed in a future version. Please adapt your code to use either `displot` (a figure-level function with similar flexibility) or `histplot` (an axes-level function for histograms).\n",
      "  warnings.warn(msg, FutureWarning)\n"
     ]
    },
    {
     "data": {
      "text/plain": [
       "<AxesSubplot:xlabel='Slope', ylabel='Density'>"
      ]
     },
     "execution_count": 13,
     "metadata": {},
     "output_type": "execute_result"
    },
    {
     "data": {
      "image/png": "[encoded data removed]",
      "text/plain": [
       "<Figure size 432x288 with 1 Axes>"
      ]
     },
     "metadata": {
      "needs_background": "light"
     },
     "output_type": "display_data"
    }
   ],
   "source": [
    "sns.distplot(df['Slope'] , color = 'green')"
   ]
  },
  {
   "cell_type": "code",
   "execution_count": 14,
   "id": "comprehensive-sound",
   "metadata": {
    "execution": {
     "iopub.execute_input": "2021-05-08T18:25:43.017256Z",
     "iopub.status.busy": "2021-05-08T18:25:43.016233Z",
     "iopub.status.idle": "2021-05-08T18:25:43.215900Z",
     "shell.execute_reply": "2021-05-08T18:25:43.215312Z"
    },
    "papermill": {
     "duration": 0.240107,
     "end_time": "2021-05-08T18:25:43.216057",
     "exception": false,
     "start_time": "2021-05-08T18:25:42.975950",
     "status": "completed"
    },
    "tags": []
   },
   "outputs": [
    {
     "name": "stderr",
     "output_type": "stream",
     "text": [
      "/opt/conda/lib/python3.7/site-packages/seaborn/_decorators.py:43: FutureWarning: Pass the following variable as a keyword arg: x. From version 0.12, the only valid positional argument will be `data`, and passing other arguments without an explicit keyword will result in an error or misinterpretation.\n",
      "  FutureWarning\n"
     ]
    },
    {
     "data": {
      "text/plain": [
       "<AxesSubplot:xlabel='Cover_Type', ylabel='count'>"
      ]
     },
     "execution_count": 14,
     "metadata": {},
     "output_type": "execute_result"
    },
    {
     "data": {
      "image/png": "[encoded data removed]",
      "text/plain": [
       "<Figure size 432x288 with 1 Axes>"
      ]
     },
     "metadata": {
      "needs_background": "light"
     },
     "output_type": "display_data"
    }
   ],
   "source": [
    "sns.countplot(df['Cover_Type'] , palette = 'Spectral')"
   ]
  },
  {
   "cell_type": "code",
   "execution_count": 15,
   "id": "ahead-ordinance",
   "metadata": {
    "execution": {
     "iopub.execute_input": "2021-05-08T18:25:43.294334Z",
     "iopub.status.busy": "2021-05-08T18:25:43.293657Z",
     "iopub.status.idle": "2021-05-08T18:25:43.712609Z",
     "shell.execute_reply": "2021-05-08T18:25:43.711926Z"
    },
    "papermill": {
     "duration": 0.460511,
     "end_time": "2021-05-08T18:25:43.712765",
     "exception": false,
     "start_time": "2021-05-08T18:25:43.252254",
     "status": "completed"
    },
    "tags": []
   },
   "outputs": [
    {
     "data": {
      "text/plain": [
       "<AxesSubplot:xlabel='Cover_Type', ylabel='Slope'>"
      ]
     },
     "execution_count": 15,
     "metadata": {},
     "output_type": "execute_result"
    },
    {
     "data": {
      "image/png": "[encoded data removed]",
      "text/plain": [
       "<Figure size 432x288 with 1 Axes>"
      ]
     },
     "metadata": {
      "needs_background": "light"
     },
     "output_type": "display_data"
    }
   ],
   "source": [
    "sns.boxplot(x = 'Cover_Type' , y = 'Slope' , data = df , palette = 'Spectral')"
   ]
  },
  {
   "cell_type": "code",
   "execution_count": 16,
   "id": "attached-introduction",
   "metadata": {
    "execution": {
     "iopub.execute_input": "2021-05-08T18:25:43.796863Z",
     "iopub.status.busy": "2021-05-08T18:25:43.796033Z",
     "iopub.status.idle": "2021-05-08T18:25:44.098023Z",
     "shell.execute_reply": "2021-05-08T18:25:44.097333Z"
    },
    "papermill": {
     "duration": 0.346297,
     "end_time": "2021-05-08T18:25:44.098184",
     "exception": false,
     "start_time": "2021-05-08T18:25:43.751887",
     "status": "completed"
    },
    "tags": []
   },
   "outputs": [
    {
     "data": {
      "text/plain": [
       "<AxesSubplot:xlabel='Cover_Type', ylabel='Aspect'>"
      ]
     },
     "execution_count": 16,
     "metadata": {},
     "output_type": "execute_result"
    },
    {
     "data": {
      "image/png": "[encoded data removed]",
      "text/plain": [
       "<Figure size 432x288 with 1 Axes>"
      ]
     },
     "metadata": {
      "needs_background": "light"
     },
     "output_type": "display_data"
    }
   ],
   "source": [
    "sns.boxplot(x = 'Cover_Type' , y = 'Aspect' , data = df , palette = 'Spectral')"
   ]
  },
  {
   "cell_type": "code",
   "execution_count": 17,
   "id": "breeding-permission",
   "metadata": {
    "execution": {
     "iopub.execute_input": "2021-05-08T18:25:44.183307Z",
     "iopub.status.busy": "2021-05-08T18:25:44.182161Z",
     "iopub.status.idle": "2021-05-08T18:25:44.500800Z",
     "shell.execute_reply": "2021-05-08T18:25:44.500194Z"
    },
    "papermill": {
     "duration": 0.363743,
     "end_time": "2021-05-08T18:25:44.500945",
     "exception": false,
     "start_time": "2021-05-08T18:25:44.137202",
     "status": "completed"
    },
    "tags": []
   },
   "outputs": [
    {
     "data": {
      "text/plain": [
       "<AxesSubplot:xlabel='Cover_Type', ylabel='Elevation'>"
      ]
     },
     "execution_count": 17,
     "metadata": {},
     "output_type": "execute_result"
    },
    {
     "data": {
      "image/png": "[encoded data removed]",
      "text/plain": [
       "<Figure size 432x288 with 1 Axes>"
      ]
     },
     "metadata": {
      "needs_background": "light"
     },
     "output_type": "display_data"
    }
   ],
   "source": [
    "sns.boxplot(x = 'Cover_Type' , y = 'Elevation' , data = df , palette = 'Spectral')"
   ]
  },
  {
   "cell_type": "code",
   "execution_count": 18,
   "id": "critical-expression",
   "metadata": {
    "execution": {
     "iopub.execute_input": "2021-05-08T18:25:44.669428Z",
     "iopub.status.busy": "2021-05-08T18:25:44.668715Z",
     "iopub.status.idle": "2021-05-08T18:25:44.673025Z",
     "shell.execute_reply": "2021-05-08T18:25:44.672177Z"
    },
    "papermill": {
     "duration": 0.132337,
     "end_time": "2021-05-08T18:25:44.673193",
     "exception": false,
     "start_time": "2021-05-08T18:25:44.540856",
     "status": "completed"
    },
    "tags": []
   },
   "outputs": [],
   "source": [
    "X = df.drop(['Cover_Type'] , axis = 1)"
   ]
  },
  {
   "cell_type": "code",
   "execution_count": 19,
   "id": "academic-trace",
   "metadata": {
    "execution": {
     "iopub.execute_input": "2021-05-08T18:25:44.758800Z",
     "iopub.status.busy": "2021-05-08T18:25:44.758024Z",
     "iopub.status.idle": "2021-05-08T18:25:44.760904Z",
     "shell.execute_reply": "2021-05-08T18:25:44.761359Z"
    },
    "papermill": {
     "duration": 0.048089,
     "end_time": "2021-05-08T18:25:44.761552",
     "exception": false,
     "start_time": "2021-05-08T18:25:44.713463",
     "status": "completed"
    },
    "tags": []
   },
   "outputs": [],
   "source": [
    "y = df['Cover_Type']"
   ]
  },
  {
   "cell_type": "code",
   "execution_count": 20,
   "id": "silent-quantity",
   "metadata": {
    "execution": {
     "iopub.execute_input": "2021-05-08T18:25:44.847317Z",
     "iopub.status.busy": "2021-05-08T18:25:44.846658Z",
     "iopub.status.idle": "2021-05-08T18:25:44.851597Z",
     "shell.execute_reply": "2021-05-08T18:25:44.851012Z"
    },
    "papermill": {
     "duration": 0.049575,
     "end_time": "2021-05-08T18:25:44.851749",
     "exception": false,
     "start_time": "2021-05-08T18:25:44.802174",
     "status": "completed"
    },
    "tags": []
   },
   "outputs": [
    {
     "data": {
      "text/plain": [
       "(581012, 54)"
      ]
     },
     "execution_count": 20,
     "metadata": {},
     "output_type": "execute_result"
    }
   ],
   "source": [
    "X.shape"
   ]
  },
  {
   "cell_type": "code",
   "execution_count": 21,
   "id": "referenced-wells",
   "metadata": {
    "execution": {
     "iopub.execute_input": "2021-05-08T18:25:44.940066Z",
     "iopub.status.busy": "2021-05-08T18:25:44.939247Z",
     "iopub.status.idle": "2021-05-08T18:25:44.942279Z",
     "shell.execute_reply": "2021-05-08T18:25:44.942781Z"
    },
    "papermill": {
     "duration": 0.049577,
     "end_time": "2021-05-08T18:25:44.942948",
     "exception": false,
     "start_time": "2021-05-08T18:25:44.893371",
     "status": "completed"
    },
    "tags": []
   },
   "outputs": [
    {
     "data": {
      "text/plain": [
       "(581012,)"
      ]
     },
     "execution_count": 21,
     "metadata": {},
     "output_type": "execute_result"
    }
   ],
   "source": [
    "y.shape"
   ]
  },
  {
   "cell_type": "markdown",
   "id": "compressed-presence",
   "metadata": {
    "papermill": {
     "duration": 0.040149,
     "end_time": "2021-05-08T18:25:45.024104",
     "exception": false,
     "start_time": "2021-05-08T18:25:44.983955",
     "status": "completed"
    },
    "tags": []
   },
   "source": [
    "# TRAIN TEST SPLIT"
   ]
  },
  {
   "cell_type": "code",
   "execution_count": 22,
   "id": "unable-poland",
   "metadata": {
    "execution": {
     "iopub.execute_input": "2021-05-08T18:25:45.110312Z",
     "iopub.status.busy": "2021-05-08T18:25:45.109639Z",
     "iopub.status.idle": "2021-05-08T18:25:45.355106Z",
     "shell.execute_reply": "2021-05-08T18:25:45.354451Z"
    },
    "papermill": {
     "duration": 0.289816,
     "end_time": "2021-05-08T18:25:45.355268",
     "exception": false,
     "start_time": "2021-05-08T18:25:45.065452",
     "status": "completed"
    },
    "tags": []
   },
   "outputs": [],
   "source": [
    "from sklearn.model_selection import train_test_split"
   ]
  },
  {
   "cell_type": "code",
   "execution_count": 23,
   "id": "skilled-polymer",
   "metadata": {
    "execution": {
     "iopub.execute_input": "2021-05-08T18:25:45.440776Z",
     "iopub.status.busy": "2021-05-08T18:25:45.440071Z",
     "iopub.status.idle": "2021-05-08T18:25:45.924044Z",
     "shell.execute_reply": "2021-05-08T18:25:45.923383Z"
    },
    "papermill": {
     "duration": 0.527985,
     "end_time": "2021-05-08T18:25:45.924190",
     "exception": false,
     "start_time": "2021-05-08T18:25:45.396205",
     "status": "completed"
    },
    "tags": []
   },
   "outputs": [],
   "source": [
    "X_train,X_test,y_train,y_test = train_test_split(X,y,test_size = 0.30, random_state=42)"
   ]
  },
  {
   "cell_type": "markdown",
   "id": "hungarian-penny",
   "metadata": {
    "papermill": {
     "duration": 0.041483,
     "end_time": "2021-05-08T18:25:46.008093",
     "exception": false,
     "start_time": "2021-05-08T18:25:45.966610",
     "status": "completed"
    },
    "tags": []
   },
   "source": [
    "## RANDOM FOREST CLASSIFIER"
   ]
  },
  {
   "cell_type": "code",
   "execution_count": 24,
   "id": "critical-assist",
   "metadata": {
    "execution": {
     "iopub.execute_input": "2021-05-08T18:25:46.094945Z",
     "iopub.status.busy": "2021-05-08T18:25:46.094243Z",
     "iopub.status.idle": "2021-05-08T18:25:46.369503Z",
     "shell.execute_reply": "2021-05-08T18:25:46.368900Z"
    },
    "papermill": {
     "duration": 0.320533,
     "end_time": "2021-05-08T18:25:46.369655",
     "exception": false,
     "start_time": "2021-05-08T18:25:46.049122",
     "status": "completed"
    },
    "tags": []
   },
   "outputs": [],
   "source": [
    "from sklearn.ensemble import RandomForestClassifier"
   ]
  },
  {
   "cell_type": "code",
   "execution_count": 25,
   "id": "fifth-rouge",
   "metadata": {
    "execution": {
     "iopub.execute_input": "2021-05-08T18:25:46.456888Z",
     "iopub.status.busy": "2021-05-08T18:25:46.456199Z",
     "iopub.status.idle": "2021-05-08T18:25:46.459749Z",
     "shell.execute_reply": "2021-05-08T18:25:46.459187Z"
    },
    "papermill": {
     "duration": 0.049089,
     "end_time": "2021-05-08T18:25:46.459897",
     "exception": false,
     "start_time": "2021-05-08T18:25:46.410808",
     "status": "completed"
    },
    "tags": []
   },
   "outputs": [],
   "source": [
    "random = RandomForestClassifier()"
   ]
  },
  {
   "cell_type": "code",
   "execution_count": 26,
   "id": "rough-equality",
   "metadata": {
    "execution": {
     "iopub.execute_input": "2021-05-08T18:25:46.547009Z",
     "iopub.status.busy": "2021-05-08T18:25:46.546351Z",
     "iopub.status.idle": "2021-05-08T18:27:35.009713Z",
     "shell.execute_reply": "2021-05-08T18:27:35.010217Z"
    },
    "papermill": {
     "duration": 108.509149,
     "end_time": "2021-05-08T18:27:35.010427",
     "exception": false,
     "start_time": "2021-05-08T18:25:46.501278",
     "status": "completed"
    },
    "tags": []
   },
   "outputs": [
    {
     "data": {
      "text/plain": [
       "RandomForestClassifier()"
      ]
     },
     "execution_count": 26,
     "metadata": {},
     "output_type": "execute_result"
    }
   ],
   "source": [
    "random.fit(X_train , y_train)"
   ]
  },
  {
   "cell_type": "code",
   "execution_count": 27,
   "id": "maritime-illness",
   "metadata": {
    "execution": {
     "iopub.execute_input": "2021-05-08T18:27:35.099858Z",
     "iopub.status.busy": "2021-05-08T18:27:35.099041Z",
     "iopub.status.idle": "2021-05-08T18:27:42.916002Z",
     "shell.execute_reply": "2021-05-08T18:27:42.916513Z"
    },
    "papermill": {
     "duration": 7.863379,
     "end_time": "2021-05-08T18:27:42.916702",
     "exception": false,
     "start_time": "2021-05-08T18:27:35.053323",
     "status": "completed"
    },
    "tags": []
   },
   "outputs": [
    {
     "data": {
      "text/plain": [
       "0.9520320818799339"
      ]
     },
     "execution_count": 27,
     "metadata": {},
     "output_type": "execute_result"
    }
   ],
   "source": [
    "random.score(X_test,y_test)"
   ]
  },
  {
   "cell_type": "code",
   "execution_count": 28,
   "id": "hidden-spencer",
   "metadata": {
    "execution": {
     "iopub.execute_input": "2021-05-08T18:27:43.006259Z",
     "iopub.status.busy": "2021-05-08T18:27:43.005201Z",
     "iopub.status.idle": "2021-05-08T18:27:43.009617Z",
     "shell.execute_reply": "2021-05-08T18:27:43.010097Z"
    },
    "papermill": {
     "duration": 0.050927,
     "end_time": "2021-05-08T18:27:43.010276",
     "exception": false,
     "start_time": "2021-05-08T18:27:42.959349",
     "status": "completed"
    },
    "tags": []
   },
   "outputs": [],
   "source": [
    "from sklearn.metrics import classification_report"
   ]
  },
  {
   "cell_type": "code",
   "execution_count": 29,
   "id": "informational-slide",
   "metadata": {
    "execution": {
     "iopub.execute_input": "2021-05-08T18:27:43.099621Z",
     "iopub.status.busy": "2021-05-08T18:27:43.098899Z",
     "iopub.status.idle": "2021-05-08T18:27:51.028430Z",
     "shell.execute_reply": "2021-05-08T18:27:51.028999Z"
    },
    "papermill": {
     "duration": 7.976427,
     "end_time": "2021-05-08T18:27:51.029182",
     "exception": false,
     "start_time": "2021-05-08T18:27:43.052755",
     "status": "completed"
    },
    "tags": []
   },
   "outputs": [],
   "source": [
    "y_pred = random.predict(X_test)"
   ]
  },
  {
   "cell_type": "code",
   "execution_count": 30,
   "id": "rental-league",
   "metadata": {
    "execution": {
     "iopub.execute_input": "2021-05-08T18:27:51.121260Z",
     "iopub.status.busy": "2021-05-08T18:27:51.120322Z",
     "iopub.status.idle": "2021-05-08T18:27:51.462432Z",
     "shell.execute_reply": "2021-05-08T18:27:51.461510Z"
    },
    "papermill": {
     "duration": 0.390363,
     "end_time": "2021-05-08T18:27:51.462666",
     "exception": false,
     "start_time": "2021-05-08T18:27:51.072303",
     "status": "completed"
    },
    "tags": []
   },
   "outputs": [
    {
     "name": "stdout",
     "output_type": "stream",
     "text": [
      "              precision    recall  f1-score   support\n",
      "\n",
      "           1       0.96      0.94      0.95     63556\n",
      "           2       0.95      0.97      0.96     85078\n",
      "           3       0.94      0.96      0.95     10638\n",
      "           4       0.92      0.84      0.88       795\n",
      "           5       0.95      0.75      0.84      2941\n",
      "           6       0.93      0.89      0.91      5227\n",
      "           7       0.97      0.95      0.96      6069\n",
      "\n",
      "    accuracy                           0.95    174304\n",
      "   macro avg       0.94      0.90      0.92    174304\n",
      "weighted avg       0.95      0.95      0.95    174304\n",
      "\n"
     ]
    }
   ],
   "source": [
    "print(classification_report(y_test,y_pred))"
   ]
  },
  {
   "cell_type": "code",
   "execution_count": null,
   "id": "applicable-pension",
   "metadata": {
    "papermill": {
     "duration": 0.042489,
     "end_time": "2021-05-08T18:27:51.548449",
     "exception": false,
     "start_time": "2021-05-08T18:27:51.505960",
     "status": "completed"
    },
    "tags": []
   },
   "outputs": [],
   "source": []
  },
  {
   "cell_type": "code",
   "execution_count": null,
   "id": "naughty-auction",
   "metadata": {
    "papermill": {
     "duration": 0.042525,
     "end_time": "2021-05-08T18:27:51.633704",
     "exception": false,
     "start_time": "2021-05-08T18:27:51.591179",
     "status": "completed"
    },
    "tags": []
   },
   "outputs": [],
   "source": []
  },
  {
   "cell_type": "code",
   "execution_count": null,
   "id": "prerequisite-handle",
   "metadata": {
    "papermill": {
     "duration": 0.042598,
     "end_time": "2021-05-08T18:27:51.718993",
     "exception": false,
     "start_time": "2021-05-08T18:27:51.676395",
     "status": "completed"
    },
    "tags": []
   },
   "outputs": [],
   "source": []
  }
 ],
 "metadata": {
  "kernelspec": {
   "display_name": "Python 3",
   "language": "python",
   "name": "python3"
  },
  "language_info": {
   "codemirror_mode": {
    "name": "ipython",
    "version": 3
   },
   "file_extension": ".py",
   "mimetype": "text/x-python",
   "name": "python",
   "nbconvert_exporter": "python",
   "pygments_lexer": "ipython3",
   "version": "3.7.10"
  },
  "papermill": {
   "default_parameters": {},
   "duration": 155.043399,
   "end_time": "2021-05-08T18:27:53.137865",
   "environment_variables": {},
   "exception": null,
   "input_path": "__notebook__.ipynb",
   "output_path": "__notebook__.ipynb",
   "parameters": {},
   "start_time": "2021-05-08T18:25:18.094466",
   "version": "2.3.3"
  }
 },
 "nbformat": 4,
 "nbformat_minor": 5
}
