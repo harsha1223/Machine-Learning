{
 "cells": [
  {
   "cell_type": "code",
   "execution_count": 1,
   "metadata": {
    "_cell_guid": "b1076dfc-b9ad-4769-8c92-a6c4dae69d19",
    "_uuid": "8f2839f25d086af736a60e9eeb907d3b93b6e0e5",
    "execution": {
     "iopub.execute_input": "2021-05-10T16:51:54.631879Z",
     "iopub.status.busy": "2021-05-10T16:51:54.631237Z",
     "iopub.status.idle": "2021-05-10T16:51:54.658812Z",
     "shell.execute_reply": "2021-05-10T16:51:54.659308Z"
    },
    "papermill": {
     "duration": 0.041355,
     "end_time": "2021-05-10T16:51:54.659687",
     "exception": false,
     "start_time": "2021-05-10T16:51:54.618332",
     "status": "completed"
    },
    "tags": []
   },
   "outputs": [
    {
     "name": "stdout",
     "output_type": "stream",
     "text": [
      "/kaggle/input/homeprice/homeprices.csv\n"
     ]
    }
   ],
   "source": [
    "# This Python 3 environment comes with many helpful analytics libraries installed\n",
    "# It is defined by the kaggle/python Docker image: https://github.com/kaggle/docker-python\n",
    "# For example, here's several helpful packages to load\n",
    "\n",
    "import numpy as np # linear algebra\n",
    "import pandas as pd # data processing, CSV file I/O (e.g. pd.read_csv)\n",
    "\n",
    "# Input data files are available in the read-only \"../input/\" directory\n",
    "# For example, running this (by clicking run or pressing Shift+Enter) will list all files under the input directory\n",
    "\n",
    "import os\n",
    "for dirname, _, filenames in os.walk('/kaggle/input'):\n",
    "    for filename in filenames:\n",
    "        print(os.path.join(dirname, filename))\n",
    "\n",
    "# You can write up to 20GB to the current directory (/kaggle/working/) that gets preserved as output when you create a version using \"Save & Run All\" \n",
    "# You can also write temporary files to /kaggle/temp/, but they won't be saved outside of the current session"
   ]
  },
  {
   "cell_type": "code",
   "execution_count": 2,
   "metadata": {
    "execution": {
     "iopub.execute_input": "2021-05-10T16:51:54.686943Z",
     "iopub.status.busy": "2021-05-10T16:51:54.686185Z",
     "iopub.status.idle": "2021-05-10T16:51:55.972670Z",
     "shell.execute_reply": "2021-05-10T16:51:55.971967Z"
    },
    "papermill": {
     "duration": 1.30256,
     "end_time": "2021-05-10T16:51:55.972831",
     "exception": false,
     "start_time": "2021-05-10T16:51:54.670271",
     "status": "completed"
    },
    "tags": []
   },
   "outputs": [],
   "source": [
    "import pandas as pd\n",
    "import numpy as np\n",
    "import matplotlib.pyplot as plt\n",
    "%matplotlib inline\n",
    "from sklearn import linear_model"
   ]
  },
  {
   "cell_type": "code",
   "execution_count": 3,
   "metadata": {
    "execution": {
     "iopub.execute_input": "2021-05-10T16:51:55.998095Z",
     "iopub.status.busy": "2021-05-10T16:51:55.997281Z",
     "iopub.status.idle": "2021-05-10T16:51:56.010515Z",
     "shell.execute_reply": "2021-05-10T16:51:56.009918Z"
    },
    "papermill": {
     "duration": 0.028029,
     "end_time": "2021-05-10T16:51:56.010687",
     "exception": false,
     "start_time": "2021-05-10T16:51:55.982658",
     "status": "completed"
    },
    "tags": []
   },
   "outputs": [],
   "source": [
    "df = pd.read_csv('../input/homeprice/homeprices.csv')"
   ]
  },
  {
   "cell_type": "code",
   "execution_count": 4,
   "metadata": {
    "execution": {
     "iopub.execute_input": "2021-05-10T16:51:56.044706Z",
     "iopub.status.busy": "2021-05-10T16:51:56.044036Z",
     "iopub.status.idle": "2021-05-10T16:51:56.060442Z",
     "shell.execute_reply": "2021-05-10T16:51:56.061048Z"
    },
    "papermill": {
     "duration": 0.040365,
     "end_time": "2021-05-10T16:51:56.061222",
     "exception": false,
     "start_time": "2021-05-10T16:51:56.020857",
     "status": "completed"
    },
    "tags": []
   },
   "outputs": [
    {
     "data": {
      "text/html": [
       "<div>\n",
       "<style scoped>\n",
       "    .dataframe tbody tr th:only-of-type {\n",
       "        vertical-align: middle;\n",
       "    }\n",
       "\n",
       "    .dataframe tbody tr th {\n",
       "        vertical-align: top;\n",
       "    }\n",
       "\n",
       "    .dataframe thead th {\n",
       "        text-align: right;\n",
       "    }\n",
       "</style>\n",
       "<table border=\"1\" class=\"dataframe\">\n",
       "  <thead>\n",
       "    <tr style=\"text-align: right;\">\n",
       "      <th></th>\n",
       "      <th>area</th>\n",
       "      <th>price</th>\n",
       "    </tr>\n",
       "  </thead>\n",
       "  <tbody>\n",
       "    <tr>\n",
       "      <th>0</th>\n",
       "      <td>2600</td>\n",
       "      <td>550000</td>\n",
       "    </tr>\n",
       "    <tr>\n",
       "      <th>1</th>\n",
       "      <td>3000</td>\n",
       "      <td>565000</td>\n",
       "    </tr>\n",
       "    <tr>\n",
       "      <th>2</th>\n",
       "      <td>3200</td>\n",
       "      <td>610000</td>\n",
       "    </tr>\n",
       "    <tr>\n",
       "      <th>3</th>\n",
       "      <td>3600</td>\n",
       "      <td>680000</td>\n",
       "    </tr>\n",
       "    <tr>\n",
       "      <th>4</th>\n",
       "      <td>4000</td>\n",
       "      <td>725000</td>\n",
       "    </tr>\n",
       "  </tbody>\n",
       "</table>\n",
       "</div>"
      ],
      "text/plain": [
       "   area   price\n",
       "0  2600  550000\n",
       "1  3000  565000\n",
       "2  3200  610000\n",
       "3  3600  680000\n",
       "4  4000  725000"
      ]
     },
     "execution_count": 4,
     "metadata": {},
     "output_type": "execute_result"
    }
   ],
   "source": [
    "df.head()"
   ]
  },
  {
   "cell_type": "code",
   "execution_count": 5,
   "metadata": {
    "execution": {
     "iopub.execute_input": "2021-05-10T16:51:56.086673Z",
     "iopub.status.busy": "2021-05-10T16:51:56.085704Z",
     "iopub.status.idle": "2021-05-10T16:51:56.297108Z",
     "shell.execute_reply": "2021-05-10T16:51:56.296529Z"
    },
    "papermill": {
     "duration": 0.225032,
     "end_time": "2021-05-10T16:51:56.297247",
     "exception": false,
     "start_time": "2021-05-10T16:51:56.072215",
     "status": "completed"
    },
    "tags": []
   },
   "outputs": [
    {
     "data": {
      "text/plain": [
       "Text(0, 0.5, 'Price')"
      ]
     },
     "execution_count": 5,
     "metadata": {},
     "output_type": "execute_result"
    },
    {
     "data": {
      "image/png": "[encoded data removed]",
      "text/plain": [
       "<Figure size 432x288 with 1 Axes>"
      ]
     },
     "metadata": {
      "needs_background": "light"
     },
     "output_type": "display_data"
    }
   ],
   "source": [
    "plt.scatter (df.area , df.price, color = 'blue' , marker ='+')\n",
    "plt.xlabel('Area')\n",
    "plt.ylabel('Price')"
   ]
  },
  {
   "cell_type": "code",
   "execution_count": 6,
   "metadata": {
    "execution": {
     "iopub.execute_input": "2021-05-10T16:51:56.325835Z",
     "iopub.status.busy": "2021-05-10T16:51:56.324780Z",
     "iopub.status.idle": "2021-05-10T16:51:56.328172Z",
     "shell.execute_reply": "2021-05-10T16:51:56.327683Z"
    },
    "papermill": {
     "duration": 0.019511,
     "end_time": "2021-05-10T16:51:56.328308",
     "exception": false,
     "start_time": "2021-05-10T16:51:56.308797",
     "status": "completed"
    },
    "tags": []
   },
   "outputs": [],
   "source": [
    "reg = linear_model.LinearRegression()"
   ]
  },
  {
   "cell_type": "code",
   "execution_count": 7,
   "metadata": {
    "execution": {
     "iopub.execute_input": "2021-05-10T16:51:56.384297Z",
     "iopub.status.busy": "2021-05-10T16:51:56.383359Z",
     "iopub.status.idle": "2021-05-10T16:51:56.397431Z",
     "shell.execute_reply": "2021-05-10T16:51:56.396871Z"
    },
    "papermill": {
     "duration": 0.057558,
     "end_time": "2021-05-10T16:51:56.397590",
     "exception": false,
     "start_time": "2021-05-10T16:51:56.340032",
     "status": "completed"
    },
    "tags": []
   },
   "outputs": [
    {
     "data": {
      "text/plain": [
       "LinearRegression()"
      ]
     },
     "execution_count": 7,
     "metadata": {},
     "output_type": "execute_result"
    }
   ],
   "source": [
    "reg.fit(df[['area']],df.price)"
   ]
  },
  {
   "cell_type": "code",
   "execution_count": 8,
   "metadata": {
    "execution": {
     "iopub.execute_input": "2021-05-10T16:51:56.428887Z",
     "iopub.status.busy": "2021-05-10T16:51:56.427973Z",
     "iopub.status.idle": "2021-05-10T16:51:56.432774Z",
     "shell.execute_reply": "2021-05-10T16:51:56.432136Z"
    },
    "papermill": {
     "duration": 0.023121,
     "end_time": "2021-05-10T16:51:56.432919",
     "exception": false,
     "start_time": "2021-05-10T16:51:56.409798",
     "status": "completed"
    },
    "tags": []
   },
   "outputs": [
    {
     "data": {
      "text/plain": [
       "array([628715.75342466])"
      ]
     },
     "execution_count": 8,
     "metadata": {},
     "output_type": "execute_result"
    }
   ],
   "source": [
    "reg.predict(np.array(3300).reshape(-1, 1))"
   ]
  },
  {
   "cell_type": "code",
   "execution_count": 9,
   "metadata": {
    "execution": {
     "iopub.execute_input": "2021-05-10T16:51:56.463931Z",
     "iopub.status.busy": "2021-05-10T16:51:56.463173Z",
     "iopub.status.idle": "2021-05-10T16:51:56.466008Z",
     "shell.execute_reply": "2021-05-10T16:51:56.465353Z"
    },
    "papermill": {
     "duration": 0.020321,
     "end_time": "2021-05-10T16:51:56.466150",
     "exception": false,
     "start_time": "2021-05-10T16:51:56.445829",
     "status": "completed"
    },
    "tags": []
   },
   "outputs": [],
   "source": [
    "m = reg.coef_"
   ]
  },
  {
   "cell_type": "code",
   "execution_count": 10,
   "metadata": {
    "execution": {
     "iopub.execute_input": "2021-05-10T16:51:56.497358Z",
     "iopub.status.busy": "2021-05-10T16:51:56.496694Z",
     "iopub.status.idle": "2021-05-10T16:51:56.499564Z",
     "shell.execute_reply": "2021-05-10T16:51:56.499029Z"
    },
    "papermill": {
     "duration": 0.020444,
     "end_time": "2021-05-10T16:51:56.499731",
     "exception": false,
     "start_time": "2021-05-10T16:51:56.479287",
     "status": "completed"
    },
    "tags": []
   },
   "outputs": [],
   "source": [
    "c = reg.intercept_"
   ]
  },
  {
   "cell_type": "code",
   "execution_count": 11,
   "metadata": {
    "execution": {
     "iopub.execute_input": "2021-05-10T16:51:56.531260Z",
     "iopub.status.busy": "2021-05-10T16:51:56.530582Z",
     "iopub.status.idle": "2021-05-10T16:51:56.532804Z",
     "shell.execute_reply": "2021-05-10T16:51:56.533243Z"
    },
    "papermill": {
     "duration": 0.020391,
     "end_time": "2021-05-10T16:51:56.533419",
     "exception": false,
     "start_time": "2021-05-10T16:51:56.513028",
     "status": "completed"
    },
    "tags": []
   },
   "outputs": [],
   "source": [
    "y = m * 3300 + c"
   ]
  },
  {
   "cell_type": "code",
   "execution_count": 12,
   "metadata": {
    "execution": {
     "iopub.execute_input": "2021-05-10T16:51:56.566525Z",
     "iopub.status.busy": "2021-05-10T16:51:56.565611Z",
     "iopub.status.idle": "2021-05-10T16:51:56.570260Z",
     "shell.execute_reply": "2021-05-10T16:51:56.569750Z"
    },
    "papermill": {
     "duration": 0.023633,
     "end_time": "2021-05-10T16:51:56.570394",
     "exception": false,
     "start_time": "2021-05-10T16:51:56.546761",
     "status": "completed"
    },
    "tags": []
   },
   "outputs": [
    {
     "data": {
      "text/plain": [
       "array([628715.75342466])"
      ]
     },
     "execution_count": 12,
     "metadata": {},
     "output_type": "execute_result"
    }
   ],
   "source": [
    "y"
   ]
  },
  {
   "cell_type": "code",
   "execution_count": 13,
   "metadata": {
    "execution": {
     "iopub.execute_input": "2021-05-10T16:51:56.620994Z",
     "iopub.status.busy": "2021-05-10T16:51:56.618670Z",
     "iopub.status.idle": "2021-05-10T16:51:56.788864Z",
     "shell.execute_reply": "2021-05-10T16:51:56.788188Z"
    },
    "papermill": {
     "duration": 0.20491,
     "end_time": "2021-05-10T16:51:56.789009",
     "exception": false,
     "start_time": "2021-05-10T16:51:56.584099",
     "status": "completed"
    },
    "tags": []
   },
   "outputs": [
    {
     "data": {
      "text/plain": [
       "[<matplotlib.lines.Line2D at 0x7f6c64e53d50>]"
      ]
     },
     "execution_count": 13,
     "metadata": {},
     "output_type": "execute_result"
    },
    {
     "data": {
      "image/png": "[encoded data removed]",
      "text/plain": [
       "<Figure size 432x288 with 1 Axes>"
      ]
     },
     "metadata": {
      "needs_background": "light"
     },
     "output_type": "display_data"
    }
   ],
   "source": [
    "plt.scatter (df.area , df.price, color = 'black' , marker ='+')\n",
    "plt.xlabel('Area')\n",
    "plt.ylabel('Price')\n",
    "plt.plot(df.area , reg.predict(df[['area']]) , color='lightblue')"
   ]
  },
  {
   "cell_type": "code",
   "execution_count": null,
   "metadata": {
    "papermill": {
     "duration": 0.014484,
     "end_time": "2021-05-10T16:51:56.818443",
     "exception": false,
     "start_time": "2021-05-10T16:51:56.803959",
     "status": "completed"
    },
    "tags": []
   },
   "outputs": [],
   "source": []
  }
 ],
 "metadata": {
  "kernelspec": {
   "display_name": "Python 3",
   "language": "python",
   "name": "python3"
  },
  "language_info": {
   "codemirror_mode": {
    "name": "ipython",
    "version": 3
   },
   "file_extension": ".py",
   "mimetype": "text/x-python",
   "name": "python",
   "nbconvert_exporter": "python",
   "pygments_lexer": "ipython3",
   "version": "3.7.9"
  },
  "papermill": {
   "default_parameters": {},
   "duration": 9.019949,
   "end_time": "2021-05-10T16:51:57.444067",
   "environment_variables": {},
   "exception": null,
   "input_path": "__notebook__.ipynb",
   "output_path": "__notebook__.ipynb",
   "parameters": {},
   "start_time": "2021-05-10T16:51:48.424118",
   "version": "2.2.2"
  }
 },
 "nbformat": 4,
 "nbformat_minor": 4
}
